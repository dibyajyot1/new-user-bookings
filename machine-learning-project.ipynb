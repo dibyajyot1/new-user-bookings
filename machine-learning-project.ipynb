{
 "cells": [
  {
   "cell_type": "markdown",
   "metadata": {
    "id": "mWO-qk2cZnuA"
   },
   "source": [
    "This project aims to evaluate data from various AirBnB users' travel planning behaviour. The data set can be found at.\n",
    "The dataset can be found at https://www.kaggle.com/competitions/airbnb-recruiting-new-user-bookings"
   ]
  },
  {
   "cell_type": "markdown",
   "metadata": {
    "id": "7JmCqoxNCIS4"
   },
   "source": [
    "# machine-learning-project\n",
    "\n",
    "Use the \"Run\" button to execute the code."
   ]
  },
  {
   "cell_type": "markdown",
   "metadata": {
    "id": "R10lYWxEg5qU"
   },
   "source": [
    "## Importing libraries and Downloading the dataset"
   ]
  },
  {
   "cell_type": "code",
   "execution_count": 255,
   "metadata": {
    "executionInfo": {
     "elapsed": 3880,
     "status": "ok",
     "timestamp": 1660167028926,
     "user": {
      "displayName": "dibya jyoti",
      "userId": "13905139023208611565"
     },
     "user_tz": -330
    },
    "id": "N-7zNKJACIS7"
   },
   "outputs": [],
   "source": [
    "!pip install jovian --upgrade --quiet"
   ]
  },
  {
   "cell_type": "code",
   "execution_count": 256,
   "metadata": {
    "executionInfo": {
     "elapsed": 7,
     "status": "ok",
     "timestamp": 1660167028927,
     "user": {
      "displayName": "dibya jyoti",
      "userId": "13905139023208611565"
     },
     "user_tz": -330
    },
    "id": "xFYt_6TiCIS8"
   },
   "outputs": [],
   "source": [
    "import jovian"
   ]
  },
  {
   "cell_type": "code",
   "execution_count": 257,
   "metadata": {
    "executionInfo": {
     "elapsed": 4156,
     "status": "ok",
     "timestamp": 1660167033077,
     "user": {
      "displayName": "dibya jyoti",
      "userId": "13905139023208611565"
     },
     "user_tz": -330
    },
    "id": "4oQIxTm6CIS_"
   },
   "outputs": [],
   "source": [
    "!pip install opendatasets --upgrade --quiet"
   ]
  },
  {
   "cell_type": "code",
   "execution_count": 258,
   "metadata": {
    "executionInfo": {
     "elapsed": 34,
     "status": "ok",
     "timestamp": 1660167033078,
     "user": {
      "displayName": "dibya jyoti",
      "userId": "13905139023208611565"
     },
     "user_tz": -330
    },
    "id": "6L8vYZESCITA"
   },
   "outputs": [],
   "source": [
    "#importing neccessary libraries\n",
    "import pandas as pd\n",
    "import numpy as np\n",
    "import opendatasets as od\n",
    "import matplotlib.pyplot as plt\n",
    "%matplotlib inline\n",
    "import seaborn as sns\n",
    "import datetime"
   ]
  },
  {
   "cell_type": "code",
   "execution_count": 259,
   "metadata": {
    "colab": {
     "base_uri": "https://localhost:8080/"
    },
    "executionInfo": {
     "elapsed": 33,
     "status": "ok",
     "timestamp": 1660167033078,
     "user": {
      "displayName": "dibya jyoti",
      "userId": "13905139023208611565"
     },
     "user_tz": -330
    },
    "id": "4rGs1z7WCITC",
    "outputId": "8336f14b-d0fd-41b4-faff-03cf536ecf0d"
   },
   "outputs": [
    {
     "name": "stdout",
     "output_type": "stream",
     "text": [
      "Skipping, found downloaded files in \"./airbnb-recruiting-new-user-bookings\" (use force=True to force download)\n"
     ]
    }
   ],
   "source": [
    "od.download('https://www.kaggle.com/competitions/airbnb-recruiting-new-user-bookings')"
   ]
  },
  {
   "cell_type": "code",
   "execution_count": 260,
   "metadata": {
    "executionInfo": {
     "elapsed": 23,
     "status": "ok",
     "timestamp": 1660167033079,
     "user": {
      "displayName": "dibya jyoti",
      "userId": "13905139023208611565"
     },
     "user_tz": -330
    },
    "id": "itN1pmBOCITD"
   },
   "outputs": [],
   "source": [
    "data_dir='./airbnb-recruiting-new-user-bookings'"
   ]
  },
  {
   "cell_type": "code",
   "execution_count": 261,
   "metadata": {
    "executionInfo": {
     "elapsed": 23,
     "status": "ok",
     "timestamp": 1660167033080,
     "user": {
      "displayName": "dibya jyoti",
      "userId": "13905139023208611565"
     },
     "user_tz": -330
    },
    "id": "dCrem1sECITE"
   },
   "outputs": [],
   "source": [
    "import os"
   ]
  },
  {
   "cell_type": "code",
   "execution_count": 262,
   "metadata": {
    "colab": {
     "base_uri": "https://localhost:8080/"
    },
    "executionInfo": {
     "elapsed": 22,
     "status": "ok",
     "timestamp": 1660167033080,
     "user": {
      "displayName": "dibya jyoti",
      "userId": "13905139023208611565"
     },
     "user_tz": -330
    },
    "id": "Dm6qaXoKCITF",
    "outputId": "1179c26a-ae91-4df9-b230-e4be101efbed"
   },
   "outputs": [
    {
     "data": {
      "text/plain": [
       "['test_users.csv.zip',\n",
       " 'age_gender_bkts.csv.zip',\n",
       " 'sessions.csv.zip',\n",
       " 'countries.csv.zip',\n",
       " 'sample_submission_NDF.csv.zip',\n",
       " 'train_users_2.csv.zip']"
      ]
     },
     "execution_count": 262,
     "metadata": {},
     "output_type": "execute_result"
    }
   ],
   "source": [
    "os.listdir(data_dir)"
   ]
  },
  {
   "cell_type": "code",
   "execution_count": 263,
   "metadata": {
    "executionInfo": {
     "elapsed": 15,
     "status": "ok",
     "timestamp": 1660167033081,
     "user": {
      "displayName": "dibya jyoti",
      "userId": "13905139023208611565"
     },
     "user_tz": -330
    },
    "id": "7wNU2GmHCITF"
   },
   "outputs": [],
   "source": [
    "data_csv= data_dir + '/train_users_2.csv.zip'"
   ]
  },
  {
   "cell_type": "code",
   "execution_count": 264,
   "metadata": {
    "executionInfo": {
     "elapsed": 1030,
     "status": "ok",
     "timestamp": 1660167034097,
     "user": {
      "displayName": "dibya jyoti",
      "userId": "13905139023208611565"
     },
     "user_tz": -330
    },
    "id": "BwQoDvJXCITG"
   },
   "outputs": [],
   "source": [
    "df= pd.read_csv(data_csv)"
   ]
  },
  {
   "cell_type": "markdown",
   "metadata": {
    "id": "cKEA7SzgbjvN"
   },
   "source": [
    "The dataset has been downloaded and extracted."
   ]
  },
  {
   "cell_type": "code",
   "execution_count": 265,
   "metadata": {
    "colab": {
     "base_uri": "https://localhost:8080/",
     "height": 592
    },
    "executionInfo": {
     "elapsed": 29,
     "status": "ok",
     "timestamp": 1660167034100,
     "user": {
      "displayName": "dibya jyoti",
      "userId": "13905139023208611565"
     },
     "user_tz": -330
    },
    "id": "QXR9t-6yCITH",
    "outputId": "8c25fc2f-edc9-4e1b-ff20-e7df9b699515"
   },
   "outputs": [
    {
     "data": {
      "text/html": [
       "\n",
       "  <div id=\"df-eacd2701-d370-4e97-b352-ee6f8cb25698\">\n",
       "    <div class=\"colab-df-container\">\n",
       "      <div>\n",
       "<style scoped>\n",
       "    .dataframe tbody tr th:only-of-type {\n",
       "        vertical-align: middle;\n",
       "    }\n",
       "\n",
       "    .dataframe tbody tr th {\n",
       "        vertical-align: top;\n",
       "    }\n",
       "\n",
       "    .dataframe thead th {\n",
       "        text-align: right;\n",
       "    }\n",
       "</style>\n",
       "<table border=\"1\" class=\"dataframe\">\n",
       "  <thead>\n",
       "    <tr style=\"text-align: right;\">\n",
       "      <th></th>\n",
       "      <th>id</th>\n",
       "      <th>date_account_created</th>\n",
       "      <th>timestamp_first_active</th>\n",
       "      <th>date_first_booking</th>\n",
       "      <th>gender</th>\n",
       "      <th>age</th>\n",
       "      <th>signup_method</th>\n",
       "      <th>signup_flow</th>\n",
       "      <th>language</th>\n",
       "      <th>affiliate_channel</th>\n",
       "      <th>affiliate_provider</th>\n",
       "      <th>first_affiliate_tracked</th>\n",
       "      <th>signup_app</th>\n",
       "      <th>first_device_type</th>\n",
       "      <th>first_browser</th>\n",
       "      <th>country_destination</th>\n",
       "    </tr>\n",
       "  </thead>\n",
       "  <tbody>\n",
       "    <tr>\n",
       "      <th>0</th>\n",
       "      <td>gxn3p5htnn</td>\n",
       "      <td>2010-06-28</td>\n",
       "      <td>20090319043255</td>\n",
       "      <td>NaN</td>\n",
       "      <td>-unknown-</td>\n",
       "      <td>NaN</td>\n",
       "      <td>facebook</td>\n",
       "      <td>0</td>\n",
       "      <td>en</td>\n",
       "      <td>direct</td>\n",
       "      <td>direct</td>\n",
       "      <td>untracked</td>\n",
       "      <td>Web</td>\n",
       "      <td>Mac Desktop</td>\n",
       "      <td>Chrome</td>\n",
       "      <td>NDF</td>\n",
       "    </tr>\n",
       "    <tr>\n",
       "      <th>1</th>\n",
       "      <td>820tgsjxq7</td>\n",
       "      <td>2011-05-25</td>\n",
       "      <td>20090523174809</td>\n",
       "      <td>NaN</td>\n",
       "      <td>MALE</td>\n",
       "      <td>38.0</td>\n",
       "      <td>facebook</td>\n",
       "      <td>0</td>\n",
       "      <td>en</td>\n",
       "      <td>seo</td>\n",
       "      <td>google</td>\n",
       "      <td>untracked</td>\n",
       "      <td>Web</td>\n",
       "      <td>Mac Desktop</td>\n",
       "      <td>Chrome</td>\n",
       "      <td>NDF</td>\n",
       "    </tr>\n",
       "    <tr>\n",
       "      <th>2</th>\n",
       "      <td>4ft3gnwmtx</td>\n",
       "      <td>2010-09-28</td>\n",
       "      <td>20090609231247</td>\n",
       "      <td>2010-08-02</td>\n",
       "      <td>FEMALE</td>\n",
       "      <td>56.0</td>\n",
       "      <td>basic</td>\n",
       "      <td>3</td>\n",
       "      <td>en</td>\n",
       "      <td>direct</td>\n",
       "      <td>direct</td>\n",
       "      <td>untracked</td>\n",
       "      <td>Web</td>\n",
       "      <td>Windows Desktop</td>\n",
       "      <td>IE</td>\n",
       "      <td>US</td>\n",
       "    </tr>\n",
       "    <tr>\n",
       "      <th>3</th>\n",
       "      <td>bjjt8pjhuk</td>\n",
       "      <td>2011-12-05</td>\n",
       "      <td>20091031060129</td>\n",
       "      <td>2012-09-08</td>\n",
       "      <td>FEMALE</td>\n",
       "      <td>42.0</td>\n",
       "      <td>facebook</td>\n",
       "      <td>0</td>\n",
       "      <td>en</td>\n",
       "      <td>direct</td>\n",
       "      <td>direct</td>\n",
       "      <td>untracked</td>\n",
       "      <td>Web</td>\n",
       "      <td>Mac Desktop</td>\n",
       "      <td>Firefox</td>\n",
       "      <td>other</td>\n",
       "    </tr>\n",
       "    <tr>\n",
       "      <th>4</th>\n",
       "      <td>87mebub9p4</td>\n",
       "      <td>2010-09-14</td>\n",
       "      <td>20091208061105</td>\n",
       "      <td>2010-02-18</td>\n",
       "      <td>-unknown-</td>\n",
       "      <td>41.0</td>\n",
       "      <td>basic</td>\n",
       "      <td>0</td>\n",
       "      <td>en</td>\n",
       "      <td>direct</td>\n",
       "      <td>direct</td>\n",
       "      <td>untracked</td>\n",
       "      <td>Web</td>\n",
       "      <td>Mac Desktop</td>\n",
       "      <td>Chrome</td>\n",
       "      <td>US</td>\n",
       "    </tr>\n",
       "    <tr>\n",
       "      <th>...</th>\n",
       "      <td>...</td>\n",
       "      <td>...</td>\n",
       "      <td>...</td>\n",
       "      <td>...</td>\n",
       "      <td>...</td>\n",
       "      <td>...</td>\n",
       "      <td>...</td>\n",
       "      <td>...</td>\n",
       "      <td>...</td>\n",
       "      <td>...</td>\n",
       "      <td>...</td>\n",
       "      <td>...</td>\n",
       "      <td>...</td>\n",
       "      <td>...</td>\n",
       "      <td>...</td>\n",
       "      <td>...</td>\n",
       "    </tr>\n",
       "    <tr>\n",
       "      <th>213446</th>\n",
       "      <td>zxodksqpep</td>\n",
       "      <td>2014-06-30</td>\n",
       "      <td>20140630235636</td>\n",
       "      <td>NaN</td>\n",
       "      <td>MALE</td>\n",
       "      <td>32.0</td>\n",
       "      <td>basic</td>\n",
       "      <td>0</td>\n",
       "      <td>en</td>\n",
       "      <td>sem-brand</td>\n",
       "      <td>google</td>\n",
       "      <td>omg</td>\n",
       "      <td>Web</td>\n",
       "      <td>Mac Desktop</td>\n",
       "      <td>Safari</td>\n",
       "      <td>NDF</td>\n",
       "    </tr>\n",
       "    <tr>\n",
       "      <th>213447</th>\n",
       "      <td>mhewnxesx9</td>\n",
       "      <td>2014-06-30</td>\n",
       "      <td>20140630235719</td>\n",
       "      <td>NaN</td>\n",
       "      <td>-unknown-</td>\n",
       "      <td>NaN</td>\n",
       "      <td>basic</td>\n",
       "      <td>0</td>\n",
       "      <td>en</td>\n",
       "      <td>direct</td>\n",
       "      <td>direct</td>\n",
       "      <td>linked</td>\n",
       "      <td>Web</td>\n",
       "      <td>Windows Desktop</td>\n",
       "      <td>Chrome</td>\n",
       "      <td>NDF</td>\n",
       "    </tr>\n",
       "    <tr>\n",
       "      <th>213448</th>\n",
       "      <td>6o3arsjbb4</td>\n",
       "      <td>2014-06-30</td>\n",
       "      <td>20140630235754</td>\n",
       "      <td>NaN</td>\n",
       "      <td>-unknown-</td>\n",
       "      <td>32.0</td>\n",
       "      <td>basic</td>\n",
       "      <td>0</td>\n",
       "      <td>en</td>\n",
       "      <td>direct</td>\n",
       "      <td>direct</td>\n",
       "      <td>untracked</td>\n",
       "      <td>Web</td>\n",
       "      <td>Mac Desktop</td>\n",
       "      <td>Firefox</td>\n",
       "      <td>NDF</td>\n",
       "    </tr>\n",
       "    <tr>\n",
       "      <th>213449</th>\n",
       "      <td>jh95kwisub</td>\n",
       "      <td>2014-06-30</td>\n",
       "      <td>20140630235822</td>\n",
       "      <td>NaN</td>\n",
       "      <td>-unknown-</td>\n",
       "      <td>NaN</td>\n",
       "      <td>basic</td>\n",
       "      <td>25</td>\n",
       "      <td>en</td>\n",
       "      <td>other</td>\n",
       "      <td>other</td>\n",
       "      <td>tracked-other</td>\n",
       "      <td>iOS</td>\n",
       "      <td>iPhone</td>\n",
       "      <td>Mobile Safari</td>\n",
       "      <td>NDF</td>\n",
       "    </tr>\n",
       "    <tr>\n",
       "      <th>213450</th>\n",
       "      <td>nw9fwlyb5f</td>\n",
       "      <td>2014-06-30</td>\n",
       "      <td>20140630235824</td>\n",
       "      <td>NaN</td>\n",
       "      <td>-unknown-</td>\n",
       "      <td>NaN</td>\n",
       "      <td>basic</td>\n",
       "      <td>25</td>\n",
       "      <td>en</td>\n",
       "      <td>direct</td>\n",
       "      <td>direct</td>\n",
       "      <td>untracked</td>\n",
       "      <td>iOS</td>\n",
       "      <td>iPhone</td>\n",
       "      <td>-unknown-</td>\n",
       "      <td>NDF</td>\n",
       "    </tr>\n",
       "  </tbody>\n",
       "</table>\n",
       "<p>213451 rows × 16 columns</p>\n",
       "</div>\n",
       "      <button class=\"colab-df-convert\" onclick=\"convertToInteractive('df-eacd2701-d370-4e97-b352-ee6f8cb25698')\"\n",
       "              title=\"Convert this dataframe to an interactive table.\"\n",
       "              style=\"display:none;\">\n",
       "        \n",
       "  <svg xmlns=\"http://www.w3.org/2000/svg\" height=\"24px\"viewBox=\"0 0 24 24\"\n",
       "       width=\"24px\">\n",
       "    <path d=\"M0 0h24v24H0V0z\" fill=\"none\"/>\n",
       "    <path d=\"M18.56 5.44l.94 2.06.94-2.06 2.06-.94-2.06-.94-.94-2.06-.94 2.06-2.06.94zm-11 1L8.5 8.5l.94-2.06 2.06-.94-2.06-.94L8.5 2.5l-.94 2.06-2.06.94zm10 10l.94 2.06.94-2.06 2.06-.94-2.06-.94-.94-2.06-.94 2.06-2.06.94z\"/><path d=\"M17.41 7.96l-1.37-1.37c-.4-.4-.92-.59-1.43-.59-.52 0-1.04.2-1.43.59L10.3 9.45l-7.72 7.72c-.78.78-.78 2.05 0 2.83L4 21.41c.39.39.9.59 1.41.59.51 0 1.02-.2 1.41-.59l7.78-7.78 2.81-2.81c.8-.78.8-2.07 0-2.86zM5.41 20L4 18.59l7.72-7.72 1.47 1.35L5.41 20z\"/>\n",
       "  </svg>\n",
       "      </button>\n",
       "      \n",
       "  <style>\n",
       "    .colab-df-container {\n",
       "      display:flex;\n",
       "      flex-wrap:wrap;\n",
       "      gap: 12px;\n",
       "    }\n",
       "\n",
       "    .colab-df-convert {\n",
       "      background-color: #E8F0FE;\n",
       "      border: none;\n",
       "      border-radius: 50%;\n",
       "      cursor: pointer;\n",
       "      display: none;\n",
       "      fill: #1967D2;\n",
       "      height: 32px;\n",
       "      padding: 0 0 0 0;\n",
       "      width: 32px;\n",
       "    }\n",
       "\n",
       "    .colab-df-convert:hover {\n",
       "      background-color: #E2EBFA;\n",
       "      box-shadow: 0px 1px 2px rgba(60, 64, 67, 0.3), 0px 1px 3px 1px rgba(60, 64, 67, 0.15);\n",
       "      fill: #174EA6;\n",
       "    }\n",
       "\n",
       "    [theme=dark] .colab-df-convert {\n",
       "      background-color: #3B4455;\n",
       "      fill: #D2E3FC;\n",
       "    }\n",
       "\n",
       "    [theme=dark] .colab-df-convert:hover {\n",
       "      background-color: #434B5C;\n",
       "      box-shadow: 0px 1px 3px 1px rgba(0, 0, 0, 0.15);\n",
       "      filter: drop-shadow(0px 1px 2px rgba(0, 0, 0, 0.3));\n",
       "      fill: #FFFFFF;\n",
       "    }\n",
       "  </style>\n",
       "\n",
       "      <script>\n",
       "        const buttonEl =\n",
       "          document.querySelector('#df-eacd2701-d370-4e97-b352-ee6f8cb25698 button.colab-df-convert');\n",
       "        buttonEl.style.display =\n",
       "          google.colab.kernel.accessAllowed ? 'block' : 'none';\n",
       "\n",
       "        async function convertToInteractive(key) {\n",
       "          const element = document.querySelector('#df-eacd2701-d370-4e97-b352-ee6f8cb25698');\n",
       "          const dataTable =\n",
       "            await google.colab.kernel.invokeFunction('convertToInteractive',\n",
       "                                                     [key], {});\n",
       "          if (!dataTable) return;\n",
       "\n",
       "          const docLinkHtml = 'Like what you see? Visit the ' +\n",
       "            '<a target=\"_blank\" href=https://colab.research.google.com/notebooks/data_table.ipynb>data table notebook</a>'\n",
       "            + ' to learn more about interactive tables.';\n",
       "          element.innerHTML = '';\n",
       "          dataTable['output_type'] = 'display_data';\n",
       "          await google.colab.output.renderOutput(dataTable, element);\n",
       "          const docLink = document.createElement('div');\n",
       "          docLink.innerHTML = docLinkHtml;\n",
       "          element.appendChild(docLink);\n",
       "        }\n",
       "      </script>\n",
       "    </div>\n",
       "  </div>\n",
       "  "
      ],
      "text/plain": [
       "                id date_account_created  timestamp_first_active  \\\n",
       "0       gxn3p5htnn           2010-06-28          20090319043255   \n",
       "1       820tgsjxq7           2011-05-25          20090523174809   \n",
       "2       4ft3gnwmtx           2010-09-28          20090609231247   \n",
       "3       bjjt8pjhuk           2011-12-05          20091031060129   \n",
       "4       87mebub9p4           2010-09-14          20091208061105   \n",
       "...            ...                  ...                     ...   \n",
       "213446  zxodksqpep           2014-06-30          20140630235636   \n",
       "213447  mhewnxesx9           2014-06-30          20140630235719   \n",
       "213448  6o3arsjbb4           2014-06-30          20140630235754   \n",
       "213449  jh95kwisub           2014-06-30          20140630235822   \n",
       "213450  nw9fwlyb5f           2014-06-30          20140630235824   \n",
       "\n",
       "       date_first_booking     gender   age signup_method  signup_flow  \\\n",
       "0                     NaN  -unknown-   NaN      facebook            0   \n",
       "1                     NaN       MALE  38.0      facebook            0   \n",
       "2              2010-08-02     FEMALE  56.0         basic            3   \n",
       "3              2012-09-08     FEMALE  42.0      facebook            0   \n",
       "4              2010-02-18  -unknown-  41.0         basic            0   \n",
       "...                   ...        ...   ...           ...          ...   \n",
       "213446                NaN       MALE  32.0         basic            0   \n",
       "213447                NaN  -unknown-   NaN         basic            0   \n",
       "213448                NaN  -unknown-  32.0         basic            0   \n",
       "213449                NaN  -unknown-   NaN         basic           25   \n",
       "213450                NaN  -unknown-   NaN         basic           25   \n",
       "\n",
       "       language affiliate_channel affiliate_provider first_affiliate_tracked  \\\n",
       "0            en            direct             direct               untracked   \n",
       "1            en               seo             google               untracked   \n",
       "2            en            direct             direct               untracked   \n",
       "3            en            direct             direct               untracked   \n",
       "4            en            direct             direct               untracked   \n",
       "...         ...               ...                ...                     ...   \n",
       "213446       en         sem-brand             google                     omg   \n",
       "213447       en            direct             direct                  linked   \n",
       "213448       en            direct             direct               untracked   \n",
       "213449       en             other              other           tracked-other   \n",
       "213450       en            direct             direct               untracked   \n",
       "\n",
       "       signup_app first_device_type  first_browser country_destination  \n",
       "0             Web       Mac Desktop         Chrome                 NDF  \n",
       "1             Web       Mac Desktop         Chrome                 NDF  \n",
       "2             Web   Windows Desktop             IE                  US  \n",
       "3             Web       Mac Desktop        Firefox               other  \n",
       "4             Web       Mac Desktop         Chrome                  US  \n",
       "...           ...               ...            ...                 ...  \n",
       "213446        Web       Mac Desktop         Safari                 NDF  \n",
       "213447        Web   Windows Desktop         Chrome                 NDF  \n",
       "213448        Web       Mac Desktop        Firefox                 NDF  \n",
       "213449        iOS            iPhone  Mobile Safari                 NDF  \n",
       "213450        iOS            iPhone      -unknown-                 NDF  \n",
       "\n",
       "[213451 rows x 16 columns]"
      ]
     },
     "execution_count": 265,
     "metadata": {},
     "output_type": "execute_result"
    }
   ],
   "source": [
    "df"
   ]
  },
  {
   "cell_type": "code",
   "execution_count": 266,
   "metadata": {
    "executionInfo": {
     "elapsed": 3290,
     "status": "ok",
     "timestamp": 1660167037369,
     "user": {
      "displayName": "dibya jyoti",
      "userId": "13905139023208611565"
     },
     "user_tz": -330
    },
    "id": "raiQrJRiCyE8"
   },
   "outputs": [],
   "source": [
    "df = df.replace(r'^\\s*$', np.nan, regex=True)"
   ]
  },
  {
   "cell_type": "markdown",
   "metadata": {
    "id": "5L5Ur3tvngV3"
   },
   "source": [
    "Python does not recognise the empty space in csv files which may give error upon execution . Above code has been used to avoid "
   ]
  },
  {
   "cell_type": "code",
   "execution_count": 267,
   "metadata": {
    "colab": {
     "base_uri": "https://localhost:8080/"
    },
    "executionInfo": {
     "elapsed": 26,
     "status": "ok",
     "timestamp": 1660167038105,
     "user": {
      "displayName": "dibya jyoti",
      "userId": "13905139023208611565"
     },
     "user_tz": -330
    },
    "id": "Y0csob0oCITK",
    "outputId": "25a5c3bd-bd52-4c30-a28e-6f9473564389"
   },
   "outputs": [
    {
     "name": "stdout",
     "output_type": "stream",
     "text": [
      "<class 'pandas.core.frame.DataFrame'>\n",
      "RangeIndex: 213451 entries, 0 to 213450\n",
      "Data columns (total 16 columns):\n",
      " #   Column                   Non-Null Count   Dtype  \n",
      "---  ------                   --------------   -----  \n",
      " 0   id                       213451 non-null  object \n",
      " 1   date_account_created     213451 non-null  object \n",
      " 2   timestamp_first_active   213451 non-null  int64  \n",
      " 3   date_first_booking       88908 non-null   object \n",
      " 4   gender                   213451 non-null  object \n",
      " 5   age                      125461 non-null  float64\n",
      " 6   signup_method            213451 non-null  object \n",
      " 7   signup_flow              213451 non-null  int64  \n",
      " 8   language                 213451 non-null  object \n",
      " 9   affiliate_channel        213451 non-null  object \n",
      " 10  affiliate_provider       213451 non-null  object \n",
      " 11  first_affiliate_tracked  207386 non-null  object \n",
      " 12  signup_app               213451 non-null  object \n",
      " 13  first_device_type        213451 non-null  object \n",
      " 14  first_browser            213451 non-null  object \n",
      " 15  country_destination      213451 non-null  object \n",
      "dtypes: float64(1), int64(2), object(13)\n",
      "memory usage: 26.1+ MB\n"
     ]
    }
   ],
   "source": [
    "df.info()"
   ]
  },
  {
   "cell_type": "markdown",
   "metadata": {
    "id": "8CvSxYLfb0it"
   },
   "source": [
    "It is evident that 'date_first_booking' and 'first_affiliate_tracked' columns have some null values but first let's look at the columns which may have absurd values"
   ]
  },
  {
   "cell_type": "code",
   "execution_count": 268,
   "metadata": {
    "colab": {
     "base_uri": "https://localhost:8080/",
     "height": 265
    },
    "executionInfo": {
     "elapsed": 25,
     "status": "ok",
     "timestamp": 1660167038109,
     "user": {
      "displayName": "dibya jyoti",
      "userId": "13905139023208611565"
     },
     "user_tz": -330
    },
    "id": "Pqes95X9CITL",
    "outputId": "2aa799f6-bd71-48b2-9b7e-a4673be55dfd",
    "scrolled": true
   },
   "outputs": [
    {
     "data": {
      "image/png": "[encoded data removed]",
      "text/plain": [
       "<Figure size 432x288 with 1 Axes>"
      ]
     },
     "metadata": {
      "needs_background": "light"
     },
     "output_type": "display_data"
    }
   ],
   "source": [
    "plt.hist(df.age, bins=[20,30,40,50,60,70,80,90,100]);"
   ]
  },
  {
   "cell_type": "code",
   "execution_count": 269,
   "metadata": {
    "colab": {
     "base_uri": "https://localhost:8080/"
    },
    "executionInfo": {
     "elapsed": 24,
     "status": "ok",
     "timestamp": 1660167038110,
     "user": {
      "displayName": "dibya jyoti",
      "userId": "13905139023208611565"
     },
     "user_tz": -330
    },
    "id": "eL_JSi92CITM",
    "outputId": "42789564-2e8f-4dde-a0f5-cc132c73a84c"
   },
   "outputs": [
    {
     "data": {
      "text/plain": [
       "30.0      6124\n",
       "31.0      6016\n",
       "29.0      5963\n",
       "28.0      5939\n",
       "32.0      5855\n",
       "          ... \n",
       "1925.0       1\n",
       "1935.0       1\n",
       "1933.0       1\n",
       "112.0        1\n",
       "1926.0       1\n",
       "Name: age, Length: 127, dtype: int64"
      ]
     },
     "execution_count": 269,
     "metadata": {},
     "output_type": "execute_result"
    }
   ],
   "source": [
    "df.age.value_counts()"
   ]
  },
  {
   "cell_type": "markdown",
   "metadata": {
    "id": "3wu8NFzkdKYq"
   },
   "source": [
    "As you can see, the age column has numbers greater than 100, hence we are unable to use them as input. As a result, the user's age has a maximum and lower restriction of 80 and 10, respectively."
   ]
  },
  {
   "cell_type": "code",
   "execution_count": 270,
   "metadata": {
    "executionInfo": {
     "elapsed": 612,
     "status": "ok",
     "timestamp": 1660167038706,
     "user": {
      "displayName": "dibya jyoti",
      "userId": "13905139023208611565"
     },
     "user_tz": -330
    },
    "id": "Z-5pYDnICITM"
   },
   "outputs": [],
   "source": [
    "age_index=df[df['age']>80].index\n",
    "age_index1=df[df['age']<10].index\n",
    "df.drop(labels=age_index,inplace=True)\n",
    "df.drop(labels=age_index1,inplace=True)"
   ]
  },
  {
   "cell_type": "code",
   "execution_count": 271,
   "metadata": {
    "colab": {
     "base_uri": "https://localhost:8080/",
     "height": 300
    },
    "executionInfo": {
     "elapsed": 52,
     "status": "ok",
     "timestamp": 1660167038707,
     "user": {
      "displayName": "dibya jyoti",
      "userId": "13905139023208611565"
     },
     "user_tz": -330
    },
    "id": "aBVpSTv6CITN",
    "outputId": "5f1d4bbf-8b46-4746-d229-cdedbe104243"
   },
   "outputs": [
    {
     "data": {
      "text/html": [
       "\n",
       "  <div id=\"df-3f285ca8-f703-4f9b-b428-d6082838891d\">\n",
       "    <div class=\"colab-df-container\">\n",
       "      <div>\n",
       "<style scoped>\n",
       "    .dataframe tbody tr th:only-of-type {\n",
       "        vertical-align: middle;\n",
       "    }\n",
       "\n",
       "    .dataframe tbody tr th {\n",
       "        vertical-align: top;\n",
       "    }\n",
       "\n",
       "    .dataframe thead th {\n",
       "        text-align: right;\n",
       "    }\n",
       "</style>\n",
       "<table border=\"1\" class=\"dataframe\">\n",
       "  <thead>\n",
       "    <tr style=\"text-align: right;\">\n",
       "      <th></th>\n",
       "      <th>timestamp_first_active</th>\n",
       "      <th>age</th>\n",
       "      <th>signup_flow</th>\n",
       "    </tr>\n",
       "  </thead>\n",
       "  <tbody>\n",
       "    <tr>\n",
       "      <th>count</th>\n",
       "      <td>2.106230e+05</td>\n",
       "      <td>122633.000000</td>\n",
       "      <td>210623.000000</td>\n",
       "    </tr>\n",
       "    <tr>\n",
       "      <th>mean</th>\n",
       "      <td>2.013087e+13</td>\n",
       "      <td>36.373578</td>\n",
       "      <td>3.287295</td>\n",
       "    </tr>\n",
       "    <tr>\n",
       "      <th>std</th>\n",
       "      <td>9.241394e+09</td>\n",
       "      <td>11.272302</td>\n",
       "      <td>7.659450</td>\n",
       "    </tr>\n",
       "    <tr>\n",
       "      <th>min</th>\n",
       "      <td>2.009032e+13</td>\n",
       "      <td>15.000000</td>\n",
       "      <td>0.000000</td>\n",
       "    </tr>\n",
       "    <tr>\n",
       "      <th>25%</th>\n",
       "      <td>2.012123e+13</td>\n",
       "      <td>28.000000</td>\n",
       "      <td>0.000000</td>\n",
       "    </tr>\n",
       "    <tr>\n",
       "      <th>50%</th>\n",
       "      <td>2.013091e+13</td>\n",
       "      <td>33.000000</td>\n",
       "      <td>0.000000</td>\n",
       "    </tr>\n",
       "    <tr>\n",
       "      <th>75%</th>\n",
       "      <td>2.014031e+13</td>\n",
       "      <td>42.000000</td>\n",
       "      <td>0.000000</td>\n",
       "    </tr>\n",
       "    <tr>\n",
       "      <th>max</th>\n",
       "      <td>2.014063e+13</td>\n",
       "      <td>80.000000</td>\n",
       "      <td>25.000000</td>\n",
       "    </tr>\n",
       "  </tbody>\n",
       "</table>\n",
       "</div>\n",
       "      <button class=\"colab-df-convert\" onclick=\"convertToInteractive('df-3f285ca8-f703-4f9b-b428-d6082838891d')\"\n",
       "              title=\"Convert this dataframe to an interactive table.\"\n",
       "              style=\"display:none;\">\n",
       "        \n",
       "  <svg xmlns=\"http://www.w3.org/2000/svg\" height=\"24px\"viewBox=\"0 0 24 24\"\n",
       "       width=\"24px\">\n",
       "    <path d=\"M0 0h24v24H0V0z\" fill=\"none\"/>\n",
       "    <path d=\"M18.56 5.44l.94 2.06.94-2.06 2.06-.94-2.06-.94-.94-2.06-.94 2.06-2.06.94zm-11 1L8.5 8.5l.94-2.06 2.06-.94-2.06-.94L8.5 2.5l-.94 2.06-2.06.94zm10 10l.94 2.06.94-2.06 2.06-.94-2.06-.94-.94-2.06-.94 2.06-2.06.94z\"/><path d=\"M17.41 7.96l-1.37-1.37c-.4-.4-.92-.59-1.43-.59-.52 0-1.04.2-1.43.59L10.3 9.45l-7.72 7.72c-.78.78-.78 2.05 0 2.83L4 21.41c.39.39.9.59 1.41.59.51 0 1.02-.2 1.41-.59l7.78-7.78 2.81-2.81c.8-.78.8-2.07 0-2.86zM5.41 20L4 18.59l7.72-7.72 1.47 1.35L5.41 20z\"/>\n",
       "  </svg>\n",
       "      </button>\n",
       "      \n",
       "  <style>\n",
       "    .colab-df-container {\n",
       "      display:flex;\n",
       "      flex-wrap:wrap;\n",
       "      gap: 12px;\n",
       "    }\n",
       "\n",
       "    .colab-df-convert {\n",
       "      background-color: #E8F0FE;\n",
       "      border: none;\n",
       "      border-radius: 50%;\n",
       "      cursor: pointer;\n",
       "      display: none;\n",
       "      fill: #1967D2;\n",
       "      height: 32px;\n",
       "      padding: 0 0 0 0;\n",
       "      width: 32px;\n",
       "    }\n",
       "\n",
       "    .colab-df-convert:hover {\n",
       "      background-color: #E2EBFA;\n",
       "      box-shadow: 0px 1px 2px rgba(60, 64, 67, 0.3), 0px 1px 3px 1px rgba(60, 64, 67, 0.15);\n",
       "      fill: #174EA6;\n",
       "    }\n",
       "\n",
       "    [theme=dark] .colab-df-convert {\n",
       "      background-color: #3B4455;\n",
       "      fill: #D2E3FC;\n",
       "    }\n",
       "\n",
       "    [theme=dark] .colab-df-convert:hover {\n",
       "      background-color: #434B5C;\n",
       "      box-shadow: 0px 1px 3px 1px rgba(0, 0, 0, 0.15);\n",
       "      filter: drop-shadow(0px 1px 2px rgba(0, 0, 0, 0.3));\n",
       "      fill: #FFFFFF;\n",
       "    }\n",
       "  </style>\n",
       "\n",
       "      <script>\n",
       "        const buttonEl =\n",
       "          document.querySelector('#df-3f285ca8-f703-4f9b-b428-d6082838891d button.colab-df-convert');\n",
       "        buttonEl.style.display =\n",
       "          google.colab.kernel.accessAllowed ? 'block' : 'none';\n",
       "\n",
       "        async function convertToInteractive(key) {\n",
       "          const element = document.querySelector('#df-3f285ca8-f703-4f9b-b428-d6082838891d');\n",
       "          const dataTable =\n",
       "            await google.colab.kernel.invokeFunction('convertToInteractive',\n",
       "                                                     [key], {});\n",
       "          if (!dataTable) return;\n",
       "\n",
       "          const docLinkHtml = 'Like what you see? Visit the ' +\n",
       "            '<a target=\"_blank\" href=https://colab.research.google.com/notebooks/data_table.ipynb>data table notebook</a>'\n",
       "            + ' to learn more about interactive tables.';\n",
       "          element.innerHTML = '';\n",
       "          dataTable['output_type'] = 'display_data';\n",
       "          await google.colab.output.renderOutput(dataTable, element);\n",
       "          const docLink = document.createElement('div');\n",
       "          docLink.innerHTML = docLinkHtml;\n",
       "          element.appendChild(docLink);\n",
       "        }\n",
       "      </script>\n",
       "    </div>\n",
       "  </div>\n",
       "  "
      ],
      "text/plain": [
       "       timestamp_first_active            age    signup_flow\n",
       "count            2.106230e+05  122633.000000  210623.000000\n",
       "mean             2.013087e+13      36.373578       3.287295\n",
       "std              9.241394e+09      11.272302       7.659450\n",
       "min              2.009032e+13      15.000000       0.000000\n",
       "25%              2.012123e+13      28.000000       0.000000\n",
       "50%              2.013091e+13      33.000000       0.000000\n",
       "75%              2.014031e+13      42.000000       0.000000\n",
       "max              2.014063e+13      80.000000      25.000000"
      ]
     },
     "execution_count": 271,
     "metadata": {},
     "output_type": "execute_result"
    }
   ],
   "source": [
    "df.describe()"
   ]
  },
  {
   "cell_type": "markdown",
   "metadata": {
    "id": "qtLqUC1MeKP2"
   },
   "source": [
    "Then we fill the missing values with median of the column. Median is choosen instead of mean cause it is unaffected by the presence of outliers which influences our model's predictions"
   ]
  },
  {
   "cell_type": "code",
   "execution_count": 272,
   "metadata": {
    "executionInfo": {
     "elapsed": 59,
     "status": "ok",
     "timestamp": 1660167038716,
     "user": {
      "displayName": "dibya jyoti",
      "userId": "13905139023208611565"
     },
     "user_tz": -330
    },
    "id": "YR1LaTfNCITO"
   },
   "outputs": [],
   "source": [
    "new_df= df.fillna({'age': df['age'].median()})"
   ]
  },
  {
   "cell_type": "code",
   "execution_count": 273,
   "metadata": {
    "colab": {
     "base_uri": "https://localhost:8080/"
    },
    "executionInfo": {
     "elapsed": 59,
     "status": "ok",
     "timestamp": 1660167038717,
     "user": {
      "displayName": "dibya jyoti",
      "userId": "13905139023208611565"
     },
     "user_tz": -330
    },
    "id": "UQAT2RMTCITO",
    "outputId": "8bf3e668-a8d6-4676-eb54-2ecdadc0d7a2"
   },
   "outputs": [
    {
     "data": {
      "text/plain": [
       "count    210623.000000\n",
       "mean         34.964230\n",
       "std           8.760717\n",
       "min          15.000000\n",
       "25%          32.000000\n",
       "50%          33.000000\n",
       "75%          35.000000\n",
       "max          80.000000\n",
       "Name: age, dtype: float64"
      ]
     },
     "execution_count": 273,
     "metadata": {},
     "output_type": "execute_result"
    }
   ],
   "source": [
    "new_df.age.describe()"
   ]
  },
  {
   "cell_type": "code",
   "execution_count": 274,
   "metadata": {
    "colab": {
     "base_uri": "https://localhost:8080/"
    },
    "executionInfo": {
     "elapsed": 55,
     "status": "ok",
     "timestamp": 1660167038719,
     "user": {
      "displayName": "dibya jyoti",
      "userId": "13905139023208611565"
     },
     "user_tz": -330
    },
    "id": "kqh3UxZGCITO",
    "outputId": "e9d6ca2d-6524-4d3c-9fb3-6b399091cc26"
   },
   "outputs": [
    {
     "data": {
      "text/plain": [
       "array(['-unknown-', 'MALE', 'FEMALE', 'OTHER'], dtype=object)"
      ]
     },
     "execution_count": 274,
     "metadata": {},
     "output_type": "execute_result"
    }
   ],
   "source": [
    "new_df.gender.unique()"
   ]
  },
  {
   "cell_type": "markdown",
   "metadata": {
    "id": "7fZuzbeTfZRn"
   },
   "source": [
    "we do the same thing with 'gender' column but here mode is chosen"
   ]
  },
  {
   "cell_type": "code",
   "execution_count": 275,
   "metadata": {
    "colab": {
     "base_uri": "https://localhost:8080/",
     "height": 334
    },
    "executionInfo": {
     "elapsed": 50,
     "status": "ok",
     "timestamp": 1660167038720,
     "user": {
      "displayName": "dibya jyoti",
      "userId": "13905139023208611565"
     },
     "user_tz": -330
    },
    "id": "fxXCZCQyCITP",
    "outputId": "d933569b-2948-462c-f77d-85f735afada1"
   },
   "outputs": [
    {
     "data": {
      "text/plain": [
       "(array([94932.,     0.,     0., 53548.,     0.,     0., 61864.,     0.,\n",
       "            0.,   279.]),\n",
       " array([0. , 0.3, 0.6, 0.9, 1.2, 1.5, 1.8, 2.1, 2.4, 2.7, 3. ]),\n",
       " <a list of 10 Patch objects>)"
      ]
     },
     "execution_count": 275,
     "metadata": {},
     "output_type": "execute_result"
    },
    {
     "data": {
      "image/png": "[encoded data removed]",
      "text/plain": [
       "<Figure size 432x288 with 1 Axes>"
      ]
     },
     "metadata": {
      "needs_background": "light"
     },
     "output_type": "display_data"
    }
   ],
   "source": [
    "plt.hist(new_df.gender)"
   ]
  },
  {
   "cell_type": "code",
   "execution_count": 276,
   "metadata": {
    "executionInfo": {
     "elapsed": 44,
     "status": "ok",
     "timestamp": 1660167038721,
     "user": {
      "displayName": "dibya jyoti",
      "userId": "13905139023208611565"
     },
     "user_tz": -330
    },
    "id": "pblfTWK2CITP"
   },
   "outputs": [],
   "source": [
    "new_df['gender'].replace(['-unknown-'],'FEMALE' , inplace=True)"
   ]
  },
  {
   "cell_type": "code",
   "execution_count": 277,
   "metadata": {
    "colab": {
     "base_uri": "https://localhost:8080/"
    },
    "executionInfo": {
     "elapsed": 44,
     "status": "ok",
     "timestamp": 1660167038722,
     "user": {
      "displayName": "dibya jyoti",
      "userId": "13905139023208611565"
     },
     "user_tz": -330
    },
    "id": "oAdlQf37CITQ",
    "outputId": "32b80aac-d5aa-4bbe-cfe5-5f19158f78d4"
   },
   "outputs": [
    {
     "data": {
      "text/plain": [
       "count     210623\n",
       "unique         3\n",
       "top       FEMALE\n",
       "freq      156796\n",
       "Name: gender, dtype: object"
      ]
     },
     "execution_count": 277,
     "metadata": {},
     "output_type": "execute_result"
    }
   ],
   "source": [
    "new_df.gender.describe()"
   ]
  },
  {
   "cell_type": "code",
   "execution_count": 278,
   "metadata": {
    "colab": {
     "base_uri": "https://localhost:8080/"
    },
    "executionInfo": {
     "elapsed": 41,
     "status": "ok",
     "timestamp": 1660167038723,
     "user": {
      "displayName": "dibya jyoti",
      "userId": "13905139023208611565"
     },
     "user_tz": -330
    },
    "id": "cZrpRdrxCITQ",
    "outputId": "6946adea-056f-4d15-c393-55b54578a202"
   },
   "outputs": [
    {
     "data": {
      "text/plain": [
       "array(['NDF', 'US', 'other', 'FR', 'CA', 'GB', 'ES', 'IT', 'PT', 'NL',\n",
       "       'DE', 'AU'], dtype=object)"
      ]
     },
     "execution_count": 278,
     "metadata": {},
     "output_type": "execute_result"
    }
   ],
   "source": [
    "new_df.country_destination.unique()"
   ]
  },
  {
   "cell_type": "markdown",
   "metadata": {
    "id": "OtmDYT6Nfql1"
   },
   "source": [
    "We cannot train the model which has does not have labels so we remove them from the training dataset"
   ]
  },
  {
   "cell_type": "code",
   "execution_count": 279,
   "metadata": {
    "executionInfo": {
     "elapsed": 501,
     "status": "ok",
     "timestamp": 1660167039189,
     "user": {
      "displayName": "dibya jyoti",
      "userId": "13905139023208611565"
     },
     "user_tz": -330
    },
    "id": "ak0NKbW8CITQ"
   },
   "outputs": [],
   "source": [
    "ndf_index=new_df[new_df['country_destination']=='NDF'].index\n",
    "new_df.drop(labels=ndf_index,inplace=True)"
   ]
  },
  {
   "cell_type": "code",
   "execution_count": 280,
   "metadata": {
    "colab": {
     "base_uri": "https://localhost:8080/"
    },
    "executionInfo": {
     "elapsed": 27,
     "status": "ok",
     "timestamp": 1660167039190,
     "user": {
      "displayName": "dibya jyoti",
      "userId": "13905139023208611565"
     },
     "user_tz": -330
    },
    "id": "Dvt3m56hCITR",
    "outputId": "d2f1d9d0-5e10-4b3e-cf48-fea5e75c09b8"
   },
   "outputs": [
    {
     "data": {
      "text/plain": [
       "count     87443\n",
       "unique       11\n",
       "top          US\n",
       "freq      61362\n",
       "Name: country_destination, dtype: object"
      ]
     },
     "execution_count": 280,
     "metadata": {},
     "output_type": "execute_result"
    }
   ],
   "source": [
    "new_df.country_destination.describe()"
   ]
  },
  {
   "cell_type": "code",
   "execution_count": 281,
   "metadata": {
    "executionInfo": {
     "elapsed": 21,
     "status": "ok",
     "timestamp": 1660167039190,
     "user": {
      "displayName": "dibya jyoti",
      "userId": "13905139023208611565"
     },
     "user_tz": -330
    },
    "id": "kUB4kZLRCITR"
   },
   "outputs": [],
   "source": [
    "ndf_index=new_df[new_df['country_destination']=='other'].index\n",
    "new_df.drop(labels=ndf_index,inplace=True)"
   ]
  },
  {
   "cell_type": "code",
   "execution_count": 282,
   "metadata": {
    "colab": {
     "base_uri": "https://localhost:8080/"
    },
    "executionInfo": {
     "elapsed": 22,
     "status": "ok",
     "timestamp": 1660167039191,
     "user": {
      "displayName": "dibya jyoti",
      "userId": "13905139023208611565"
     },
     "user_tz": -330
    },
    "id": "k8wpcLx2CITR",
    "outputId": "d55ad268-25e0-4b04-f783-74a5fc1db348"
   },
   "outputs": [
    {
     "data": {
      "text/plain": [
       "count     77534\n",
       "unique       10\n",
       "top          US\n",
       "freq      61362\n",
       "Name: country_destination, dtype: object"
      ]
     },
     "execution_count": 282,
     "metadata": {},
     "output_type": "execute_result"
    }
   ],
   "source": [
    "new_df.country_destination.describe()"
   ]
  },
  {
   "cell_type": "code",
   "execution_count": 283,
   "metadata": {
    "colab": {
     "base_uri": "https://localhost:8080/",
     "height": 105
    },
    "executionInfo": {
     "elapsed": 3706,
     "status": "ok",
     "timestamp": 1660167042880,
     "user": {
      "displayName": "dibya jyoti",
      "userId": "13905139023208611565"
     },
     "user_tz": -330
    },
    "id": "koelOeMUCITS",
    "outputId": "c6aaa73d-dd05-43e8-d2ab-b77131412d71",
    "scrolled": true
   },
   "outputs": [
    {
     "name": "stdout",
     "output_type": "stream",
     "text": [
      "[jovian] Detected Colab notebook...\u001b[0m\n",
      "[jovian] Uploading colab notebook to Jovian...\u001b[0m\n"
     ]
    },
    {
     "name": "stderr",
     "output_type": "stream",
     "text": [
      "\u001b[31m[jovian] Error: Looks like the notebook is missing output cells, please save the notebook and try jovian.commit again.\u001b[0m\n"
     ]
    },
    {
     "name": "stdout",
     "output_type": "stream",
     "text": [
      "Committed successfully! https://jovian.ai/dibyababu105/machine-learning-project\n"
     ]
    },
    {
     "data": {
      "application/vnd.google.colaboratory.intrinsic+json": {
       "type": "string"
      },
      "text/plain": [
       "'https://jovian.ai/dibyababu105/machine-learning-project'"
      ]
     },
     "execution_count": 283,
     "metadata": {},
     "output_type": "execute_result"
    }
   ],
   "source": [
    "jovian.commit(project=\"machine-learning-project\")"
   ]
  },
  {
   "cell_type": "code",
   "execution_count": 284,
   "metadata": {
    "colab": {
     "base_uri": "https://localhost:8080/"
    },
    "executionInfo": {
     "elapsed": 24,
     "status": "ok",
     "timestamp": 1660167042883,
     "user": {
      "displayName": "dibya jyoti",
      "userId": "13905139023208611565"
     },
     "user_tz": -330
    },
    "id": "qlm6gLkjCITS",
    "outputId": "3894f284-d194-4039-9e0b-e1d4b9c996f5"
   },
   "outputs": [
    {
     "data": {
      "text/plain": [
       "array(['US', 'FR', 'CA', 'GB', 'ES', 'IT', 'PT', 'NL', 'DE', 'AU'],\n",
       "      dtype=object)"
      ]
     },
     "execution_count": 284,
     "metadata": {},
     "output_type": "execute_result"
    }
   ],
   "source": [
    "new_df.country_destination.unique()"
   ]
  },
  {
   "cell_type": "markdown",
   "metadata": {
    "id": "GZdazKGVn25f"
   },
   "source": [
    "## **Data Visualisation**"
   ]
  },
  {
   "cell_type": "code",
   "execution_count": 285,
   "metadata": {
    "executionInfo": {
     "elapsed": 20,
     "status": "ok",
     "timestamp": 1660167042884,
     "user": {
      "displayName": "dibya jyoti",
      "userId": "13905139023208611565"
     },
     "user_tz": -330
    },
    "id": "L3u7avArCITS"
   },
   "outputs": [],
   "source": [
    "import matplotlib"
   ]
  },
  {
   "cell_type": "code",
   "execution_count": 286,
   "metadata": {
    "executionInfo": {
     "elapsed": 23,
     "status": "ok",
     "timestamp": 1660167042887,
     "user": {
      "displayName": "dibya jyoti",
      "userId": "13905139023208611565"
     },
     "user_tz": -330
    },
    "id": "_9B6aq9VCITT"
   },
   "outputs": [],
   "source": [
    "sns.set_style('darkgrid')\n",
    "matplotlib.rcParams['font.size']=14\n",
    "matplotlib.rcParams['figure.figsize']=(10,6)\n",
    "matplotlib.rcParams['figure.facecolor']='#00000000'"
   ]
  },
  {
   "cell_type": "code",
   "execution_count": 287,
   "metadata": {
    "colab": {
     "base_uri": "https://localhost:8080/",
     "height": 488
    },
    "executionInfo": {
     "elapsed": 699,
     "status": "ok",
     "timestamp": 1660167043564,
     "user": {
      "displayName": "dibya jyoti",
      "userId": "13905139023208611565"
     },
     "user_tz": -330
    },
    "id": "mYKD0TU7CITT",
    "outputId": "f8633fb5-145a-4ad9-f043-08ecea4f2fac"
   },
   "outputs": [
    {
     "name": "stderr",
     "output_type": "stream",
     "text": [
      "/usr/local/lib/python3.7/dist-packages/seaborn/_decorators.py:43: FutureWarning: Pass the following variable as a keyword arg: x. From version 0.12, the only valid positional argument will be `data`, and passing other arguments without an explicit keyword will result in an error or misinterpretation.\n",
      "  FutureWarning\n"
     ]
    },
    {
     "data": {
      "text/plain": [
       "Text(0.5, 1.0, 'no of bookings in respective countries')"
      ]
     },
     "execution_count": 287,
     "metadata": {},
     "output_type": "execute_result"
    },
    {
     "data": {
      "image/png": "[encoded data removed]",
      "text/plain": [
       "<Figure size 720x432 with 1 Axes>"
      ]
     },
     "metadata": {
      "needs_background": "light"
     },
     "output_type": "display_data"
    }
   ],
   "source": [
    "sns.countplot(new_df.country_destination, x='country_destination');\n",
    "plt.title('no of bookings in respective countries')"
   ]
  },
  {
   "cell_type": "markdown",
   "metadata": {
    "id": "SyIfWFDtn-qd"
   },
   "source": [
    "US is the most preferred destination"
   ]
  },
  {
   "cell_type": "code",
   "execution_count": 288,
   "metadata": {
    "colab": {
     "base_uri": "https://localhost:8080/",
     "height": 488
    },
    "executionInfo": {
     "elapsed": 42,
     "status": "ok",
     "timestamp": 1660167043566,
     "user": {
      "displayName": "dibya jyoti",
      "userId": "13905139023208611565"
     },
     "user_tz": -330
    },
    "id": "BCj0Z6FNCITU",
    "outputId": "01013d6f-2120-4641-a464-6789cf6cc737"
   },
   "outputs": [
    {
     "name": "stderr",
     "output_type": "stream",
     "text": [
      "/usr/local/lib/python3.7/dist-packages/seaborn/_decorators.py:43: FutureWarning: Pass the following variable as a keyword arg: x. From version 0.12, the only valid positional argument will be `data`, and passing other arguments without an explicit keyword will result in an error or misinterpretation.\n",
      "  FutureWarning\n"
     ]
    },
    {
     "data": {
      "text/plain": [
       "Text(0.5, 1.0, 'gender distribution')"
      ]
     },
     "execution_count": 288,
     "metadata": {},
     "output_type": "execute_result"
    },
    {
     "data": {
      "image/png": "[encoded data removed]",
      "text/plain": [
       "<Figure size 720x432 with 1 Axes>"
      ]
     },
     "metadata": {
      "needs_background": "light"
     },
     "output_type": "display_data"
    }
   ],
   "source": [
    "sns.countplot(new_df.gender, x='gender')\n",
    "plt.title('gender distribution')"
   ]
  },
  {
   "cell_type": "code",
   "execution_count": 289,
   "metadata": {
    "colab": {
     "base_uri": "https://localhost:8080/",
     "height": 488
    },
    "executionInfo": {
     "elapsed": 37,
     "status": "ok",
     "timestamp": 1660167043569,
     "user": {
      "displayName": "dibya jyoti",
      "userId": "13905139023208611565"
     },
     "user_tz": -330
    },
    "id": "43mQMjWvCITV",
    "outputId": "67de7a10-d95f-42db-902d-10a18def6b7c"
   },
   "outputs": [
    {
     "data": {
      "text/html": [
       "\n",
       "  <div id=\"df-295a2795-a688-4d9e-90dc-d1d5035af99b\">\n",
       "    <div class=\"colab-df-container\">\n",
       "      <div>\n",
       "<style scoped>\n",
       "    .dataframe tbody tr th:only-of-type {\n",
       "        vertical-align: middle;\n",
       "    }\n",
       "\n",
       "    .dataframe tbody tr th {\n",
       "        vertical-align: top;\n",
       "    }\n",
       "\n",
       "    .dataframe thead th {\n",
       "        text-align: right;\n",
       "    }\n",
       "</style>\n",
       "<table border=\"1\" class=\"dataframe\">\n",
       "  <thead>\n",
       "    <tr style=\"text-align: right;\">\n",
       "      <th></th>\n",
       "      <th>id</th>\n",
       "      <th>date_account_created</th>\n",
       "      <th>timestamp_first_active</th>\n",
       "      <th>date_first_booking</th>\n",
       "      <th>gender</th>\n",
       "      <th>age</th>\n",
       "      <th>signup_method</th>\n",
       "      <th>signup_flow</th>\n",
       "      <th>language</th>\n",
       "      <th>affiliate_channel</th>\n",
       "      <th>affiliate_provider</th>\n",
       "      <th>first_affiliate_tracked</th>\n",
       "      <th>signup_app</th>\n",
       "      <th>first_device_type</th>\n",
       "      <th>first_browser</th>\n",
       "      <th>country_destination</th>\n",
       "    </tr>\n",
       "  </thead>\n",
       "  <tbody>\n",
       "    <tr>\n",
       "      <th>2</th>\n",
       "      <td>4ft3gnwmtx</td>\n",
       "      <td>2010-09-28</td>\n",
       "      <td>20090609231247</td>\n",
       "      <td>2010-08-02</td>\n",
       "      <td>FEMALE</td>\n",
       "      <td>56.0</td>\n",
       "      <td>basic</td>\n",
       "      <td>3</td>\n",
       "      <td>en</td>\n",
       "      <td>direct</td>\n",
       "      <td>direct</td>\n",
       "      <td>untracked</td>\n",
       "      <td>Web</td>\n",
       "      <td>Windows Desktop</td>\n",
       "      <td>IE</td>\n",
       "      <td>US</td>\n",
       "    </tr>\n",
       "    <tr>\n",
       "      <th>4</th>\n",
       "      <td>87mebub9p4</td>\n",
       "      <td>2010-09-14</td>\n",
       "      <td>20091208061105</td>\n",
       "      <td>2010-02-18</td>\n",
       "      <td>FEMALE</td>\n",
       "      <td>41.0</td>\n",
       "      <td>basic</td>\n",
       "      <td>0</td>\n",
       "      <td>en</td>\n",
       "      <td>direct</td>\n",
       "      <td>direct</td>\n",
       "      <td>untracked</td>\n",
       "      <td>Web</td>\n",
       "      <td>Mac Desktop</td>\n",
       "      <td>Chrome</td>\n",
       "      <td>US</td>\n",
       "    </tr>\n",
       "    <tr>\n",
       "      <th>5</th>\n",
       "      <td>osr2jwljor</td>\n",
       "      <td>2010-01-01</td>\n",
       "      <td>20100101215619</td>\n",
       "      <td>2010-01-02</td>\n",
       "      <td>FEMALE</td>\n",
       "      <td>33.0</td>\n",
       "      <td>basic</td>\n",
       "      <td>0</td>\n",
       "      <td>en</td>\n",
       "      <td>other</td>\n",
       "      <td>other</td>\n",
       "      <td>omg</td>\n",
       "      <td>Web</td>\n",
       "      <td>Mac Desktop</td>\n",
       "      <td>Chrome</td>\n",
       "      <td>US</td>\n",
       "    </tr>\n",
       "    <tr>\n",
       "      <th>6</th>\n",
       "      <td>lsw9q7uk0j</td>\n",
       "      <td>2010-01-02</td>\n",
       "      <td>20100102012558</td>\n",
       "      <td>2010-01-05</td>\n",
       "      <td>FEMALE</td>\n",
       "      <td>46.0</td>\n",
       "      <td>basic</td>\n",
       "      <td>0</td>\n",
       "      <td>en</td>\n",
       "      <td>other</td>\n",
       "      <td>craigslist</td>\n",
       "      <td>untracked</td>\n",
       "      <td>Web</td>\n",
       "      <td>Mac Desktop</td>\n",
       "      <td>Safari</td>\n",
       "      <td>US</td>\n",
       "    </tr>\n",
       "    <tr>\n",
       "      <th>7</th>\n",
       "      <td>0d01nltbrs</td>\n",
       "      <td>2010-01-03</td>\n",
       "      <td>20100103191905</td>\n",
       "      <td>2010-01-13</td>\n",
       "      <td>FEMALE</td>\n",
       "      <td>47.0</td>\n",
       "      <td>basic</td>\n",
       "      <td>0</td>\n",
       "      <td>en</td>\n",
       "      <td>direct</td>\n",
       "      <td>direct</td>\n",
       "      <td>omg</td>\n",
       "      <td>Web</td>\n",
       "      <td>Mac Desktop</td>\n",
       "      <td>Safari</td>\n",
       "      <td>US</td>\n",
       "    </tr>\n",
       "    <tr>\n",
       "      <th>...</th>\n",
       "      <td>...</td>\n",
       "      <td>...</td>\n",
       "      <td>...</td>\n",
       "      <td>...</td>\n",
       "      <td>...</td>\n",
       "      <td>...</td>\n",
       "      <td>...</td>\n",
       "      <td>...</td>\n",
       "      <td>...</td>\n",
       "      <td>...</td>\n",
       "      <td>...</td>\n",
       "      <td>...</td>\n",
       "      <td>...</td>\n",
       "      <td>...</td>\n",
       "      <td>...</td>\n",
       "      <td>...</td>\n",
       "    </tr>\n",
       "    <tr>\n",
       "      <th>213415</th>\n",
       "      <td>7plqriggxp</td>\n",
       "      <td>2014-06-30</td>\n",
       "      <td>20140630230136</td>\n",
       "      <td>2014-06-30</td>\n",
       "      <td>FEMALE</td>\n",
       "      <td>55.0</td>\n",
       "      <td>basic</td>\n",
       "      <td>0</td>\n",
       "      <td>en</td>\n",
       "      <td>sem-brand</td>\n",
       "      <td>google</td>\n",
       "      <td>omg</td>\n",
       "      <td>Web</td>\n",
       "      <td>Android Tablet</td>\n",
       "      <td>IE</td>\n",
       "      <td>FR</td>\n",
       "    </tr>\n",
       "    <tr>\n",
       "      <th>213439</th>\n",
       "      <td>msucfwmlzc</td>\n",
       "      <td>2014-06-30</td>\n",
       "      <td>20140630234729</td>\n",
       "      <td>2015-03-16</td>\n",
       "      <td>MALE</td>\n",
       "      <td>43.0</td>\n",
       "      <td>basic</td>\n",
       "      <td>0</td>\n",
       "      <td>en</td>\n",
       "      <td>direct</td>\n",
       "      <td>direct</td>\n",
       "      <td>untracked</td>\n",
       "      <td>Web</td>\n",
       "      <td>Windows Desktop</td>\n",
       "      <td>Firefox</td>\n",
       "      <td>US</td>\n",
       "    </tr>\n",
       "    <tr>\n",
       "      <th>213441</th>\n",
       "      <td>omlc9iku7t</td>\n",
       "      <td>2014-06-30</td>\n",
       "      <td>20140630235151</td>\n",
       "      <td>2014-08-13</td>\n",
       "      <td>FEMALE</td>\n",
       "      <td>34.0</td>\n",
       "      <td>basic</td>\n",
       "      <td>0</td>\n",
       "      <td>en</td>\n",
       "      <td>direct</td>\n",
       "      <td>direct</td>\n",
       "      <td>linked</td>\n",
       "      <td>Web</td>\n",
       "      <td>Mac Desktop</td>\n",
       "      <td>Chrome</td>\n",
       "      <td>ES</td>\n",
       "    </tr>\n",
       "    <tr>\n",
       "      <th>213443</th>\n",
       "      <td>0k26r3mir0</td>\n",
       "      <td>2014-06-30</td>\n",
       "      <td>20140630235340</td>\n",
       "      <td>2014-07-13</td>\n",
       "      <td>FEMALE</td>\n",
       "      <td>36.0</td>\n",
       "      <td>basic</td>\n",
       "      <td>0</td>\n",
       "      <td>en</td>\n",
       "      <td>sem-brand</td>\n",
       "      <td>google</td>\n",
       "      <td>linked</td>\n",
       "      <td>Web</td>\n",
       "      <td>Mac Desktop</td>\n",
       "      <td>Safari</td>\n",
       "      <td>US</td>\n",
       "    </tr>\n",
       "    <tr>\n",
       "      <th>213445</th>\n",
       "      <td>qbxza0xojf</td>\n",
       "      <td>2014-06-30</td>\n",
       "      <td>20140630235547</td>\n",
       "      <td>2014-07-02</td>\n",
       "      <td>FEMALE</td>\n",
       "      <td>23.0</td>\n",
       "      <td>basic</td>\n",
       "      <td>0</td>\n",
       "      <td>en</td>\n",
       "      <td>sem-brand</td>\n",
       "      <td>google</td>\n",
       "      <td>omg</td>\n",
       "      <td>Web</td>\n",
       "      <td>Windows Desktop</td>\n",
       "      <td>IE</td>\n",
       "      <td>US</td>\n",
       "    </tr>\n",
       "  </tbody>\n",
       "</table>\n",
       "<p>77534 rows × 16 columns</p>\n",
       "</div>\n",
       "      <button class=\"colab-df-convert\" onclick=\"convertToInteractive('df-295a2795-a688-4d9e-90dc-d1d5035af99b')\"\n",
       "              title=\"Convert this dataframe to an interactive table.\"\n",
       "              style=\"display:none;\">\n",
       "        \n",
       "  <svg xmlns=\"http://www.w3.org/2000/svg\" height=\"24px\"viewBox=\"0 0 24 24\"\n",
       "       width=\"24px\">\n",
       "    <path d=\"M0 0h24v24H0V0z\" fill=\"none\"/>\n",
       "    <path d=\"M18.56 5.44l.94 2.06.94-2.06 2.06-.94-2.06-.94-.94-2.06-.94 2.06-2.06.94zm-11 1L8.5 8.5l.94-2.06 2.06-.94-2.06-.94L8.5 2.5l-.94 2.06-2.06.94zm10 10l.94 2.06.94-2.06 2.06-.94-2.06-.94-.94-2.06-.94 2.06-2.06.94z\"/><path d=\"M17.41 7.96l-1.37-1.37c-.4-.4-.92-.59-1.43-.59-.52 0-1.04.2-1.43.59L10.3 9.45l-7.72 7.72c-.78.78-.78 2.05 0 2.83L4 21.41c.39.39.9.59 1.41.59.51 0 1.02-.2 1.41-.59l7.78-7.78 2.81-2.81c.8-.78.8-2.07 0-2.86zM5.41 20L4 18.59l7.72-7.72 1.47 1.35L5.41 20z\"/>\n",
       "  </svg>\n",
       "      </button>\n",
       "      \n",
       "  <style>\n",
       "    .colab-df-container {\n",
       "      display:flex;\n",
       "      flex-wrap:wrap;\n",
       "      gap: 12px;\n",
       "    }\n",
       "\n",
       "    .colab-df-convert {\n",
       "      background-color: #E8F0FE;\n",
       "      border: none;\n",
       "      border-radius: 50%;\n",
       "      cursor: pointer;\n",
       "      display: none;\n",
       "      fill: #1967D2;\n",
       "      height: 32px;\n",
       "      padding: 0 0 0 0;\n",
       "      width: 32px;\n",
       "    }\n",
       "\n",
       "    .colab-df-convert:hover {\n",
       "      background-color: #E2EBFA;\n",
       "      box-shadow: 0px 1px 2px rgba(60, 64, 67, 0.3), 0px 1px 3px 1px rgba(60, 64, 67, 0.15);\n",
       "      fill: #174EA6;\n",
       "    }\n",
       "\n",
       "    [theme=dark] .colab-df-convert {\n",
       "      background-color: #3B4455;\n",
       "      fill: #D2E3FC;\n",
       "    }\n",
       "\n",
       "    [theme=dark] .colab-df-convert:hover {\n",
       "      background-color: #434B5C;\n",
       "      box-shadow: 0px 1px 3px 1px rgba(0, 0, 0, 0.15);\n",
       "      filter: drop-shadow(0px 1px 2px rgba(0, 0, 0, 0.3));\n",
       "      fill: #FFFFFF;\n",
       "    }\n",
       "  </style>\n",
       "\n",
       "      <script>\n",
       "        const buttonEl =\n",
       "          document.querySelector('#df-295a2795-a688-4d9e-90dc-d1d5035af99b button.colab-df-convert');\n",
       "        buttonEl.style.display =\n",
       "          google.colab.kernel.accessAllowed ? 'block' : 'none';\n",
       "\n",
       "        async function convertToInteractive(key) {\n",
       "          const element = document.querySelector('#df-295a2795-a688-4d9e-90dc-d1d5035af99b');\n",
       "          const dataTable =\n",
       "            await google.colab.kernel.invokeFunction('convertToInteractive',\n",
       "                                                     [key], {});\n",
       "          if (!dataTable) return;\n",
       "\n",
       "          const docLinkHtml = 'Like what you see? Visit the ' +\n",
       "            '<a target=\"_blank\" href=https://colab.research.google.com/notebooks/data_table.ipynb>data table notebook</a>'\n",
       "            + ' to learn more about interactive tables.';\n",
       "          element.innerHTML = '';\n",
       "          dataTable['output_type'] = 'display_data';\n",
       "          await google.colab.output.renderOutput(dataTable, element);\n",
       "          const docLink = document.createElement('div');\n",
       "          docLink.innerHTML = docLinkHtml;\n",
       "          element.appendChild(docLink);\n",
       "        }\n",
       "      </script>\n",
       "    </div>\n",
       "  </div>\n",
       "  "
      ],
      "text/plain": [
       "                id date_account_created  timestamp_first_active  \\\n",
       "2       4ft3gnwmtx           2010-09-28          20090609231247   \n",
       "4       87mebub9p4           2010-09-14          20091208061105   \n",
       "5       osr2jwljor           2010-01-01          20100101215619   \n",
       "6       lsw9q7uk0j           2010-01-02          20100102012558   \n",
       "7       0d01nltbrs           2010-01-03          20100103191905   \n",
       "...            ...                  ...                     ...   \n",
       "213415  7plqriggxp           2014-06-30          20140630230136   \n",
       "213439  msucfwmlzc           2014-06-30          20140630234729   \n",
       "213441  omlc9iku7t           2014-06-30          20140630235151   \n",
       "213443  0k26r3mir0           2014-06-30          20140630235340   \n",
       "213445  qbxza0xojf           2014-06-30          20140630235547   \n",
       "\n",
       "       date_first_booking  gender   age signup_method  signup_flow language  \\\n",
       "2              2010-08-02  FEMALE  56.0         basic            3       en   \n",
       "4              2010-02-18  FEMALE  41.0         basic            0       en   \n",
       "5              2010-01-02  FEMALE  33.0         basic            0       en   \n",
       "6              2010-01-05  FEMALE  46.0         basic            0       en   \n",
       "7              2010-01-13  FEMALE  47.0         basic            0       en   \n",
       "...                   ...     ...   ...           ...          ...      ...   \n",
       "213415         2014-06-30  FEMALE  55.0         basic            0       en   \n",
       "213439         2015-03-16    MALE  43.0         basic            0       en   \n",
       "213441         2014-08-13  FEMALE  34.0         basic            0       en   \n",
       "213443         2014-07-13  FEMALE  36.0         basic            0       en   \n",
       "213445         2014-07-02  FEMALE  23.0         basic            0       en   \n",
       "\n",
       "       affiliate_channel affiliate_provider first_affiliate_tracked  \\\n",
       "2                 direct             direct               untracked   \n",
       "4                 direct             direct               untracked   \n",
       "5                  other              other                     omg   \n",
       "6                  other         craigslist               untracked   \n",
       "7                 direct             direct                     omg   \n",
       "...                  ...                ...                     ...   \n",
       "213415         sem-brand             google                     omg   \n",
       "213439            direct             direct               untracked   \n",
       "213441            direct             direct                  linked   \n",
       "213443         sem-brand             google                  linked   \n",
       "213445         sem-brand             google                     omg   \n",
       "\n",
       "       signup_app first_device_type first_browser country_destination  \n",
       "2             Web   Windows Desktop            IE                  US  \n",
       "4             Web       Mac Desktop        Chrome                  US  \n",
       "5             Web       Mac Desktop        Chrome                  US  \n",
       "6             Web       Mac Desktop        Safari                  US  \n",
       "7             Web       Mac Desktop        Safari                  US  \n",
       "...           ...               ...           ...                 ...  \n",
       "213415        Web    Android Tablet            IE                  FR  \n",
       "213439        Web   Windows Desktop       Firefox                  US  \n",
       "213441        Web       Mac Desktop        Chrome                  ES  \n",
       "213443        Web       Mac Desktop        Safari                  US  \n",
       "213445        Web   Windows Desktop            IE                  US  \n",
       "\n",
       "[77534 rows x 16 columns]"
      ]
     },
     "execution_count": 289,
     "metadata": {},
     "output_type": "execute_result"
    }
   ],
   "source": [
    "new_df"
   ]
  },
  {
   "cell_type": "code",
   "execution_count": 290,
   "metadata": {
    "colab": {
     "base_uri": "https://localhost:8080/",
     "height": 468
    },
    "executionInfo": {
     "elapsed": 1180,
     "status": "ok",
     "timestamp": 1660167044716,
     "user": {
      "displayName": "dibya jyoti",
      "userId": "13905139023208611565"
     },
     "user_tz": -330
    },
    "id": "zn3y9kQpCITW",
    "outputId": "79eba461-f923-4fda-fa43-58293b52bb9b"
   },
   "outputs": [
    {
     "name": "stderr",
     "output_type": "stream",
     "text": [
      "/usr/local/lib/python3.7/dist-packages/seaborn/_decorators.py:43: FutureWarning: Pass the following variable as a keyword arg: x. From version 0.12, the only valid positional argument will be `data`, and passing other arguments without an explicit keyword will result in an error or misinterpretation.\n",
      "  FutureWarning\n"
     ]
    },
    {
     "data": {
      "text/plain": [
       "<matplotlib.axes._subplots.AxesSubplot at 0x7f950a23c9d0>"
      ]
     },
     "execution_count": 290,
     "metadata": {},
     "output_type": "execute_result"
    },
    {
     "data": {
      "image/png": "[encoded data removed]",
      "text/plain": [
       "<Figure size 720x432 with 1 Axes>"
      ]
     },
     "metadata": {
      "needs_background": "light"
     },
     "output_type": "display_data"
    }
   ],
   "source": [
    "sns.countplot(new_df.language, x='language')"
   ]
  },
  {
   "cell_type": "markdown",
   "metadata": {
    "id": "Q7Lgt6pWoQzv"
   },
   "source": [
    "English is the most spoken language among the users "
   ]
  },
  {
   "cell_type": "code",
   "execution_count": 291,
   "metadata": {
    "colab": {
     "base_uri": "https://localhost:8080/",
     "height": 488
    },
    "executionInfo": {
     "elapsed": 792,
     "status": "ok",
     "timestamp": 1660167045492,
     "user": {
      "displayName": "dibya jyoti",
      "userId": "13905139023208611565"
     },
     "user_tz": -330
    },
    "id": "zUFvhpw0CITW",
    "outputId": "47f334f4-8625-4ac2-87c9-a058e7e3fedd"
   },
   "outputs": [
    {
     "name": "stderr",
     "output_type": "stream",
     "text": [
      "/usr/local/lib/python3.7/dist-packages/seaborn/_decorators.py:43: FutureWarning: Pass the following variable as a keyword arg: x. From version 0.12, the only valid positional argument will be `data`, and passing other arguments without an explicit keyword will result in an error or misinterpretation.\n",
      "  FutureWarning\n"
     ]
    },
    {
     "data": {
      "image/png": "[encoded data removed]",
      "text/plain": [
       "<Figure size 720x432 with 1 Axes>"
      ]
     },
     "metadata": {
      "needs_background": "light"
     },
     "output_type": "display_data"
    }
   ],
   "source": [
    "ax=sns.countplot(new_df.first_device_type, x='first_device_type')\n",
    "ax.set_xticklabels(ax.get_xticklabels(), rotation=40, ha=\"right\")\n",
    "plt.tight_layout()\n",
    "plt.show()\n",
    "\n"
   ]
  },
  {
   "cell_type": "markdown",
   "metadata": {
    "id": "rY5ArMM9ocV8"
   },
   "source": [
    "Most users utilise Mac Desktop"
   ]
  },
  {
   "cell_type": "code",
   "execution_count": 292,
   "metadata": {
    "colab": {
     "base_uri": "https://localhost:8080/",
     "height": 105
    },
    "executionInfo": {
     "elapsed": 1542,
     "status": "ok",
     "timestamp": 1660167047005,
     "user": {
      "displayName": "dibya jyoti",
      "userId": "13905139023208611565"
     },
     "user_tz": -330
    },
    "id": "cIyfuHm6CITX",
    "outputId": "91275248-37b1-4394-85c0-a3ff0dcc871e"
   },
   "outputs": [
    {
     "name": "stdout",
     "output_type": "stream",
     "text": [
      "[jovian] Detected Colab notebook...\u001b[0m\n",
      "[jovian] Uploading colab notebook to Jovian...\u001b[0m\n"
     ]
    },
    {
     "name": "stderr",
     "output_type": "stream",
     "text": [
      "\u001b[31m[jovian] Error: Looks like the notebook is missing output cells, please save the notebook and try jovian.commit again.\u001b[0m\n"
     ]
    },
    {
     "name": "stdout",
     "output_type": "stream",
     "text": [
      "Committed successfully! https://jovian.ai/dibyababu105/machine-learning-project\n"
     ]
    },
    {
     "data": {
      "application/vnd.google.colaboratory.intrinsic+json": {
       "type": "string"
      },
      "text/plain": [
       "'https://jovian.ai/dibyababu105/machine-learning-project'"
      ]
     },
     "execution_count": 292,
     "metadata": {},
     "output_type": "execute_result"
    }
   ],
   "source": [
    "jovian.commit(project=\"machine-learning-project\")"
   ]
  },
  {
   "cell_type": "markdown",
   "metadata": {
    "id": "lQZGm5OCot0q"
   },
   "source": [
    "## Feature Engineering"
   ]
  },
  {
   "cell_type": "code",
   "execution_count": 293,
   "metadata": {
    "executionInfo": {
     "elapsed": 10,
     "status": "ok",
     "timestamp": 1660167047006,
     "user": {
      "displayName": "dibya jyoti",
      "userId": "13905139023208611565"
     },
     "user_tz": -330
    },
    "id": "1M10EP-qCITX"
   },
   "outputs": [],
   "source": [
    "import datetime"
   ]
  },
  {
   "cell_type": "code",
   "execution_count": 294,
   "metadata": {
    "executionInfo": {
     "elapsed": 737,
     "status": "ok",
     "timestamp": 1660167047727,
     "user": {
      "displayName": "dibya jyoti",
      "userId": "13905139023208611565"
     },
     "user_tz": -330
    },
    "id": "nN-d3OgiCITY"
   },
   "outputs": [],
   "source": [
    "new_df['date_account_created'] = pd.to_datetime(new_df['date_account_created'])\n",
    "new_df['timestamp_first_active'] = pd.to_datetime(new_df['timestamp_first_active'], format='%Y%m%d%H%M%S')"
   ]
  },
  {
   "cell_type": "code",
   "execution_count": 295,
   "metadata": {
    "executionInfo": {
     "elapsed": 18,
     "status": "ok",
     "timestamp": 1660167047735,
     "user": {
      "displayName": "dibya jyoti",
      "userId": "13905139023208611565"
     },
     "user_tz": -330
    },
    "id": "BR8FNR9pCITY"
   },
   "outputs": [],
   "source": [
    "new_df['year'] = new_df['date_account_created'].dt.year"
   ]
  },
  {
   "cell_type": "code",
   "execution_count": 296,
   "metadata": {
    "colab": {
     "base_uri": "https://localhost:8080/",
     "height": 433
    },
    "executionInfo": {
     "elapsed": 1217,
     "status": "ok",
     "timestamp": 1660167048935,
     "user": {
      "displayName": "dibya jyoti",
      "userId": "13905139023208611565"
     },
     "user_tz": -330
    },
    "id": "B_QvTScNCITZ",
    "outputId": "e2ba48f9-08f1-4b52-e371-0129255ee928"
   },
   "outputs": [
    {
     "data": {
      "text/plain": [
       "Text(0.5, 1.0, 'year wise distribution')"
      ]
     },
     "execution_count": 296,
     "metadata": {},
     "output_type": "execute_result"
    },
    {
     "data": {
      "image/png": "[encoded data removed]",
      "text/plain": [
       "<Figure size 720x432 with 1 Axes>"
      ]
     },
     "metadata": {
      "needs_background": "light"
     },
     "output_type": "display_data"
    }
   ],
   "source": [
    "sns.countplot(data=new_df,x='year', hue=new_df['gender']);\n",
    "plt.title('year wise distribution')"
   ]
  },
  {
   "cell_type": "markdown",
   "metadata": {
    "id": "EUeQPmO7o3kl"
   },
   "source": [
    "2013 had the most tourists"
   ]
  },
  {
   "cell_type": "code",
   "execution_count": 297,
   "metadata": {
    "colab": {
     "base_uri": "https://localhost:8080/",
     "height": 488
    },
    "executionInfo": {
     "elapsed": 26,
     "status": "ok",
     "timestamp": 1660167048938,
     "user": {
      "displayName": "dibya jyoti",
      "userId": "13905139023208611565"
     },
     "user_tz": -330
    },
    "id": "CMNYoXMOCITZ",
    "outputId": "1fc09b87-8960-4fd6-a09a-e41323eb07aa",
    "scrolled": true
   },
   "outputs": [
    {
     "data": {
      "text/html": [
       "\n",
       "  <div id=\"df-f81fbcbb-e489-4398-b602-6259a5740c7d\">\n",
       "    <div class=\"colab-df-container\">\n",
       "      <div>\n",
       "<style scoped>\n",
       "    .dataframe tbody tr th:only-of-type {\n",
       "        vertical-align: middle;\n",
       "    }\n",
       "\n",
       "    .dataframe tbody tr th {\n",
       "        vertical-align: top;\n",
       "    }\n",
       "\n",
       "    .dataframe thead th {\n",
       "        text-align: right;\n",
       "    }\n",
       "</style>\n",
       "<table border=\"1\" class=\"dataframe\">\n",
       "  <thead>\n",
       "    <tr style=\"text-align: right;\">\n",
       "      <th></th>\n",
       "      <th>id</th>\n",
       "      <th>date_account_created</th>\n",
       "      <th>timestamp_first_active</th>\n",
       "      <th>date_first_booking</th>\n",
       "      <th>gender</th>\n",
       "      <th>age</th>\n",
       "      <th>signup_method</th>\n",
       "      <th>signup_flow</th>\n",
       "      <th>language</th>\n",
       "      <th>affiliate_channel</th>\n",
       "      <th>affiliate_provider</th>\n",
       "      <th>first_affiliate_tracked</th>\n",
       "      <th>signup_app</th>\n",
       "      <th>first_device_type</th>\n",
       "      <th>first_browser</th>\n",
       "      <th>country_destination</th>\n",
       "      <th>year</th>\n",
       "    </tr>\n",
       "  </thead>\n",
       "  <tbody>\n",
       "    <tr>\n",
       "      <th>2</th>\n",
       "      <td>4ft3gnwmtx</td>\n",
       "      <td>2010-09-28</td>\n",
       "      <td>2009-06-09 23:12:47</td>\n",
       "      <td>2010-08-02</td>\n",
       "      <td>FEMALE</td>\n",
       "      <td>56.0</td>\n",
       "      <td>basic</td>\n",
       "      <td>3</td>\n",
       "      <td>en</td>\n",
       "      <td>direct</td>\n",
       "      <td>direct</td>\n",
       "      <td>untracked</td>\n",
       "      <td>Web</td>\n",
       "      <td>Windows Desktop</td>\n",
       "      <td>IE</td>\n",
       "      <td>US</td>\n",
       "      <td>2010</td>\n",
       "    </tr>\n",
       "    <tr>\n",
       "      <th>4</th>\n",
       "      <td>87mebub9p4</td>\n",
       "      <td>2010-09-14</td>\n",
       "      <td>2009-12-08 06:11:05</td>\n",
       "      <td>2010-02-18</td>\n",
       "      <td>FEMALE</td>\n",
       "      <td>41.0</td>\n",
       "      <td>basic</td>\n",
       "      <td>0</td>\n",
       "      <td>en</td>\n",
       "      <td>direct</td>\n",
       "      <td>direct</td>\n",
       "      <td>untracked</td>\n",
       "      <td>Web</td>\n",
       "      <td>Mac Desktop</td>\n",
       "      <td>Chrome</td>\n",
       "      <td>US</td>\n",
       "      <td>2010</td>\n",
       "    </tr>\n",
       "    <tr>\n",
       "      <th>5</th>\n",
       "      <td>osr2jwljor</td>\n",
       "      <td>2010-01-01</td>\n",
       "      <td>2010-01-01 21:56:19</td>\n",
       "      <td>2010-01-02</td>\n",
       "      <td>FEMALE</td>\n",
       "      <td>33.0</td>\n",
       "      <td>basic</td>\n",
       "      <td>0</td>\n",
       "      <td>en</td>\n",
       "      <td>other</td>\n",
       "      <td>other</td>\n",
       "      <td>omg</td>\n",
       "      <td>Web</td>\n",
       "      <td>Mac Desktop</td>\n",
       "      <td>Chrome</td>\n",
       "      <td>US</td>\n",
       "      <td>2010</td>\n",
       "    </tr>\n",
       "    <tr>\n",
       "      <th>6</th>\n",
       "      <td>lsw9q7uk0j</td>\n",
       "      <td>2010-01-02</td>\n",
       "      <td>2010-01-02 01:25:58</td>\n",
       "      <td>2010-01-05</td>\n",
       "      <td>FEMALE</td>\n",
       "      <td>46.0</td>\n",
       "      <td>basic</td>\n",
       "      <td>0</td>\n",
       "      <td>en</td>\n",
       "      <td>other</td>\n",
       "      <td>craigslist</td>\n",
       "      <td>untracked</td>\n",
       "      <td>Web</td>\n",
       "      <td>Mac Desktop</td>\n",
       "      <td>Safari</td>\n",
       "      <td>US</td>\n",
       "      <td>2010</td>\n",
       "    </tr>\n",
       "    <tr>\n",
       "      <th>7</th>\n",
       "      <td>0d01nltbrs</td>\n",
       "      <td>2010-01-03</td>\n",
       "      <td>2010-01-03 19:19:05</td>\n",
       "      <td>2010-01-13</td>\n",
       "      <td>FEMALE</td>\n",
       "      <td>47.0</td>\n",
       "      <td>basic</td>\n",
       "      <td>0</td>\n",
       "      <td>en</td>\n",
       "      <td>direct</td>\n",
       "      <td>direct</td>\n",
       "      <td>omg</td>\n",
       "      <td>Web</td>\n",
       "      <td>Mac Desktop</td>\n",
       "      <td>Safari</td>\n",
       "      <td>US</td>\n",
       "      <td>2010</td>\n",
       "    </tr>\n",
       "    <tr>\n",
       "      <th>...</th>\n",
       "      <td>...</td>\n",
       "      <td>...</td>\n",
       "      <td>...</td>\n",
       "      <td>...</td>\n",
       "      <td>...</td>\n",
       "      <td>...</td>\n",
       "      <td>...</td>\n",
       "      <td>...</td>\n",
       "      <td>...</td>\n",
       "      <td>...</td>\n",
       "      <td>...</td>\n",
       "      <td>...</td>\n",
       "      <td>...</td>\n",
       "      <td>...</td>\n",
       "      <td>...</td>\n",
       "      <td>...</td>\n",
       "      <td>...</td>\n",
       "    </tr>\n",
       "    <tr>\n",
       "      <th>213415</th>\n",
       "      <td>7plqriggxp</td>\n",
       "      <td>2014-06-30</td>\n",
       "      <td>2014-06-30 23:01:36</td>\n",
       "      <td>2014-06-30</td>\n",
       "      <td>FEMALE</td>\n",
       "      <td>55.0</td>\n",
       "      <td>basic</td>\n",
       "      <td>0</td>\n",
       "      <td>en</td>\n",
       "      <td>sem-brand</td>\n",
       "      <td>google</td>\n",
       "      <td>omg</td>\n",
       "      <td>Web</td>\n",
       "      <td>Android Tablet</td>\n",
       "      <td>IE</td>\n",
       "      <td>FR</td>\n",
       "      <td>2014</td>\n",
       "    </tr>\n",
       "    <tr>\n",
       "      <th>213439</th>\n",
       "      <td>msucfwmlzc</td>\n",
       "      <td>2014-06-30</td>\n",
       "      <td>2014-06-30 23:47:29</td>\n",
       "      <td>2015-03-16</td>\n",
       "      <td>MALE</td>\n",
       "      <td>43.0</td>\n",
       "      <td>basic</td>\n",
       "      <td>0</td>\n",
       "      <td>en</td>\n",
       "      <td>direct</td>\n",
       "      <td>direct</td>\n",
       "      <td>untracked</td>\n",
       "      <td>Web</td>\n",
       "      <td>Windows Desktop</td>\n",
       "      <td>Firefox</td>\n",
       "      <td>US</td>\n",
       "      <td>2014</td>\n",
       "    </tr>\n",
       "    <tr>\n",
       "      <th>213441</th>\n",
       "      <td>omlc9iku7t</td>\n",
       "      <td>2014-06-30</td>\n",
       "      <td>2014-06-30 23:51:51</td>\n",
       "      <td>2014-08-13</td>\n",
       "      <td>FEMALE</td>\n",
       "      <td>34.0</td>\n",
       "      <td>basic</td>\n",
       "      <td>0</td>\n",
       "      <td>en</td>\n",
       "      <td>direct</td>\n",
       "      <td>direct</td>\n",
       "      <td>linked</td>\n",
       "      <td>Web</td>\n",
       "      <td>Mac Desktop</td>\n",
       "      <td>Chrome</td>\n",
       "      <td>ES</td>\n",
       "      <td>2014</td>\n",
       "    </tr>\n",
       "    <tr>\n",
       "      <th>213443</th>\n",
       "      <td>0k26r3mir0</td>\n",
       "      <td>2014-06-30</td>\n",
       "      <td>2014-06-30 23:53:40</td>\n",
       "      <td>2014-07-13</td>\n",
       "      <td>FEMALE</td>\n",
       "      <td>36.0</td>\n",
       "      <td>basic</td>\n",
       "      <td>0</td>\n",
       "      <td>en</td>\n",
       "      <td>sem-brand</td>\n",
       "      <td>google</td>\n",
       "      <td>linked</td>\n",
       "      <td>Web</td>\n",
       "      <td>Mac Desktop</td>\n",
       "      <td>Safari</td>\n",
       "      <td>US</td>\n",
       "      <td>2014</td>\n",
       "    </tr>\n",
       "    <tr>\n",
       "      <th>213445</th>\n",
       "      <td>qbxza0xojf</td>\n",
       "      <td>2014-06-30</td>\n",
       "      <td>2014-06-30 23:55:47</td>\n",
       "      <td>2014-07-02</td>\n",
       "      <td>FEMALE</td>\n",
       "      <td>23.0</td>\n",
       "      <td>basic</td>\n",
       "      <td>0</td>\n",
       "      <td>en</td>\n",
       "      <td>sem-brand</td>\n",
       "      <td>google</td>\n",
       "      <td>omg</td>\n",
       "      <td>Web</td>\n",
       "      <td>Windows Desktop</td>\n",
       "      <td>IE</td>\n",
       "      <td>US</td>\n",
       "      <td>2014</td>\n",
       "    </tr>\n",
       "  </tbody>\n",
       "</table>\n",
       "<p>77534 rows × 17 columns</p>\n",
       "</div>\n",
       "      <button class=\"colab-df-convert\" onclick=\"convertToInteractive('df-f81fbcbb-e489-4398-b602-6259a5740c7d')\"\n",
       "              title=\"Convert this dataframe to an interactive table.\"\n",
       "              style=\"display:none;\">\n",
       "        \n",
       "  <svg xmlns=\"http://www.w3.org/2000/svg\" height=\"24px\"viewBox=\"0 0 24 24\"\n",
       "       width=\"24px\">\n",
       "    <path d=\"M0 0h24v24H0V0z\" fill=\"none\"/>\n",
       "    <path d=\"M18.56 5.44l.94 2.06.94-2.06 2.06-.94-2.06-.94-.94-2.06-.94 2.06-2.06.94zm-11 1L8.5 8.5l.94-2.06 2.06-.94-2.06-.94L8.5 2.5l-.94 2.06-2.06.94zm10 10l.94 2.06.94-2.06 2.06-.94-2.06-.94-.94-2.06-.94 2.06-2.06.94z\"/><path d=\"M17.41 7.96l-1.37-1.37c-.4-.4-.92-.59-1.43-.59-.52 0-1.04.2-1.43.59L10.3 9.45l-7.72 7.72c-.78.78-.78 2.05 0 2.83L4 21.41c.39.39.9.59 1.41.59.51 0 1.02-.2 1.41-.59l7.78-7.78 2.81-2.81c.8-.78.8-2.07 0-2.86zM5.41 20L4 18.59l7.72-7.72 1.47 1.35L5.41 20z\"/>\n",
       "  </svg>\n",
       "      </button>\n",
       "      \n",
       "  <style>\n",
       "    .colab-df-container {\n",
       "      display:flex;\n",
       "      flex-wrap:wrap;\n",
       "      gap: 12px;\n",
       "    }\n",
       "\n",
       "    .colab-df-convert {\n",
       "      background-color: #E8F0FE;\n",
       "      border: none;\n",
       "      border-radius: 50%;\n",
       "      cursor: pointer;\n",
       "      display: none;\n",
       "      fill: #1967D2;\n",
       "      height: 32px;\n",
       "      padding: 0 0 0 0;\n",
       "      width: 32px;\n",
       "    }\n",
       "\n",
       "    .colab-df-convert:hover {\n",
       "      background-color: #E2EBFA;\n",
       "      box-shadow: 0px 1px 2px rgba(60, 64, 67, 0.3), 0px 1px 3px 1px rgba(60, 64, 67, 0.15);\n",
       "      fill: #174EA6;\n",
       "    }\n",
       "\n",
       "    [theme=dark] .colab-df-convert {\n",
       "      background-color: #3B4455;\n",
       "      fill: #D2E3FC;\n",
       "    }\n",
       "\n",
       "    [theme=dark] .colab-df-convert:hover {\n",
       "      background-color: #434B5C;\n",
       "      box-shadow: 0px 1px 3px 1px rgba(0, 0, 0, 0.15);\n",
       "      filter: drop-shadow(0px 1px 2px rgba(0, 0, 0, 0.3));\n",
       "      fill: #FFFFFF;\n",
       "    }\n",
       "  </style>\n",
       "\n",
       "      <script>\n",
       "        const buttonEl =\n",
       "          document.querySelector('#df-f81fbcbb-e489-4398-b602-6259a5740c7d button.colab-df-convert');\n",
       "        buttonEl.style.display =\n",
       "          google.colab.kernel.accessAllowed ? 'block' : 'none';\n",
       "\n",
       "        async function convertToInteractive(key) {\n",
       "          const element = document.querySelector('#df-f81fbcbb-e489-4398-b602-6259a5740c7d');\n",
       "          const dataTable =\n",
       "            await google.colab.kernel.invokeFunction('convertToInteractive',\n",
       "                                                     [key], {});\n",
       "          if (!dataTable) return;\n",
       "\n",
       "          const docLinkHtml = 'Like what you see? Visit the ' +\n",
       "            '<a target=\"_blank\" href=https://colab.research.google.com/notebooks/data_table.ipynb>data table notebook</a>'\n",
       "            + ' to learn more about interactive tables.';\n",
       "          element.innerHTML = '';\n",
       "          dataTable['output_type'] = 'display_data';\n",
       "          await google.colab.output.renderOutput(dataTable, element);\n",
       "          const docLink = document.createElement('div');\n",
       "          docLink.innerHTML = docLinkHtml;\n",
       "          element.appendChild(docLink);\n",
       "        }\n",
       "      </script>\n",
       "    </div>\n",
       "  </div>\n",
       "  "
      ],
      "text/plain": [
       "                id date_account_created timestamp_first_active  \\\n",
       "2       4ft3gnwmtx           2010-09-28    2009-06-09 23:12:47   \n",
       "4       87mebub9p4           2010-09-14    2009-12-08 06:11:05   \n",
       "5       osr2jwljor           2010-01-01    2010-01-01 21:56:19   \n",
       "6       lsw9q7uk0j           2010-01-02    2010-01-02 01:25:58   \n",
       "7       0d01nltbrs           2010-01-03    2010-01-03 19:19:05   \n",
       "...            ...                  ...                    ...   \n",
       "213415  7plqriggxp           2014-06-30    2014-06-30 23:01:36   \n",
       "213439  msucfwmlzc           2014-06-30    2014-06-30 23:47:29   \n",
       "213441  omlc9iku7t           2014-06-30    2014-06-30 23:51:51   \n",
       "213443  0k26r3mir0           2014-06-30    2014-06-30 23:53:40   \n",
       "213445  qbxza0xojf           2014-06-30    2014-06-30 23:55:47   \n",
       "\n",
       "       date_first_booking  gender   age signup_method  signup_flow language  \\\n",
       "2              2010-08-02  FEMALE  56.0         basic            3       en   \n",
       "4              2010-02-18  FEMALE  41.0         basic            0       en   \n",
       "5              2010-01-02  FEMALE  33.0         basic            0       en   \n",
       "6              2010-01-05  FEMALE  46.0         basic            0       en   \n",
       "7              2010-01-13  FEMALE  47.0         basic            0       en   \n",
       "...                   ...     ...   ...           ...          ...      ...   \n",
       "213415         2014-06-30  FEMALE  55.0         basic            0       en   \n",
       "213439         2015-03-16    MALE  43.0         basic            0       en   \n",
       "213441         2014-08-13  FEMALE  34.0         basic            0       en   \n",
       "213443         2014-07-13  FEMALE  36.0         basic            0       en   \n",
       "213445         2014-07-02  FEMALE  23.0         basic            0       en   \n",
       "\n",
       "       affiliate_channel affiliate_provider first_affiliate_tracked  \\\n",
       "2                 direct             direct               untracked   \n",
       "4                 direct             direct               untracked   \n",
       "5                  other              other                     omg   \n",
       "6                  other         craigslist               untracked   \n",
       "7                 direct             direct                     omg   \n",
       "...                  ...                ...                     ...   \n",
       "213415         sem-brand             google                     omg   \n",
       "213439            direct             direct               untracked   \n",
       "213441            direct             direct                  linked   \n",
       "213443         sem-brand             google                  linked   \n",
       "213445         sem-brand             google                     omg   \n",
       "\n",
       "       signup_app first_device_type first_browser country_destination  year  \n",
       "2             Web   Windows Desktop            IE                  US  2010  \n",
       "4             Web       Mac Desktop        Chrome                  US  2010  \n",
       "5             Web       Mac Desktop        Chrome                  US  2010  \n",
       "6             Web       Mac Desktop        Safari                  US  2010  \n",
       "7             Web       Mac Desktop        Safari                  US  2010  \n",
       "...           ...               ...           ...                 ...   ...  \n",
       "213415        Web    Android Tablet            IE                  FR  2014  \n",
       "213439        Web   Windows Desktop       Firefox                  US  2014  \n",
       "213441        Web       Mac Desktop        Chrome                  ES  2014  \n",
       "213443        Web       Mac Desktop        Safari                  US  2014  \n",
       "213445        Web   Windows Desktop            IE                  US  2014  \n",
       "\n",
       "[77534 rows x 17 columns]"
      ]
     },
     "execution_count": 297,
     "metadata": {},
     "output_type": "execute_result"
    }
   ],
   "source": [
    "new_df"
   ]
  },
  {
   "cell_type": "code",
   "execution_count": 298,
   "metadata": {
    "executionInfo": {
     "elapsed": 23,
     "status": "ok",
     "timestamp": 1660167048939,
     "user": {
      "displayName": "dibya jyoti",
      "userId": "13905139023208611565"
     },
     "user_tz": -330
    },
    "id": "0m8-4_snCITZ"
   },
   "outputs": [],
   "source": [
    "def split_date(df):\n",
    "    df['Date'] = pd.to_datetime(df['date_first_booking'])\n",
    "    df['Year'] = df.Date.dt.year\n",
    "    df['Month'] = df.Date.dt.month\n",
    "    df['Day'] = df.Date.dt.day\n",
    "    df['WeekOfYear'] = df.Date.dt.isocalendar().week"
   ]
  },
  {
   "cell_type": "code",
   "execution_count": 299,
   "metadata": {
    "executionInfo": {
     "elapsed": 25,
     "status": "ok",
     "timestamp": 1660167048942,
     "user": {
      "displayName": "dibya jyoti",
      "userId": "13905139023208611565"
     },
     "user_tz": -330
    },
    "id": "27PhdozcCITa"
   },
   "outputs": [],
   "source": [
    "split_date(new_df)"
   ]
  },
  {
   "cell_type": "code",
   "execution_count": 300,
   "metadata": {
    "colab": {
     "base_uri": "https://localhost:8080/",
     "height": 661
    },
    "executionInfo": {
     "elapsed": 1078,
     "status": "ok",
     "timestamp": 1660167049994,
     "user": {
      "displayName": "dibya jyoti",
      "userId": "13905139023208611565"
     },
     "user_tz": -330
    },
    "id": "MQKB3XD9CITa",
    "outputId": "36ac4bad-97af-4d31-ff2f-33d32d3ba1be"
   },
   "outputs": [
    {
     "data": {
      "text/html": [
       "\n",
       "  <div id=\"df-1adb9eda-f96f-4fb8-9434-1b87cb601e8e\">\n",
       "    <div class=\"colab-df-container\">\n",
       "      <div>\n",
       "<style scoped>\n",
       "    .dataframe tbody tr th:only-of-type {\n",
       "        vertical-align: middle;\n",
       "    }\n",
       "\n",
       "    .dataframe tbody tr th {\n",
       "        vertical-align: top;\n",
       "    }\n",
       "\n",
       "    .dataframe thead th {\n",
       "        text-align: right;\n",
       "    }\n",
       "</style>\n",
       "<table border=\"1\" class=\"dataframe\">\n",
       "  <thead>\n",
       "    <tr style=\"text-align: right;\">\n",
       "      <th></th>\n",
       "      <th>id</th>\n",
       "      <th>date_account_created</th>\n",
       "      <th>timestamp_first_active</th>\n",
       "      <th>date_first_booking</th>\n",
       "      <th>gender</th>\n",
       "      <th>age</th>\n",
       "      <th>signup_method</th>\n",
       "      <th>signup_flow</th>\n",
       "      <th>language</th>\n",
       "      <th>affiliate_channel</th>\n",
       "      <th>...</th>\n",
       "      <th>signup_app</th>\n",
       "      <th>first_device_type</th>\n",
       "      <th>first_browser</th>\n",
       "      <th>country_destination</th>\n",
       "      <th>year</th>\n",
       "      <th>Date</th>\n",
       "      <th>Year</th>\n",
       "      <th>Month</th>\n",
       "      <th>Day</th>\n",
       "      <th>WeekOfYear</th>\n",
       "    </tr>\n",
       "  </thead>\n",
       "  <tbody>\n",
       "    <tr>\n",
       "      <th>2</th>\n",
       "      <td>4ft3gnwmtx</td>\n",
       "      <td>2010-09-28</td>\n",
       "      <td>2009-06-09 23:12:47</td>\n",
       "      <td>2010-08-02</td>\n",
       "      <td>FEMALE</td>\n",
       "      <td>56.0</td>\n",
       "      <td>basic</td>\n",
       "      <td>3</td>\n",
       "      <td>en</td>\n",
       "      <td>direct</td>\n",
       "      <td>...</td>\n",
       "      <td>Web</td>\n",
       "      <td>Windows Desktop</td>\n",
       "      <td>IE</td>\n",
       "      <td>US</td>\n",
       "      <td>2010</td>\n",
       "      <td>2010-08-02</td>\n",
       "      <td>2010</td>\n",
       "      <td>8</td>\n",
       "      <td>2</td>\n",
       "      <td>31</td>\n",
       "    </tr>\n",
       "    <tr>\n",
       "      <th>4</th>\n",
       "      <td>87mebub9p4</td>\n",
       "      <td>2010-09-14</td>\n",
       "      <td>2009-12-08 06:11:05</td>\n",
       "      <td>2010-02-18</td>\n",
       "      <td>FEMALE</td>\n",
       "      <td>41.0</td>\n",
       "      <td>basic</td>\n",
       "      <td>0</td>\n",
       "      <td>en</td>\n",
       "      <td>direct</td>\n",
       "      <td>...</td>\n",
       "      <td>Web</td>\n",
       "      <td>Mac Desktop</td>\n",
       "      <td>Chrome</td>\n",
       "      <td>US</td>\n",
       "      <td>2010</td>\n",
       "      <td>2010-02-18</td>\n",
       "      <td>2010</td>\n",
       "      <td>2</td>\n",
       "      <td>18</td>\n",
       "      <td>7</td>\n",
       "    </tr>\n",
       "    <tr>\n",
       "      <th>5</th>\n",
       "      <td>osr2jwljor</td>\n",
       "      <td>2010-01-01</td>\n",
       "      <td>2010-01-01 21:56:19</td>\n",
       "      <td>2010-01-02</td>\n",
       "      <td>FEMALE</td>\n",
       "      <td>33.0</td>\n",
       "      <td>basic</td>\n",
       "      <td>0</td>\n",
       "      <td>en</td>\n",
       "      <td>other</td>\n",
       "      <td>...</td>\n",
       "      <td>Web</td>\n",
       "      <td>Mac Desktop</td>\n",
       "      <td>Chrome</td>\n",
       "      <td>US</td>\n",
       "      <td>2010</td>\n",
       "      <td>2010-01-02</td>\n",
       "      <td>2010</td>\n",
       "      <td>1</td>\n",
       "      <td>2</td>\n",
       "      <td>53</td>\n",
       "    </tr>\n",
       "    <tr>\n",
       "      <th>6</th>\n",
       "      <td>lsw9q7uk0j</td>\n",
       "      <td>2010-01-02</td>\n",
       "      <td>2010-01-02 01:25:58</td>\n",
       "      <td>2010-01-05</td>\n",
       "      <td>FEMALE</td>\n",
       "      <td>46.0</td>\n",
       "      <td>basic</td>\n",
       "      <td>0</td>\n",
       "      <td>en</td>\n",
       "      <td>other</td>\n",
       "      <td>...</td>\n",
       "      <td>Web</td>\n",
       "      <td>Mac Desktop</td>\n",
       "      <td>Safari</td>\n",
       "      <td>US</td>\n",
       "      <td>2010</td>\n",
       "      <td>2010-01-05</td>\n",
       "      <td>2010</td>\n",
       "      <td>1</td>\n",
       "      <td>5</td>\n",
       "      <td>1</td>\n",
       "    </tr>\n",
       "    <tr>\n",
       "      <th>7</th>\n",
       "      <td>0d01nltbrs</td>\n",
       "      <td>2010-01-03</td>\n",
       "      <td>2010-01-03 19:19:05</td>\n",
       "      <td>2010-01-13</td>\n",
       "      <td>FEMALE</td>\n",
       "      <td>47.0</td>\n",
       "      <td>basic</td>\n",
       "      <td>0</td>\n",
       "      <td>en</td>\n",
       "      <td>direct</td>\n",
       "      <td>...</td>\n",
       "      <td>Web</td>\n",
       "      <td>Mac Desktop</td>\n",
       "      <td>Safari</td>\n",
       "      <td>US</td>\n",
       "      <td>2010</td>\n",
       "      <td>2010-01-13</td>\n",
       "      <td>2010</td>\n",
       "      <td>1</td>\n",
       "      <td>13</td>\n",
       "      <td>2</td>\n",
       "    </tr>\n",
       "    <tr>\n",
       "      <th>...</th>\n",
       "      <td>...</td>\n",
       "      <td>...</td>\n",
       "      <td>...</td>\n",
       "      <td>...</td>\n",
       "      <td>...</td>\n",
       "      <td>...</td>\n",
       "      <td>...</td>\n",
       "      <td>...</td>\n",
       "      <td>...</td>\n",
       "      <td>...</td>\n",
       "      <td>...</td>\n",
       "      <td>...</td>\n",
       "      <td>...</td>\n",
       "      <td>...</td>\n",
       "      <td>...</td>\n",
       "      <td>...</td>\n",
       "      <td>...</td>\n",
       "      <td>...</td>\n",
       "      <td>...</td>\n",
       "      <td>...</td>\n",
       "      <td>...</td>\n",
       "    </tr>\n",
       "    <tr>\n",
       "      <th>213415</th>\n",
       "      <td>7plqriggxp</td>\n",
       "      <td>2014-06-30</td>\n",
       "      <td>2014-06-30 23:01:36</td>\n",
       "      <td>2014-06-30</td>\n",
       "      <td>FEMALE</td>\n",
       "      <td>55.0</td>\n",
       "      <td>basic</td>\n",
       "      <td>0</td>\n",
       "      <td>en</td>\n",
       "      <td>sem-brand</td>\n",
       "      <td>...</td>\n",
       "      <td>Web</td>\n",
       "      <td>Android Tablet</td>\n",
       "      <td>IE</td>\n",
       "      <td>FR</td>\n",
       "      <td>2014</td>\n",
       "      <td>2014-06-30</td>\n",
       "      <td>2014</td>\n",
       "      <td>6</td>\n",
       "      <td>30</td>\n",
       "      <td>27</td>\n",
       "    </tr>\n",
       "    <tr>\n",
       "      <th>213439</th>\n",
       "      <td>msucfwmlzc</td>\n",
       "      <td>2014-06-30</td>\n",
       "      <td>2014-06-30 23:47:29</td>\n",
       "      <td>2015-03-16</td>\n",
       "      <td>MALE</td>\n",
       "      <td>43.0</td>\n",
       "      <td>basic</td>\n",
       "      <td>0</td>\n",
       "      <td>en</td>\n",
       "      <td>direct</td>\n",
       "      <td>...</td>\n",
       "      <td>Web</td>\n",
       "      <td>Windows Desktop</td>\n",
       "      <td>Firefox</td>\n",
       "      <td>US</td>\n",
       "      <td>2014</td>\n",
       "      <td>2015-03-16</td>\n",
       "      <td>2015</td>\n",
       "      <td>3</td>\n",
       "      <td>16</td>\n",
       "      <td>12</td>\n",
       "    </tr>\n",
       "    <tr>\n",
       "      <th>213441</th>\n",
       "      <td>omlc9iku7t</td>\n",
       "      <td>2014-06-30</td>\n",
       "      <td>2014-06-30 23:51:51</td>\n",
       "      <td>2014-08-13</td>\n",
       "      <td>FEMALE</td>\n",
       "      <td>34.0</td>\n",
       "      <td>basic</td>\n",
       "      <td>0</td>\n",
       "      <td>en</td>\n",
       "      <td>direct</td>\n",
       "      <td>...</td>\n",
       "      <td>Web</td>\n",
       "      <td>Mac Desktop</td>\n",
       "      <td>Chrome</td>\n",
       "      <td>ES</td>\n",
       "      <td>2014</td>\n",
       "      <td>2014-08-13</td>\n",
       "      <td>2014</td>\n",
       "      <td>8</td>\n",
       "      <td>13</td>\n",
       "      <td>33</td>\n",
       "    </tr>\n",
       "    <tr>\n",
       "      <th>213443</th>\n",
       "      <td>0k26r3mir0</td>\n",
       "      <td>2014-06-30</td>\n",
       "      <td>2014-06-30 23:53:40</td>\n",
       "      <td>2014-07-13</td>\n",
       "      <td>FEMALE</td>\n",
       "      <td>36.0</td>\n",
       "      <td>basic</td>\n",
       "      <td>0</td>\n",
       "      <td>en</td>\n",
       "      <td>sem-brand</td>\n",
       "      <td>...</td>\n",
       "      <td>Web</td>\n",
       "      <td>Mac Desktop</td>\n",
       "      <td>Safari</td>\n",
       "      <td>US</td>\n",
       "      <td>2014</td>\n",
       "      <td>2014-07-13</td>\n",
       "      <td>2014</td>\n",
       "      <td>7</td>\n",
       "      <td>13</td>\n",
       "      <td>28</td>\n",
       "    </tr>\n",
       "    <tr>\n",
       "      <th>213445</th>\n",
       "      <td>qbxza0xojf</td>\n",
       "      <td>2014-06-30</td>\n",
       "      <td>2014-06-30 23:55:47</td>\n",
       "      <td>2014-07-02</td>\n",
       "      <td>FEMALE</td>\n",
       "      <td>23.0</td>\n",
       "      <td>basic</td>\n",
       "      <td>0</td>\n",
       "      <td>en</td>\n",
       "      <td>sem-brand</td>\n",
       "      <td>...</td>\n",
       "      <td>Web</td>\n",
       "      <td>Windows Desktop</td>\n",
       "      <td>IE</td>\n",
       "      <td>US</td>\n",
       "      <td>2014</td>\n",
       "      <td>2014-07-02</td>\n",
       "      <td>2014</td>\n",
       "      <td>7</td>\n",
       "      <td>2</td>\n",
       "      <td>27</td>\n",
       "    </tr>\n",
       "  </tbody>\n",
       "</table>\n",
       "<p>77534 rows × 22 columns</p>\n",
       "</div>\n",
       "      <button class=\"colab-df-convert\" onclick=\"convertToInteractive('df-1adb9eda-f96f-4fb8-9434-1b87cb601e8e')\"\n",
       "              title=\"Convert this dataframe to an interactive table.\"\n",
       "              style=\"display:none;\">\n",
       "        \n",
       "  <svg xmlns=\"http://www.w3.org/2000/svg\" height=\"24px\"viewBox=\"0 0 24 24\"\n",
       "       width=\"24px\">\n",
       "    <path d=\"M0 0h24v24H0V0z\" fill=\"none\"/>\n",
       "    <path d=\"M18.56 5.44l.94 2.06.94-2.06 2.06-.94-2.06-.94-.94-2.06-.94 2.06-2.06.94zm-11 1L8.5 8.5l.94-2.06 2.06-.94-2.06-.94L8.5 2.5l-.94 2.06-2.06.94zm10 10l.94 2.06.94-2.06 2.06-.94-2.06-.94-.94-2.06-.94 2.06-2.06.94z\"/><path d=\"M17.41 7.96l-1.37-1.37c-.4-.4-.92-.59-1.43-.59-.52 0-1.04.2-1.43.59L10.3 9.45l-7.72 7.72c-.78.78-.78 2.05 0 2.83L4 21.41c.39.39.9.59 1.41.59.51 0 1.02-.2 1.41-.59l7.78-7.78 2.81-2.81c.8-.78.8-2.07 0-2.86zM5.41 20L4 18.59l7.72-7.72 1.47 1.35L5.41 20z\"/>\n",
       "  </svg>\n",
       "      </button>\n",
       "      \n",
       "  <style>\n",
       "    .colab-df-container {\n",
       "      display:flex;\n",
       "      flex-wrap:wrap;\n",
       "      gap: 12px;\n",
       "    }\n",
       "\n",
       "    .colab-df-convert {\n",
       "      background-color: #E8F0FE;\n",
       "      border: none;\n",
       "      border-radius: 50%;\n",
       "      cursor: pointer;\n",
       "      display: none;\n",
       "      fill: #1967D2;\n",
       "      height: 32px;\n",
       "      padding: 0 0 0 0;\n",
       "      width: 32px;\n",
       "    }\n",
       "\n",
       "    .colab-df-convert:hover {\n",
       "      background-color: #E2EBFA;\n",
       "      box-shadow: 0px 1px 2px rgba(60, 64, 67, 0.3), 0px 1px 3px 1px rgba(60, 64, 67, 0.15);\n",
       "      fill: #174EA6;\n",
       "    }\n",
       "\n",
       "    [theme=dark] .colab-df-convert {\n",
       "      background-color: #3B4455;\n",
       "      fill: #D2E3FC;\n",
       "    }\n",
       "\n",
       "    [theme=dark] .colab-df-convert:hover {\n",
       "      background-color: #434B5C;\n",
       "      box-shadow: 0px 1px 3px 1px rgba(0, 0, 0, 0.15);\n",
       "      filter: drop-shadow(0px 1px 2px rgba(0, 0, 0, 0.3));\n",
       "      fill: #FFFFFF;\n",
       "    }\n",
       "  </style>\n",
       "\n",
       "      <script>\n",
       "        const buttonEl =\n",
       "          document.querySelector('#df-1adb9eda-f96f-4fb8-9434-1b87cb601e8e button.colab-df-convert');\n",
       "        buttonEl.style.display =\n",
       "          google.colab.kernel.accessAllowed ? 'block' : 'none';\n",
       "\n",
       "        async function convertToInteractive(key) {\n",
       "          const element = document.querySelector('#df-1adb9eda-f96f-4fb8-9434-1b87cb601e8e');\n",
       "          const dataTable =\n",
       "            await google.colab.kernel.invokeFunction('convertToInteractive',\n",
       "                                                     [key], {});\n",
       "          if (!dataTable) return;\n",
       "\n",
       "          const docLinkHtml = 'Like what you see? Visit the ' +\n",
       "            '<a target=\"_blank\" href=https://colab.research.google.com/notebooks/data_table.ipynb>data table notebook</a>'\n",
       "            + ' to learn more about interactive tables.';\n",
       "          element.innerHTML = '';\n",
       "          dataTable['output_type'] = 'display_data';\n",
       "          await google.colab.output.renderOutput(dataTable, element);\n",
       "          const docLink = document.createElement('div');\n",
       "          docLink.innerHTML = docLinkHtml;\n",
       "          element.appendChild(docLink);\n",
       "        }\n",
       "      </script>\n",
       "    </div>\n",
       "  </div>\n",
       "  "
      ],
      "text/plain": [
       "                id date_account_created timestamp_first_active  \\\n",
       "2       4ft3gnwmtx           2010-09-28    2009-06-09 23:12:47   \n",
       "4       87mebub9p4           2010-09-14    2009-12-08 06:11:05   \n",
       "5       osr2jwljor           2010-01-01    2010-01-01 21:56:19   \n",
       "6       lsw9q7uk0j           2010-01-02    2010-01-02 01:25:58   \n",
       "7       0d01nltbrs           2010-01-03    2010-01-03 19:19:05   \n",
       "...            ...                  ...                    ...   \n",
       "213415  7plqriggxp           2014-06-30    2014-06-30 23:01:36   \n",
       "213439  msucfwmlzc           2014-06-30    2014-06-30 23:47:29   \n",
       "213441  omlc9iku7t           2014-06-30    2014-06-30 23:51:51   \n",
       "213443  0k26r3mir0           2014-06-30    2014-06-30 23:53:40   \n",
       "213445  qbxza0xojf           2014-06-30    2014-06-30 23:55:47   \n",
       "\n",
       "       date_first_booking  gender   age signup_method  signup_flow language  \\\n",
       "2              2010-08-02  FEMALE  56.0         basic            3       en   \n",
       "4              2010-02-18  FEMALE  41.0         basic            0       en   \n",
       "5              2010-01-02  FEMALE  33.0         basic            0       en   \n",
       "6              2010-01-05  FEMALE  46.0         basic            0       en   \n",
       "7              2010-01-13  FEMALE  47.0         basic            0       en   \n",
       "...                   ...     ...   ...           ...          ...      ...   \n",
       "213415         2014-06-30  FEMALE  55.0         basic            0       en   \n",
       "213439         2015-03-16    MALE  43.0         basic            0       en   \n",
       "213441         2014-08-13  FEMALE  34.0         basic            0       en   \n",
       "213443         2014-07-13  FEMALE  36.0         basic            0       en   \n",
       "213445         2014-07-02  FEMALE  23.0         basic            0       en   \n",
       "\n",
       "       affiliate_channel  ... signup_app first_device_type first_browser  \\\n",
       "2                 direct  ...        Web   Windows Desktop            IE   \n",
       "4                 direct  ...        Web       Mac Desktop        Chrome   \n",
       "5                  other  ...        Web       Mac Desktop        Chrome   \n",
       "6                  other  ...        Web       Mac Desktop        Safari   \n",
       "7                 direct  ...        Web       Mac Desktop        Safari   \n",
       "...                  ...  ...        ...               ...           ...   \n",
       "213415         sem-brand  ...        Web    Android Tablet            IE   \n",
       "213439            direct  ...        Web   Windows Desktop       Firefox   \n",
       "213441            direct  ...        Web       Mac Desktop        Chrome   \n",
       "213443         sem-brand  ...        Web       Mac Desktop        Safari   \n",
       "213445         sem-brand  ...        Web   Windows Desktop            IE   \n",
       "\n",
       "       country_destination  year       Date  Year Month  Day  WeekOfYear  \n",
       "2                       US  2010 2010-08-02  2010     8    2          31  \n",
       "4                       US  2010 2010-02-18  2010     2   18           7  \n",
       "5                       US  2010 2010-01-02  2010     1    2          53  \n",
       "6                       US  2010 2010-01-05  2010     1    5           1  \n",
       "7                       US  2010 2010-01-13  2010     1   13           2  \n",
       "...                    ...   ...        ...   ...   ...  ...         ...  \n",
       "213415                  FR  2014 2014-06-30  2014     6   30          27  \n",
       "213439                  US  2014 2015-03-16  2015     3   16          12  \n",
       "213441                  ES  2014 2014-08-13  2014     8   13          33  \n",
       "213443                  US  2014 2014-07-13  2014     7   13          28  \n",
       "213445                  US  2014 2014-07-02  2014     7    2          27  \n",
       "\n",
       "[77534 rows x 22 columns]"
      ]
     },
     "execution_count": 300,
     "metadata": {},
     "output_type": "execute_result"
    }
   ],
   "source": [
    "new_df"
   ]
  },
  {
   "cell_type": "code",
   "execution_count": 301,
   "metadata": {
    "executionInfo": {
     "elapsed": 49,
     "status": "ok",
     "timestamp": 1660167049997,
     "user": {
      "displayName": "dibya jyoti",
      "userId": "13905139023208611565"
     },
     "user_tz": -330
    },
    "id": "UBx7WCw5CITb"
   },
   "outputs": [],
   "source": [
    "new_df['timestamp_first_active'] = pd.to_datetime(new_df['timestamp_first_active'])\n",
    "    "
   ]
  },
  {
   "cell_type": "code",
   "execution_count": 302,
   "metadata": {
    "colab": {
     "base_uri": "https://localhost:8080/",
     "height": 661
    },
    "executionInfo": {
     "elapsed": 50,
     "status": "ok",
     "timestamp": 1660167049999,
     "user": {
      "displayName": "dibya jyoti",
      "userId": "13905139023208611565"
     },
     "user_tz": -330
    },
    "id": "jcZPlckMCITc",
    "outputId": "d3c7d2dc-da81-4ae3-a822-1d2c162a1e96"
   },
   "outputs": [
    {
     "data": {
      "text/html": [
       "\n",
       "  <div id=\"df-bd811900-3666-4c90-aaf2-662d1c189425\">\n",
       "    <div class=\"colab-df-container\">\n",
       "      <div>\n",
       "<style scoped>\n",
       "    .dataframe tbody tr th:only-of-type {\n",
       "        vertical-align: middle;\n",
       "    }\n",
       "\n",
       "    .dataframe tbody tr th {\n",
       "        vertical-align: top;\n",
       "    }\n",
       "\n",
       "    .dataframe thead th {\n",
       "        text-align: right;\n",
       "    }\n",
       "</style>\n",
       "<table border=\"1\" class=\"dataframe\">\n",
       "  <thead>\n",
       "    <tr style=\"text-align: right;\">\n",
       "      <th></th>\n",
       "      <th>id</th>\n",
       "      <th>date_account_created</th>\n",
       "      <th>timestamp_first_active</th>\n",
       "      <th>date_first_booking</th>\n",
       "      <th>gender</th>\n",
       "      <th>age</th>\n",
       "      <th>signup_method</th>\n",
       "      <th>signup_flow</th>\n",
       "      <th>language</th>\n",
       "      <th>affiliate_channel</th>\n",
       "      <th>...</th>\n",
       "      <th>signup_app</th>\n",
       "      <th>first_device_type</th>\n",
       "      <th>first_browser</th>\n",
       "      <th>country_destination</th>\n",
       "      <th>year</th>\n",
       "      <th>Date</th>\n",
       "      <th>Year</th>\n",
       "      <th>Month</th>\n",
       "      <th>Day</th>\n",
       "      <th>WeekOfYear</th>\n",
       "    </tr>\n",
       "  </thead>\n",
       "  <tbody>\n",
       "    <tr>\n",
       "      <th>2</th>\n",
       "      <td>4ft3gnwmtx</td>\n",
       "      <td>2010-09-28</td>\n",
       "      <td>2009-06-09 23:12:47</td>\n",
       "      <td>2010-08-02</td>\n",
       "      <td>FEMALE</td>\n",
       "      <td>56.0</td>\n",
       "      <td>basic</td>\n",
       "      <td>3</td>\n",
       "      <td>en</td>\n",
       "      <td>direct</td>\n",
       "      <td>...</td>\n",
       "      <td>Web</td>\n",
       "      <td>Windows Desktop</td>\n",
       "      <td>IE</td>\n",
       "      <td>US</td>\n",
       "      <td>2010</td>\n",
       "      <td>2010-08-02</td>\n",
       "      <td>2010</td>\n",
       "      <td>8</td>\n",
       "      <td>2</td>\n",
       "      <td>31</td>\n",
       "    </tr>\n",
       "    <tr>\n",
       "      <th>4</th>\n",
       "      <td>87mebub9p4</td>\n",
       "      <td>2010-09-14</td>\n",
       "      <td>2009-12-08 06:11:05</td>\n",
       "      <td>2010-02-18</td>\n",
       "      <td>FEMALE</td>\n",
       "      <td>41.0</td>\n",
       "      <td>basic</td>\n",
       "      <td>0</td>\n",
       "      <td>en</td>\n",
       "      <td>direct</td>\n",
       "      <td>...</td>\n",
       "      <td>Web</td>\n",
       "      <td>Mac Desktop</td>\n",
       "      <td>Chrome</td>\n",
       "      <td>US</td>\n",
       "      <td>2010</td>\n",
       "      <td>2010-02-18</td>\n",
       "      <td>2010</td>\n",
       "      <td>2</td>\n",
       "      <td>18</td>\n",
       "      <td>7</td>\n",
       "    </tr>\n",
       "    <tr>\n",
       "      <th>5</th>\n",
       "      <td>osr2jwljor</td>\n",
       "      <td>2010-01-01</td>\n",
       "      <td>2010-01-01 21:56:19</td>\n",
       "      <td>2010-01-02</td>\n",
       "      <td>FEMALE</td>\n",
       "      <td>33.0</td>\n",
       "      <td>basic</td>\n",
       "      <td>0</td>\n",
       "      <td>en</td>\n",
       "      <td>other</td>\n",
       "      <td>...</td>\n",
       "      <td>Web</td>\n",
       "      <td>Mac Desktop</td>\n",
       "      <td>Chrome</td>\n",
       "      <td>US</td>\n",
       "      <td>2010</td>\n",
       "      <td>2010-01-02</td>\n",
       "      <td>2010</td>\n",
       "      <td>1</td>\n",
       "      <td>2</td>\n",
       "      <td>53</td>\n",
       "    </tr>\n",
       "    <tr>\n",
       "      <th>6</th>\n",
       "      <td>lsw9q7uk0j</td>\n",
       "      <td>2010-01-02</td>\n",
       "      <td>2010-01-02 01:25:58</td>\n",
       "      <td>2010-01-05</td>\n",
       "      <td>FEMALE</td>\n",
       "      <td>46.0</td>\n",
       "      <td>basic</td>\n",
       "      <td>0</td>\n",
       "      <td>en</td>\n",
       "      <td>other</td>\n",
       "      <td>...</td>\n",
       "      <td>Web</td>\n",
       "      <td>Mac Desktop</td>\n",
       "      <td>Safari</td>\n",
       "      <td>US</td>\n",
       "      <td>2010</td>\n",
       "      <td>2010-01-05</td>\n",
       "      <td>2010</td>\n",
       "      <td>1</td>\n",
       "      <td>5</td>\n",
       "      <td>1</td>\n",
       "    </tr>\n",
       "    <tr>\n",
       "      <th>7</th>\n",
       "      <td>0d01nltbrs</td>\n",
       "      <td>2010-01-03</td>\n",
       "      <td>2010-01-03 19:19:05</td>\n",
       "      <td>2010-01-13</td>\n",
       "      <td>FEMALE</td>\n",
       "      <td>47.0</td>\n",
       "      <td>basic</td>\n",
       "      <td>0</td>\n",
       "      <td>en</td>\n",
       "      <td>direct</td>\n",
       "      <td>...</td>\n",
       "      <td>Web</td>\n",
       "      <td>Mac Desktop</td>\n",
       "      <td>Safari</td>\n",
       "      <td>US</td>\n",
       "      <td>2010</td>\n",
       "      <td>2010-01-13</td>\n",
       "      <td>2010</td>\n",
       "      <td>1</td>\n",
       "      <td>13</td>\n",
       "      <td>2</td>\n",
       "    </tr>\n",
       "    <tr>\n",
       "      <th>...</th>\n",
       "      <td>...</td>\n",
       "      <td>...</td>\n",
       "      <td>...</td>\n",
       "      <td>...</td>\n",
       "      <td>...</td>\n",
       "      <td>...</td>\n",
       "      <td>...</td>\n",
       "      <td>...</td>\n",
       "      <td>...</td>\n",
       "      <td>...</td>\n",
       "      <td>...</td>\n",
       "      <td>...</td>\n",
       "      <td>...</td>\n",
       "      <td>...</td>\n",
       "      <td>...</td>\n",
       "      <td>...</td>\n",
       "      <td>...</td>\n",
       "      <td>...</td>\n",
       "      <td>...</td>\n",
       "      <td>...</td>\n",
       "      <td>...</td>\n",
       "    </tr>\n",
       "    <tr>\n",
       "      <th>213415</th>\n",
       "      <td>7plqriggxp</td>\n",
       "      <td>2014-06-30</td>\n",
       "      <td>2014-06-30 23:01:36</td>\n",
       "      <td>2014-06-30</td>\n",
       "      <td>FEMALE</td>\n",
       "      <td>55.0</td>\n",
       "      <td>basic</td>\n",
       "      <td>0</td>\n",
       "      <td>en</td>\n",
       "      <td>sem-brand</td>\n",
       "      <td>...</td>\n",
       "      <td>Web</td>\n",
       "      <td>Android Tablet</td>\n",
       "      <td>IE</td>\n",
       "      <td>FR</td>\n",
       "      <td>2014</td>\n",
       "      <td>2014-06-30</td>\n",
       "      <td>2014</td>\n",
       "      <td>6</td>\n",
       "      <td>30</td>\n",
       "      <td>27</td>\n",
       "    </tr>\n",
       "    <tr>\n",
       "      <th>213439</th>\n",
       "      <td>msucfwmlzc</td>\n",
       "      <td>2014-06-30</td>\n",
       "      <td>2014-06-30 23:47:29</td>\n",
       "      <td>2015-03-16</td>\n",
       "      <td>MALE</td>\n",
       "      <td>43.0</td>\n",
       "      <td>basic</td>\n",
       "      <td>0</td>\n",
       "      <td>en</td>\n",
       "      <td>direct</td>\n",
       "      <td>...</td>\n",
       "      <td>Web</td>\n",
       "      <td>Windows Desktop</td>\n",
       "      <td>Firefox</td>\n",
       "      <td>US</td>\n",
       "      <td>2014</td>\n",
       "      <td>2015-03-16</td>\n",
       "      <td>2015</td>\n",
       "      <td>3</td>\n",
       "      <td>16</td>\n",
       "      <td>12</td>\n",
       "    </tr>\n",
       "    <tr>\n",
       "      <th>213441</th>\n",
       "      <td>omlc9iku7t</td>\n",
       "      <td>2014-06-30</td>\n",
       "      <td>2014-06-30 23:51:51</td>\n",
       "      <td>2014-08-13</td>\n",
       "      <td>FEMALE</td>\n",
       "      <td>34.0</td>\n",
       "      <td>basic</td>\n",
       "      <td>0</td>\n",
       "      <td>en</td>\n",
       "      <td>direct</td>\n",
       "      <td>...</td>\n",
       "      <td>Web</td>\n",
       "      <td>Mac Desktop</td>\n",
       "      <td>Chrome</td>\n",
       "      <td>ES</td>\n",
       "      <td>2014</td>\n",
       "      <td>2014-08-13</td>\n",
       "      <td>2014</td>\n",
       "      <td>8</td>\n",
       "      <td>13</td>\n",
       "      <td>33</td>\n",
       "    </tr>\n",
       "    <tr>\n",
       "      <th>213443</th>\n",
       "      <td>0k26r3mir0</td>\n",
       "      <td>2014-06-30</td>\n",
       "      <td>2014-06-30 23:53:40</td>\n",
       "      <td>2014-07-13</td>\n",
       "      <td>FEMALE</td>\n",
       "      <td>36.0</td>\n",
       "      <td>basic</td>\n",
       "      <td>0</td>\n",
       "      <td>en</td>\n",
       "      <td>sem-brand</td>\n",
       "      <td>...</td>\n",
       "      <td>Web</td>\n",
       "      <td>Mac Desktop</td>\n",
       "      <td>Safari</td>\n",
       "      <td>US</td>\n",
       "      <td>2014</td>\n",
       "      <td>2014-07-13</td>\n",
       "      <td>2014</td>\n",
       "      <td>7</td>\n",
       "      <td>13</td>\n",
       "      <td>28</td>\n",
       "    </tr>\n",
       "    <tr>\n",
       "      <th>213445</th>\n",
       "      <td>qbxza0xojf</td>\n",
       "      <td>2014-06-30</td>\n",
       "      <td>2014-06-30 23:55:47</td>\n",
       "      <td>2014-07-02</td>\n",
       "      <td>FEMALE</td>\n",
       "      <td>23.0</td>\n",
       "      <td>basic</td>\n",
       "      <td>0</td>\n",
       "      <td>en</td>\n",
       "      <td>sem-brand</td>\n",
       "      <td>...</td>\n",
       "      <td>Web</td>\n",
       "      <td>Windows Desktop</td>\n",
       "      <td>IE</td>\n",
       "      <td>US</td>\n",
       "      <td>2014</td>\n",
       "      <td>2014-07-02</td>\n",
       "      <td>2014</td>\n",
       "      <td>7</td>\n",
       "      <td>2</td>\n",
       "      <td>27</td>\n",
       "    </tr>\n",
       "  </tbody>\n",
       "</table>\n",
       "<p>77534 rows × 22 columns</p>\n",
       "</div>\n",
       "      <button class=\"colab-df-convert\" onclick=\"convertToInteractive('df-bd811900-3666-4c90-aaf2-662d1c189425')\"\n",
       "              title=\"Convert this dataframe to an interactive table.\"\n",
       "              style=\"display:none;\">\n",
       "        \n",
       "  <svg xmlns=\"http://www.w3.org/2000/svg\" height=\"24px\"viewBox=\"0 0 24 24\"\n",
       "       width=\"24px\">\n",
       "    <path d=\"M0 0h24v24H0V0z\" fill=\"none\"/>\n",
       "    <path d=\"M18.56 5.44l.94 2.06.94-2.06 2.06-.94-2.06-.94-.94-2.06-.94 2.06-2.06.94zm-11 1L8.5 8.5l.94-2.06 2.06-.94-2.06-.94L8.5 2.5l-.94 2.06-2.06.94zm10 10l.94 2.06.94-2.06 2.06-.94-2.06-.94-.94-2.06-.94 2.06-2.06.94z\"/><path d=\"M17.41 7.96l-1.37-1.37c-.4-.4-.92-.59-1.43-.59-.52 0-1.04.2-1.43.59L10.3 9.45l-7.72 7.72c-.78.78-.78 2.05 0 2.83L4 21.41c.39.39.9.59 1.41.59.51 0 1.02-.2 1.41-.59l7.78-7.78 2.81-2.81c.8-.78.8-2.07 0-2.86zM5.41 20L4 18.59l7.72-7.72 1.47 1.35L5.41 20z\"/>\n",
       "  </svg>\n",
       "      </button>\n",
       "      \n",
       "  <style>\n",
       "    .colab-df-container {\n",
       "      display:flex;\n",
       "      flex-wrap:wrap;\n",
       "      gap: 12px;\n",
       "    }\n",
       "\n",
       "    .colab-df-convert {\n",
       "      background-color: #E8F0FE;\n",
       "      border: none;\n",
       "      border-radius: 50%;\n",
       "      cursor: pointer;\n",
       "      display: none;\n",
       "      fill: #1967D2;\n",
       "      height: 32px;\n",
       "      padding: 0 0 0 0;\n",
       "      width: 32px;\n",
       "    }\n",
       "\n",
       "    .colab-df-convert:hover {\n",
       "      background-color: #E2EBFA;\n",
       "      box-shadow: 0px 1px 2px rgba(60, 64, 67, 0.3), 0px 1px 3px 1px rgba(60, 64, 67, 0.15);\n",
       "      fill: #174EA6;\n",
       "    }\n",
       "\n",
       "    [theme=dark] .colab-df-convert {\n",
       "      background-color: #3B4455;\n",
       "      fill: #D2E3FC;\n",
       "    }\n",
       "\n",
       "    [theme=dark] .colab-df-convert:hover {\n",
       "      background-color: #434B5C;\n",
       "      box-shadow: 0px 1px 3px 1px rgba(0, 0, 0, 0.15);\n",
       "      filter: drop-shadow(0px 1px 2px rgba(0, 0, 0, 0.3));\n",
       "      fill: #FFFFFF;\n",
       "    }\n",
       "  </style>\n",
       "\n",
       "      <script>\n",
       "        const buttonEl =\n",
       "          document.querySelector('#df-bd811900-3666-4c90-aaf2-662d1c189425 button.colab-df-convert');\n",
       "        buttonEl.style.display =\n",
       "          google.colab.kernel.accessAllowed ? 'block' : 'none';\n",
       "\n",
       "        async function convertToInteractive(key) {\n",
       "          const element = document.querySelector('#df-bd811900-3666-4c90-aaf2-662d1c189425');\n",
       "          const dataTable =\n",
       "            await google.colab.kernel.invokeFunction('convertToInteractive',\n",
       "                                                     [key], {});\n",
       "          if (!dataTable) return;\n",
       "\n",
       "          const docLinkHtml = 'Like what you see? Visit the ' +\n",
       "            '<a target=\"_blank\" href=https://colab.research.google.com/notebooks/data_table.ipynb>data table notebook</a>'\n",
       "            + ' to learn more about interactive tables.';\n",
       "          element.innerHTML = '';\n",
       "          dataTable['output_type'] = 'display_data';\n",
       "          await google.colab.output.renderOutput(dataTable, element);\n",
       "          const docLink = document.createElement('div');\n",
       "          docLink.innerHTML = docLinkHtml;\n",
       "          element.appendChild(docLink);\n",
       "        }\n",
       "      </script>\n",
       "    </div>\n",
       "  </div>\n",
       "  "
      ],
      "text/plain": [
       "                id date_account_created timestamp_first_active  \\\n",
       "2       4ft3gnwmtx           2010-09-28    2009-06-09 23:12:47   \n",
       "4       87mebub9p4           2010-09-14    2009-12-08 06:11:05   \n",
       "5       osr2jwljor           2010-01-01    2010-01-01 21:56:19   \n",
       "6       lsw9q7uk0j           2010-01-02    2010-01-02 01:25:58   \n",
       "7       0d01nltbrs           2010-01-03    2010-01-03 19:19:05   \n",
       "...            ...                  ...                    ...   \n",
       "213415  7plqriggxp           2014-06-30    2014-06-30 23:01:36   \n",
       "213439  msucfwmlzc           2014-06-30    2014-06-30 23:47:29   \n",
       "213441  omlc9iku7t           2014-06-30    2014-06-30 23:51:51   \n",
       "213443  0k26r3mir0           2014-06-30    2014-06-30 23:53:40   \n",
       "213445  qbxza0xojf           2014-06-30    2014-06-30 23:55:47   \n",
       "\n",
       "       date_first_booking  gender   age signup_method  signup_flow language  \\\n",
       "2              2010-08-02  FEMALE  56.0         basic            3       en   \n",
       "4              2010-02-18  FEMALE  41.0         basic            0       en   \n",
       "5              2010-01-02  FEMALE  33.0         basic            0       en   \n",
       "6              2010-01-05  FEMALE  46.0         basic            0       en   \n",
       "7              2010-01-13  FEMALE  47.0         basic            0       en   \n",
       "...                   ...     ...   ...           ...          ...      ...   \n",
       "213415         2014-06-30  FEMALE  55.0         basic            0       en   \n",
       "213439         2015-03-16    MALE  43.0         basic            0       en   \n",
       "213441         2014-08-13  FEMALE  34.0         basic            0       en   \n",
       "213443         2014-07-13  FEMALE  36.0         basic            0       en   \n",
       "213445         2014-07-02  FEMALE  23.0         basic            0       en   \n",
       "\n",
       "       affiliate_channel  ... signup_app first_device_type first_browser  \\\n",
       "2                 direct  ...        Web   Windows Desktop            IE   \n",
       "4                 direct  ...        Web       Mac Desktop        Chrome   \n",
       "5                  other  ...        Web       Mac Desktop        Chrome   \n",
       "6                  other  ...        Web       Mac Desktop        Safari   \n",
       "7                 direct  ...        Web       Mac Desktop        Safari   \n",
       "...                  ...  ...        ...               ...           ...   \n",
       "213415         sem-brand  ...        Web    Android Tablet            IE   \n",
       "213439            direct  ...        Web   Windows Desktop       Firefox   \n",
       "213441            direct  ...        Web       Mac Desktop        Chrome   \n",
       "213443         sem-brand  ...        Web       Mac Desktop        Safari   \n",
       "213445         sem-brand  ...        Web   Windows Desktop            IE   \n",
       "\n",
       "       country_destination  year       Date  Year Month  Day  WeekOfYear  \n",
       "2                       US  2010 2010-08-02  2010     8    2          31  \n",
       "4                       US  2010 2010-02-18  2010     2   18           7  \n",
       "5                       US  2010 2010-01-02  2010     1    2          53  \n",
       "6                       US  2010 2010-01-05  2010     1    5           1  \n",
       "7                       US  2010 2010-01-13  2010     1   13           2  \n",
       "...                    ...   ...        ...   ...   ...  ...         ...  \n",
       "213415                  FR  2014 2014-06-30  2014     6   30          27  \n",
       "213439                  US  2014 2015-03-16  2015     3   16          12  \n",
       "213441                  ES  2014 2014-08-13  2014     8   13          33  \n",
       "213443                  US  2014 2014-07-13  2014     7   13          28  \n",
       "213445                  US  2014 2014-07-02  2014     7    2          27  \n",
       "\n",
       "[77534 rows x 22 columns]"
      ]
     },
     "execution_count": 302,
     "metadata": {},
     "output_type": "execute_result"
    }
   ],
   "source": [
    "new_df"
   ]
  },
  {
   "cell_type": "code",
   "execution_count": 303,
   "metadata": {
    "colab": {
     "base_uri": "https://localhost:8080/"
    },
    "executionInfo": {
     "elapsed": 49,
     "status": "ok",
     "timestamp": 1660167050001,
     "user": {
      "displayName": "dibya jyoti",
      "userId": "13905139023208611565"
     },
     "user_tz": -330
    },
    "id": "uuQ5HTG7CITc",
    "outputId": "053bc84d-4cee-4bb4-97d9-0d248f9ada16"
   },
   "outputs": [
    {
     "name": "stdout",
     "output_type": "stream",
     "text": [
      "<class 'pandas.core.frame.DataFrame'>\n",
      "Int64Index: 77534 entries, 2 to 213445\n",
      "Data columns (total 22 columns):\n",
      " #   Column                   Non-Null Count  Dtype         \n",
      "---  ------                   --------------  -----         \n",
      " 0   id                       77534 non-null  object        \n",
      " 1   date_account_created     77534 non-null  datetime64[ns]\n",
      " 2   timestamp_first_active   77534 non-null  datetime64[ns]\n",
      " 3   date_first_booking       77534 non-null  object        \n",
      " 4   gender                   77534 non-null  object        \n",
      " 5   age                      77534 non-null  float64       \n",
      " 6   signup_method            77534 non-null  object        \n",
      " 7   signup_flow              77534 non-null  int64         \n",
      " 8   language                 77534 non-null  object        \n",
      " 9   affiliate_channel        77534 non-null  object        \n",
      " 10  affiliate_provider       77534 non-null  object        \n",
      " 11  first_affiliate_tracked  75918 non-null  object        \n",
      " 12  signup_app               77534 non-null  object        \n",
      " 13  first_device_type        77534 non-null  object        \n",
      " 14  first_browser            77534 non-null  object        \n",
      " 15  country_destination      77534 non-null  object        \n",
      " 16  year                     77534 non-null  int64         \n",
      " 17  Date                     77534 non-null  datetime64[ns]\n",
      " 18  Year                     77534 non-null  int64         \n",
      " 19  Month                    77534 non-null  int64         \n",
      " 20  Day                      77534 non-null  int64         \n",
      " 21  WeekOfYear               77534 non-null  UInt32        \n",
      "dtypes: UInt32(1), datetime64[ns](3), float64(1), int64(5), object(12)\n",
      "memory usage: 15.4+ MB\n"
     ]
    }
   ],
   "source": [
    "new_df.info()"
   ]
  },
  {
   "cell_type": "code",
   "execution_count": 304,
   "metadata": {
    "executionInfo": {
     "elapsed": 40,
     "status": "ok",
     "timestamp": 1660167050002,
     "user": {
      "displayName": "dibya jyoti",
      "userId": "13905139023208611565"
     },
     "user_tz": -330
    },
    "id": "a0DU7raACITc"
   },
   "outputs": [],
   "source": [
    "new_df['date_first_booking']= pd.to_datetime(new_df['date_first_booking'])"
   ]
  },
  {
   "cell_type": "code",
   "execution_count": 305,
   "metadata": {
    "executionInfo": {
     "elapsed": 41,
     "status": "ok",
     "timestamp": 1660167050004,
     "user": {
      "displayName": "dibya jyoti",
      "userId": "13905139023208611565"
     },
     "user_tz": -330
    },
    "id": "HYiPQmhUCITd"
   },
   "outputs": [],
   "source": [
    "new_df['elapsed_time'] = (new_df['date_first_booking'] - new_df['timestamp_first_active']).dt.total_seconds().abs()"
   ]
  },
  {
   "cell_type": "markdown",
   "metadata": {
    "id": "Yd6yC98upAwV"
   },
   "source": [
    "Total time taken to decide the destination may be crucial"
   ]
  },
  {
   "cell_type": "code",
   "execution_count": 306,
   "metadata": {
    "colab": {
     "base_uri": "https://localhost:8080/"
    },
    "executionInfo": {
     "elapsed": 42,
     "status": "ok",
     "timestamp": 1660167050006,
     "user": {
      "displayName": "dibya jyoti",
      "userId": "13905139023208611565"
     },
     "user_tz": -330
    },
    "id": "KwdCzcHYCITd",
    "outputId": "bf9bed19-34a8-4668-e5a4-ffcb311ee3c3"
   },
   "outputs": [
    {
     "data": {
      "text/plain": [
       "count    7.753400e+04\n",
       "mean     3.804980e+06\n",
       "std      7.632904e+06\n",
       "min      1.000000e+00\n",
       "25%      3.728550e+04\n",
       "50%      1.878625e+05\n",
       "75%      2.413694e+06\n",
       "max      1.182188e+08\n",
       "Name: elapsed_time, dtype: float64"
      ]
     },
     "execution_count": 306,
     "metadata": {},
     "output_type": "execute_result"
    }
   ],
   "source": [
    "new_df['elapsed_time'].describe()"
   ]
  },
  {
   "cell_type": "code",
   "execution_count": 307,
   "metadata": {
    "colab": {
     "base_uri": "https://localhost:8080/",
     "height": 661
    },
    "executionInfo": {
     "elapsed": 40,
     "status": "ok",
     "timestamp": 1660167050011,
     "user": {
      "displayName": "dibya jyoti",
      "userId": "13905139023208611565"
     },
     "user_tz": -330
    },
    "id": "HBx2Js4ZCITd",
    "outputId": "09ff1836-abd3-4d54-e776-74ec0fe1a3b1"
   },
   "outputs": [
    {
     "data": {
      "text/html": [
       "\n",
       "  <div id=\"df-ed41ccfa-84aa-460f-8338-59edd8e30aac\">\n",
       "    <div class=\"colab-df-container\">\n",
       "      <div>\n",
       "<style scoped>\n",
       "    .dataframe tbody tr th:only-of-type {\n",
       "        vertical-align: middle;\n",
       "    }\n",
       "\n",
       "    .dataframe tbody tr th {\n",
       "        vertical-align: top;\n",
       "    }\n",
       "\n",
       "    .dataframe thead th {\n",
       "        text-align: right;\n",
       "    }\n",
       "</style>\n",
       "<table border=\"1\" class=\"dataframe\">\n",
       "  <thead>\n",
       "    <tr style=\"text-align: right;\">\n",
       "      <th></th>\n",
       "      <th>id</th>\n",
       "      <th>date_account_created</th>\n",
       "      <th>timestamp_first_active</th>\n",
       "      <th>date_first_booking</th>\n",
       "      <th>gender</th>\n",
       "      <th>age</th>\n",
       "      <th>signup_method</th>\n",
       "      <th>signup_flow</th>\n",
       "      <th>language</th>\n",
       "      <th>affiliate_channel</th>\n",
       "      <th>...</th>\n",
       "      <th>first_device_type</th>\n",
       "      <th>first_browser</th>\n",
       "      <th>country_destination</th>\n",
       "      <th>year</th>\n",
       "      <th>Date</th>\n",
       "      <th>Year</th>\n",
       "      <th>Month</th>\n",
       "      <th>Day</th>\n",
       "      <th>WeekOfYear</th>\n",
       "      <th>elapsed_time</th>\n",
       "    </tr>\n",
       "  </thead>\n",
       "  <tbody>\n",
       "    <tr>\n",
       "      <th>2</th>\n",
       "      <td>4ft3gnwmtx</td>\n",
       "      <td>2010-09-28</td>\n",
       "      <td>2009-06-09 23:12:47</td>\n",
       "      <td>2010-08-02</td>\n",
       "      <td>FEMALE</td>\n",
       "      <td>56.0</td>\n",
       "      <td>basic</td>\n",
       "      <td>3</td>\n",
       "      <td>en</td>\n",
       "      <td>direct</td>\n",
       "      <td>...</td>\n",
       "      <td>Windows Desktop</td>\n",
       "      <td>IE</td>\n",
       "      <td>US</td>\n",
       "      <td>2010</td>\n",
       "      <td>2010-08-02</td>\n",
       "      <td>2010</td>\n",
       "      <td>8</td>\n",
       "      <td>2</td>\n",
       "      <td>31</td>\n",
       "      <td>36118033.0</td>\n",
       "    </tr>\n",
       "    <tr>\n",
       "      <th>4</th>\n",
       "      <td>87mebub9p4</td>\n",
       "      <td>2010-09-14</td>\n",
       "      <td>2009-12-08 06:11:05</td>\n",
       "      <td>2010-02-18</td>\n",
       "      <td>FEMALE</td>\n",
       "      <td>41.0</td>\n",
       "      <td>basic</td>\n",
       "      <td>0</td>\n",
       "      <td>en</td>\n",
       "      <td>direct</td>\n",
       "      <td>...</td>\n",
       "      <td>Mac Desktop</td>\n",
       "      <td>Chrome</td>\n",
       "      <td>US</td>\n",
       "      <td>2010</td>\n",
       "      <td>2010-02-18</td>\n",
       "      <td>2010</td>\n",
       "      <td>2</td>\n",
       "      <td>18</td>\n",
       "      <td>7</td>\n",
       "      <td>6198535.0</td>\n",
       "    </tr>\n",
       "    <tr>\n",
       "      <th>5</th>\n",
       "      <td>osr2jwljor</td>\n",
       "      <td>2010-01-01</td>\n",
       "      <td>2010-01-01 21:56:19</td>\n",
       "      <td>2010-01-02</td>\n",
       "      <td>FEMALE</td>\n",
       "      <td>33.0</td>\n",
       "      <td>basic</td>\n",
       "      <td>0</td>\n",
       "      <td>en</td>\n",
       "      <td>other</td>\n",
       "      <td>...</td>\n",
       "      <td>Mac Desktop</td>\n",
       "      <td>Chrome</td>\n",
       "      <td>US</td>\n",
       "      <td>2010</td>\n",
       "      <td>2010-01-02</td>\n",
       "      <td>2010</td>\n",
       "      <td>1</td>\n",
       "      <td>2</td>\n",
       "      <td>53</td>\n",
       "      <td>7421.0</td>\n",
       "    </tr>\n",
       "    <tr>\n",
       "      <th>6</th>\n",
       "      <td>lsw9q7uk0j</td>\n",
       "      <td>2010-01-02</td>\n",
       "      <td>2010-01-02 01:25:58</td>\n",
       "      <td>2010-01-05</td>\n",
       "      <td>FEMALE</td>\n",
       "      <td>46.0</td>\n",
       "      <td>basic</td>\n",
       "      <td>0</td>\n",
       "      <td>en</td>\n",
       "      <td>other</td>\n",
       "      <td>...</td>\n",
       "      <td>Mac Desktop</td>\n",
       "      <td>Safari</td>\n",
       "      <td>US</td>\n",
       "      <td>2010</td>\n",
       "      <td>2010-01-05</td>\n",
       "      <td>2010</td>\n",
       "      <td>1</td>\n",
       "      <td>5</td>\n",
       "      <td>1</td>\n",
       "      <td>254042.0</td>\n",
       "    </tr>\n",
       "    <tr>\n",
       "      <th>7</th>\n",
       "      <td>0d01nltbrs</td>\n",
       "      <td>2010-01-03</td>\n",
       "      <td>2010-01-03 19:19:05</td>\n",
       "      <td>2010-01-13</td>\n",
       "      <td>FEMALE</td>\n",
       "      <td>47.0</td>\n",
       "      <td>basic</td>\n",
       "      <td>0</td>\n",
       "      <td>en</td>\n",
       "      <td>direct</td>\n",
       "      <td>...</td>\n",
       "      <td>Mac Desktop</td>\n",
       "      <td>Safari</td>\n",
       "      <td>US</td>\n",
       "      <td>2010</td>\n",
       "      <td>2010-01-13</td>\n",
       "      <td>2010</td>\n",
       "      <td>1</td>\n",
       "      <td>13</td>\n",
       "      <td>2</td>\n",
       "      <td>794455.0</td>\n",
       "    </tr>\n",
       "    <tr>\n",
       "      <th>...</th>\n",
       "      <td>...</td>\n",
       "      <td>...</td>\n",
       "      <td>...</td>\n",
       "      <td>...</td>\n",
       "      <td>...</td>\n",
       "      <td>...</td>\n",
       "      <td>...</td>\n",
       "      <td>...</td>\n",
       "      <td>...</td>\n",
       "      <td>...</td>\n",
       "      <td>...</td>\n",
       "      <td>...</td>\n",
       "      <td>...</td>\n",
       "      <td>...</td>\n",
       "      <td>...</td>\n",
       "      <td>...</td>\n",
       "      <td>...</td>\n",
       "      <td>...</td>\n",
       "      <td>...</td>\n",
       "      <td>...</td>\n",
       "      <td>...</td>\n",
       "    </tr>\n",
       "    <tr>\n",
       "      <th>213415</th>\n",
       "      <td>7plqriggxp</td>\n",
       "      <td>2014-06-30</td>\n",
       "      <td>2014-06-30 23:01:36</td>\n",
       "      <td>2014-06-30</td>\n",
       "      <td>FEMALE</td>\n",
       "      <td>55.0</td>\n",
       "      <td>basic</td>\n",
       "      <td>0</td>\n",
       "      <td>en</td>\n",
       "      <td>sem-brand</td>\n",
       "      <td>...</td>\n",
       "      <td>Android Tablet</td>\n",
       "      <td>IE</td>\n",
       "      <td>FR</td>\n",
       "      <td>2014</td>\n",
       "      <td>2014-06-30</td>\n",
       "      <td>2014</td>\n",
       "      <td>6</td>\n",
       "      <td>30</td>\n",
       "      <td>27</td>\n",
       "      <td>82896.0</td>\n",
       "    </tr>\n",
       "    <tr>\n",
       "      <th>213439</th>\n",
       "      <td>msucfwmlzc</td>\n",
       "      <td>2014-06-30</td>\n",
       "      <td>2014-06-30 23:47:29</td>\n",
       "      <td>2015-03-16</td>\n",
       "      <td>MALE</td>\n",
       "      <td>43.0</td>\n",
       "      <td>basic</td>\n",
       "      <td>0</td>\n",
       "      <td>en</td>\n",
       "      <td>direct</td>\n",
       "      <td>...</td>\n",
       "      <td>Windows Desktop</td>\n",
       "      <td>Firefox</td>\n",
       "      <td>US</td>\n",
       "      <td>2014</td>\n",
       "      <td>2015-03-16</td>\n",
       "      <td>2015</td>\n",
       "      <td>3</td>\n",
       "      <td>16</td>\n",
       "      <td>12</td>\n",
       "      <td>22291951.0</td>\n",
       "    </tr>\n",
       "    <tr>\n",
       "      <th>213441</th>\n",
       "      <td>omlc9iku7t</td>\n",
       "      <td>2014-06-30</td>\n",
       "      <td>2014-06-30 23:51:51</td>\n",
       "      <td>2014-08-13</td>\n",
       "      <td>FEMALE</td>\n",
       "      <td>34.0</td>\n",
       "      <td>basic</td>\n",
       "      <td>0</td>\n",
       "      <td>en</td>\n",
       "      <td>direct</td>\n",
       "      <td>...</td>\n",
       "      <td>Mac Desktop</td>\n",
       "      <td>Chrome</td>\n",
       "      <td>ES</td>\n",
       "      <td>2014</td>\n",
       "      <td>2014-08-13</td>\n",
       "      <td>2014</td>\n",
       "      <td>8</td>\n",
       "      <td>13</td>\n",
       "      <td>33</td>\n",
       "      <td>3715689.0</td>\n",
       "    </tr>\n",
       "    <tr>\n",
       "      <th>213443</th>\n",
       "      <td>0k26r3mir0</td>\n",
       "      <td>2014-06-30</td>\n",
       "      <td>2014-06-30 23:53:40</td>\n",
       "      <td>2014-07-13</td>\n",
       "      <td>FEMALE</td>\n",
       "      <td>36.0</td>\n",
       "      <td>basic</td>\n",
       "      <td>0</td>\n",
       "      <td>en</td>\n",
       "      <td>sem-brand</td>\n",
       "      <td>...</td>\n",
       "      <td>Mac Desktop</td>\n",
       "      <td>Safari</td>\n",
       "      <td>US</td>\n",
       "      <td>2014</td>\n",
       "      <td>2014-07-13</td>\n",
       "      <td>2014</td>\n",
       "      <td>7</td>\n",
       "      <td>13</td>\n",
       "      <td>28</td>\n",
       "      <td>1037180.0</td>\n",
       "    </tr>\n",
       "    <tr>\n",
       "      <th>213445</th>\n",
       "      <td>qbxza0xojf</td>\n",
       "      <td>2014-06-30</td>\n",
       "      <td>2014-06-30 23:55:47</td>\n",
       "      <td>2014-07-02</td>\n",
       "      <td>FEMALE</td>\n",
       "      <td>23.0</td>\n",
       "      <td>basic</td>\n",
       "      <td>0</td>\n",
       "      <td>en</td>\n",
       "      <td>sem-brand</td>\n",
       "      <td>...</td>\n",
       "      <td>Windows Desktop</td>\n",
       "      <td>IE</td>\n",
       "      <td>US</td>\n",
       "      <td>2014</td>\n",
       "      <td>2014-07-02</td>\n",
       "      <td>2014</td>\n",
       "      <td>7</td>\n",
       "      <td>2</td>\n",
       "      <td>27</td>\n",
       "      <td>86653.0</td>\n",
       "    </tr>\n",
       "  </tbody>\n",
       "</table>\n",
       "<p>77534 rows × 23 columns</p>\n",
       "</div>\n",
       "      <button class=\"colab-df-convert\" onclick=\"convertToInteractive('df-ed41ccfa-84aa-460f-8338-59edd8e30aac')\"\n",
       "              title=\"Convert this dataframe to an interactive table.\"\n",
       "              style=\"display:none;\">\n",
       "        \n",
       "  <svg xmlns=\"http://www.w3.org/2000/svg\" height=\"24px\"viewBox=\"0 0 24 24\"\n",
       "       width=\"24px\">\n",
       "    <path d=\"M0 0h24v24H0V0z\" fill=\"none\"/>\n",
       "    <path d=\"M18.56 5.44l.94 2.06.94-2.06 2.06-.94-2.06-.94-.94-2.06-.94 2.06-2.06.94zm-11 1L8.5 8.5l.94-2.06 2.06-.94-2.06-.94L8.5 2.5l-.94 2.06-2.06.94zm10 10l.94 2.06.94-2.06 2.06-.94-2.06-.94-.94-2.06-.94 2.06-2.06.94z\"/><path d=\"M17.41 7.96l-1.37-1.37c-.4-.4-.92-.59-1.43-.59-.52 0-1.04.2-1.43.59L10.3 9.45l-7.72 7.72c-.78.78-.78 2.05 0 2.83L4 21.41c.39.39.9.59 1.41.59.51 0 1.02-.2 1.41-.59l7.78-7.78 2.81-2.81c.8-.78.8-2.07 0-2.86zM5.41 20L4 18.59l7.72-7.72 1.47 1.35L5.41 20z\"/>\n",
       "  </svg>\n",
       "      </button>\n",
       "      \n",
       "  <style>\n",
       "    .colab-df-container {\n",
       "      display:flex;\n",
       "      flex-wrap:wrap;\n",
       "      gap: 12px;\n",
       "    }\n",
       "\n",
       "    .colab-df-convert {\n",
       "      background-color: #E8F0FE;\n",
       "      border: none;\n",
       "      border-radius: 50%;\n",
       "      cursor: pointer;\n",
       "      display: none;\n",
       "      fill: #1967D2;\n",
       "      height: 32px;\n",
       "      padding: 0 0 0 0;\n",
       "      width: 32px;\n",
       "    }\n",
       "\n",
       "    .colab-df-convert:hover {\n",
       "      background-color: #E2EBFA;\n",
       "      box-shadow: 0px 1px 2px rgba(60, 64, 67, 0.3), 0px 1px 3px 1px rgba(60, 64, 67, 0.15);\n",
       "      fill: #174EA6;\n",
       "    }\n",
       "\n",
       "    [theme=dark] .colab-df-convert {\n",
       "      background-color: #3B4455;\n",
       "      fill: #D2E3FC;\n",
       "    }\n",
       "\n",
       "    [theme=dark] .colab-df-convert:hover {\n",
       "      background-color: #434B5C;\n",
       "      box-shadow: 0px 1px 3px 1px rgba(0, 0, 0, 0.15);\n",
       "      filter: drop-shadow(0px 1px 2px rgba(0, 0, 0, 0.3));\n",
       "      fill: #FFFFFF;\n",
       "    }\n",
       "  </style>\n",
       "\n",
       "      <script>\n",
       "        const buttonEl =\n",
       "          document.querySelector('#df-ed41ccfa-84aa-460f-8338-59edd8e30aac button.colab-df-convert');\n",
       "        buttonEl.style.display =\n",
       "          google.colab.kernel.accessAllowed ? 'block' : 'none';\n",
       "\n",
       "        async function convertToInteractive(key) {\n",
       "          const element = document.querySelector('#df-ed41ccfa-84aa-460f-8338-59edd8e30aac');\n",
       "          const dataTable =\n",
       "            await google.colab.kernel.invokeFunction('convertToInteractive',\n",
       "                                                     [key], {});\n",
       "          if (!dataTable) return;\n",
       "\n",
       "          const docLinkHtml = 'Like what you see? Visit the ' +\n",
       "            '<a target=\"_blank\" href=https://colab.research.google.com/notebooks/data_table.ipynb>data table notebook</a>'\n",
       "            + ' to learn more about interactive tables.';\n",
       "          element.innerHTML = '';\n",
       "          dataTable['output_type'] = 'display_data';\n",
       "          await google.colab.output.renderOutput(dataTable, element);\n",
       "          const docLink = document.createElement('div');\n",
       "          docLink.innerHTML = docLinkHtml;\n",
       "          element.appendChild(docLink);\n",
       "        }\n",
       "      </script>\n",
       "    </div>\n",
       "  </div>\n",
       "  "
      ],
      "text/plain": [
       "                id date_account_created timestamp_first_active  \\\n",
       "2       4ft3gnwmtx           2010-09-28    2009-06-09 23:12:47   \n",
       "4       87mebub9p4           2010-09-14    2009-12-08 06:11:05   \n",
       "5       osr2jwljor           2010-01-01    2010-01-01 21:56:19   \n",
       "6       lsw9q7uk0j           2010-01-02    2010-01-02 01:25:58   \n",
       "7       0d01nltbrs           2010-01-03    2010-01-03 19:19:05   \n",
       "...            ...                  ...                    ...   \n",
       "213415  7plqriggxp           2014-06-30    2014-06-30 23:01:36   \n",
       "213439  msucfwmlzc           2014-06-30    2014-06-30 23:47:29   \n",
       "213441  omlc9iku7t           2014-06-30    2014-06-30 23:51:51   \n",
       "213443  0k26r3mir0           2014-06-30    2014-06-30 23:53:40   \n",
       "213445  qbxza0xojf           2014-06-30    2014-06-30 23:55:47   \n",
       "\n",
       "       date_first_booking  gender   age signup_method  signup_flow language  \\\n",
       "2              2010-08-02  FEMALE  56.0         basic            3       en   \n",
       "4              2010-02-18  FEMALE  41.0         basic            0       en   \n",
       "5              2010-01-02  FEMALE  33.0         basic            0       en   \n",
       "6              2010-01-05  FEMALE  46.0         basic            0       en   \n",
       "7              2010-01-13  FEMALE  47.0         basic            0       en   \n",
       "...                   ...     ...   ...           ...          ...      ...   \n",
       "213415         2014-06-30  FEMALE  55.0         basic            0       en   \n",
       "213439         2015-03-16    MALE  43.0         basic            0       en   \n",
       "213441         2014-08-13  FEMALE  34.0         basic            0       en   \n",
       "213443         2014-07-13  FEMALE  36.0         basic            0       en   \n",
       "213445         2014-07-02  FEMALE  23.0         basic            0       en   \n",
       "\n",
       "       affiliate_channel  ... first_device_type first_browser  \\\n",
       "2                 direct  ...   Windows Desktop            IE   \n",
       "4                 direct  ...       Mac Desktop        Chrome   \n",
       "5                  other  ...       Mac Desktop        Chrome   \n",
       "6                  other  ...       Mac Desktop        Safari   \n",
       "7                 direct  ...       Mac Desktop        Safari   \n",
       "...                  ...  ...               ...           ...   \n",
       "213415         sem-brand  ...    Android Tablet            IE   \n",
       "213439            direct  ...   Windows Desktop       Firefox   \n",
       "213441            direct  ...       Mac Desktop        Chrome   \n",
       "213443         sem-brand  ...       Mac Desktop        Safari   \n",
       "213445         sem-brand  ...   Windows Desktop            IE   \n",
       "\n",
       "       country_destination  year       Date  Year  Month Day  WeekOfYear  \\\n",
       "2                       US  2010 2010-08-02  2010      8   2          31   \n",
       "4                       US  2010 2010-02-18  2010      2  18           7   \n",
       "5                       US  2010 2010-01-02  2010      1   2          53   \n",
       "6                       US  2010 2010-01-05  2010      1   5           1   \n",
       "7                       US  2010 2010-01-13  2010      1  13           2   \n",
       "...                    ...   ...        ...   ...    ...  ..         ...   \n",
       "213415                  FR  2014 2014-06-30  2014      6  30          27   \n",
       "213439                  US  2014 2015-03-16  2015      3  16          12   \n",
       "213441                  ES  2014 2014-08-13  2014      8  13          33   \n",
       "213443                  US  2014 2014-07-13  2014      7  13          28   \n",
       "213445                  US  2014 2014-07-02  2014      7   2          27   \n",
       "\n",
       "        elapsed_time  \n",
       "2         36118033.0  \n",
       "4          6198535.0  \n",
       "5             7421.0  \n",
       "6           254042.0  \n",
       "7           794455.0  \n",
       "...              ...  \n",
       "213415       82896.0  \n",
       "213439    22291951.0  \n",
       "213441     3715689.0  \n",
       "213443     1037180.0  \n",
       "213445       86653.0  \n",
       "\n",
       "[77534 rows x 23 columns]"
      ]
     },
     "execution_count": 307,
     "metadata": {},
     "output_type": "execute_result"
    }
   ],
   "source": [
    "new_df"
   ]
  },
  {
   "cell_type": "code",
   "execution_count": 308,
   "metadata": {
    "colab": {
     "base_uri": "https://localhost:8080/"
    },
    "executionInfo": {
     "elapsed": 809,
     "status": "ok",
     "timestamp": 1660167050781,
     "user": {
      "displayName": "dibya jyoti",
      "userId": "13905139023208611565"
     },
     "user_tz": -330
    },
    "id": "FIcEtPPNCITe",
    "outputId": "5728ae8b-50d8-4f93-ef3e-bb1b9b8c1850"
   },
   "outputs": [
    {
     "data": {
      "text/plain": [
       "Index(['id', 'date_account_created', 'timestamp_first_active',\n",
       "       'date_first_booking', 'gender', 'age', 'signup_method', 'signup_flow',\n",
       "       'language', 'affiliate_channel', 'affiliate_provider',\n",
       "       'first_affiliate_tracked', 'signup_app', 'first_device_type',\n",
       "       'first_browser', 'country_destination', 'year', 'Date', 'Year', 'Month',\n",
       "       'Day', 'WeekOfYear', 'elapsed_time'],\n",
       "      dtype='object')"
      ]
     },
     "execution_count": 308,
     "metadata": {},
     "output_type": "execute_result"
    }
   ],
   "source": [
    "new_df.columns.unique()"
   ]
  },
  {
   "cell_type": "markdown",
   "metadata": {
    "id": "ESvIOuFMpLNy"
   },
   "source": [
    "## **Imputing, Scaling and Encoding**"
   ]
  },
  {
   "cell_type": "code",
   "execution_count": 309,
   "metadata": {
    "executionInfo": {
     "elapsed": 8498,
     "status": "ok",
     "timestamp": 1660167059269,
     "user": {
      "displayName": "dibya jyoti",
      "userId": "13905139023208611565"
     },
     "user_tz": -330
    },
    "id": "7xO4YAWjCITe"
   },
   "outputs": [],
   "source": [
    "!pip install scikit-learn --upgrade --quiet"
   ]
  },
  {
   "cell_type": "code",
   "execution_count": 310,
   "metadata": {
    "executionInfo": {
     "elapsed": 35,
     "status": "ok",
     "timestamp": 1660167059270,
     "user": {
      "displayName": "dibya jyoti",
      "userId": "13905139023208611565"
     },
     "user_tz": -330
    },
    "id": "ur-5rrP8CITe"
   },
   "outputs": [],
   "source": [
    "from sklearn.model_selection import train_test_split"
   ]
  },
  {
   "cell_type": "code",
   "execution_count": 311,
   "metadata": {
    "executionInfo": {
     "elapsed": 36,
     "status": "ok",
     "timestamp": 1660167059272,
     "user": {
      "displayName": "dibya jyoti",
      "userId": "13905139023208611565"
     },
     "user_tz": -330
    },
    "id": "LPpY5lXWCITf"
   },
   "outputs": [],
   "source": [
    "train_df, val_df = train_test_split(new_df, test_size=0.15, random_state=42)"
   ]
  },
  {
   "cell_type": "code",
   "execution_count": 312,
   "metadata": {
    "colab": {
     "base_uri": "https://localhost:8080/",
     "height": 661
    },
    "executionInfo": {
     "elapsed": 35,
     "status": "ok",
     "timestamp": 1660167059273,
     "user": {
      "displayName": "dibya jyoti",
      "userId": "13905139023208611565"
     },
     "user_tz": -330
    },
    "id": "TRWXYL7wCITf",
    "outputId": "85bcc1fc-8284-46b9-f445-b7d067f61bd6"
   },
   "outputs": [
    {
     "data": {
      "text/html": [
       "\n",
       "  <div id=\"df-de52ba65-0bb8-48eb-8719-1c95d043e5f1\">\n",
       "    <div class=\"colab-df-container\">\n",
       "      <div>\n",
       "<style scoped>\n",
       "    .dataframe tbody tr th:only-of-type {\n",
       "        vertical-align: middle;\n",
       "    }\n",
       "\n",
       "    .dataframe tbody tr th {\n",
       "        vertical-align: top;\n",
       "    }\n",
       "\n",
       "    .dataframe thead th {\n",
       "        text-align: right;\n",
       "    }\n",
       "</style>\n",
       "<table border=\"1\" class=\"dataframe\">\n",
       "  <thead>\n",
       "    <tr style=\"text-align: right;\">\n",
       "      <th></th>\n",
       "      <th>id</th>\n",
       "      <th>date_account_created</th>\n",
       "      <th>timestamp_first_active</th>\n",
       "      <th>date_first_booking</th>\n",
       "      <th>gender</th>\n",
       "      <th>age</th>\n",
       "      <th>signup_method</th>\n",
       "      <th>signup_flow</th>\n",
       "      <th>language</th>\n",
       "      <th>affiliate_channel</th>\n",
       "      <th>...</th>\n",
       "      <th>first_device_type</th>\n",
       "      <th>first_browser</th>\n",
       "      <th>country_destination</th>\n",
       "      <th>year</th>\n",
       "      <th>Date</th>\n",
       "      <th>Year</th>\n",
       "      <th>Month</th>\n",
       "      <th>Day</th>\n",
       "      <th>WeekOfYear</th>\n",
       "      <th>elapsed_time</th>\n",
       "    </tr>\n",
       "  </thead>\n",
       "  <tbody>\n",
       "    <tr>\n",
       "      <th>55362</th>\n",
       "      <td>3c2se1xjra</td>\n",
       "      <td>2013-01-10</td>\n",
       "      <td>2013-01-10 05:43:34</td>\n",
       "      <td>2013-08-19</td>\n",
       "      <td>FEMALE</td>\n",
       "      <td>33.0</td>\n",
       "      <td>basic</td>\n",
       "      <td>0</td>\n",
       "      <td>en</td>\n",
       "      <td>sem-brand</td>\n",
       "      <td>...</td>\n",
       "      <td>Mac Desktop</td>\n",
       "      <td>Chrome</td>\n",
       "      <td>US</td>\n",
       "      <td>2013</td>\n",
       "      <td>2013-08-19</td>\n",
       "      <td>2013</td>\n",
       "      <td>8</td>\n",
       "      <td>19</td>\n",
       "      <td>34</td>\n",
       "      <td>19073786.0</td>\n",
       "    </tr>\n",
       "    <tr>\n",
       "      <th>137517</th>\n",
       "      <td>i5d1749c93</td>\n",
       "      <td>2014-01-03</td>\n",
       "      <td>2014-01-03 00:15:44</td>\n",
       "      <td>2014-01-03</td>\n",
       "      <td>MALE</td>\n",
       "      <td>31.0</td>\n",
       "      <td>basic</td>\n",
       "      <td>0</td>\n",
       "      <td>en</td>\n",
       "      <td>sem-non-brand</td>\n",
       "      <td>...</td>\n",
       "      <td>Mac Desktop</td>\n",
       "      <td>Safari</td>\n",
       "      <td>US</td>\n",
       "      <td>2014</td>\n",
       "      <td>2014-01-03</td>\n",
       "      <td>2014</td>\n",
       "      <td>1</td>\n",
       "      <td>3</td>\n",
       "      <td>1</td>\n",
       "      <td>944.0</td>\n",
       "    </tr>\n",
       "    <tr>\n",
       "      <th>115643</th>\n",
       "      <td>zr4mh9a118</td>\n",
       "      <td>2013-10-09</td>\n",
       "      <td>2013-10-09 23:40:03</td>\n",
       "      <td>2013-10-10</td>\n",
       "      <td>MALE</td>\n",
       "      <td>72.0</td>\n",
       "      <td>basic</td>\n",
       "      <td>0</td>\n",
       "      <td>en</td>\n",
       "      <td>direct</td>\n",
       "      <td>...</td>\n",
       "      <td>Mac Desktop</td>\n",
       "      <td>Firefox</td>\n",
       "      <td>US</td>\n",
       "      <td>2013</td>\n",
       "      <td>2013-10-10</td>\n",
       "      <td>2013</td>\n",
       "      <td>10</td>\n",
       "      <td>10</td>\n",
       "      <td>41</td>\n",
       "      <td>1197.0</td>\n",
       "    </tr>\n",
       "    <tr>\n",
       "      <th>35202</th>\n",
       "      <td>24c3wppam5</td>\n",
       "      <td>2012-08-06</td>\n",
       "      <td>2012-08-06 04:43:51</td>\n",
       "      <td>2012-08-06</td>\n",
       "      <td>FEMALE</td>\n",
       "      <td>43.0</td>\n",
       "      <td>facebook</td>\n",
       "      <td>3</td>\n",
       "      <td>en</td>\n",
       "      <td>content</td>\n",
       "      <td>...</td>\n",
       "      <td>Windows Desktop</td>\n",
       "      <td>IE</td>\n",
       "      <td>US</td>\n",
       "      <td>2012</td>\n",
       "      <td>2012-08-06</td>\n",
       "      <td>2012</td>\n",
       "      <td>8</td>\n",
       "      <td>6</td>\n",
       "      <td>32</td>\n",
       "      <td>17031.0</td>\n",
       "    </tr>\n",
       "    <tr>\n",
       "      <th>44038</th>\n",
       "      <td>a0thv5c1y5</td>\n",
       "      <td>2012-10-08</td>\n",
       "      <td>2012-10-08 20:22:05</td>\n",
       "      <td>2012-10-09</td>\n",
       "      <td>FEMALE</td>\n",
       "      <td>31.0</td>\n",
       "      <td>facebook</td>\n",
       "      <td>0</td>\n",
       "      <td>en</td>\n",
       "      <td>direct</td>\n",
       "      <td>...</td>\n",
       "      <td>Mac Desktop</td>\n",
       "      <td>Firefox</td>\n",
       "      <td>US</td>\n",
       "      <td>2012</td>\n",
       "      <td>2012-10-09</td>\n",
       "      <td>2012</td>\n",
       "      <td>10</td>\n",
       "      <td>9</td>\n",
       "      <td>41</td>\n",
       "      <td>13075.0</td>\n",
       "    </tr>\n",
       "    <tr>\n",
       "      <th>...</th>\n",
       "      <td>...</td>\n",
       "      <td>...</td>\n",
       "      <td>...</td>\n",
       "      <td>...</td>\n",
       "      <td>...</td>\n",
       "      <td>...</td>\n",
       "      <td>...</td>\n",
       "      <td>...</td>\n",
       "      <td>...</td>\n",
       "      <td>...</td>\n",
       "      <td>...</td>\n",
       "      <td>...</td>\n",
       "      <td>...</td>\n",
       "      <td>...</td>\n",
       "      <td>...</td>\n",
       "      <td>...</td>\n",
       "      <td>...</td>\n",
       "      <td>...</td>\n",
       "      <td>...</td>\n",
       "      <td>...</td>\n",
       "      <td>...</td>\n",
       "    </tr>\n",
       "    <tr>\n",
       "      <th>12252</th>\n",
       "      <td>eoarzki7rg</td>\n",
       "      <td>2011-11-08</td>\n",
       "      <td>2011-11-08 06:00:09</td>\n",
       "      <td>2011-11-18</td>\n",
       "      <td>MALE</td>\n",
       "      <td>68.0</td>\n",
       "      <td>facebook</td>\n",
       "      <td>2</td>\n",
       "      <td>en</td>\n",
       "      <td>direct</td>\n",
       "      <td>...</td>\n",
       "      <td>Other/Unknown</td>\n",
       "      <td>-unknown-</td>\n",
       "      <td>US</td>\n",
       "      <td>2011</td>\n",
       "      <td>2011-11-18</td>\n",
       "      <td>2011</td>\n",
       "      <td>11</td>\n",
       "      <td>18</td>\n",
       "      <td>46</td>\n",
       "      <td>842391.0</td>\n",
       "    </tr>\n",
       "    <tr>\n",
       "      <th>144799</th>\n",
       "      <td>m3ulyves3s</td>\n",
       "      <td>2014-01-22</td>\n",
       "      <td>2014-01-22 18:11:53</td>\n",
       "      <td>2014-02-04</td>\n",
       "      <td>MALE</td>\n",
       "      <td>42.0</td>\n",
       "      <td>basic</td>\n",
       "      <td>0</td>\n",
       "      <td>en</td>\n",
       "      <td>direct</td>\n",
       "      <td>...</td>\n",
       "      <td>Mac Desktop</td>\n",
       "      <td>Safari</td>\n",
       "      <td>US</td>\n",
       "      <td>2014</td>\n",
       "      <td>2014-02-04</td>\n",
       "      <td>2014</td>\n",
       "      <td>2</td>\n",
       "      <td>4</td>\n",
       "      <td>6</td>\n",
       "      <td>1057687.0</td>\n",
       "    </tr>\n",
       "    <tr>\n",
       "      <th>211156</th>\n",
       "      <td>rjx5m0dhtc</td>\n",
       "      <td>2014-06-26</td>\n",
       "      <td>2014-06-26 18:13:40</td>\n",
       "      <td>2014-06-27</td>\n",
       "      <td>MALE</td>\n",
       "      <td>41.0</td>\n",
       "      <td>basic</td>\n",
       "      <td>0</td>\n",
       "      <td>en</td>\n",
       "      <td>direct</td>\n",
       "      <td>...</td>\n",
       "      <td>Mac Desktop</td>\n",
       "      <td>Chrome</td>\n",
       "      <td>US</td>\n",
       "      <td>2014</td>\n",
       "      <td>2014-06-27</td>\n",
       "      <td>2014</td>\n",
       "      <td>6</td>\n",
       "      <td>27</td>\n",
       "      <td>26</td>\n",
       "      <td>20780.0</td>\n",
       "    </tr>\n",
       "    <tr>\n",
       "      <th>1600</th>\n",
       "      <td>oeb8a38vp4</td>\n",
       "      <td>2010-09-03</td>\n",
       "      <td>2010-09-03 06:27:13</td>\n",
       "      <td>2010-09-12</td>\n",
       "      <td>FEMALE</td>\n",
       "      <td>59.0</td>\n",
       "      <td>basic</td>\n",
       "      <td>3</td>\n",
       "      <td>en</td>\n",
       "      <td>direct</td>\n",
       "      <td>...</td>\n",
       "      <td>Mac Desktop</td>\n",
       "      <td>Safari</td>\n",
       "      <td>FR</td>\n",
       "      <td>2010</td>\n",
       "      <td>2010-09-12</td>\n",
       "      <td>2010</td>\n",
       "      <td>9</td>\n",
       "      <td>12</td>\n",
       "      <td>36</td>\n",
       "      <td>754367.0</td>\n",
       "    </tr>\n",
       "    <tr>\n",
       "      <th>34965</th>\n",
       "      <td>3gj814ueuc</td>\n",
       "      <td>2012-08-04</td>\n",
       "      <td>2012-08-04 02:34:26</td>\n",
       "      <td>2012-11-11</td>\n",
       "      <td>FEMALE</td>\n",
       "      <td>33.0</td>\n",
       "      <td>basic</td>\n",
       "      <td>12</td>\n",
       "      <td>en</td>\n",
       "      <td>api</td>\n",
       "      <td>...</td>\n",
       "      <td>Mac Desktop</td>\n",
       "      <td>Safari</td>\n",
       "      <td>US</td>\n",
       "      <td>2012</td>\n",
       "      <td>2012-11-11</td>\n",
       "      <td>2012</td>\n",
       "      <td>11</td>\n",
       "      <td>11</td>\n",
       "      <td>45</td>\n",
       "      <td>8544334.0</td>\n",
       "    </tr>\n",
       "  </tbody>\n",
       "</table>\n",
       "<p>65903 rows × 23 columns</p>\n",
       "</div>\n",
       "      <button class=\"colab-df-convert\" onclick=\"convertToInteractive('df-de52ba65-0bb8-48eb-8719-1c95d043e5f1')\"\n",
       "              title=\"Convert this dataframe to an interactive table.\"\n",
       "              style=\"display:none;\">\n",
       "        \n",
       "  <svg xmlns=\"http://www.w3.org/2000/svg\" height=\"24px\"viewBox=\"0 0 24 24\"\n",
       "       width=\"24px\">\n",
       "    <path d=\"M0 0h24v24H0V0z\" fill=\"none\"/>\n",
       "    <path d=\"M18.56 5.44l.94 2.06.94-2.06 2.06-.94-2.06-.94-.94-2.06-.94 2.06-2.06.94zm-11 1L8.5 8.5l.94-2.06 2.06-.94-2.06-.94L8.5 2.5l-.94 2.06-2.06.94zm10 10l.94 2.06.94-2.06 2.06-.94-2.06-.94-.94-2.06-.94 2.06-2.06.94z\"/><path d=\"M17.41 7.96l-1.37-1.37c-.4-.4-.92-.59-1.43-.59-.52 0-1.04.2-1.43.59L10.3 9.45l-7.72 7.72c-.78.78-.78 2.05 0 2.83L4 21.41c.39.39.9.59 1.41.59.51 0 1.02-.2 1.41-.59l7.78-7.78 2.81-2.81c.8-.78.8-2.07 0-2.86zM5.41 20L4 18.59l7.72-7.72 1.47 1.35L5.41 20z\"/>\n",
       "  </svg>\n",
       "      </button>\n",
       "      \n",
       "  <style>\n",
       "    .colab-df-container {\n",
       "      display:flex;\n",
       "      flex-wrap:wrap;\n",
       "      gap: 12px;\n",
       "    }\n",
       "\n",
       "    .colab-df-convert {\n",
       "      background-color: #E8F0FE;\n",
       "      border: none;\n",
       "      border-radius: 50%;\n",
       "      cursor: pointer;\n",
       "      display: none;\n",
       "      fill: #1967D2;\n",
       "      height: 32px;\n",
       "      padding: 0 0 0 0;\n",
       "      width: 32px;\n",
       "    }\n",
       "\n",
       "    .colab-df-convert:hover {\n",
       "      background-color: #E2EBFA;\n",
       "      box-shadow: 0px 1px 2px rgba(60, 64, 67, 0.3), 0px 1px 3px 1px rgba(60, 64, 67, 0.15);\n",
       "      fill: #174EA6;\n",
       "    }\n",
       "\n",
       "    [theme=dark] .colab-df-convert {\n",
       "      background-color: #3B4455;\n",
       "      fill: #D2E3FC;\n",
       "    }\n",
       "\n",
       "    [theme=dark] .colab-df-convert:hover {\n",
       "      background-color: #434B5C;\n",
       "      box-shadow: 0px 1px 3px 1px rgba(0, 0, 0, 0.15);\n",
       "      filter: drop-shadow(0px 1px 2px rgba(0, 0, 0, 0.3));\n",
       "      fill: #FFFFFF;\n",
       "    }\n",
       "  </style>\n",
       "\n",
       "      <script>\n",
       "        const buttonEl =\n",
       "          document.querySelector('#df-de52ba65-0bb8-48eb-8719-1c95d043e5f1 button.colab-df-convert');\n",
       "        buttonEl.style.display =\n",
       "          google.colab.kernel.accessAllowed ? 'block' : 'none';\n",
       "\n",
       "        async function convertToInteractive(key) {\n",
       "          const element = document.querySelector('#df-de52ba65-0bb8-48eb-8719-1c95d043e5f1');\n",
       "          const dataTable =\n",
       "            await google.colab.kernel.invokeFunction('convertToInteractive',\n",
       "                                                     [key], {});\n",
       "          if (!dataTable) return;\n",
       "\n",
       "          const docLinkHtml = 'Like what you see? Visit the ' +\n",
       "            '<a target=\"_blank\" href=https://colab.research.google.com/notebooks/data_table.ipynb>data table notebook</a>'\n",
       "            + ' to learn more about interactive tables.';\n",
       "          element.innerHTML = '';\n",
       "          dataTable['output_type'] = 'display_data';\n",
       "          await google.colab.output.renderOutput(dataTable, element);\n",
       "          const docLink = document.createElement('div');\n",
       "          docLink.innerHTML = docLinkHtml;\n",
       "          element.appendChild(docLink);\n",
       "        }\n",
       "      </script>\n",
       "    </div>\n",
       "  </div>\n",
       "  "
      ],
      "text/plain": [
       "                id date_account_created timestamp_first_active  \\\n",
       "55362   3c2se1xjra           2013-01-10    2013-01-10 05:43:34   \n",
       "137517  i5d1749c93           2014-01-03    2014-01-03 00:15:44   \n",
       "115643  zr4mh9a118           2013-10-09    2013-10-09 23:40:03   \n",
       "35202   24c3wppam5           2012-08-06    2012-08-06 04:43:51   \n",
       "44038   a0thv5c1y5           2012-10-08    2012-10-08 20:22:05   \n",
       "...            ...                  ...                    ...   \n",
       "12252   eoarzki7rg           2011-11-08    2011-11-08 06:00:09   \n",
       "144799  m3ulyves3s           2014-01-22    2014-01-22 18:11:53   \n",
       "211156  rjx5m0dhtc           2014-06-26    2014-06-26 18:13:40   \n",
       "1600    oeb8a38vp4           2010-09-03    2010-09-03 06:27:13   \n",
       "34965   3gj814ueuc           2012-08-04    2012-08-04 02:34:26   \n",
       "\n",
       "       date_first_booking  gender   age signup_method  signup_flow language  \\\n",
       "55362          2013-08-19  FEMALE  33.0         basic            0       en   \n",
       "137517         2014-01-03    MALE  31.0         basic            0       en   \n",
       "115643         2013-10-10    MALE  72.0         basic            0       en   \n",
       "35202          2012-08-06  FEMALE  43.0      facebook            3       en   \n",
       "44038          2012-10-09  FEMALE  31.0      facebook            0       en   \n",
       "...                   ...     ...   ...           ...          ...      ...   \n",
       "12252          2011-11-18    MALE  68.0      facebook            2       en   \n",
       "144799         2014-02-04    MALE  42.0         basic            0       en   \n",
       "211156         2014-06-27    MALE  41.0         basic            0       en   \n",
       "1600           2010-09-12  FEMALE  59.0         basic            3       en   \n",
       "34965          2012-11-11  FEMALE  33.0         basic           12       en   \n",
       "\n",
       "       affiliate_channel  ... first_device_type first_browser  \\\n",
       "55362          sem-brand  ...       Mac Desktop        Chrome   \n",
       "137517     sem-non-brand  ...       Mac Desktop        Safari   \n",
       "115643            direct  ...       Mac Desktop       Firefox   \n",
       "35202            content  ...   Windows Desktop            IE   \n",
       "44038             direct  ...       Mac Desktop       Firefox   \n",
       "...                  ...  ...               ...           ...   \n",
       "12252             direct  ...     Other/Unknown     -unknown-   \n",
       "144799            direct  ...       Mac Desktop        Safari   \n",
       "211156            direct  ...       Mac Desktop        Chrome   \n",
       "1600              direct  ...       Mac Desktop        Safari   \n",
       "34965                api  ...       Mac Desktop        Safari   \n",
       "\n",
       "       country_destination  year       Date  Year  Month Day  WeekOfYear  \\\n",
       "55362                   US  2013 2013-08-19  2013      8  19          34   \n",
       "137517                  US  2014 2014-01-03  2014      1   3           1   \n",
       "115643                  US  2013 2013-10-10  2013     10  10          41   \n",
       "35202                   US  2012 2012-08-06  2012      8   6          32   \n",
       "44038                   US  2012 2012-10-09  2012     10   9          41   \n",
       "...                    ...   ...        ...   ...    ...  ..         ...   \n",
       "12252                   US  2011 2011-11-18  2011     11  18          46   \n",
       "144799                  US  2014 2014-02-04  2014      2   4           6   \n",
       "211156                  US  2014 2014-06-27  2014      6  27          26   \n",
       "1600                    FR  2010 2010-09-12  2010      9  12          36   \n",
       "34965                   US  2012 2012-11-11  2012     11  11          45   \n",
       "\n",
       "        elapsed_time  \n",
       "55362     19073786.0  \n",
       "137517         944.0  \n",
       "115643        1197.0  \n",
       "35202        17031.0  \n",
       "44038        13075.0  \n",
       "...              ...  \n",
       "12252       842391.0  \n",
       "144799     1057687.0  \n",
       "211156       20780.0  \n",
       "1600        754367.0  \n",
       "34965      8544334.0  \n",
       "\n",
       "[65903 rows x 23 columns]"
      ]
     },
     "execution_count": 312,
     "metadata": {},
     "output_type": "execute_result"
    }
   ],
   "source": [
    "train_df"
   ]
  },
  {
   "cell_type": "code",
   "execution_count": 313,
   "metadata": {
    "colab": {
     "base_uri": "https://localhost:8080/",
     "height": 661
    },
    "executionInfo": {
     "elapsed": 960,
     "status": "ok",
     "timestamp": 1660167060216,
     "user": {
      "displayName": "dibya jyoti",
      "userId": "13905139023208611565"
     },
     "user_tz": -330
    },
    "id": "c0yPVweICITf",
    "outputId": "4cba196d-1a8b-4277-99c8-c396f5b64c30"
   },
   "outputs": [
    {
     "data": {
      "text/html": [
       "\n",
       "  <div id=\"df-54963f69-51e4-49ca-8b81-ee3b8f3ca25c\">\n",
       "    <div class=\"colab-df-container\">\n",
       "      <div>\n",
       "<style scoped>\n",
       "    .dataframe tbody tr th:only-of-type {\n",
       "        vertical-align: middle;\n",
       "    }\n",
       "\n",
       "    .dataframe tbody tr th {\n",
       "        vertical-align: top;\n",
       "    }\n",
       "\n",
       "    .dataframe thead th {\n",
       "        text-align: right;\n",
       "    }\n",
       "</style>\n",
       "<table border=\"1\" class=\"dataframe\">\n",
       "  <thead>\n",
       "    <tr style=\"text-align: right;\">\n",
       "      <th></th>\n",
       "      <th>id</th>\n",
       "      <th>date_account_created</th>\n",
       "      <th>timestamp_first_active</th>\n",
       "      <th>date_first_booking</th>\n",
       "      <th>gender</th>\n",
       "      <th>age</th>\n",
       "      <th>signup_method</th>\n",
       "      <th>signup_flow</th>\n",
       "      <th>language</th>\n",
       "      <th>affiliate_channel</th>\n",
       "      <th>...</th>\n",
       "      <th>first_device_type</th>\n",
       "      <th>first_browser</th>\n",
       "      <th>country_destination</th>\n",
       "      <th>year</th>\n",
       "      <th>Date</th>\n",
       "      <th>Year</th>\n",
       "      <th>Month</th>\n",
       "      <th>Day</th>\n",
       "      <th>WeekOfYear</th>\n",
       "      <th>elapsed_time</th>\n",
       "    </tr>\n",
       "  </thead>\n",
       "  <tbody>\n",
       "    <tr>\n",
       "      <th>183139</th>\n",
       "      <td>nl60xpeabe</td>\n",
       "      <td>2014-05-01</td>\n",
       "      <td>2014-05-01 18:06:36</td>\n",
       "      <td>2014-06-07</td>\n",
       "      <td>FEMALE</td>\n",
       "      <td>31.0</td>\n",
       "      <td>basic</td>\n",
       "      <td>0</td>\n",
       "      <td>en</td>\n",
       "      <td>other</td>\n",
       "      <td>...</td>\n",
       "      <td>Windows Desktop</td>\n",
       "      <td>Firefox</td>\n",
       "      <td>US</td>\n",
       "      <td>2014</td>\n",
       "      <td>2014-06-07</td>\n",
       "      <td>2014</td>\n",
       "      <td>6</td>\n",
       "      <td>7</td>\n",
       "      <td>23</td>\n",
       "      <td>3131604.0</td>\n",
       "    </tr>\n",
       "    <tr>\n",
       "      <th>183870</th>\n",
       "      <td>9ake5pesag</td>\n",
       "      <td>2014-05-03</td>\n",
       "      <td>2014-05-03 05:07:51</td>\n",
       "      <td>2014-05-04</td>\n",
       "      <td>MALE</td>\n",
       "      <td>39.0</td>\n",
       "      <td>basic</td>\n",
       "      <td>0</td>\n",
       "      <td>en</td>\n",
       "      <td>direct</td>\n",
       "      <td>...</td>\n",
       "      <td>Mac Desktop</td>\n",
       "      <td>Chrome</td>\n",
       "      <td>ES</td>\n",
       "      <td>2014</td>\n",
       "      <td>2014-05-04</td>\n",
       "      <td>2014</td>\n",
       "      <td>5</td>\n",
       "      <td>4</td>\n",
       "      <td>18</td>\n",
       "      <td>67929.0</td>\n",
       "    </tr>\n",
       "    <tr>\n",
       "      <th>30015</th>\n",
       "      <td>5i8m0osvyh</td>\n",
       "      <td>2012-07-01</td>\n",
       "      <td>2012-07-01 18:10:34</td>\n",
       "      <td>2013-05-07</td>\n",
       "      <td>FEMALE</td>\n",
       "      <td>34.0</td>\n",
       "      <td>basic</td>\n",
       "      <td>12</td>\n",
       "      <td>en</td>\n",
       "      <td>api</td>\n",
       "      <td>...</td>\n",
       "      <td>Mac Desktop</td>\n",
       "      <td>Safari</td>\n",
       "      <td>GB</td>\n",
       "      <td>2012</td>\n",
       "      <td>2013-05-07</td>\n",
       "      <td>2013</td>\n",
       "      <td>5</td>\n",
       "      <td>7</td>\n",
       "      <td>19</td>\n",
       "      <td>26718566.0</td>\n",
       "    </tr>\n",
       "    <tr>\n",
       "      <th>110064</th>\n",
       "      <td>qom4xa8joj</td>\n",
       "      <td>2013-09-22</td>\n",
       "      <td>2013-09-22 22:06:32</td>\n",
       "      <td>2013-09-22</td>\n",
       "      <td>MALE</td>\n",
       "      <td>64.0</td>\n",
       "      <td>basic</td>\n",
       "      <td>0</td>\n",
       "      <td>en</td>\n",
       "      <td>sem-brand</td>\n",
       "      <td>...</td>\n",
       "      <td>Mac Desktop</td>\n",
       "      <td>Safari</td>\n",
       "      <td>US</td>\n",
       "      <td>2013</td>\n",
       "      <td>2013-09-22</td>\n",
       "      <td>2013</td>\n",
       "      <td>9</td>\n",
       "      <td>22</td>\n",
       "      <td>38</td>\n",
       "      <td>79592.0</td>\n",
       "    </tr>\n",
       "    <tr>\n",
       "      <th>145748</th>\n",
       "      <td>e9o0xy6hu5</td>\n",
       "      <td>2014-01-25</td>\n",
       "      <td>2014-01-25 03:34:37</td>\n",
       "      <td>2014-01-25</td>\n",
       "      <td>FEMALE</td>\n",
       "      <td>56.0</td>\n",
       "      <td>basic</td>\n",
       "      <td>0</td>\n",
       "      <td>en</td>\n",
       "      <td>sem-brand</td>\n",
       "      <td>...</td>\n",
       "      <td>Mac Desktop</td>\n",
       "      <td>Chrome</td>\n",
       "      <td>US</td>\n",
       "      <td>2014</td>\n",
       "      <td>2014-01-25</td>\n",
       "      <td>2014</td>\n",
       "      <td>1</td>\n",
       "      <td>25</td>\n",
       "      <td>4</td>\n",
       "      <td>12877.0</td>\n",
       "    </tr>\n",
       "    <tr>\n",
       "      <th>...</th>\n",
       "      <td>...</td>\n",
       "      <td>...</td>\n",
       "      <td>...</td>\n",
       "      <td>...</td>\n",
       "      <td>...</td>\n",
       "      <td>...</td>\n",
       "      <td>...</td>\n",
       "      <td>...</td>\n",
       "      <td>...</td>\n",
       "      <td>...</td>\n",
       "      <td>...</td>\n",
       "      <td>...</td>\n",
       "      <td>...</td>\n",
       "      <td>...</td>\n",
       "      <td>...</td>\n",
       "      <td>...</td>\n",
       "      <td>...</td>\n",
       "      <td>...</td>\n",
       "      <td>...</td>\n",
       "      <td>...</td>\n",
       "      <td>...</td>\n",
       "    </tr>\n",
       "    <tr>\n",
       "      <th>126286</th>\n",
       "      <td>wetpfwfo5g</td>\n",
       "      <td>2013-11-20</td>\n",
       "      <td>2013-11-20 20:42:23</td>\n",
       "      <td>2013-12-06</td>\n",
       "      <td>MALE</td>\n",
       "      <td>31.0</td>\n",
       "      <td>basic</td>\n",
       "      <td>0</td>\n",
       "      <td>en</td>\n",
       "      <td>direct</td>\n",
       "      <td>...</td>\n",
       "      <td>Mac Desktop</td>\n",
       "      <td>Chrome</td>\n",
       "      <td>US</td>\n",
       "      <td>2013</td>\n",
       "      <td>2013-12-06</td>\n",
       "      <td>2013</td>\n",
       "      <td>12</td>\n",
       "      <td>6</td>\n",
       "      <td>49</td>\n",
       "      <td>1307857.0</td>\n",
       "    </tr>\n",
       "    <tr>\n",
       "      <th>171319</th>\n",
       "      <td>y3wea6fqve</td>\n",
       "      <td>2014-04-03</td>\n",
       "      <td>2014-04-03 18:51:48</td>\n",
       "      <td>2014-04-03</td>\n",
       "      <td>FEMALE</td>\n",
       "      <td>28.0</td>\n",
       "      <td>basic</td>\n",
       "      <td>0</td>\n",
       "      <td>en</td>\n",
       "      <td>sem-brand</td>\n",
       "      <td>...</td>\n",
       "      <td>Mac Desktop</td>\n",
       "      <td>Safari</td>\n",
       "      <td>US</td>\n",
       "      <td>2014</td>\n",
       "      <td>2014-04-03</td>\n",
       "      <td>2014</td>\n",
       "      <td>4</td>\n",
       "      <td>3</td>\n",
       "      <td>14</td>\n",
       "      <td>67908.0</td>\n",
       "    </tr>\n",
       "    <tr>\n",
       "      <th>125549</th>\n",
       "      <td>gjow1bwnb7</td>\n",
       "      <td>2013-11-18</td>\n",
       "      <td>2013-11-18 16:10:29</td>\n",
       "      <td>2014-05-01</td>\n",
       "      <td>FEMALE</td>\n",
       "      <td>33.0</td>\n",
       "      <td>basic</td>\n",
       "      <td>0</td>\n",
       "      <td>en</td>\n",
       "      <td>direct</td>\n",
       "      <td>...</td>\n",
       "      <td>Mac Desktop</td>\n",
       "      <td>Firefox</td>\n",
       "      <td>IT</td>\n",
       "      <td>2013</td>\n",
       "      <td>2014-05-01</td>\n",
       "      <td>2014</td>\n",
       "      <td>5</td>\n",
       "      <td>1</td>\n",
       "      <td>18</td>\n",
       "      <td>14111371.0</td>\n",
       "    </tr>\n",
       "    <tr>\n",
       "      <th>126738</th>\n",
       "      <td>ez3wpg4y32</td>\n",
       "      <td>2013-11-22</td>\n",
       "      <td>2013-11-22 06:48:36</td>\n",
       "      <td>2014-07-02</td>\n",
       "      <td>FEMALE</td>\n",
       "      <td>21.0</td>\n",
       "      <td>basic</td>\n",
       "      <td>0</td>\n",
       "      <td>en</td>\n",
       "      <td>direct</td>\n",
       "      <td>...</td>\n",
       "      <td>Mac Desktop</td>\n",
       "      <td>Safari</td>\n",
       "      <td>CA</td>\n",
       "      <td>2013</td>\n",
       "      <td>2014-07-02</td>\n",
       "      <td>2014</td>\n",
       "      <td>7</td>\n",
       "      <td>2</td>\n",
       "      <td>27</td>\n",
       "      <td>19156284.0</td>\n",
       "    </tr>\n",
       "    <tr>\n",
       "      <th>104929</th>\n",
       "      <td>ia26vne6up</td>\n",
       "      <td>2013-09-04</td>\n",
       "      <td>2013-09-04 18:00:26</td>\n",
       "      <td>2013-10-01</td>\n",
       "      <td>FEMALE</td>\n",
       "      <td>33.0</td>\n",
       "      <td>basic</td>\n",
       "      <td>0</td>\n",
       "      <td>en</td>\n",
       "      <td>direct</td>\n",
       "      <td>...</td>\n",
       "      <td>Mac Desktop</td>\n",
       "      <td>Firefox</td>\n",
       "      <td>US</td>\n",
       "      <td>2013</td>\n",
       "      <td>2013-10-01</td>\n",
       "      <td>2013</td>\n",
       "      <td>10</td>\n",
       "      <td>1</td>\n",
       "      <td>40</td>\n",
       "      <td>2267974.0</td>\n",
       "    </tr>\n",
       "  </tbody>\n",
       "</table>\n",
       "<p>11631 rows × 23 columns</p>\n",
       "</div>\n",
       "      <button class=\"colab-df-convert\" onclick=\"convertToInteractive('df-54963f69-51e4-49ca-8b81-ee3b8f3ca25c')\"\n",
       "              title=\"Convert this dataframe to an interactive table.\"\n",
       "              style=\"display:none;\">\n",
       "        \n",
       "  <svg xmlns=\"http://www.w3.org/2000/svg\" height=\"24px\"viewBox=\"0 0 24 24\"\n",
       "       width=\"24px\">\n",
       "    <path d=\"M0 0h24v24H0V0z\" fill=\"none\"/>\n",
       "    <path d=\"M18.56 5.44l.94 2.06.94-2.06 2.06-.94-2.06-.94-.94-2.06-.94 2.06-2.06.94zm-11 1L8.5 8.5l.94-2.06 2.06-.94-2.06-.94L8.5 2.5l-.94 2.06-2.06.94zm10 10l.94 2.06.94-2.06 2.06-.94-2.06-.94-.94-2.06-.94 2.06-2.06.94z\"/><path d=\"M17.41 7.96l-1.37-1.37c-.4-.4-.92-.59-1.43-.59-.52 0-1.04.2-1.43.59L10.3 9.45l-7.72 7.72c-.78.78-.78 2.05 0 2.83L4 21.41c.39.39.9.59 1.41.59.51 0 1.02-.2 1.41-.59l7.78-7.78 2.81-2.81c.8-.78.8-2.07 0-2.86zM5.41 20L4 18.59l7.72-7.72 1.47 1.35L5.41 20z\"/>\n",
       "  </svg>\n",
       "      </button>\n",
       "      \n",
       "  <style>\n",
       "    .colab-df-container {\n",
       "      display:flex;\n",
       "      flex-wrap:wrap;\n",
       "      gap: 12px;\n",
       "    }\n",
       "\n",
       "    .colab-df-convert {\n",
       "      background-color: #E8F0FE;\n",
       "      border: none;\n",
       "      border-radius: 50%;\n",
       "      cursor: pointer;\n",
       "      display: none;\n",
       "      fill: #1967D2;\n",
       "      height: 32px;\n",
       "      padding: 0 0 0 0;\n",
       "      width: 32px;\n",
       "    }\n",
       "\n",
       "    .colab-df-convert:hover {\n",
       "      background-color: #E2EBFA;\n",
       "      box-shadow: 0px 1px 2px rgba(60, 64, 67, 0.3), 0px 1px 3px 1px rgba(60, 64, 67, 0.15);\n",
       "      fill: #174EA6;\n",
       "    }\n",
       "\n",
       "    [theme=dark] .colab-df-convert {\n",
       "      background-color: #3B4455;\n",
       "      fill: #D2E3FC;\n",
       "    }\n",
       "\n",
       "    [theme=dark] .colab-df-convert:hover {\n",
       "      background-color: #434B5C;\n",
       "      box-shadow: 0px 1px 3px 1px rgba(0, 0, 0, 0.15);\n",
       "      filter: drop-shadow(0px 1px 2px rgba(0, 0, 0, 0.3));\n",
       "      fill: #FFFFFF;\n",
       "    }\n",
       "  </style>\n",
       "\n",
       "      <script>\n",
       "        const buttonEl =\n",
       "          document.querySelector('#df-54963f69-51e4-49ca-8b81-ee3b8f3ca25c button.colab-df-convert');\n",
       "        buttonEl.style.display =\n",
       "          google.colab.kernel.accessAllowed ? 'block' : 'none';\n",
       "\n",
       "        async function convertToInteractive(key) {\n",
       "          const element = document.querySelector('#df-54963f69-51e4-49ca-8b81-ee3b8f3ca25c');\n",
       "          const dataTable =\n",
       "            await google.colab.kernel.invokeFunction('convertToInteractive',\n",
       "                                                     [key], {});\n",
       "          if (!dataTable) return;\n",
       "\n",
       "          const docLinkHtml = 'Like what you see? Visit the ' +\n",
       "            '<a target=\"_blank\" href=https://colab.research.google.com/notebooks/data_table.ipynb>data table notebook</a>'\n",
       "            + ' to learn more about interactive tables.';\n",
       "          element.innerHTML = '';\n",
       "          dataTable['output_type'] = 'display_data';\n",
       "          await google.colab.output.renderOutput(dataTable, element);\n",
       "          const docLink = document.createElement('div');\n",
       "          docLink.innerHTML = docLinkHtml;\n",
       "          element.appendChild(docLink);\n",
       "        }\n",
       "      </script>\n",
       "    </div>\n",
       "  </div>\n",
       "  "
      ],
      "text/plain": [
       "                id date_account_created timestamp_first_active  \\\n",
       "183139  nl60xpeabe           2014-05-01    2014-05-01 18:06:36   \n",
       "183870  9ake5pesag           2014-05-03    2014-05-03 05:07:51   \n",
       "30015   5i8m0osvyh           2012-07-01    2012-07-01 18:10:34   \n",
       "110064  qom4xa8joj           2013-09-22    2013-09-22 22:06:32   \n",
       "145748  e9o0xy6hu5           2014-01-25    2014-01-25 03:34:37   \n",
       "...            ...                  ...                    ...   \n",
       "126286  wetpfwfo5g           2013-11-20    2013-11-20 20:42:23   \n",
       "171319  y3wea6fqve           2014-04-03    2014-04-03 18:51:48   \n",
       "125549  gjow1bwnb7           2013-11-18    2013-11-18 16:10:29   \n",
       "126738  ez3wpg4y32           2013-11-22    2013-11-22 06:48:36   \n",
       "104929  ia26vne6up           2013-09-04    2013-09-04 18:00:26   \n",
       "\n",
       "       date_first_booking  gender   age signup_method  signup_flow language  \\\n",
       "183139         2014-06-07  FEMALE  31.0         basic            0       en   \n",
       "183870         2014-05-04    MALE  39.0         basic            0       en   \n",
       "30015          2013-05-07  FEMALE  34.0         basic           12       en   \n",
       "110064         2013-09-22    MALE  64.0         basic            0       en   \n",
       "145748         2014-01-25  FEMALE  56.0         basic            0       en   \n",
       "...                   ...     ...   ...           ...          ...      ...   \n",
       "126286         2013-12-06    MALE  31.0         basic            0       en   \n",
       "171319         2014-04-03  FEMALE  28.0         basic            0       en   \n",
       "125549         2014-05-01  FEMALE  33.0         basic            0       en   \n",
       "126738         2014-07-02  FEMALE  21.0         basic            0       en   \n",
       "104929         2013-10-01  FEMALE  33.0         basic            0       en   \n",
       "\n",
       "       affiliate_channel  ... first_device_type first_browser  \\\n",
       "183139             other  ...   Windows Desktop       Firefox   \n",
       "183870            direct  ...       Mac Desktop        Chrome   \n",
       "30015                api  ...       Mac Desktop        Safari   \n",
       "110064         sem-brand  ...       Mac Desktop        Safari   \n",
       "145748         sem-brand  ...       Mac Desktop        Chrome   \n",
       "...                  ...  ...               ...           ...   \n",
       "126286            direct  ...       Mac Desktop        Chrome   \n",
       "171319         sem-brand  ...       Mac Desktop        Safari   \n",
       "125549            direct  ...       Mac Desktop       Firefox   \n",
       "126738            direct  ...       Mac Desktop        Safari   \n",
       "104929            direct  ...       Mac Desktop       Firefox   \n",
       "\n",
       "       country_destination  year       Date  Year  Month Day  WeekOfYear  \\\n",
       "183139                  US  2014 2014-06-07  2014      6   7          23   \n",
       "183870                  ES  2014 2014-05-04  2014      5   4          18   \n",
       "30015                   GB  2012 2013-05-07  2013      5   7          19   \n",
       "110064                  US  2013 2013-09-22  2013      9  22          38   \n",
       "145748                  US  2014 2014-01-25  2014      1  25           4   \n",
       "...                    ...   ...        ...   ...    ...  ..         ...   \n",
       "126286                  US  2013 2013-12-06  2013     12   6          49   \n",
       "171319                  US  2014 2014-04-03  2014      4   3          14   \n",
       "125549                  IT  2013 2014-05-01  2014      5   1          18   \n",
       "126738                  CA  2013 2014-07-02  2014      7   2          27   \n",
       "104929                  US  2013 2013-10-01  2013     10   1          40   \n",
       "\n",
       "        elapsed_time  \n",
       "183139     3131604.0  \n",
       "183870       67929.0  \n",
       "30015     26718566.0  \n",
       "110064       79592.0  \n",
       "145748       12877.0  \n",
       "...              ...  \n",
       "126286     1307857.0  \n",
       "171319       67908.0  \n",
       "125549    14111371.0  \n",
       "126738    19156284.0  \n",
       "104929     2267974.0  \n",
       "\n",
       "[11631 rows x 23 columns]"
      ]
     },
     "execution_count": 313,
     "metadata": {},
     "output_type": "execute_result"
    }
   ],
   "source": [
    "val_df"
   ]
  },
  {
   "cell_type": "code",
   "execution_count": 314,
   "metadata": {
    "colab": {
     "base_uri": "https://localhost:8080/"
    },
    "executionInfo": {
     "elapsed": 114,
     "status": "ok",
     "timestamp": 1660167060218,
     "user": {
      "displayName": "dibya jyoti",
      "userId": "13905139023208611565"
     },
     "user_tz": -330
    },
    "id": "6Y1C16lUCITg",
    "outputId": "8aeaa422-9953-4b8f-dec4-0ff653987da2"
   },
   "outputs": [
    {
     "data": {
      "text/plain": [
       "Index(['id', 'date_account_created', 'timestamp_first_active',\n",
       "       'date_first_booking', 'gender', 'age', 'signup_method', 'signup_flow',\n",
       "       'language', 'affiliate_channel', 'affiliate_provider',\n",
       "       'first_affiliate_tracked', 'signup_app', 'first_device_type',\n",
       "       'first_browser', 'country_destination', 'year', 'Date', 'Year', 'Month',\n",
       "       'Day', 'WeekOfYear', 'elapsed_time'],\n",
       "      dtype='object')"
      ]
     },
     "execution_count": 314,
     "metadata": {},
     "output_type": "execute_result"
    }
   ],
   "source": [
    "train_df.columns.unique()"
   ]
  },
  {
   "cell_type": "code",
   "execution_count": 315,
   "metadata": {
    "executionInfo": {
     "elapsed": 102,
     "status": "ok",
     "timestamp": 1660167060221,
     "user": {
      "displayName": "dibya jyoti",
      "userId": "13905139023208611565"
     },
     "user_tz": -330
    },
    "id": "gKM0SJAmCITg"
   },
   "outputs": [],
   "source": [
    "train_targets=train_df['country_destination']\n",
    "val_targets=val_df['country_destination']\n",
    "train_df= train_df.drop(columns=['id', 'date_account_created','timestamp_first_active','date_first_booking','country_destination'])\n",
    "val_df= val_df.drop(columns=['id', 'date_account_created','timestamp_first_active','date_first_booking','country_destination'])\n",
    "\n",
    "\n"
   ]
  },
  {
   "cell_type": "code",
   "execution_count": 316,
   "metadata": {
    "executionInfo": {
     "elapsed": 102,
     "status": "ok",
     "timestamp": 1660167060223,
     "user": {
      "displayName": "dibya jyoti",
      "userId": "13905139023208611565"
     },
     "user_tz": -330
    },
    "id": "GkJqtXUnCITh"
   },
   "outputs": [],
   "source": [
    "numeric_cols=train_df.select_dtypes(include=np.number).columns.tolist()\n",
    "categorical_cols=train_df.select_dtypes('object').columns.tolist()"
   ]
  },
  {
   "cell_type": "code",
   "execution_count": 317,
   "metadata": {
    "colab": {
     "base_uri": "https://localhost:8080/"
    },
    "executionInfo": {
     "elapsed": 103,
     "status": "ok",
     "timestamp": 1660167060225,
     "user": {
      "displayName": "dibya jyoti",
      "userId": "13905139023208611565"
     },
     "user_tz": -330
    },
    "id": "Bw2S0qHDCITh",
    "outputId": "9d345550-ab60-49c0-d96e-c35be126c5c5"
   },
   "outputs": [
    {
     "data": {
      "text/plain": [
       "['age',\n",
       " 'signup_flow',\n",
       " 'year',\n",
       " 'Year',\n",
       " 'Month',\n",
       " 'Day',\n",
       " 'WeekOfYear',\n",
       " 'elapsed_time']"
      ]
     },
     "execution_count": 317,
     "metadata": {},
     "output_type": "execute_result"
    }
   ],
   "source": [
    "numeric_cols"
   ]
  },
  {
   "cell_type": "code",
   "execution_count": 318,
   "metadata": {
    "colab": {
     "base_uri": "https://localhost:8080/"
    },
    "executionInfo": {
     "elapsed": 91,
     "status": "ok",
     "timestamp": 1660167060237,
     "user": {
      "displayName": "dibya jyoti",
      "userId": "13905139023208611565"
     },
     "user_tz": -330
    },
    "id": "LUt5seqQCITh",
    "outputId": "40e807ff-96c2-4786-a0d2-d120dde3af0f"
   },
   "outputs": [
    {
     "data": {
      "text/plain": [
       "['gender',\n",
       " 'signup_method',\n",
       " 'language',\n",
       " 'affiliate_channel',\n",
       " 'affiliate_provider',\n",
       " 'first_affiliate_tracked',\n",
       " 'signup_app',\n",
       " 'first_device_type',\n",
       " 'first_browser']"
      ]
     },
     "execution_count": 318,
     "metadata": {},
     "output_type": "execute_result"
    }
   ],
   "source": [
    "categorical_cols"
   ]
  },
  {
   "cell_type": "code",
   "execution_count": 319,
   "metadata": {
    "colab": {
     "base_uri": "https://localhost:8080/"
    },
    "executionInfo": {
     "elapsed": 87,
     "status": "ok",
     "timestamp": 1660167060242,
     "user": {
      "displayName": "dibya jyoti",
      "userId": "13905139023208611565"
     },
     "user_tz": -330
    },
    "id": "kh8NLJyfCITi",
    "outputId": "2c76219b-ab7a-45d8-98de-2c13a6325a63"
   },
   "outputs": [
    {
     "data": {
      "text/plain": [
       "age             0\n",
       "signup_flow     0\n",
       "year            0\n",
       "Year            0\n",
       "Month           0\n",
       "Day             0\n",
       "WeekOfYear      0\n",
       "elapsed_time    0\n",
       "dtype: int64"
      ]
     },
     "execution_count": 319,
     "metadata": {},
     "output_type": "execute_result"
    }
   ],
   "source": [
    "train_df[numeric_cols].isna().sum()"
   ]
  },
  {
   "cell_type": "code",
   "execution_count": 320,
   "metadata": {
    "colab": {
     "base_uri": "https://localhost:8080/",
     "height": 112
    },
    "executionInfo": {
     "elapsed": 77,
     "status": "ok",
     "timestamp": 1660167060245,
     "user": {
      "displayName": "dibya jyoti",
      "userId": "13905139023208611565"
     },
     "user_tz": -330
    },
    "id": "FSaGc6ZgCITi",
    "outputId": "4ca8b63e-faad-4fb3-ac32-809200b20862"
   },
   "outputs": [
    {
     "data": {
      "text/html": [
       "\n",
       "  <div id=\"df-9b667afb-4bdf-4139-a539-504bb749cb38\">\n",
       "    <div class=\"colab-df-container\">\n",
       "      <div>\n",
       "<style scoped>\n",
       "    .dataframe tbody tr th:only-of-type {\n",
       "        vertical-align: middle;\n",
       "    }\n",
       "\n",
       "    .dataframe tbody tr th {\n",
       "        vertical-align: top;\n",
       "    }\n",
       "\n",
       "    .dataframe thead th {\n",
       "        text-align: right;\n",
       "    }\n",
       "</style>\n",
       "<table border=\"1\" class=\"dataframe\">\n",
       "  <thead>\n",
       "    <tr style=\"text-align: right;\">\n",
       "      <th></th>\n",
       "      <th>age</th>\n",
       "      <th>signup_flow</th>\n",
       "      <th>year</th>\n",
       "      <th>Year</th>\n",
       "      <th>Month</th>\n",
       "      <th>Day</th>\n",
       "      <th>WeekOfYear</th>\n",
       "      <th>elapsed_time</th>\n",
       "    </tr>\n",
       "  </thead>\n",
       "  <tbody>\n",
       "    <tr>\n",
       "      <th>min</th>\n",
       "      <td>15.0</td>\n",
       "      <td>0.0</td>\n",
       "      <td>2010.0</td>\n",
       "      <td>2010.0</td>\n",
       "      <td>1.0</td>\n",
       "      <td>1.0</td>\n",
       "      <td>1.0</td>\n",
       "      <td>1.0</td>\n",
       "    </tr>\n",
       "    <tr>\n",
       "      <th>max</th>\n",
       "      <td>80.0</td>\n",
       "      <td>25.0</td>\n",
       "      <td>2014.0</td>\n",
       "      <td>2015.0</td>\n",
       "      <td>12.0</td>\n",
       "      <td>31.0</td>\n",
       "      <td>53.0</td>\n",
       "      <td>118218781.0</td>\n",
       "    </tr>\n",
       "  </tbody>\n",
       "</table>\n",
       "</div>\n",
       "      <button class=\"colab-df-convert\" onclick=\"convertToInteractive('df-9b667afb-4bdf-4139-a539-504bb749cb38')\"\n",
       "              title=\"Convert this dataframe to an interactive table.\"\n",
       "              style=\"display:none;\">\n",
       "        \n",
       "  <svg xmlns=\"http://www.w3.org/2000/svg\" height=\"24px\"viewBox=\"0 0 24 24\"\n",
       "       width=\"24px\">\n",
       "    <path d=\"M0 0h24v24H0V0z\" fill=\"none\"/>\n",
       "    <path d=\"M18.56 5.44l.94 2.06.94-2.06 2.06-.94-2.06-.94-.94-2.06-.94 2.06-2.06.94zm-11 1L8.5 8.5l.94-2.06 2.06-.94-2.06-.94L8.5 2.5l-.94 2.06-2.06.94zm10 10l.94 2.06.94-2.06 2.06-.94-2.06-.94-.94-2.06-.94 2.06-2.06.94z\"/><path d=\"M17.41 7.96l-1.37-1.37c-.4-.4-.92-.59-1.43-.59-.52 0-1.04.2-1.43.59L10.3 9.45l-7.72 7.72c-.78.78-.78 2.05 0 2.83L4 21.41c.39.39.9.59 1.41.59.51 0 1.02-.2 1.41-.59l7.78-7.78 2.81-2.81c.8-.78.8-2.07 0-2.86zM5.41 20L4 18.59l7.72-7.72 1.47 1.35L5.41 20z\"/>\n",
       "  </svg>\n",
       "      </button>\n",
       "      \n",
       "  <style>\n",
       "    .colab-df-container {\n",
       "      display:flex;\n",
       "      flex-wrap:wrap;\n",
       "      gap: 12px;\n",
       "    }\n",
       "\n",
       "    .colab-df-convert {\n",
       "      background-color: #E8F0FE;\n",
       "      border: none;\n",
       "      border-radius: 50%;\n",
       "      cursor: pointer;\n",
       "      display: none;\n",
       "      fill: #1967D2;\n",
       "      height: 32px;\n",
       "      padding: 0 0 0 0;\n",
       "      width: 32px;\n",
       "    }\n",
       "\n",
       "    .colab-df-convert:hover {\n",
       "      background-color: #E2EBFA;\n",
       "      box-shadow: 0px 1px 2px rgba(60, 64, 67, 0.3), 0px 1px 3px 1px rgba(60, 64, 67, 0.15);\n",
       "      fill: #174EA6;\n",
       "    }\n",
       "\n",
       "    [theme=dark] .colab-df-convert {\n",
       "      background-color: #3B4455;\n",
       "      fill: #D2E3FC;\n",
       "    }\n",
       "\n",
       "    [theme=dark] .colab-df-convert:hover {\n",
       "      background-color: #434B5C;\n",
       "      box-shadow: 0px 1px 3px 1px rgba(0, 0, 0, 0.15);\n",
       "      filter: drop-shadow(0px 1px 2px rgba(0, 0, 0, 0.3));\n",
       "      fill: #FFFFFF;\n",
       "    }\n",
       "  </style>\n",
       "\n",
       "      <script>\n",
       "        const buttonEl =\n",
       "          document.querySelector('#df-9b667afb-4bdf-4139-a539-504bb749cb38 button.colab-df-convert');\n",
       "        buttonEl.style.display =\n",
       "          google.colab.kernel.accessAllowed ? 'block' : 'none';\n",
       "\n",
       "        async function convertToInteractive(key) {\n",
       "          const element = document.querySelector('#df-9b667afb-4bdf-4139-a539-504bb749cb38');\n",
       "          const dataTable =\n",
       "            await google.colab.kernel.invokeFunction('convertToInteractive',\n",
       "                                                     [key], {});\n",
       "          if (!dataTable) return;\n",
       "\n",
       "          const docLinkHtml = 'Like what you see? Visit the ' +\n",
       "            '<a target=\"_blank\" href=https://colab.research.google.com/notebooks/data_table.ipynb>data table notebook</a>'\n",
       "            + ' to learn more about interactive tables.';\n",
       "          element.innerHTML = '';\n",
       "          dataTable['output_type'] = 'display_data';\n",
       "          await google.colab.output.renderOutput(dataTable, element);\n",
       "          const docLink = document.createElement('div');\n",
       "          docLink.innerHTML = docLinkHtml;\n",
       "          element.appendChild(docLink);\n",
       "        }\n",
       "      </script>\n",
       "    </div>\n",
       "  </div>\n",
       "  "
      ],
      "text/plain": [
       "      age  signup_flow    year    Year  Month   Day  WeekOfYear  elapsed_time\n",
       "min  15.0          0.0  2010.0  2010.0    1.0   1.0         1.0           1.0\n",
       "max  80.0         25.0  2014.0  2015.0   12.0  31.0        53.0   118218781.0"
      ]
     },
     "execution_count": 320,
     "metadata": {},
     "output_type": "execute_result"
    }
   ],
   "source": [
    "train_df[numeric_cols].describe().loc[['min','max']]"
   ]
  },
  {
   "cell_type": "code",
   "execution_count": 321,
   "metadata": {
    "executionInfo": {
     "elapsed": 78,
     "status": "ok",
     "timestamp": 1660167060250,
     "user": {
      "displayName": "dibya jyoti",
      "userId": "13905139023208611565"
     },
     "user_tz": -330
    },
    "id": "p4UFb2tbCITi"
   },
   "outputs": [],
   "source": [
    "from sklearn.preprocessing import MinMaxScaler"
   ]
  },
  {
   "cell_type": "code",
   "execution_count": 322,
   "metadata": {
    "executionInfo": {
     "elapsed": 83,
     "status": "ok",
     "timestamp": 1660167060256,
     "user": {
      "displayName": "dibya jyoti",
      "userId": "13905139023208611565"
     },
     "user_tz": -330
    },
    "id": "AA4nLNR8CITj"
   },
   "outputs": [],
   "source": [
    "scaler=MinMaxScaler().fit(train_df[numeric_cols])"
   ]
  },
  {
   "cell_type": "code",
   "execution_count": 323,
   "metadata": {
    "executionInfo": {
     "elapsed": 84,
     "status": "ok",
     "timestamp": 1660167060258,
     "user": {
      "displayName": "dibya jyoti",
      "userId": "13905139023208611565"
     },
     "user_tz": -330
    },
    "id": "Olommkq9CITj"
   },
   "outputs": [],
   "source": [
    "train_df[numeric_cols]=scaler.transform(train_df[numeric_cols])\n",
    "val_df[numeric_cols]=scaler.transform(val_df[numeric_cols])"
   ]
  },
  {
   "cell_type": "code",
   "execution_count": 324,
   "metadata": {
    "colab": {
     "base_uri": "https://localhost:8080/",
     "height": 112
    },
    "executionInfo": {
     "elapsed": 549,
     "status": "ok",
     "timestamp": 1660167060725,
     "user": {
      "displayName": "dibya jyoti",
      "userId": "13905139023208611565"
     },
     "user_tz": -330
    },
    "id": "Pt3ONnaZCITj",
    "outputId": "7605041d-cc0f-41b9-a320-a522d582d75c"
   },
   "outputs": [
    {
     "data": {
      "text/html": [
       "\n",
       "  <div id=\"df-505bad92-7f9c-4fd6-94bc-a329392d78ff\">\n",
       "    <div class=\"colab-df-container\">\n",
       "      <div>\n",
       "<style scoped>\n",
       "    .dataframe tbody tr th:only-of-type {\n",
       "        vertical-align: middle;\n",
       "    }\n",
       "\n",
       "    .dataframe tbody tr th {\n",
       "        vertical-align: top;\n",
       "    }\n",
       "\n",
       "    .dataframe thead th {\n",
       "        text-align: right;\n",
       "    }\n",
       "</style>\n",
       "<table border=\"1\" class=\"dataframe\">\n",
       "  <thead>\n",
       "    <tr style=\"text-align: right;\">\n",
       "      <th></th>\n",
       "      <th>age</th>\n",
       "      <th>signup_flow</th>\n",
       "      <th>year</th>\n",
       "      <th>Year</th>\n",
       "      <th>Month</th>\n",
       "      <th>Day</th>\n",
       "      <th>WeekOfYear</th>\n",
       "      <th>elapsed_time</th>\n",
       "    </tr>\n",
       "  </thead>\n",
       "  <tbody>\n",
       "    <tr>\n",
       "      <th>min</th>\n",
       "      <td>0.0</td>\n",
       "      <td>0.0</td>\n",
       "      <td>0.0</td>\n",
       "      <td>0.0</td>\n",
       "      <td>0.0</td>\n",
       "      <td>0.0</td>\n",
       "      <td>0.0</td>\n",
       "      <td>0.0</td>\n",
       "    </tr>\n",
       "    <tr>\n",
       "      <th>max</th>\n",
       "      <td>1.0</td>\n",
       "      <td>1.0</td>\n",
       "      <td>1.0</td>\n",
       "      <td>1.0</td>\n",
       "      <td>1.0</td>\n",
       "      <td>1.0</td>\n",
       "      <td>1.0</td>\n",
       "      <td>1.0</td>\n",
       "    </tr>\n",
       "  </tbody>\n",
       "</table>\n",
       "</div>\n",
       "      <button class=\"colab-df-convert\" onclick=\"convertToInteractive('df-505bad92-7f9c-4fd6-94bc-a329392d78ff')\"\n",
       "              title=\"Convert this dataframe to an interactive table.\"\n",
       "              style=\"display:none;\">\n",
       "        \n",
       "  <svg xmlns=\"http://www.w3.org/2000/svg\" height=\"24px\"viewBox=\"0 0 24 24\"\n",
       "       width=\"24px\">\n",
       "    <path d=\"M0 0h24v24H0V0z\" fill=\"none\"/>\n",
       "    <path d=\"M18.56 5.44l.94 2.06.94-2.06 2.06-.94-2.06-.94-.94-2.06-.94 2.06-2.06.94zm-11 1L8.5 8.5l.94-2.06 2.06-.94-2.06-.94L8.5 2.5l-.94 2.06-2.06.94zm10 10l.94 2.06.94-2.06 2.06-.94-2.06-.94-.94-2.06-.94 2.06-2.06.94z\"/><path d=\"M17.41 7.96l-1.37-1.37c-.4-.4-.92-.59-1.43-.59-.52 0-1.04.2-1.43.59L10.3 9.45l-7.72 7.72c-.78.78-.78 2.05 0 2.83L4 21.41c.39.39.9.59 1.41.59.51 0 1.02-.2 1.41-.59l7.78-7.78 2.81-2.81c.8-.78.8-2.07 0-2.86zM5.41 20L4 18.59l7.72-7.72 1.47 1.35L5.41 20z\"/>\n",
       "  </svg>\n",
       "      </button>\n",
       "      \n",
       "  <style>\n",
       "    .colab-df-container {\n",
       "      display:flex;\n",
       "      flex-wrap:wrap;\n",
       "      gap: 12px;\n",
       "    }\n",
       "\n",
       "    .colab-df-convert {\n",
       "      background-color: #E8F0FE;\n",
       "      border: none;\n",
       "      border-radius: 50%;\n",
       "      cursor: pointer;\n",
       "      display: none;\n",
       "      fill: #1967D2;\n",
       "      height: 32px;\n",
       "      padding: 0 0 0 0;\n",
       "      width: 32px;\n",
       "    }\n",
       "\n",
       "    .colab-df-convert:hover {\n",
       "      background-color: #E2EBFA;\n",
       "      box-shadow: 0px 1px 2px rgba(60, 64, 67, 0.3), 0px 1px 3px 1px rgba(60, 64, 67, 0.15);\n",
       "      fill: #174EA6;\n",
       "    }\n",
       "\n",
       "    [theme=dark] .colab-df-convert {\n",
       "      background-color: #3B4455;\n",
       "      fill: #D2E3FC;\n",
       "    }\n",
       "\n",
       "    [theme=dark] .colab-df-convert:hover {\n",
       "      background-color: #434B5C;\n",
       "      box-shadow: 0px 1px 3px 1px rgba(0, 0, 0, 0.15);\n",
       "      filter: drop-shadow(0px 1px 2px rgba(0, 0, 0, 0.3));\n",
       "      fill: #FFFFFF;\n",
       "    }\n",
       "  </style>\n",
       "\n",
       "      <script>\n",
       "        const buttonEl =\n",
       "          document.querySelector('#df-505bad92-7f9c-4fd6-94bc-a329392d78ff button.colab-df-convert');\n",
       "        buttonEl.style.display =\n",
       "          google.colab.kernel.accessAllowed ? 'block' : 'none';\n",
       "\n",
       "        async function convertToInteractive(key) {\n",
       "          const element = document.querySelector('#df-505bad92-7f9c-4fd6-94bc-a329392d78ff');\n",
       "          const dataTable =\n",
       "            await google.colab.kernel.invokeFunction('convertToInteractive',\n",
       "                                                     [key], {});\n",
       "          if (!dataTable) return;\n",
       "\n",
       "          const docLinkHtml = 'Like what you see? Visit the ' +\n",
       "            '<a target=\"_blank\" href=https://colab.research.google.com/notebooks/data_table.ipynb>data table notebook</a>'\n",
       "            + ' to learn more about interactive tables.';\n",
       "          element.innerHTML = '';\n",
       "          dataTable['output_type'] = 'display_data';\n",
       "          await google.colab.output.renderOutput(dataTable, element);\n",
       "          const docLink = document.createElement('div');\n",
       "          docLink.innerHTML = docLinkHtml;\n",
       "          element.appendChild(docLink);\n",
       "        }\n",
       "      </script>\n",
       "    </div>\n",
       "  </div>\n",
       "  "
      ],
      "text/plain": [
       "     age  signup_flow  year  Year  Month  Day  WeekOfYear  elapsed_time\n",
       "min  0.0          0.0   0.0   0.0    0.0  0.0         0.0           0.0\n",
       "max  1.0          1.0   1.0   1.0    1.0  1.0         1.0           1.0"
      ]
     },
     "execution_count": 324,
     "metadata": {},
     "output_type": "execute_result"
    }
   ],
   "source": [
    "train_df[numeric_cols].describe().loc[['min','max']]"
   ]
  },
  {
   "cell_type": "code",
   "execution_count": 325,
   "metadata": {
    "colab": {
     "base_uri": "https://localhost:8080/"
    },
    "executionInfo": {
     "elapsed": 32,
     "status": "ok",
     "timestamp": 1660167060728,
     "user": {
      "displayName": "dibya jyoti",
      "userId": "13905139023208611565"
     },
     "user_tz": -330
    },
    "id": "lYslpTIuCITk",
    "outputId": "1eafe3c7-ebd4-4673-c165-be3bb54b0948"
   },
   "outputs": [
    {
     "data": {
      "text/plain": [
       "gender                      3\n",
       "signup_method               3\n",
       "language                   22\n",
       "affiliate_channel           8\n",
       "affiliate_provider         16\n",
       "first_affiliate_tracked     7\n",
       "signup_app                  4\n",
       "first_device_type           9\n",
       "first_browser              35\n",
       "dtype: int64"
      ]
     },
     "execution_count": 325,
     "metadata": {},
     "output_type": "execute_result"
    }
   ],
   "source": [
    "train_df[categorical_cols].nunique()"
   ]
  },
  {
   "cell_type": "code",
   "execution_count": 326,
   "metadata": {
    "colab": {
     "base_uri": "https://localhost:8080/"
    },
    "executionInfo": {
     "elapsed": 27,
     "status": "ok",
     "timestamp": 1660167060729,
     "user": {
      "displayName": "dibya jyoti",
      "userId": "13905139023208611565"
     },
     "user_tz": -330
    },
    "id": "xifQA-wfCITk",
    "outputId": "f41ad11b-5cc0-4086-ddc7-18bbf20bf673"
   },
   "outputs": [
    {
     "data": {
      "text/plain": [
       "[array(['FEMALE', 'MALE', 'OTHER'], dtype=object),\n",
       " array(['basic', 'facebook', 'google'], dtype=object),\n",
       " array(['ca', 'cs', 'da', 'de', 'el', 'en', 'es', 'fi', 'fr', 'hu', 'it',\n",
       "        'ja', 'ko', 'nl', 'no', 'pl', 'pt', 'ru', 'sv', 'th', 'tr', 'zh'],\n",
       "       dtype=object),\n",
       " array(['api', 'content', 'direct', 'other', 'remarketing', 'sem-brand',\n",
       "        'sem-non-brand', 'seo'], dtype=object),\n",
       " array(['baidu', 'bing', 'craigslist', 'direct', 'email-marketing',\n",
       "        'facebook', 'facebook-open-graph', 'google', 'gsp', 'meetup',\n",
       "        'naver', 'other', 'padmapper', 'vast', 'yahoo', 'yandex'],\n",
       "       dtype=object),\n",
       " array(['linked', 'local ops', 'marketing', 'omg', 'product',\n",
       "        'tracked-other', 'untracked', nan], dtype=object),\n",
       " array(['Android', 'Moweb', 'Web', 'iOS'], dtype=object),\n",
       " array(['Android Phone', 'Android Tablet', 'Desktop (Other)',\n",
       "        'Mac Desktop', 'Other/Unknown', 'SmartPhone (Other)',\n",
       "        'Windows Desktop', 'iPad', 'iPhone'], dtype=object),\n",
       " array(['-unknown-', 'AOL Explorer', 'Android Browser', 'Apple Mail',\n",
       "        'BlackBerry Browser', 'Camino', 'Chrome', 'Chrome Mobile',\n",
       "        'Chromium', 'CometBird', 'CoolNovo', 'Firefox', 'IE', 'IE Mobile',\n",
       "        'IceWeasel', 'Iron', 'Maxthon', 'Mobile Firefox', 'Mobile Safari',\n",
       "        'Mozilla', 'NetNewsWire', 'Opera', 'Opera Mini', 'Pale Moon',\n",
       "        'RockMelt', 'Safari', 'SeaMonkey', 'Silk', 'SiteKiosk',\n",
       "        'SlimBrowser', 'Sogou Explorer', 'Stainless', 'TenFourFox',\n",
       "        'TheWorld Browser', 'wOSBrowser'], dtype=object)]"
      ]
     },
     "execution_count": 326,
     "metadata": {},
     "output_type": "execute_result"
    }
   ],
   "source": [
    "from sklearn.preprocessing import OneHotEncoder\n",
    "encoder=OneHotEncoder(sparse=False,handle_unknown='ignore')\n",
    "encoder.fit(train_df[categorical_cols])\n",
    "encoder.categories_"
   ]
  },
  {
   "cell_type": "code",
   "execution_count": 327,
   "metadata": {
    "colab": {
     "base_uri": "https://localhost:8080/"
    },
    "executionInfo": {
     "elapsed": 22,
     "status": "ok",
     "timestamp": 1660167060730,
     "user": {
      "displayName": "dibya jyoti",
      "userId": "13905139023208611565"
     },
     "user_tz": -330
    },
    "id": "FTzvb4x1CITk",
    "outputId": "436f2956-8a08-4245-bc8b-ae47e1c74915"
   },
   "outputs": [
    {
     "name": "stdout",
     "output_type": "stream",
     "text": [
      "['gender_FEMALE', 'gender_MALE', 'gender_OTHER', 'signup_method_basic', 'signup_method_facebook', 'signup_method_google', 'language_ca', 'language_cs', 'language_da', 'language_de', 'language_el', 'language_en', 'language_es', 'language_fi', 'language_fr', 'language_hu', 'language_it', 'language_ja', 'language_ko', 'language_nl', 'language_no', 'language_pl', 'language_pt', 'language_ru', 'language_sv', 'language_th', 'language_tr', 'language_zh', 'affiliate_channel_api', 'affiliate_channel_content', 'affiliate_channel_direct', 'affiliate_channel_other', 'affiliate_channel_remarketing', 'affiliate_channel_sem-brand', 'affiliate_channel_sem-non-brand', 'affiliate_channel_seo', 'affiliate_provider_baidu', 'affiliate_provider_bing', 'affiliate_provider_craigslist', 'affiliate_provider_direct', 'affiliate_provider_email-marketing', 'affiliate_provider_facebook', 'affiliate_provider_facebook-open-graph', 'affiliate_provider_google', 'affiliate_provider_gsp', 'affiliate_provider_meetup', 'affiliate_provider_naver', 'affiliate_provider_other', 'affiliate_provider_padmapper', 'affiliate_provider_vast', 'affiliate_provider_yahoo', 'affiliate_provider_yandex', 'first_affiliate_tracked_linked', 'first_affiliate_tracked_local ops', 'first_affiliate_tracked_marketing', 'first_affiliate_tracked_omg', 'first_affiliate_tracked_product', 'first_affiliate_tracked_tracked-other', 'first_affiliate_tracked_untracked', 'first_affiliate_tracked_nan', 'signup_app_Android', 'signup_app_Moweb', 'signup_app_Web', 'signup_app_iOS', 'first_device_type_Android Phone', 'first_device_type_Android Tablet', 'first_device_type_Desktop (Other)', 'first_device_type_Mac Desktop', 'first_device_type_Other/Unknown', 'first_device_type_SmartPhone (Other)', 'first_device_type_Windows Desktop', 'first_device_type_iPad', 'first_device_type_iPhone', 'first_browser_-unknown-', 'first_browser_AOL Explorer', 'first_browser_Android Browser', 'first_browser_Apple Mail', 'first_browser_BlackBerry Browser', 'first_browser_Camino', 'first_browser_Chrome', 'first_browser_Chrome Mobile', 'first_browser_Chromium', 'first_browser_CometBird', 'first_browser_CoolNovo', 'first_browser_Firefox', 'first_browser_IE', 'first_browser_IE Mobile', 'first_browser_IceWeasel', 'first_browser_Iron', 'first_browser_Maxthon', 'first_browser_Mobile Firefox', 'first_browser_Mobile Safari', 'first_browser_Mozilla', 'first_browser_NetNewsWire', 'first_browser_Opera', 'first_browser_Opera Mini', 'first_browser_Pale Moon', 'first_browser_RockMelt', 'first_browser_Safari', 'first_browser_SeaMonkey', 'first_browser_Silk', 'first_browser_SiteKiosk', 'first_browser_SlimBrowser', 'first_browser_Sogou Explorer', 'first_browser_Stainless', 'first_browser_TenFourFox', 'first_browser_TheWorld Browser', 'first_browser_wOSBrowser']\n"
     ]
    },
    {
     "name": "stderr",
     "output_type": "stream",
     "text": [
      "/usr/local/lib/python3.7/dist-packages/sklearn/utils/deprecation.py:87: FutureWarning: Function get_feature_names is deprecated; get_feature_names is deprecated in 1.0 and will be removed in 1.2. Please use get_feature_names_out instead.\n",
      "  warnings.warn(msg, category=FutureWarning)\n"
     ]
    }
   ],
   "source": [
    "encoded_cols=list(encoder.get_feature_names(categorical_cols))\n",
    "print(encoded_cols)"
   ]
  },
  {
   "cell_type": "code",
   "execution_count": 328,
   "metadata": {
    "colab": {
     "base_uri": "https://localhost:8080/"
    },
    "executionInfo": {
     "elapsed": 791,
     "status": "ok",
     "timestamp": 1660167061505,
     "user": {
      "displayName": "dibya jyoti",
      "userId": "13905139023208611565"
     },
     "user_tz": -330
    },
    "id": "KWoLHnGWCITl",
    "outputId": "41182ea3-358b-43ca-eb5c-4ec8254305bd"
   },
   "outputs": [
    {
     "name": "stderr",
     "output_type": "stream",
     "text": [
      "/usr/local/lib/python3.7/dist-packages/pandas/core/frame.py:3678: PerformanceWarning: DataFrame is highly fragmented.  This is usually the result of calling `frame.insert` many times, which has poor performance.  Consider joining all columns at once using pd.concat(axis=1) instead.  To get a de-fragmented frame, use `newframe = frame.copy()`\n",
      "  self[col] = igetitem(value, i)\n",
      "/usr/local/lib/python3.7/dist-packages/pandas/core/frame.py:3678: PerformanceWarning: DataFrame is highly fragmented.  This is usually the result of calling `frame.insert` many times, which has poor performance.  Consider joining all columns at once using pd.concat(axis=1) instead.  To get a de-fragmented frame, use `newframe = frame.copy()`\n",
      "  self[col] = igetitem(value, i)\n"
     ]
    }
   ],
   "source": [
    "train_df[encoded_cols]=encoder.transform(train_df[categorical_cols])\n",
    "val_df[encoded_cols]=encoder.transform(val_df[categorical_cols])"
   ]
  },
  {
   "cell_type": "code",
   "execution_count": 329,
   "metadata": {
    "executionInfo": {
     "elapsed": 16,
     "status": "ok",
     "timestamp": 1660167061508,
     "user": {
      "displayName": "dibya jyoti",
      "userId": "13905139023208611565"
     },
     "user_tz": -330
    },
    "id": "A0J-6dGiCITl"
   },
   "outputs": [],
   "source": [
    "train_inputs=train_df[numeric_cols+encoded_cols]\n",
    "val_inputs=val_df[numeric_cols+encoded_cols]"
   ]
  },
  {
   "cell_type": "code",
   "execution_count": 330,
   "metadata": {
    "colab": {
     "base_uri": "https://localhost:8080/",
     "height": 505
    },
    "executionInfo": {
     "elapsed": 17,
     "status": "ok",
     "timestamp": 1660167061510,
     "user": {
      "displayName": "dibya jyoti",
      "userId": "13905139023208611565"
     },
     "user_tz": -330
    },
    "id": "sGcgTN5MCITl",
    "outputId": "00574669-f3aa-4fe7-f280-9127bb84379c"
   },
   "outputs": [
    {
     "data": {
      "text/html": [
       "\n",
       "  <div id=\"df-99c2a3fa-18e7-4529-bf81-f7e5af2d3e18\">\n",
       "    <div class=\"colab-df-container\">\n",
       "      <div>\n",
       "<style scoped>\n",
       "    .dataframe tbody tr th:only-of-type {\n",
       "        vertical-align: middle;\n",
       "    }\n",
       "\n",
       "    .dataframe tbody tr th {\n",
       "        vertical-align: top;\n",
       "    }\n",
       "\n",
       "    .dataframe thead th {\n",
       "        text-align: right;\n",
       "    }\n",
       "</style>\n",
       "<table border=\"1\" class=\"dataframe\">\n",
       "  <thead>\n",
       "    <tr style=\"text-align: right;\">\n",
       "      <th></th>\n",
       "      <th>age</th>\n",
       "      <th>signup_flow</th>\n",
       "      <th>year</th>\n",
       "      <th>Year</th>\n",
       "      <th>Month</th>\n",
       "      <th>Day</th>\n",
       "      <th>WeekOfYear</th>\n",
       "      <th>elapsed_time</th>\n",
       "      <th>gender_FEMALE</th>\n",
       "      <th>gender_MALE</th>\n",
       "      <th>...</th>\n",
       "      <th>first_browser_Safari</th>\n",
       "      <th>first_browser_SeaMonkey</th>\n",
       "      <th>first_browser_Silk</th>\n",
       "      <th>first_browser_SiteKiosk</th>\n",
       "      <th>first_browser_SlimBrowser</th>\n",
       "      <th>first_browser_Sogou Explorer</th>\n",
       "      <th>first_browser_Stainless</th>\n",
       "      <th>first_browser_TenFourFox</th>\n",
       "      <th>first_browser_TheWorld Browser</th>\n",
       "      <th>first_browser_wOSBrowser</th>\n",
       "    </tr>\n",
       "  </thead>\n",
       "  <tbody>\n",
       "    <tr>\n",
       "      <th>55362</th>\n",
       "      <td>0.276923</td>\n",
       "      <td>0.00</td>\n",
       "      <td>0.75</td>\n",
       "      <td>0.6</td>\n",
       "      <td>0.636364</td>\n",
       "      <td>0.600000</td>\n",
       "      <td>0.634615</td>\n",
       "      <td>0.161343</td>\n",
       "      <td>1.0</td>\n",
       "      <td>0.0</td>\n",
       "      <td>...</td>\n",
       "      <td>0.0</td>\n",
       "      <td>0.0</td>\n",
       "      <td>0.0</td>\n",
       "      <td>0.0</td>\n",
       "      <td>0.0</td>\n",
       "      <td>0.0</td>\n",
       "      <td>0.0</td>\n",
       "      <td>0.0</td>\n",
       "      <td>0.0</td>\n",
       "      <td>0.0</td>\n",
       "    </tr>\n",
       "    <tr>\n",
       "      <th>137517</th>\n",
       "      <td>0.246154</td>\n",
       "      <td>0.00</td>\n",
       "      <td>1.00</td>\n",
       "      <td>0.8</td>\n",
       "      <td>0.000000</td>\n",
       "      <td>0.066667</td>\n",
       "      <td>0.000000</td>\n",
       "      <td>0.000008</td>\n",
       "      <td>0.0</td>\n",
       "      <td>1.0</td>\n",
       "      <td>...</td>\n",
       "      <td>1.0</td>\n",
       "      <td>0.0</td>\n",
       "      <td>0.0</td>\n",
       "      <td>0.0</td>\n",
       "      <td>0.0</td>\n",
       "      <td>0.0</td>\n",
       "      <td>0.0</td>\n",
       "      <td>0.0</td>\n",
       "      <td>0.0</td>\n",
       "      <td>0.0</td>\n",
       "    </tr>\n",
       "    <tr>\n",
       "      <th>115643</th>\n",
       "      <td>0.876923</td>\n",
       "      <td>0.00</td>\n",
       "      <td>0.75</td>\n",
       "      <td>0.6</td>\n",
       "      <td>0.818182</td>\n",
       "      <td>0.300000</td>\n",
       "      <td>0.769231</td>\n",
       "      <td>0.000010</td>\n",
       "      <td>0.0</td>\n",
       "      <td>1.0</td>\n",
       "      <td>...</td>\n",
       "      <td>0.0</td>\n",
       "      <td>0.0</td>\n",
       "      <td>0.0</td>\n",
       "      <td>0.0</td>\n",
       "      <td>0.0</td>\n",
       "      <td>0.0</td>\n",
       "      <td>0.0</td>\n",
       "      <td>0.0</td>\n",
       "      <td>0.0</td>\n",
       "      <td>0.0</td>\n",
       "    </tr>\n",
       "    <tr>\n",
       "      <th>35202</th>\n",
       "      <td>0.430769</td>\n",
       "      <td>0.12</td>\n",
       "      <td>0.50</td>\n",
       "      <td>0.4</td>\n",
       "      <td>0.636364</td>\n",
       "      <td>0.166667</td>\n",
       "      <td>0.596154</td>\n",
       "      <td>0.000144</td>\n",
       "      <td>1.0</td>\n",
       "      <td>0.0</td>\n",
       "      <td>...</td>\n",
       "      <td>0.0</td>\n",
       "      <td>0.0</td>\n",
       "      <td>0.0</td>\n",
       "      <td>0.0</td>\n",
       "      <td>0.0</td>\n",
       "      <td>0.0</td>\n",
       "      <td>0.0</td>\n",
       "      <td>0.0</td>\n",
       "      <td>0.0</td>\n",
       "      <td>0.0</td>\n",
       "    </tr>\n",
       "    <tr>\n",
       "      <th>44038</th>\n",
       "      <td>0.246154</td>\n",
       "      <td>0.00</td>\n",
       "      <td>0.50</td>\n",
       "      <td>0.4</td>\n",
       "      <td>0.818182</td>\n",
       "      <td>0.266667</td>\n",
       "      <td>0.769231</td>\n",
       "      <td>0.000111</td>\n",
       "      <td>1.0</td>\n",
       "      <td>0.0</td>\n",
       "      <td>...</td>\n",
       "      <td>0.0</td>\n",
       "      <td>0.0</td>\n",
       "      <td>0.0</td>\n",
       "      <td>0.0</td>\n",
       "      <td>0.0</td>\n",
       "      <td>0.0</td>\n",
       "      <td>0.0</td>\n",
       "      <td>0.0</td>\n",
       "      <td>0.0</td>\n",
       "      <td>0.0</td>\n",
       "    </tr>\n",
       "    <tr>\n",
       "      <th>...</th>\n",
       "      <td>...</td>\n",
       "      <td>...</td>\n",
       "      <td>...</td>\n",
       "      <td>...</td>\n",
       "      <td>...</td>\n",
       "      <td>...</td>\n",
       "      <td>...</td>\n",
       "      <td>...</td>\n",
       "      <td>...</td>\n",
       "      <td>...</td>\n",
       "      <td>...</td>\n",
       "      <td>...</td>\n",
       "      <td>...</td>\n",
       "      <td>...</td>\n",
       "      <td>...</td>\n",
       "      <td>...</td>\n",
       "      <td>...</td>\n",
       "      <td>...</td>\n",
       "      <td>...</td>\n",
       "      <td>...</td>\n",
       "      <td>...</td>\n",
       "    </tr>\n",
       "    <tr>\n",
       "      <th>12252</th>\n",
       "      <td>0.815385</td>\n",
       "      <td>0.08</td>\n",
       "      <td>0.25</td>\n",
       "      <td>0.2</td>\n",
       "      <td>0.909091</td>\n",
       "      <td>0.566667</td>\n",
       "      <td>0.865385</td>\n",
       "      <td>0.007126</td>\n",
       "      <td>0.0</td>\n",
       "      <td>1.0</td>\n",
       "      <td>...</td>\n",
       "      <td>0.0</td>\n",
       "      <td>0.0</td>\n",
       "      <td>0.0</td>\n",
       "      <td>0.0</td>\n",
       "      <td>0.0</td>\n",
       "      <td>0.0</td>\n",
       "      <td>0.0</td>\n",
       "      <td>0.0</td>\n",
       "      <td>0.0</td>\n",
       "      <td>0.0</td>\n",
       "    </tr>\n",
       "    <tr>\n",
       "      <th>144799</th>\n",
       "      <td>0.415385</td>\n",
       "      <td>0.00</td>\n",
       "      <td>1.00</td>\n",
       "      <td>0.8</td>\n",
       "      <td>0.090909</td>\n",
       "      <td>0.100000</td>\n",
       "      <td>0.096154</td>\n",
       "      <td>0.008947</td>\n",
       "      <td>0.0</td>\n",
       "      <td>1.0</td>\n",
       "      <td>...</td>\n",
       "      <td>1.0</td>\n",
       "      <td>0.0</td>\n",
       "      <td>0.0</td>\n",
       "      <td>0.0</td>\n",
       "      <td>0.0</td>\n",
       "      <td>0.0</td>\n",
       "      <td>0.0</td>\n",
       "      <td>0.0</td>\n",
       "      <td>0.0</td>\n",
       "      <td>0.0</td>\n",
       "    </tr>\n",
       "    <tr>\n",
       "      <th>211156</th>\n",
       "      <td>0.400000</td>\n",
       "      <td>0.00</td>\n",
       "      <td>1.00</td>\n",
       "      <td>0.8</td>\n",
       "      <td>0.454545</td>\n",
       "      <td>0.866667</td>\n",
       "      <td>0.480769</td>\n",
       "      <td>0.000176</td>\n",
       "      <td>0.0</td>\n",
       "      <td>1.0</td>\n",
       "      <td>...</td>\n",
       "      <td>0.0</td>\n",
       "      <td>0.0</td>\n",
       "      <td>0.0</td>\n",
       "      <td>0.0</td>\n",
       "      <td>0.0</td>\n",
       "      <td>0.0</td>\n",
       "      <td>0.0</td>\n",
       "      <td>0.0</td>\n",
       "      <td>0.0</td>\n",
       "      <td>0.0</td>\n",
       "    </tr>\n",
       "    <tr>\n",
       "      <th>1600</th>\n",
       "      <td>0.676923</td>\n",
       "      <td>0.12</td>\n",
       "      <td>0.00</td>\n",
       "      <td>0.0</td>\n",
       "      <td>0.727273</td>\n",
       "      <td>0.366667</td>\n",
       "      <td>0.673077</td>\n",
       "      <td>0.006381</td>\n",
       "      <td>1.0</td>\n",
       "      <td>0.0</td>\n",
       "      <td>...</td>\n",
       "      <td>1.0</td>\n",
       "      <td>0.0</td>\n",
       "      <td>0.0</td>\n",
       "      <td>0.0</td>\n",
       "      <td>0.0</td>\n",
       "      <td>0.0</td>\n",
       "      <td>0.0</td>\n",
       "      <td>0.0</td>\n",
       "      <td>0.0</td>\n",
       "      <td>0.0</td>\n",
       "    </tr>\n",
       "    <tr>\n",
       "      <th>34965</th>\n",
       "      <td>0.276923</td>\n",
       "      <td>0.48</td>\n",
       "      <td>0.50</td>\n",
       "      <td>0.4</td>\n",
       "      <td>0.909091</td>\n",
       "      <td>0.333333</td>\n",
       "      <td>0.846154</td>\n",
       "      <td>0.072276</td>\n",
       "      <td>1.0</td>\n",
       "      <td>0.0</td>\n",
       "      <td>...</td>\n",
       "      <td>1.0</td>\n",
       "      <td>0.0</td>\n",
       "      <td>0.0</td>\n",
       "      <td>0.0</td>\n",
       "      <td>0.0</td>\n",
       "      <td>0.0</td>\n",
       "      <td>0.0</td>\n",
       "      <td>0.0</td>\n",
       "      <td>0.0</td>\n",
       "      <td>0.0</td>\n",
       "    </tr>\n",
       "  </tbody>\n",
       "</table>\n",
       "<p>65903 rows × 116 columns</p>\n",
       "</div>\n",
       "      <button class=\"colab-df-convert\" onclick=\"convertToInteractive('df-99c2a3fa-18e7-4529-bf81-f7e5af2d3e18')\"\n",
       "              title=\"Convert this dataframe to an interactive table.\"\n",
       "              style=\"display:none;\">\n",
       "        \n",
       "  <svg xmlns=\"http://www.w3.org/2000/svg\" height=\"24px\"viewBox=\"0 0 24 24\"\n",
       "       width=\"24px\">\n",
       "    <path d=\"M0 0h24v24H0V0z\" fill=\"none\"/>\n",
       "    <path d=\"M18.56 5.44l.94 2.06.94-2.06 2.06-.94-2.06-.94-.94-2.06-.94 2.06-2.06.94zm-11 1L8.5 8.5l.94-2.06 2.06-.94-2.06-.94L8.5 2.5l-.94 2.06-2.06.94zm10 10l.94 2.06.94-2.06 2.06-.94-2.06-.94-.94-2.06-.94 2.06-2.06.94z\"/><path d=\"M17.41 7.96l-1.37-1.37c-.4-.4-.92-.59-1.43-.59-.52 0-1.04.2-1.43.59L10.3 9.45l-7.72 7.72c-.78.78-.78 2.05 0 2.83L4 21.41c.39.39.9.59 1.41.59.51 0 1.02-.2 1.41-.59l7.78-7.78 2.81-2.81c.8-.78.8-2.07 0-2.86zM5.41 20L4 18.59l7.72-7.72 1.47 1.35L5.41 20z\"/>\n",
       "  </svg>\n",
       "      </button>\n",
       "      \n",
       "  <style>\n",
       "    .colab-df-container {\n",
       "      display:flex;\n",
       "      flex-wrap:wrap;\n",
       "      gap: 12px;\n",
       "    }\n",
       "\n",
       "    .colab-df-convert {\n",
       "      background-color: #E8F0FE;\n",
       "      border: none;\n",
       "      border-radius: 50%;\n",
       "      cursor: pointer;\n",
       "      display: none;\n",
       "      fill: #1967D2;\n",
       "      height: 32px;\n",
       "      padding: 0 0 0 0;\n",
       "      width: 32px;\n",
       "    }\n",
       "\n",
       "    .colab-df-convert:hover {\n",
       "      background-color: #E2EBFA;\n",
       "      box-shadow: 0px 1px 2px rgba(60, 64, 67, 0.3), 0px 1px 3px 1px rgba(60, 64, 67, 0.15);\n",
       "      fill: #174EA6;\n",
       "    }\n",
       "\n",
       "    [theme=dark] .colab-df-convert {\n",
       "      background-color: #3B4455;\n",
       "      fill: #D2E3FC;\n",
       "    }\n",
       "\n",
       "    [theme=dark] .colab-df-convert:hover {\n",
       "      background-color: #434B5C;\n",
       "      box-shadow: 0px 1px 3px 1px rgba(0, 0, 0, 0.15);\n",
       "      filter: drop-shadow(0px 1px 2px rgba(0, 0, 0, 0.3));\n",
       "      fill: #FFFFFF;\n",
       "    }\n",
       "  </style>\n",
       "\n",
       "      <script>\n",
       "        const buttonEl =\n",
       "          document.querySelector('#df-99c2a3fa-18e7-4529-bf81-f7e5af2d3e18 button.colab-df-convert');\n",
       "        buttonEl.style.display =\n",
       "          google.colab.kernel.accessAllowed ? 'block' : 'none';\n",
       "\n",
       "        async function convertToInteractive(key) {\n",
       "          const element = document.querySelector('#df-99c2a3fa-18e7-4529-bf81-f7e5af2d3e18');\n",
       "          const dataTable =\n",
       "            await google.colab.kernel.invokeFunction('convertToInteractive',\n",
       "                                                     [key], {});\n",
       "          if (!dataTable) return;\n",
       "\n",
       "          const docLinkHtml = 'Like what you see? Visit the ' +\n",
       "            '<a target=\"_blank\" href=https://colab.research.google.com/notebooks/data_table.ipynb>data table notebook</a>'\n",
       "            + ' to learn more about interactive tables.';\n",
       "          element.innerHTML = '';\n",
       "          dataTable['output_type'] = 'display_data';\n",
       "          await google.colab.output.renderOutput(dataTable, element);\n",
       "          const docLink = document.createElement('div');\n",
       "          docLink.innerHTML = docLinkHtml;\n",
       "          element.appendChild(docLink);\n",
       "        }\n",
       "      </script>\n",
       "    </div>\n",
       "  </div>\n",
       "  "
      ],
      "text/plain": [
       "             age  signup_flow  year  Year     Month       Day  WeekOfYear  \\\n",
       "55362   0.276923         0.00  0.75   0.6  0.636364  0.600000    0.634615   \n",
       "137517  0.246154         0.00  1.00   0.8  0.000000  0.066667    0.000000   \n",
       "115643  0.876923         0.00  0.75   0.6  0.818182  0.300000    0.769231   \n",
       "35202   0.430769         0.12  0.50   0.4  0.636364  0.166667    0.596154   \n",
       "44038   0.246154         0.00  0.50   0.4  0.818182  0.266667    0.769231   \n",
       "...          ...          ...   ...   ...       ...       ...         ...   \n",
       "12252   0.815385         0.08  0.25   0.2  0.909091  0.566667    0.865385   \n",
       "144799  0.415385         0.00  1.00   0.8  0.090909  0.100000    0.096154   \n",
       "211156  0.400000         0.00  1.00   0.8  0.454545  0.866667    0.480769   \n",
       "1600    0.676923         0.12  0.00   0.0  0.727273  0.366667    0.673077   \n",
       "34965   0.276923         0.48  0.50   0.4  0.909091  0.333333    0.846154   \n",
       "\n",
       "        elapsed_time  gender_FEMALE  gender_MALE  ...  first_browser_Safari  \\\n",
       "55362       0.161343            1.0          0.0  ...                   0.0   \n",
       "137517      0.000008            0.0          1.0  ...                   1.0   \n",
       "115643      0.000010            0.0          1.0  ...                   0.0   \n",
       "35202       0.000144            1.0          0.0  ...                   0.0   \n",
       "44038       0.000111            1.0          0.0  ...                   0.0   \n",
       "...              ...            ...          ...  ...                   ...   \n",
       "12252       0.007126            0.0          1.0  ...                   0.0   \n",
       "144799      0.008947            0.0          1.0  ...                   1.0   \n",
       "211156      0.000176            0.0          1.0  ...                   0.0   \n",
       "1600        0.006381            1.0          0.0  ...                   1.0   \n",
       "34965       0.072276            1.0          0.0  ...                   1.0   \n",
       "\n",
       "        first_browser_SeaMonkey  first_browser_Silk  first_browser_SiteKiosk  \\\n",
       "55362                       0.0                 0.0                      0.0   \n",
       "137517                      0.0                 0.0                      0.0   \n",
       "115643                      0.0                 0.0                      0.0   \n",
       "35202                       0.0                 0.0                      0.0   \n",
       "44038                       0.0                 0.0                      0.0   \n",
       "...                         ...                 ...                      ...   \n",
       "12252                       0.0                 0.0                      0.0   \n",
       "144799                      0.0                 0.0                      0.0   \n",
       "211156                      0.0                 0.0                      0.0   \n",
       "1600                        0.0                 0.0                      0.0   \n",
       "34965                       0.0                 0.0                      0.0   \n",
       "\n",
       "        first_browser_SlimBrowser  first_browser_Sogou Explorer  \\\n",
       "55362                         0.0                           0.0   \n",
       "137517                        0.0                           0.0   \n",
       "115643                        0.0                           0.0   \n",
       "35202                         0.0                           0.0   \n",
       "44038                         0.0                           0.0   \n",
       "...                           ...                           ...   \n",
       "12252                         0.0                           0.0   \n",
       "144799                        0.0                           0.0   \n",
       "211156                        0.0                           0.0   \n",
       "1600                          0.0                           0.0   \n",
       "34965                         0.0                           0.0   \n",
       "\n",
       "        first_browser_Stainless  first_browser_TenFourFox  \\\n",
       "55362                       0.0                       0.0   \n",
       "137517                      0.0                       0.0   \n",
       "115643                      0.0                       0.0   \n",
       "35202                       0.0                       0.0   \n",
       "44038                       0.0                       0.0   \n",
       "...                         ...                       ...   \n",
       "12252                       0.0                       0.0   \n",
       "144799                      0.0                       0.0   \n",
       "211156                      0.0                       0.0   \n",
       "1600                        0.0                       0.0   \n",
       "34965                       0.0                       0.0   \n",
       "\n",
       "        first_browser_TheWorld Browser  first_browser_wOSBrowser  \n",
       "55362                              0.0                       0.0  \n",
       "137517                             0.0                       0.0  \n",
       "115643                             0.0                       0.0  \n",
       "35202                              0.0                       0.0  \n",
       "44038                              0.0                       0.0  \n",
       "...                                ...                       ...  \n",
       "12252                              0.0                       0.0  \n",
       "144799                             0.0                       0.0  \n",
       "211156                             0.0                       0.0  \n",
       "1600                               0.0                       0.0  \n",
       "34965                              0.0                       0.0  \n",
       "\n",
       "[65903 rows x 116 columns]"
      ]
     },
     "execution_count": 330,
     "metadata": {},
     "output_type": "execute_result"
    }
   ],
   "source": [
    "train_inputs"
   ]
  },
  {
   "cell_type": "markdown",
   "metadata": {
    "id": "aorJrRNxpcGP"
   },
   "source": [
    "## **Training the model**"
   ]
  },
  {
   "cell_type": "markdown",
   "metadata": {
    "id": "zxX82IKupkk1"
   },
   "source": [
    "Here two models are used to train namely Random Forest Classifier and XgbClassifier\n"
   ]
  },
  {
   "cell_type": "code",
   "execution_count": 331,
   "metadata": {
    "executionInfo": {
     "elapsed": 16,
     "status": "ok",
     "timestamp": 1660167061511,
     "user": {
      "displayName": "dibya jyoti",
      "userId": "13905139023208611565"
     },
     "user_tz": -330
    },
    "id": "4WkhNLrhCITm"
   },
   "outputs": [],
   "source": [
    "from sklearn.ensemble import RandomForestClassifier"
   ]
  },
  {
   "cell_type": "code",
   "execution_count": 332,
   "metadata": {
    "executionInfo": {
     "elapsed": 16,
     "status": "ok",
     "timestamp": 1660167061512,
     "user": {
      "displayName": "dibya jyoti",
      "userId": "13905139023208611565"
     },
     "user_tz": -330
    },
    "id": "enXMFfvxCITm"
   },
   "outputs": [],
   "source": [
    "model = RandomForestClassifier(n_jobs=-1, random_state=42)"
   ]
  },
  {
   "cell_type": "code",
   "execution_count": 333,
   "metadata": {
    "colab": {
     "base_uri": "https://localhost:8080/"
    },
    "executionInfo": {
     "elapsed": 24022,
     "status": "ok",
     "timestamp": 1660167085519,
     "user": {
      "displayName": "dibya jyoti",
      "userId": "13905139023208611565"
     },
     "user_tz": -330
    },
    "id": "cQq-GIw6E7sy",
    "outputId": "f04d4293-a39c-47be-b070-c9e882dfc1ae"
   },
   "outputs": [
    {
     "data": {
      "text/plain": [
       "RandomForestClassifier(n_jobs=-1, random_state=42)"
      ]
     },
     "execution_count": 333,
     "metadata": {},
     "output_type": "execute_result"
    }
   ],
   "source": [
    "model.fit(train_inputs, train_targets)"
   ]
  },
  {
   "cell_type": "code",
   "execution_count": 334,
   "metadata": {
    "colab": {
     "base_uri": "https://localhost:8080/"
    },
    "executionInfo": {
     "elapsed": 8492,
     "status": "ok",
     "timestamp": 1660167093978,
     "user": {
      "displayName": "dibya jyoti",
      "userId": "13905139023208611565"
     },
     "user_tz": -330
    },
    "id": "RjwrX4IhFKEI",
    "outputId": "f9a0a148-0ba2-4ae4-9fe7-33241733009a"
   },
   "outputs": [
    {
     "data": {
      "text/plain": [
       "0.999969652367874"
      ]
     },
     "execution_count": 334,
     "metadata": {},
     "output_type": "execute_result"
    }
   ],
   "source": [
    "model.score(train_inputs, train_targets)"
   ]
  },
  {
   "cell_type": "code",
   "execution_count": 335,
   "metadata": {
    "colab": {
     "base_uri": "https://localhost:8080/"
    },
    "executionInfo": {
     "elapsed": 1929,
     "status": "ok",
     "timestamp": 1660167095876,
     "user": {
      "displayName": "dibya jyoti",
      "userId": "13905139023208611565"
     },
     "user_tz": -330
    },
    "id": "bn3hOwLlFPHR",
    "outputId": "866a6a01-0250-4b17-8f17-5788dd9c6e1e"
   },
   "outputs": [
    {
     "data": {
      "text/plain": [
       "0.7813601581979194"
      ]
     },
     "execution_count": 335,
     "metadata": {},
     "output_type": "execute_result"
    }
   ],
   "source": [
    "model.score(val_inputs, val_targets)"
   ]
  },
  {
   "cell_type": "code",
   "execution_count": 336,
   "metadata": {
    "colab": {
     "base_uri": "https://localhost:8080/"
    },
    "executionInfo": {
     "elapsed": 8279,
     "status": "ok",
     "timestamp": 1660167104149,
     "user": {
      "displayName": "dibya jyoti",
      "userId": "13905139023208611565"
     },
     "user_tz": -330
    },
    "id": "8yM3NtMAFZ-3",
    "outputId": "a0b056e3-c0c4-497c-a75a-cccc7378894f"
   },
   "outputs": [
    {
     "data": {
      "text/plain": [
       "array([[0.  , 0.  , 0.  , ..., 0.  , 0.  , 0.93],\n",
       "       [0.02, 0.01, 0.  , ..., 0.  , 0.  , 0.86],\n",
       "       [0.  , 0.04, 0.01, ..., 0.02, 0.  , 0.84],\n",
       "       ...,\n",
       "       [0.  , 0.01, 0.  , ..., 0.  , 0.  , 0.89],\n",
       "       [0.  , 0.  , 0.01, ..., 0.  , 0.  , 0.26],\n",
       "       [0.  , 0.01, 0.  , ..., 0.01, 0.  , 0.9 ]])"
      ]
     },
     "execution_count": 336,
     "metadata": {},
     "output_type": "execute_result"
    }
   ],
   "source": [
    "train_probs = model.predict_proba(train_inputs)\n",
    "train_probs"
   ]
  },
  {
   "cell_type": "code",
   "execution_count": 337,
   "metadata": {
    "colab": {
     "base_uri": "https://localhost:8080/"
    },
    "executionInfo": {
     "elapsed": 7515,
     "status": "ok",
     "timestamp": 1660167111629,
     "user": {
      "displayName": "dibya jyoti",
      "userId": "13905139023208611565"
     },
     "user_tz": -330
    },
    "id": "IUCSvvlDFhXy",
    "outputId": "946a6c73-2178-44a4-86c2-ecd26cf7083f"
   },
   "outputs": [
    {
     "data": {
      "text/plain": [
       "array(['US', 'US', 'US', ..., 'US', 'FR', 'US'], dtype=object)"
      ]
     },
     "execution_count": 337,
     "metadata": {},
     "output_type": "execute_result"
    }
   ],
   "source": [
    "train_preds = model.predict(train_inputs)\n",
    "train_preds\n"
   ]
  },
  {
   "cell_type": "code",
   "execution_count": 338,
   "metadata": {
    "executionInfo": {
     "elapsed": 30,
     "status": "ok",
     "timestamp": 1660167111630,
     "user": {
      "displayName": "dibya jyoti",
      "userId": "13905139023208611565"
     },
     "user_tz": -330
    },
    "id": "DEQP7zotF4P1"
   },
   "outputs": [],
   "source": [
    "importance_df = pd.DataFrame({\n",
    "    'feature': train_inputs.columns,\n",
    "    'importance': model.feature_importances_\n",
    "}).sort_values('importance', ascending=False)"
   ]
  },
  {
   "cell_type": "code",
   "execution_count": 339,
   "metadata": {
    "colab": {
     "base_uri": "https://localhost:8080/",
     "height": 416
    },
    "executionInfo": {
     "elapsed": 1442,
     "status": "ok",
     "timestamp": 1660167113045,
     "user": {
      "displayName": "dibya jyoti",
      "userId": "13905139023208611565"
     },
     "user_tz": -330
    },
    "id": "x5bxWbjTGBtU",
    "outputId": "27d29c20-1b90-4b5d-e8bd-b689e41864ff"
   },
   "outputs": [
    {
     "data": {
      "image/png": "[encoded data removed]",
      "text/plain": [
       "<Figure size 720x432 with 1 Axes>"
      ]
     },
     "metadata": {
      "needs_background": "light"
     },
     "output_type": "display_data"
    }
   ],
   "source": [
    "plt.title('Feature Importance')\n",
    "sns.barplot(data=importance_df.head(10), x='importance', y='feature');"
   ]
  },
  {
   "cell_type": "markdown",
   "metadata": {
    "id": "OBY0VJZRpzbG"
   },
   "source": [
    "It seems elapsed time was an played an important factor in deciding the destination."
   ]
  },
  {
   "cell_type": "code",
   "execution_count": 340,
   "metadata": {
    "executionInfo": {
     "elapsed": 449,
     "status": "ok",
     "timestamp": 1660167113486,
     "user": {
      "displayName": "dibya jyoti",
      "userId": "13905139023208611565"
     },
     "user_tz": -330
    },
    "id": "Msn6r0GGGGgK"
   },
   "outputs": [],
   "source": [
    "def test_params(**params):\n",
    "    model = RandomForestClassifier(random_state=42, n_jobs=-1, **params).fit(train_inputs, train_targets)\n",
    "    return model.score(train_inputs, train_targets), model.score(val_inputs, val_targets)"
   ]
  },
  {
   "cell_type": "code",
   "execution_count": 341,
   "metadata": {
    "colab": {
     "base_uri": "https://localhost:8080/",
     "height": 87
    },
    "executionInfo": {
     "elapsed": 3014,
     "status": "ok",
     "timestamp": 1660167116495,
     "user": {
      "displayName": "dibya jyoti",
      "userId": "13905139023208611565"
     },
     "user_tz": -330
    },
    "id": "MkwkhZKxCITm",
    "outputId": "c9534200-1d55-4e03-8939-258cd18abf23"
   },
   "outputs": [
    {
     "name": "stdout",
     "output_type": "stream",
     "text": [
      "[jovian] Detected Colab notebook...\u001b[0m\n",
      "[jovian] Uploading colab notebook to Jovian...\u001b[0m\n",
      "Committed successfully! https://jovian.ai/dibyababu105/machine-learning-project\n"
     ]
    },
    {
     "data": {
      "application/vnd.google.colaboratory.intrinsic+json": {
       "type": "string"
      },
      "text/plain": [
       "'https://jovian.ai/dibyababu105/machine-learning-project'"
      ]
     },
     "execution_count": 341,
     "metadata": {},
     "output_type": "execute_result"
    }
   ],
   "source": [
    "jovian.commit(project=\"machine-learning-project\")"
   ]
  },
  {
   "cell_type": "markdown",
   "metadata": {
    "id": "yeu_v1FaqOPG"
   },
   "source": [
    "## **Hyperparameters tuning**"
   ]
  },
  {
   "cell_type": "code",
   "execution_count": 342,
   "metadata": {
    "colab": {
     "base_uri": "https://localhost:8080/"
    },
    "executionInfo": {
     "elapsed": 17545,
     "status": "ok",
     "timestamp": 1660167134025,
     "user": {
      "displayName": "dibya jyoti",
      "userId": "13905139023208611565"
     },
     "user_tz": -330
    },
    "id": "5sd-uhLbGZdP",
    "outputId": "18d1a2b6-b48c-49d6-ce17-51061c2db61f"
   },
   "outputs": [
    {
     "data": {
      "text/plain": [
       "(0.999969652367874, 0.7813601581979194)"
      ]
     },
     "execution_count": 342,
     "metadata": {},
     "output_type": "execute_result"
    }
   ],
   "source": [
    "test_params( n_estimators=100)"
   ]
  },
  {
   "cell_type": "code",
   "execution_count": 343,
   "metadata": {
    "colab": {
     "base_uri": "https://localhost:8080/"
    },
    "executionInfo": {
     "elapsed": 30700,
     "status": "ok",
     "timestamp": 1660167164701,
     "user": {
      "displayName": "dibya jyoti",
      "userId": "13905139023208611565"
     },
     "user_tz": -330
    },
    "id": "xIQMFIR_GpdB",
    "outputId": "37ecc21d-20db-41c7-9f8a-d19033978dd7"
   },
   "outputs": [
    {
     "data": {
      "text/plain": [
       "(1.0, 0.7814461353280028)"
      ]
     },
     "execution_count": 343,
     "metadata": {},
     "output_type": "execute_result"
    }
   ],
   "source": [
    "test_params( n_estimators=200)"
   ]
  },
  {
   "cell_type": "code",
   "execution_count": 344,
   "metadata": {
    "colab": {
     "base_uri": "https://localhost:8080/"
    },
    "executionInfo": {
     "elapsed": 3984,
     "status": "ok",
     "timestamp": 1660167168653,
     "user": {
      "displayName": "dibya jyoti",
      "userId": "13905139023208611565"
     },
     "user_tz": -330
    },
    "id": "oFldpeHtHIxR",
    "outputId": "06c72a38-aa74-4b22-ea24-ffa7f4328ead"
   },
   "outputs": [
    {
     "data": {
      "text/plain": [
       "(0.792407022442074, 0.785830968962256)"
      ]
     },
     "execution_count": 344,
     "metadata": {},
     "output_type": "execute_result"
    }
   ],
   "source": [
    "test_params(max_depth=5)"
   ]
  },
  {
   "cell_type": "code",
   "execution_count": 345,
   "metadata": {
    "colab": {
     "base_uri": "https://localhost:8080/"
    },
    "executionInfo": {
     "elapsed": 6261,
     "status": "ok",
     "timestamp": 1660167174907,
     "user": {
      "displayName": "dibya jyoti",
      "userId": "13905139023208611565"
     },
     "user_tz": -330
    },
    "id": "RIk2zPqjHRro",
    "outputId": "d169fd66-3e90-4e13-96d1-28f6c958b939"
   },
   "outputs": [
    {
     "data": {
      "text/plain": [
       "(0.792407022442074, 0.785830968962256)"
      ]
     },
     "execution_count": 345,
     "metadata": {},
     "output_type": "execute_result"
    }
   ],
   "source": [
    "test_params(max_depth=10)"
   ]
  },
  {
   "cell_type": "code",
   "execution_count": 346,
   "metadata": {
    "colab": {
     "base_uri": "https://localhost:8080/"
    },
    "executionInfo": {
     "elapsed": 5056,
     "status": "ok",
     "timestamp": 1660167179928,
     "user": {
      "displayName": "dibya jyoti",
      "userId": "13905139023208611565"
     },
     "user_tz": -330
    },
    "id": "ijVDgN17Hr0o",
    "outputId": "fa2b0a83-200a-4bb1-bcec-2b849f48dd06"
   },
   "outputs": [
    {
     "data": {
      "text/plain": [
       "(0.792407022442074, 0.785830968962256)"
      ]
     },
     "execution_count": 346,
     "metadata": {},
     "output_type": "execute_result"
    }
   ],
   "source": [
    "test_params(max_leaf_nodes=2**5)"
   ]
  },
  {
   "cell_type": "code",
   "execution_count": 347,
   "metadata": {
    "colab": {
     "base_uri": "https://localhost:8080/"
    },
    "executionInfo": {
     "elapsed": 21095,
     "status": "ok",
     "timestamp": 1660167200990,
     "user": {
      "displayName": "dibya jyoti",
      "userId": "13905139023208611565"
     },
     "user_tz": -330
    },
    "id": "GqBr8pghH-94",
    "outputId": "80de0133-9785-4bb8-9e7a-1832ce9b574e"
   },
   "outputs": [
    {
     "data": {
      "text/plain": [
       "(0.999969652367874, 0.7811882039377526)"
      ]
     },
     "execution_count": 347,
     "metadata": {},
     "output_type": "execute_result"
    }
   ],
   "source": [
    "test_params(max_leaf_nodes=2**15)"
   ]
  },
  {
   "cell_type": "code",
   "execution_count": 348,
   "metadata": {
    "colab": {
     "base_uri": "https://localhost:8080/"
    },
    "executionInfo": {
     "elapsed": 15998,
     "status": "ok",
     "timestamp": 1660167216968,
     "user": {
      "displayName": "dibya jyoti",
      "userId": "13905139023208611565"
     },
     "user_tz": -330
    },
    "id": "ZiAR_RXHILkl",
    "outputId": "45f37ef7-0724-46b8-d429-54322316bd77"
   },
   "outputs": [
    {
     "data": {
      "text/plain": [
       "(0.999908957103622, 0.7789527985555842)"
      ]
     },
     "execution_count": 348,
     "metadata": {},
     "output_type": "execute_result"
    }
   ],
   "source": [
    "test_params(max_features=6)"
   ]
  },
  {
   "cell_type": "code",
   "execution_count": 349,
   "metadata": {
    "colab": {
     "base_uri": "https://localhost:8080/"
    },
    "executionInfo": {
     "elapsed": 16931,
     "status": "ok",
     "timestamp": 1660167233876,
     "user": {
      "displayName": "dibya jyoti",
      "userId": "13905139023208611565"
     },
     "user_tz": -330
    },
    "id": "FI7gmWPpIWhs",
    "outputId": "2f8b15d6-0716-47d4-b0a2-3fd93e2c98d5"
   },
   "outputs": [
    {
     "data": {
      "text/plain": [
       "(0.999924130919685, 0.7805003868970853)"
      ]
     },
     "execution_count": 349,
     "metadata": {},
     "output_type": "execute_result"
    }
   ],
   "source": [
    "test_params(max_features=9)"
   ]
  },
  {
   "cell_type": "code",
   "execution_count": 350,
   "metadata": {
    "colab": {
     "base_uri": "https://localhost:8080/"
    },
    "executionInfo": {
     "elapsed": 12763,
     "status": "ok",
     "timestamp": 1660167246614,
     "user": {
      "displayName": "dibya jyoti",
      "userId": "13905139023208611565"
     },
     "user_tz": -330
    },
    "id": "7LLCGXbYI3Xo",
    "outputId": "3315b485-e81a-43cd-c089-efdcdf305a61"
   },
   "outputs": [
    {
     "data": {
      "text/plain": [
       "(0.792452543890263, 0.785830968962256)"
      ]
     },
     "execution_count": 350,
     "metadata": {},
     "output_type": "execute_result"
    }
   ],
   "source": [
    "test_params(min_samples_split=3, min_samples_leaf=2)"
   ]
  },
  {
   "cell_type": "code",
   "execution_count": 351,
   "metadata": {
    "colab": {
     "base_uri": "https://localhost:8080/"
    },
    "executionInfo": {
     "elapsed": 7157,
     "status": "ok",
     "timestamp": 1660167253730,
     "user": {
      "displayName": "dibya jyoti",
      "userId": "13905139023208611565"
     },
     "user_tz": -330
    },
    "id": "MQr3OSAhI_zM",
    "outputId": "9d6de6cc-3c7d-47e8-c6b1-db27275e2bad"
   },
   "outputs": [
    {
     "data": {
      "text/plain": [
       "(0.792407022442074, 0.785830968962256)"
      ]
     },
     "execution_count": 351,
     "metadata": {},
     "output_type": "execute_result"
    }
   ],
   "source": [
    "test_params(min_samples_split=100, min_samples_leaf=40)"
   ]
  },
  {
   "cell_type": "code",
   "execution_count": 352,
   "metadata": {
    "colab": {
     "base_uri": "https://localhost:8080/",
     "height": 87
    },
    "executionInfo": {
     "elapsed": 3430,
     "status": "ok",
     "timestamp": 1660167257115,
     "user": {
      "displayName": "dibya jyoti",
      "userId": "13905139023208611565"
     },
     "user_tz": -330
    },
    "id": "Qii-F4ttMcxD",
    "outputId": "e2a5d700-1c4a-4e40-e1f6-eddb8ff6360d"
   },
   "outputs": [
    {
     "name": "stdout",
     "output_type": "stream",
     "text": [
      "[jovian] Detected Colab notebook...\u001b[0m\n",
      "[jovian] Uploading colab notebook to Jovian...\u001b[0m\n",
      "Committed successfully! https://jovian.ai/dibyababu105/machine-learning-project\n"
     ]
    },
    {
     "data": {
      "application/vnd.google.colaboratory.intrinsic+json": {
       "type": "string"
      },
      "text/plain": [
       "'https://jovian.ai/dibyababu105/machine-learning-project'"
      ]
     },
     "execution_count": 352,
     "metadata": {},
     "output_type": "execute_result"
    }
   ],
   "source": [
    "jovian.commit(project=\"machine-learning-project\")"
   ]
  },
  {
   "cell_type": "code",
   "execution_count": 353,
   "metadata": {
    "executionInfo": {
     "elapsed": 45,
     "status": "ok",
     "timestamp": 1660167257127,
     "user": {
      "displayName": "dibya jyoti",
      "userId": "13905139023208611565"
     },
     "user_tz": -330
    },
    "id": "XkMy5P8gN-4D"
   },
   "outputs": [],
   "source": [
    "model1 = RandomForestClassifier(n_jobs=-1, random_state=42, n_estimators=100,max_depth=5,max_leaf_nodes=2**5,max_features=9)"
   ]
  },
  {
   "cell_type": "code",
   "execution_count": 354,
   "metadata": {
    "colab": {
     "base_uri": "https://localhost:8080/"
    },
    "executionInfo": {
     "elapsed": 2048,
     "status": "ok",
     "timestamp": 1660167259139,
     "user": {
      "displayName": "dibya jyoti",
      "userId": "13905139023208611565"
     },
     "user_tz": -330
    },
    "id": "8-XW9HlGWnI-",
    "outputId": "e9affe3a-d62f-4fd1-dc69-8388c1fb66ae"
   },
   "outputs": [
    {
     "data": {
      "text/plain": [
       "RandomForestClassifier(max_depth=5, max_features=9, max_leaf_nodes=32,\n",
       "                       n_jobs=-1, random_state=42)"
      ]
     },
     "execution_count": 354,
     "metadata": {},
     "output_type": "execute_result"
    }
   ],
   "source": [
    "model1.fit(train_inputs, train_targets)"
   ]
  },
  {
   "cell_type": "code",
   "execution_count": 355,
   "metadata": {
    "colab": {
     "base_uri": "https://localhost:8080/"
    },
    "executionInfo": {
     "elapsed": 461,
     "status": "ok",
     "timestamp": 1660167259598,
     "user": {
      "displayName": "dibya jyoti",
      "userId": "13905139023208611565"
     },
     "user_tz": -330
    },
    "id": "s3NIP4jjW-u9",
    "outputId": "a0708b60-7d35-4d12-a429-596eaaad5b64"
   },
   "outputs": [
    {
     "data": {
      "text/plain": [
       "0.785830968962256"
      ]
     },
     "execution_count": 355,
     "metadata": {},
     "output_type": "execute_result"
    }
   ],
   "source": [
    "model1.score(val_inputs, val_targets)"
   ]
  },
  {
   "cell_type": "markdown",
   "metadata": {
    "id": "xhyxx4x5yHJa"
   },
   "source": [
    "Thus the best score from validation set is 78.58%"
   ]
  },
  {
   "cell_type": "code",
   "execution_count": 356,
   "metadata": {
    "colab": {
     "base_uri": "https://localhost:8080/",
     "height": 87
    },
    "executionInfo": {
     "elapsed": 2847,
     "status": "ok",
     "timestamp": 1660167262437,
     "user": {
      "displayName": "dibya jyoti",
      "userId": "13905139023208611565"
     },
     "user_tz": -330
    },
    "id": "ikUeF-zZXMUU",
    "outputId": "30d34ba4-2417-42e5-9f94-32c25e89c084"
   },
   "outputs": [
    {
     "name": "stdout",
     "output_type": "stream",
     "text": [
      "[jovian] Detected Colab notebook...\u001b[0m\n",
      "[jovian] Uploading colab notebook to Jovian...\u001b[0m\n",
      "Committed successfully! https://jovian.ai/dibyababu105/machine-learning-project\n"
     ]
    },
    {
     "data": {
      "application/vnd.google.colaboratory.intrinsic+json": {
       "type": "string"
      },
      "text/plain": [
       "'https://jovian.ai/dibyababu105/machine-learning-project'"
      ]
     },
     "execution_count": 356,
     "metadata": {},
     "output_type": "execute_result"
    }
   ],
   "source": [
    "jovian.commit(project=\"machine-learning-project\")"
   ]
  },
  {
   "cell_type": "code",
   "execution_count": 357,
   "metadata": {
    "executionInfo": {
     "elapsed": 23,
     "status": "ok",
     "timestamp": 1660167262442,
     "user": {
      "displayName": "dibya jyoti",
      "userId": "13905139023208611565"
     },
     "user_tz": -330
    },
    "id": "LdU0NPFlXQQi"
   },
   "outputs": [],
   "source": [
    "from xgboost import XGBClassifier\n",
    "\n"
   ]
  },
  {
   "cell_type": "code",
   "execution_count": 358,
   "metadata": {
    "executionInfo": {
     "elapsed": 26,
     "status": "ok",
     "timestamp": 1660167262446,
     "user": {
      "displayName": "dibya jyoti",
      "userId": "13905139023208611565"
     },
     "user_tz": -330
    },
    "id": "ewMpauXC94Ii"
   },
   "outputs": [],
   "source": [
    "from xgboost.sklearn import XGBClassifier\n",
    "def test_hparams(**params):\n",
    "    Model = XGBClassifier(random_state=42, n_jobs=-1, **params).fit(train_inputs, train_targets)\n",
    "    return Model.score(train_inputs, train_targets), Model.score(val_inputs, val_targets)\n"
   ]
  },
  {
   "cell_type": "code",
   "execution_count": 374,
   "metadata": {
    "colab": {
     "base_uri": "https://localhost:8080/"
    },
    "executionInfo": {
     "elapsed": 4112,
     "status": "ok",
     "timestamp": 1660169963788,
     "user": {
      "displayName": "dibya jyoti",
      "userId": "13905139023208611565"
     },
     "user_tz": -330
    },
    "id": "XX78YQR51rw8",
    "outputId": "4bfb4903-c25b-4c87-db68-e6b2f850c312"
   },
   "outputs": [
    {
     "data": {
      "text/plain": [
       "0.792467717706326"
      ]
     },
     "execution_count": 374,
     "metadata": {},
     "output_type": "execute_result"
    }
   ],
   "source": [
    "Model.score(train_inputs, train_targets)"
   ]
  },
  {
   "cell_type": "code",
   "execution_count": 375,
   "metadata": {
    "colab": {
     "base_uri": "https://localhost:8080/"
    },
    "executionInfo": {
     "elapsed": 1033,
     "status": "ok",
     "timestamp": 1660169973205,
     "user": {
      "displayName": "dibya jyoti",
      "userId": "13905139023208611565"
     },
     "user_tz": -330
    },
    "id": "5aSC9ZQb1pXO",
    "outputId": "affc7847-834e-4198-a264-eafb73609e4c"
   },
   "outputs": [
    {
     "data": {
      "text/plain": [
       "0.785830968962256"
      ]
     },
     "execution_count": 375,
     "metadata": {},
     "output_type": "execute_result"
    }
   ],
   "source": [
    "Model.score(val_inputs, val_targets)"
   ]
  },
  {
   "cell_type": "code",
   "execution_count": 359,
   "metadata": {
    "colab": {
     "base_uri": "https://localhost:8080/"
    },
    "executionInfo": {
     "elapsed": 13541,
     "status": "ok",
     "timestamp": 1660167275963,
     "user": {
      "displayName": "dibya jyoti",
      "userId": "13905139023208611565"
     },
     "user_tz": -330
    },
    "id": "15Qna0rn99MS",
    "outputId": "17ebd1ed-54c1-433d-c9fe-99c4fcd511d8"
   },
   "outputs": [
    {
     "data": {
      "text/plain": [
       "(0.792407022442074, 0.785830968962256)"
      ]
     },
     "execution_count": 359,
     "metadata": {},
     "output_type": "execute_result"
    }
   ],
   "source": [
    "test_hparams(n_estimators=10)"
   ]
  },
  {
   "cell_type": "code",
   "execution_count": 360,
   "metadata": {
    "colab": {
     "base_uri": "https://localhost:8080/"
    },
    "executionInfo": {
     "elapsed": 39672,
     "status": "ok",
     "timestamp": 1660167315613,
     "user": {
      "displayName": "dibya jyoti",
      "userId": "13905139023208611565"
     },
     "user_tz": -330
    },
    "id": "gb_li_NgBuw_",
    "outputId": "58dd495b-fc56-443d-d1c3-93bb0984e61b"
   },
   "outputs": [
    {
     "data": {
      "text/plain": [
       "(0.792407022442074, 0.785830968962256)"
      ]
     },
     "execution_count": 360,
     "metadata": {},
     "output_type": "execute_result"
    }
   ],
   "source": [
    "test_hparams(n_estimators=30)"
   ]
  },
  {
   "cell_type": "code",
   "execution_count": 361,
   "metadata": {
    "colab": {
     "base_uri": "https://localhost:8080/"
    },
    "executionInfo": {
     "elapsed": 128510,
     "status": "ok",
     "timestamp": 1660167444097,
     "user": {
      "displayName": "dibya jyoti",
      "userId": "13905139023208611565"
     },
     "user_tz": -330
    },
    "id": "7RcdKMzwB9QA",
    "outputId": "843f7f86-e42d-4e51-a0a0-f63d09114ff6"
   },
   "outputs": [
    {
     "data": {
      "text/plain": [
       "(0.792467717706326, 0.785830968962256)"
      ]
     },
     "execution_count": 361,
     "metadata": {},
     "output_type": "execute_result"
    }
   ],
   "source": [
    "test_hparams(n_estimators=100)"
   ]
  },
  {
   "cell_type": "code",
   "execution_count": 362,
   "metadata": {
    "colab": {
     "base_uri": "https://localhost:8080/"
    },
    "executionInfo": {
     "elapsed": 92901,
     "status": "ok",
     "timestamp": 1660167536961,
     "user": {
      "displayName": "dibya jyoti",
      "userId": "13905139023208611565"
     },
     "user_tz": -330
    },
    "id": "RvvNt3rnCAO9",
    "outputId": "d4aa1ef6-4339-4d96-ae1a-f0c21d5c890d"
   },
   "outputs": [
    {
     "data": {
      "text/plain": [
       "(0.792407022442074, 0.785830968962256)"
      ]
     },
     "execution_count": 362,
     "metadata": {},
     "output_type": "execute_result"
    }
   ],
   "source": [
    "test_hparams(max_depth=2)\n"
   ]
  },
  {
   "cell_type": "code",
   "execution_count": 363,
   "metadata": {
    "colab": {
     "base_uri": "https://localhost:8080/"
    },
    "executionInfo": {
     "elapsed": 200669,
     "status": "ok",
     "timestamp": 1660167737624,
     "user": {
      "displayName": "dibya jyoti",
      "userId": "13905139023208611565"
     },
     "user_tz": -330
    },
    "id": "tgySFIeMA4GT",
    "outputId": "5e494c93-e5c1-4ac8-bd38-3500f5f1bbf4"
   },
   "outputs": [
    {
     "data": {
      "text/plain": [
       "(0.79304432271672, 0.7855730375720058)"
      ]
     },
     "execution_count": 363,
     "metadata": {},
     "output_type": "execute_result"
    }
   ],
   "source": [
    "test_hparams(max_depth=5)"
   ]
  },
  {
   "cell_type": "code",
   "execution_count": 364,
   "metadata": {
    "colab": {
     "base_uri": "https://localhost:8080/"
    },
    "executionInfo": {
     "elapsed": 424023,
     "status": "ok",
     "timestamp": 1660168161610,
     "user": {
      "displayName": "dibya jyoti",
      "userId": "13905139023208611565"
     },
     "user_tz": -330
    },
    "id": "7cG9WCz_-A8U",
    "outputId": "cb52681a-afb0-492f-c2b1-525c75c7f3c4"
   },
   "outputs": [
    {
     "data": {
      "text/plain": [
       "(0.8037722106732622, 0.7855730375720058)"
      ]
     },
     "execution_count": 364,
     "metadata": {},
     "output_type": "execute_result"
    }
   ],
   "source": [
    "test_hparams(max_depth=10)\n"
   ]
  },
  {
   "cell_type": "code",
   "execution_count": 365,
   "metadata": {
    "colab": {
     "base_uri": "https://localhost:8080/"
    },
    "executionInfo": {
     "elapsed": 65880,
     "status": "ok",
     "timestamp": 1660168227469,
     "user": {
      "displayName": "dibya jyoti",
      "userId": "13905139023208611565"
     },
     "user_tz": -330
    },
    "id": "_YmNjCmW-Elf",
    "outputId": "2bbcc8ab-e328-4eae-90ea-4f6cea55a077"
   },
   "outputs": [
    {
     "data": {
      "text/plain": [
       "(0.792407022442074, 0.785830968962256)"
      ]
     },
     "execution_count": 365,
     "metadata": {},
     "output_type": "execute_result"
    }
   ],
   "source": [
    "test_hparams(n_estimators=50, learning_rate=0.1)\n"
   ]
  },
  {
   "cell_type": "code",
   "execution_count": 366,
   "metadata": {
    "colab": {
     "base_uri": "https://localhost:8080/"
    },
    "executionInfo": {
     "elapsed": 65003,
     "status": "ok",
     "timestamp": 1660168292436,
     "user": {
      "displayName": "dibya jyoti",
      "userId": "13905139023208611565"
     },
     "user_tz": -330
    },
    "id": "xRzGf_lSd0ox",
    "outputId": "10cb7981-9f61-4da4-afbc-3f8ee09330da"
   },
   "outputs": [
    {
     "data": {
      "text/plain": [
       "(0.792513239154515, 0.785830968962256)"
      ]
     },
     "execution_count": 366,
     "metadata": {},
     "output_type": "execute_result"
    }
   ],
   "source": [
    "test_hparams(n_estimators=50, learning_rate=0.3)"
   ]
  },
  {
   "cell_type": "code",
   "execution_count": 367,
   "metadata": {
    "colab": {
     "base_uri": "https://localhost:8080/"
    },
    "executionInfo": {
     "elapsed": 65025,
     "status": "ok",
     "timestamp": 1660168357430,
     "user": {
      "displayName": "dibya jyoti",
      "userId": "13905139023208611565"
     },
     "user_tz": -330
    },
    "id": "rZkKbtOHKPpj",
    "outputId": "87079ded-f86a-4061-982e-e35999aecde7"
   },
   "outputs": [
    {
     "data": {
      "text/plain": [
       "(0.7926801511312079, 0.7855730375720058)"
      ]
     },
     "execution_count": 367,
     "metadata": {},
     "output_type": "execute_result"
    }
   ],
   "source": [
    "test_hparams(n_estimators=50, learning_rate=0.5)"
   ]
  },
  {
   "cell_type": "code",
   "execution_count": 373,
   "metadata": {
    "colab": {
     "base_uri": "https://localhost:8080/"
    },
    "executionInfo": {
     "elapsed": 138138,
     "status": "ok",
     "timestamp": 1660169156195,
     "user": {
      "displayName": "dibya jyoti",
      "userId": "13905139023208611565"
     },
     "user_tz": -330
    },
    "id": "sJ36fZzbNqvG",
    "outputId": "d3f47afe-d905-4814-ab2d-52ee8ae8abaf"
   },
   "outputs": [
    {
     "data": {
      "text/plain": [
       "array(['US', 'US', 'US', ..., 'US', 'US', 'US'], dtype=object)"
      ]
     },
     "execution_count": 373,
     "metadata": {},
     "output_type": "execute_result"
    }
   ],
   "source": [
    "Model= XGBClassifier(random_state=42, n_jobs=-1,).fit(train_inputs, train_targets)\n",
    "Model.predict(train_inputs)"
   ]
  },
  {
   "cell_type": "markdown",
   "metadata": {
    "id": "iVWcShodZeLC"
   },
   "source": []
  },
  {
   "cell_type": "code",
   "execution_count": 369,
   "metadata": {
    "executionInfo": {
     "elapsed": 31,
     "status": "ok",
     "timestamp": 1660168461337,
     "user": {
      "displayName": "dibya jyoti",
      "userId": "13905139023208611565"
     },
     "user_tz": -330
    },
    "id": "kuKdcasbLJPW"
   },
   "outputs": [],
   "source": [
    "importance_df = pd.DataFrame({\n",
    "    'feature': train_inputs.columns,\n",
    "    'importance': Model.feature_importances_\n",
    "}).sort_values('importance', ascending=False)"
   ]
  },
  {
   "cell_type": "code",
   "execution_count": 370,
   "metadata": {
    "colab": {
     "base_uri": "https://localhost:8080/",
     "height": 416
    },
    "executionInfo": {
     "elapsed": 826,
     "status": "ok",
     "timestamp": 1660168462138,
     "user": {
      "displayName": "dibya jyoti",
      "userId": "13905139023208611565"
     },
     "user_tz": -330
    },
    "id": "IxWPxZ5mLmD6",
    "outputId": "d3e1363f-4422-4f2a-a330-16957a7e09f9"
   },
   "outputs": [
    {
     "data": {
      "image/png": "[encoded data removed]",
      "text/plain": [
       "<Figure size 720x432 with 1 Axes>"
      ]
     },
     "metadata": {
      "needs_background": "light"
     },
     "output_type": "display_data"
    }
   ],
   "source": [
    "import seaborn as sns\n",
    "plt.figure(figsize=(10,6))\n",
    "plt.title('Feature Importance')\n",
    "sns.barplot(data=importance_df.head(10), x='importance', y='feature');"
   ]
  },
  {
   "cell_type": "code",
   "execution_count": 371,
   "metadata": {
    "colab": {
     "base_uri": "https://localhost:8080/",
     "height": 87
    },
    "executionInfo": {
     "elapsed": 2532,
     "status": "ok",
     "timestamp": 1660168464638,
     "user": {
      "displayName": "dibya jyoti",
      "userId": "13905139023208611565"
     },
     "user_tz": -330
    },
    "id": "rlqD-VDdLqGN",
    "outputId": "31358619-4ee8-4d22-fcd1-f0c723ab346a"
   },
   "outputs": [
    {
     "name": "stdout",
     "output_type": "stream",
     "text": [
      "[jovian] Detected Colab notebook...\u001b[0m\n",
      "[jovian] Uploading colab notebook to Jovian...\u001b[0m\n",
      "Committed successfully! https://jovian.ai/dibyababu105/machine-learning-project\n"
     ]
    },
    {
     "data": {
      "application/vnd.google.colaboratory.intrinsic+json": {
       "type": "string"
      },
      "text/plain": [
       "'https://jovian.ai/dibyababu105/machine-learning-project'"
      ]
     },
     "execution_count": 371,
     "metadata": {},
     "output_type": "execute_result"
    }
   ],
   "source": [
    "jovian.commit(project=\"machine-learning-project\")"
   ]
  },
  {
   "cell_type": "markdown",
   "metadata": {
    "id": "krGw-CU31PBW"
   },
   "source": [
    "### Before Hyperparameters tuning model shows accuracy of 78.1% on validation set and after hyperparamters tuning model shows accuracy of 78.5%."
   ]
  },
  {
   "cell_type": "markdown",
   "metadata": {
    "id": "sQFunqKW17Tp"
   },
   "source": [
    "### Conclusion \n",
    "\n",
    "Downloading the dataset and converting the CSV file into a Pandas DataFrame are the first steps.\n",
    "2. The dataset has been cleaned in accordance with our needs.\n",
    "3. The dataset has been divided into a training set and a validation set.\n",
    "4. To prepare our dataset for the training model, we performed Imputation, Scaling, and One Hot Encoder.\n",
    "5. We have created a decision tree model and a XgbClassifier model.\n",
    "6. We have adjusted the hyperparameters using the maximum leaf nodes and depth.\n",
    "**"
   ]
  },
  {
   "cell_type": "code",
   "execution_count": 376,
   "metadata": {
    "colab": {
     "base_uri": "https://localhost:8080/"
    },
    "executionInfo": {
     "elapsed": 4110,
     "status": "ok",
     "timestamp": 1660170145326,
     "user": {
      "displayName": "dibya jyoti",
      "userId": "13905139023208611565"
     },
     "user_tz": -330
    },
    "id": "wq7sPELf2XfJ",
    "outputId": "0af3acc2-3e9a-42bd-bf69-fb75232f2cfa"
   },
   "outputs": [
    {
     "name": "stdout",
     "output_type": "stream",
     "text": [
      "[jovian] Detected Colab notebook...\u001b[0m\n",
      "[jovian] Uploading colab notebook to Jovian...\u001b[0m\n",
      "Committed successfully! https://jovian.ai/dibyababu105/machine-learning-project\n",
      "[jovian] Submitting assignment..\u001b[0m\n"
     ]
    },
    {
     "name": "stderr",
     "output_type": "stream",
     "text": [
      "\u001b[31m[jovian] Error: Jovian submit failed. (HTTP 400) “https://jovian.ai/dibyababu105/machine-learning-project” is a Private Notebook, please change it to Public/Secret and submit again.\u001b[0m\n"
     ]
    }
   ],
   "source": [
    "jovian.submit(assignment=\"zerotogbms-project\")"
   ]
  }
 ],
 "metadata": {
  "colab": {
   "collapsed_sections": [],
   "name": "machine-learning-project.ipynb",
   "provenance": []
  },
  "kernelspec": {
   "display_name": "Python 3 (ipykernel)",
   "language": "python",
   "name": "python3"
  },
  "language_info": {
   "codemirror_mode": {
    "name": "ipython",
    "version": 3
   },
   "file_extension": ".py",
   "mimetype": "text/x-python",
   "name": "python",
   "nbconvert_exporter": "python",
   "pygments_lexer": "ipython3",
   "version": "3.9.6"
  }
 },
 "nbformat": 4,
 "nbformat_minor": 0
}
