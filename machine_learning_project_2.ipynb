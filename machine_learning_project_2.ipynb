{
  "cells": [
    {
      "cell_type": "code",
      "execution_count": 1,
      "metadata": {
        "colab": {
          "base_uri": "https://localhost:8080/"
        },
        "id": "pVhSq6hFWaNG",
        "outputId": "08700c37-dc70-43d0-ba5c-bec9a91b3d3e"
      },
      "outputs": [
        {
          "output_type": "stream",
          "name": "stdout",
          "text": [
            "\u001b[?25l\r\u001b[K     |████▊                           | 10 kB 20.7 MB/s eta 0:00:01\r\u001b[K     |█████████▌                      | 20 kB 7.8 MB/s eta 0:00:01\r\u001b[K     |██████████████▎                 | 30 kB 10.9 MB/s eta 0:00:01\r\u001b[K     |███████████████████             | 40 kB 4.4 MB/s eta 0:00:01\r\u001b[K     |███████████████████████▉        | 51 kB 4.5 MB/s eta 0:00:01\r\u001b[K     |████████████████████████████▋   | 61 kB 5.3 MB/s eta 0:00:01\r\u001b[K     |████████████████████████████████| 68 kB 3.3 MB/s \n",
            "\u001b[?25h  Building wheel for uuid (setup.py) ... \u001b[?25l\u001b[?25hdone\n"
          ]
        }
      ],
      "source": [
        "# Jovian Commit Essentials\n",
        "# Please retain and execute this cell without modifying the contents for `jovian.commit` to work\n",
        "!pip install jovian --upgrade -q\n",
        "import jovian\n",
        "jovian.set_project('new-user-bookings')\n",
        "jovian.set_colab_id('1er1DxDF4Movtp3TTZGlIXcQr2dn3rQx-')"
      ]
    },
    {
      "cell_type": "markdown",
      "metadata": {
        "id": "mWO-qk2cZnuA"
      },
      "source": [
        "This project aims to evaluate data from various AirBnB users' travel planning behaviour. The data set can be found at.\n",
        "The dataset can be found at https://www.kaggle.com/competitions/airbnb-recruiting-new-user-bookings"
      ]
    },
    {
      "cell_type": "markdown",
      "metadata": {
        "id": "7JmCqoxNCIS4"
      },
      "source": [
        "# machine-learning-project\n",
        "\n",
        "Use the \"Run\" button to execute the code."
      ]
    },
    {
      "cell_type": "markdown",
      "metadata": {
        "id": "R10lYWxEg5qU"
      },
      "source": [
        "## Importing libraries and Downloading the dataset"
      ]
    },
    {
      "cell_type": "code",
      "execution_count": 2,
      "metadata": {
        "id": "N-7zNKJACIS7"
      },
      "outputs": [],
      "source": [
        "!pip install jovian --upgrade --quiet"
      ]
    },
    {
      "cell_type": "code",
      "execution_count": 3,
      "metadata": {
        "id": "xFYt_6TiCIS8"
      },
      "outputs": [],
      "source": [
        "import jovian"
      ]
    },
    {
      "cell_type": "code",
      "execution_count": 4,
      "metadata": {
        "id": "4oQIxTm6CIS_"
      },
      "outputs": [],
      "source": [
        "!pip install opendatasets --upgrade --quiet"
      ]
    },
    {
      "cell_type": "code",
      "execution_count": 5,
      "metadata": {
        "id": "6L8vYZESCITA"
      },
      "outputs": [],
      "source": [
        "#importing neccessary libraries\n",
        "import pandas as pd\n",
        "import numpy as np\n",
        "import opendatasets as od\n",
        "import matplotlib.pyplot as plt\n",
        "%matplotlib inline\n",
        "import seaborn as sns\n",
        "import datetime"
      ]
    },
    {
      "cell_type": "code",
      "execution_count": 14,
      "metadata": {
        "colab": {
          "base_uri": "https://localhost:8080/"
        },
        "id": "4rGs1z7WCITC",
        "outputId": "af26847f-54d9-4d38-e01f-3d54641f976f"
      },
      "outputs": [
        {
          "output_type": "stream",
          "name": "stdout",
          "text": [
            "Skipping, found downloaded files in \"./airbnb-recruiting-new-user-bookings\" (use force=True to force download)\n"
          ]
        }
      ],
      "source": [
        "od.download('https://www.kaggle.com/competitions/airbnb-recruiting-new-user-bookings')"
      ]
    },
    {
      "cell_type": "code",
      "execution_count": 15,
      "metadata": {
        "id": "itN1pmBOCITD"
      },
      "outputs": [],
      "source": [
        "data_dir='./airbnb-recruiting-new-user-bookings'"
      ]
    },
    {
      "cell_type": "code",
      "execution_count": 16,
      "metadata": {
        "id": "dCrem1sECITE"
      },
      "outputs": [],
      "source": [
        "import os"
      ]
    },
    {
      "cell_type": "code",
      "execution_count": 17,
      "metadata": {
        "colab": {
          "base_uri": "https://localhost:8080/"
        },
        "id": "Dm6qaXoKCITF",
        "outputId": "463c7185-0fab-43ea-c48d-b011ae6740f2"
      },
      "outputs": [
        {
          "output_type": "execute_result",
          "data": {
            "text/plain": [
              "['test_users.csv.zip',\n",
              " 'sample_submission_NDF.csv.zip',\n",
              " 'countries.csv.zip',\n",
              " 'age_gender_bkts.csv.zip',\n",
              " 'train_users_2.csv.zip',\n",
              " 'sessions.csv.zip']"
            ]
          },
          "metadata": {},
          "execution_count": 17
        }
      ],
      "source": [
        "os.listdir(data_dir)"
      ]
    },
    {
      "cell_type": "code",
      "execution_count": 18,
      "metadata": {
        "id": "7wNU2GmHCITF"
      },
      "outputs": [],
      "source": [
        "data_csv= data_dir + '/train_users_2.csv.zip'"
      ]
    },
    {
      "cell_type": "code",
      "execution_count": 19,
      "metadata": {
        "id": "BwQoDvJXCITG"
      },
      "outputs": [],
      "source": [
        "df= pd.read_csv(data_csv)"
      ]
    },
    {
      "cell_type": "markdown",
      "metadata": {
        "id": "cKEA7SzgbjvN"
      },
      "source": [
        "The dataset has been downloaded and extracted."
      ]
    },
    {
      "cell_type": "code",
      "execution_count": 20,
      "metadata": {
        "colab": {
          "base_uri": "https://localhost:8080/",
          "height": 592
        },
        "id": "QXR9t-6yCITH",
        "outputId": "27d2ec70-5c2c-4ebf-dd2d-a7311cec7b7f"
      },
      "outputs": [
        {
          "output_type": "execute_result",
          "data": {
            "text/plain": [
              "                id date_account_created  timestamp_first_active  \\\n",
              "0       gxn3p5htnn           2010-06-28          20090319043255   \n",
              "1       820tgsjxq7           2011-05-25          20090523174809   \n",
              "2       4ft3gnwmtx           2010-09-28          20090609231247   \n",
              "3       bjjt8pjhuk           2011-12-05          20091031060129   \n",
              "4       87mebub9p4           2010-09-14          20091208061105   \n",
              "...            ...                  ...                     ...   \n",
              "213446  zxodksqpep           2014-06-30          20140630235636   \n",
              "213447  mhewnxesx9           2014-06-30          20140630235719   \n",
              "213448  6o3arsjbb4           2014-06-30          20140630235754   \n",
              "213449  jh95kwisub           2014-06-30          20140630235822   \n",
              "213450  nw9fwlyb5f           2014-06-30          20140630235824   \n",
              "\n",
              "       date_first_booking     gender   age signup_method  signup_flow  \\\n",
              "0                     NaN  -unknown-   NaN      facebook            0   \n",
              "1                     NaN       MALE  38.0      facebook            0   \n",
              "2              2010-08-02     FEMALE  56.0         basic            3   \n",
              "3              2012-09-08     FEMALE  42.0      facebook            0   \n",
              "4              2010-02-18  -unknown-  41.0         basic            0   \n",
              "...                   ...        ...   ...           ...          ...   \n",
              "213446                NaN       MALE  32.0         basic            0   \n",
              "213447                NaN  -unknown-   NaN         basic            0   \n",
              "213448                NaN  -unknown-  32.0         basic            0   \n",
              "213449                NaN  -unknown-   NaN         basic           25   \n",
              "213450                NaN  -unknown-   NaN         basic           25   \n",
              "\n",
              "       language affiliate_channel affiliate_provider first_affiliate_tracked  \\\n",
              "0            en            direct             direct               untracked   \n",
              "1            en               seo             google               untracked   \n",
              "2            en            direct             direct               untracked   \n",
              "3            en            direct             direct               untracked   \n",
              "4            en            direct             direct               untracked   \n",
              "...         ...               ...                ...                     ...   \n",
              "213446       en         sem-brand             google                     omg   \n",
              "213447       en            direct             direct                  linked   \n",
              "213448       en            direct             direct               untracked   \n",
              "213449       en             other              other           tracked-other   \n",
              "213450       en            direct             direct               untracked   \n",
              "\n",
              "       signup_app first_device_type  first_browser country_destination  \n",
              "0             Web       Mac Desktop         Chrome                 NDF  \n",
              "1             Web       Mac Desktop         Chrome                 NDF  \n",
              "2             Web   Windows Desktop             IE                  US  \n",
              "3             Web       Mac Desktop        Firefox               other  \n",
              "4             Web       Mac Desktop         Chrome                  US  \n",
              "...           ...               ...            ...                 ...  \n",
              "213446        Web       Mac Desktop         Safari                 NDF  \n",
              "213447        Web   Windows Desktop         Chrome                 NDF  \n",
              "213448        Web       Mac Desktop        Firefox                 NDF  \n",
              "213449        iOS            iPhone  Mobile Safari                 NDF  \n",
              "213450        iOS            iPhone      -unknown-                 NDF  \n",
              "\n",
              "[213451 rows x 16 columns]"
            ],
            "text/html": [
              "\n",
              "  <div id=\"df-0986f0a1-5a9c-4a29-8b51-7d0b5ed943d3\">\n",
              "    <div class=\"colab-df-container\">\n",
              "      <div>\n",
              "<style scoped>\n",
              "    .dataframe tbody tr th:only-of-type {\n",
              "        vertical-align: middle;\n",
              "    }\n",
              "\n",
              "    .dataframe tbody tr th {\n",
              "        vertical-align: top;\n",
              "    }\n",
              "\n",
              "    .dataframe thead th {\n",
              "        text-align: right;\n",
              "    }\n",
              "</style>\n",
              "<table border=\"1\" class=\"dataframe\">\n",
              "  <thead>\n",
              "    <tr style=\"text-align: right;\">\n",
              "      <th></th>\n",
              "      <th>id</th>\n",
              "      <th>date_account_created</th>\n",
              "      <th>timestamp_first_active</th>\n",
              "      <th>date_first_booking</th>\n",
              "      <th>gender</th>\n",
              "      <th>age</th>\n",
              "      <th>signup_method</th>\n",
              "      <th>signup_flow</th>\n",
              "      <th>language</th>\n",
              "      <th>affiliate_channel</th>\n",
              "      <th>affiliate_provider</th>\n",
              "      <th>first_affiliate_tracked</th>\n",
              "      <th>signup_app</th>\n",
              "      <th>first_device_type</th>\n",
              "      <th>first_browser</th>\n",
              "      <th>country_destination</th>\n",
              "    </tr>\n",
              "  </thead>\n",
              "  <tbody>\n",
              "    <tr>\n",
              "      <th>0</th>\n",
              "      <td>gxn3p5htnn</td>\n",
              "      <td>2010-06-28</td>\n",
              "      <td>20090319043255</td>\n",
              "      <td>NaN</td>\n",
              "      <td>-unknown-</td>\n",
              "      <td>NaN</td>\n",
              "      <td>facebook</td>\n",
              "      <td>0</td>\n",
              "      <td>en</td>\n",
              "      <td>direct</td>\n",
              "      <td>direct</td>\n",
              "      <td>untracked</td>\n",
              "      <td>Web</td>\n",
              "      <td>Mac Desktop</td>\n",
              "      <td>Chrome</td>\n",
              "      <td>NDF</td>\n",
              "    </tr>\n",
              "    <tr>\n",
              "      <th>1</th>\n",
              "      <td>820tgsjxq7</td>\n",
              "      <td>2011-05-25</td>\n",
              "      <td>20090523174809</td>\n",
              "      <td>NaN</td>\n",
              "      <td>MALE</td>\n",
              "      <td>38.0</td>\n",
              "      <td>facebook</td>\n",
              "      <td>0</td>\n",
              "      <td>en</td>\n",
              "      <td>seo</td>\n",
              "      <td>google</td>\n",
              "      <td>untracked</td>\n",
              "      <td>Web</td>\n",
              "      <td>Mac Desktop</td>\n",
              "      <td>Chrome</td>\n",
              "      <td>NDF</td>\n",
              "    </tr>\n",
              "    <tr>\n",
              "      <th>2</th>\n",
              "      <td>4ft3gnwmtx</td>\n",
              "      <td>2010-09-28</td>\n",
              "      <td>20090609231247</td>\n",
              "      <td>2010-08-02</td>\n",
              "      <td>FEMALE</td>\n",
              "      <td>56.0</td>\n",
              "      <td>basic</td>\n",
              "      <td>3</td>\n",
              "      <td>en</td>\n",
              "      <td>direct</td>\n",
              "      <td>direct</td>\n",
              "      <td>untracked</td>\n",
              "      <td>Web</td>\n",
              "      <td>Windows Desktop</td>\n",
              "      <td>IE</td>\n",
              "      <td>US</td>\n",
              "    </tr>\n",
              "    <tr>\n",
              "      <th>3</th>\n",
              "      <td>bjjt8pjhuk</td>\n",
              "      <td>2011-12-05</td>\n",
              "      <td>20091031060129</td>\n",
              "      <td>2012-09-08</td>\n",
              "      <td>FEMALE</td>\n",
              "      <td>42.0</td>\n",
              "      <td>facebook</td>\n",
              "      <td>0</td>\n",
              "      <td>en</td>\n",
              "      <td>direct</td>\n",
              "      <td>direct</td>\n",
              "      <td>untracked</td>\n",
              "      <td>Web</td>\n",
              "      <td>Mac Desktop</td>\n",
              "      <td>Firefox</td>\n",
              "      <td>other</td>\n",
              "    </tr>\n",
              "    <tr>\n",
              "      <th>4</th>\n",
              "      <td>87mebub9p4</td>\n",
              "      <td>2010-09-14</td>\n",
              "      <td>20091208061105</td>\n",
              "      <td>2010-02-18</td>\n",
              "      <td>-unknown-</td>\n",
              "      <td>41.0</td>\n",
              "      <td>basic</td>\n",
              "      <td>0</td>\n",
              "      <td>en</td>\n",
              "      <td>direct</td>\n",
              "      <td>direct</td>\n",
              "      <td>untracked</td>\n",
              "      <td>Web</td>\n",
              "      <td>Mac Desktop</td>\n",
              "      <td>Chrome</td>\n",
              "      <td>US</td>\n",
              "    </tr>\n",
              "    <tr>\n",
              "      <th>...</th>\n",
              "      <td>...</td>\n",
              "      <td>...</td>\n",
              "      <td>...</td>\n",
              "      <td>...</td>\n",
              "      <td>...</td>\n",
              "      <td>...</td>\n",
              "      <td>...</td>\n",
              "      <td>...</td>\n",
              "      <td>...</td>\n",
              "      <td>...</td>\n",
              "      <td>...</td>\n",
              "      <td>...</td>\n",
              "      <td>...</td>\n",
              "      <td>...</td>\n",
              "      <td>...</td>\n",
              "      <td>...</td>\n",
              "    </tr>\n",
              "    <tr>\n",
              "      <th>213446</th>\n",
              "      <td>zxodksqpep</td>\n",
              "      <td>2014-06-30</td>\n",
              "      <td>20140630235636</td>\n",
              "      <td>NaN</td>\n",
              "      <td>MALE</td>\n",
              "      <td>32.0</td>\n",
              "      <td>basic</td>\n",
              "      <td>0</td>\n",
              "      <td>en</td>\n",
              "      <td>sem-brand</td>\n",
              "      <td>google</td>\n",
              "      <td>omg</td>\n",
              "      <td>Web</td>\n",
              "      <td>Mac Desktop</td>\n",
              "      <td>Safari</td>\n",
              "      <td>NDF</td>\n",
              "    </tr>\n",
              "    <tr>\n",
              "      <th>213447</th>\n",
              "      <td>mhewnxesx9</td>\n",
              "      <td>2014-06-30</td>\n",
              "      <td>20140630235719</td>\n",
              "      <td>NaN</td>\n",
              "      <td>-unknown-</td>\n",
              "      <td>NaN</td>\n",
              "      <td>basic</td>\n",
              "      <td>0</td>\n",
              "      <td>en</td>\n",
              "      <td>direct</td>\n",
              "      <td>direct</td>\n",
              "      <td>linked</td>\n",
              "      <td>Web</td>\n",
              "      <td>Windows Desktop</td>\n",
              "      <td>Chrome</td>\n",
              "      <td>NDF</td>\n",
              "    </tr>\n",
              "    <tr>\n",
              "      <th>213448</th>\n",
              "      <td>6o3arsjbb4</td>\n",
              "      <td>2014-06-30</td>\n",
              "      <td>20140630235754</td>\n",
              "      <td>NaN</td>\n",
              "      <td>-unknown-</td>\n",
              "      <td>32.0</td>\n",
              "      <td>basic</td>\n",
              "      <td>0</td>\n",
              "      <td>en</td>\n",
              "      <td>direct</td>\n",
              "      <td>direct</td>\n",
              "      <td>untracked</td>\n",
              "      <td>Web</td>\n",
              "      <td>Mac Desktop</td>\n",
              "      <td>Firefox</td>\n",
              "      <td>NDF</td>\n",
              "    </tr>\n",
              "    <tr>\n",
              "      <th>213449</th>\n",
              "      <td>jh95kwisub</td>\n",
              "      <td>2014-06-30</td>\n",
              "      <td>20140630235822</td>\n",
              "      <td>NaN</td>\n",
              "      <td>-unknown-</td>\n",
              "      <td>NaN</td>\n",
              "      <td>basic</td>\n",
              "      <td>25</td>\n",
              "      <td>en</td>\n",
              "      <td>other</td>\n",
              "      <td>other</td>\n",
              "      <td>tracked-other</td>\n",
              "      <td>iOS</td>\n",
              "      <td>iPhone</td>\n",
              "      <td>Mobile Safari</td>\n",
              "      <td>NDF</td>\n",
              "    </tr>\n",
              "    <tr>\n",
              "      <th>213450</th>\n",
              "      <td>nw9fwlyb5f</td>\n",
              "      <td>2014-06-30</td>\n",
              "      <td>20140630235824</td>\n",
              "      <td>NaN</td>\n",
              "      <td>-unknown-</td>\n",
              "      <td>NaN</td>\n",
              "      <td>basic</td>\n",
              "      <td>25</td>\n",
              "      <td>en</td>\n",
              "      <td>direct</td>\n",
              "      <td>direct</td>\n",
              "      <td>untracked</td>\n",
              "      <td>iOS</td>\n",
              "      <td>iPhone</td>\n",
              "      <td>-unknown-</td>\n",
              "      <td>NDF</td>\n",
              "    </tr>\n",
              "  </tbody>\n",
              "</table>\n",
              "<p>213451 rows × 16 columns</p>\n",
              "</div>\n",
              "      <button class=\"colab-df-convert\" onclick=\"convertToInteractive('df-0986f0a1-5a9c-4a29-8b51-7d0b5ed943d3')\"\n",
              "              title=\"Convert this dataframe to an interactive table.\"\n",
              "              style=\"display:none;\">\n",
              "        \n",
              "  <svg xmlns=\"http://www.w3.org/2000/svg\" height=\"24px\"viewBox=\"0 0 24 24\"\n",
              "       width=\"24px\">\n",
              "    <path d=\"M0 0h24v24H0V0z\" fill=\"none\"/>\n",
              "    <path d=\"M18.56 5.44l.94 2.06.94-2.06 2.06-.94-2.06-.94-.94-2.06-.94 2.06-2.06.94zm-11 1L8.5 8.5l.94-2.06 2.06-.94-2.06-.94L8.5 2.5l-.94 2.06-2.06.94zm10 10l.94 2.06.94-2.06 2.06-.94-2.06-.94-.94-2.06-.94 2.06-2.06.94z\"/><path d=\"M17.41 7.96l-1.37-1.37c-.4-.4-.92-.59-1.43-.59-.52 0-1.04.2-1.43.59L10.3 9.45l-7.72 7.72c-.78.78-.78 2.05 0 2.83L4 21.41c.39.39.9.59 1.41.59.51 0 1.02-.2 1.41-.59l7.78-7.78 2.81-2.81c.8-.78.8-2.07 0-2.86zM5.41 20L4 18.59l7.72-7.72 1.47 1.35L5.41 20z\"/>\n",
              "  </svg>\n",
              "      </button>\n",
              "      \n",
              "  <style>\n",
              "    .colab-df-container {\n",
              "      display:flex;\n",
              "      flex-wrap:wrap;\n",
              "      gap: 12px;\n",
              "    }\n",
              "\n",
              "    .colab-df-convert {\n",
              "      background-color: #E8F0FE;\n",
              "      border: none;\n",
              "      border-radius: 50%;\n",
              "      cursor: pointer;\n",
              "      display: none;\n",
              "      fill: #1967D2;\n",
              "      height: 32px;\n",
              "      padding: 0 0 0 0;\n",
              "      width: 32px;\n",
              "    }\n",
              "\n",
              "    .colab-df-convert:hover {\n",
              "      background-color: #E2EBFA;\n",
              "      box-shadow: 0px 1px 2px rgba(60, 64, 67, 0.3), 0px 1px 3px 1px rgba(60, 64, 67, 0.15);\n",
              "      fill: #174EA6;\n",
              "    }\n",
              "\n",
              "    [theme=dark] .colab-df-convert {\n",
              "      background-color: #3B4455;\n",
              "      fill: #D2E3FC;\n",
              "    }\n",
              "\n",
              "    [theme=dark] .colab-df-convert:hover {\n",
              "      background-color: #434B5C;\n",
              "      box-shadow: 0px 1px 3px 1px rgba(0, 0, 0, 0.15);\n",
              "      filter: drop-shadow(0px 1px 2px rgba(0, 0, 0, 0.3));\n",
              "      fill: #FFFFFF;\n",
              "    }\n",
              "  </style>\n",
              "\n",
              "      <script>\n",
              "        const buttonEl =\n",
              "          document.querySelector('#df-0986f0a1-5a9c-4a29-8b51-7d0b5ed943d3 button.colab-df-convert');\n",
              "        buttonEl.style.display =\n",
              "          google.colab.kernel.accessAllowed ? 'block' : 'none';\n",
              "\n",
              "        async function convertToInteractive(key) {\n",
              "          const element = document.querySelector('#df-0986f0a1-5a9c-4a29-8b51-7d0b5ed943d3');\n",
              "          const dataTable =\n",
              "            await google.colab.kernel.invokeFunction('convertToInteractive',\n",
              "                                                     [key], {});\n",
              "          if (!dataTable) return;\n",
              "\n",
              "          const docLinkHtml = 'Like what you see? Visit the ' +\n",
              "            '<a target=\"_blank\" href=https://colab.research.google.com/notebooks/data_table.ipynb>data table notebook</a>'\n",
              "            + ' to learn more about interactive tables.';\n",
              "          element.innerHTML = '';\n",
              "          dataTable['output_type'] = 'display_data';\n",
              "          await google.colab.output.renderOutput(dataTable, element);\n",
              "          const docLink = document.createElement('div');\n",
              "          docLink.innerHTML = docLinkHtml;\n",
              "          element.appendChild(docLink);\n",
              "        }\n",
              "      </script>\n",
              "    </div>\n",
              "  </div>\n",
              "  "
            ]
          },
          "metadata": {},
          "execution_count": 20
        }
      ],
      "source": [
        "df"
      ]
    },
    {
      "cell_type": "code",
      "execution_count": 21,
      "metadata": {
        "id": "raiQrJRiCyE8"
      },
      "outputs": [],
      "source": [
        "df = df.replace(r'^\\s*$', np.nan, regex=True)"
      ]
    },
    {
      "cell_type": "markdown",
      "metadata": {
        "id": "5L5Ur3tvngV3"
      },
      "source": [
        "Python does not recognise the empty space in csv files which may give error upon execution . Above code has been used to avoid "
      ]
    },
    {
      "cell_type": "code",
      "execution_count": 22,
      "metadata": {
        "colab": {
          "base_uri": "https://localhost:8080/"
        },
        "id": "Y0csob0oCITK",
        "outputId": "0432a0d8-6f61-499f-a1d7-507ecacd2176"
      },
      "outputs": [
        {
          "output_type": "stream",
          "name": "stdout",
          "text": [
            "<class 'pandas.core.frame.DataFrame'>\n",
            "RangeIndex: 213451 entries, 0 to 213450\n",
            "Data columns (total 16 columns):\n",
            " #   Column                   Non-Null Count   Dtype  \n",
            "---  ------                   --------------   -----  \n",
            " 0   id                       213451 non-null  object \n",
            " 1   date_account_created     213451 non-null  object \n",
            " 2   timestamp_first_active   213451 non-null  int64  \n",
            " 3   date_first_booking       88908 non-null   object \n",
            " 4   gender                   213451 non-null  object \n",
            " 5   age                      125461 non-null  float64\n",
            " 6   signup_method            213451 non-null  object \n",
            " 7   signup_flow              213451 non-null  int64  \n",
            " 8   language                 213451 non-null  object \n",
            " 9   affiliate_channel        213451 non-null  object \n",
            " 10  affiliate_provider       213451 non-null  object \n",
            " 11  first_affiliate_tracked  207386 non-null  object \n",
            " 12  signup_app               213451 non-null  object \n",
            " 13  first_device_type        213451 non-null  object \n",
            " 14  first_browser            213451 non-null  object \n",
            " 15  country_destination      213451 non-null  object \n",
            "dtypes: float64(1), int64(2), object(13)\n",
            "memory usage: 26.1+ MB\n"
          ]
        }
      ],
      "source": [
        "df.info()"
      ]
    },
    {
      "cell_type": "markdown",
      "metadata": {
        "id": "8CvSxYLfb0it"
      },
      "source": [
        "It is evident that 'date_first_booking' and 'first_affiliate_tracked' columns have some null values but first let's look at the columns which may have absurd values"
      ]
    },
    {
      "cell_type": "code",
      "execution_count": 23,
      "metadata": {
        "colab": {
          "base_uri": "https://localhost:8080/",
          "height": 265
        },
        "id": "Pqes95X9CITL",
        "outputId": "2da44c76-ecb7-4d26-dbc0-57bdc36af04b",
        "scrolled": true
      },
      "outputs": [
        {
          "output_type": "display_data",
          "data": {
            "text/plain": [
              "<Figure size 432x288 with 1 Axes>"
            ],
            "image/png": "[encoded data removed]"
          },
          "metadata": {
            "needs_background": "light"
          }
        }
      ],
      "source": [
        "plt.hist(df.age, bins=[20,30,40,50,60,70,80,90,100]);"
      ]
    },
    {
      "cell_type": "code",
      "execution_count": 24,
      "metadata": {
        "colab": {
          "base_uri": "https://localhost:8080/"
        },
        "id": "eL_JSi92CITM",
        "outputId": "ea9622a1-4736-4200-d379-1ea0f7ec4114"
      },
      "outputs": [
        {
          "output_type": "execute_result",
          "data": {
            "text/plain": [
              "30.0      6124\n",
              "31.0      6016\n",
              "29.0      5963\n",
              "28.0      5939\n",
              "32.0      5855\n",
              "          ... \n",
              "1925.0       1\n",
              "1935.0       1\n",
              "1933.0       1\n",
              "112.0        1\n",
              "1926.0       1\n",
              "Name: age, Length: 127, dtype: int64"
            ]
          },
          "metadata": {},
          "execution_count": 24
        }
      ],
      "source": [
        "df.age.value_counts()"
      ]
    },
    {
      "cell_type": "markdown",
      "metadata": {
        "id": "3wu8NFzkdKYq"
      },
      "source": [
        "As you can see, the age column has values greater than 100, which we can't use as input. Thus, upper limit and lower limit of age was set to 80 and 10 respectively"
      ]
    },
    {
      "cell_type": "code",
      "execution_count": 25,
      "metadata": {
        "id": "Z-5pYDnICITM"
      },
      "outputs": [],
      "source": [
        "age_index=df[df['age']>80].index\n",
        "age_index1=df[df['age']<10].index\n",
        "df.drop(labels=age_index,inplace=True)\n",
        "df.drop(labels=age_index1,inplace=True)"
      ]
    },
    {
      "cell_type": "code",
      "execution_count": 26,
      "metadata": {
        "colab": {
          "base_uri": "https://localhost:8080/",
          "height": 300
        },
        "id": "aBVpSTv6CITN",
        "outputId": "69943176-b4e2-4b1b-c996-58efc0f49c07"
      },
      "outputs": [
        {
          "output_type": "execute_result",
          "data": {
            "text/plain": [
              "       timestamp_first_active            age    signup_flow\n",
              "count            2.106230e+05  122633.000000  210623.000000\n",
              "mean             2.013087e+13      36.373578       3.287295\n",
              "std              9.241394e+09      11.272302       7.659450\n",
              "min              2.009032e+13      15.000000       0.000000\n",
              "25%              2.012123e+13      28.000000       0.000000\n",
              "50%              2.013091e+13      33.000000       0.000000\n",
              "75%              2.014031e+13      42.000000       0.000000\n",
              "max              2.014063e+13      80.000000      25.000000"
            ],
            "text/html": [
              "\n",
              "  <div id=\"df-fe9871c2-271e-4cff-8761-6fa4a8b3d3cc\">\n",
              "    <div class=\"colab-df-container\">\n",
              "      <div>\n",
              "<style scoped>\n",
              "    .dataframe tbody tr th:only-of-type {\n",
              "        vertical-align: middle;\n",
              "    }\n",
              "\n",
              "    .dataframe tbody tr th {\n",
              "        vertical-align: top;\n",
              "    }\n",
              "\n",
              "    .dataframe thead th {\n",
              "        text-align: right;\n",
              "    }\n",
              "</style>\n",
              "<table border=\"1\" class=\"dataframe\">\n",
              "  <thead>\n",
              "    <tr style=\"text-align: right;\">\n",
              "      <th></th>\n",
              "      <th>timestamp_first_active</th>\n",
              "      <th>age</th>\n",
              "      <th>signup_flow</th>\n",
              "    </tr>\n",
              "  </thead>\n",
              "  <tbody>\n",
              "    <tr>\n",
              "      <th>count</th>\n",
              "      <td>2.106230e+05</td>\n",
              "      <td>122633.000000</td>\n",
              "      <td>210623.000000</td>\n",
              "    </tr>\n",
              "    <tr>\n",
              "      <th>mean</th>\n",
              "      <td>2.013087e+13</td>\n",
              "      <td>36.373578</td>\n",
              "      <td>3.287295</td>\n",
              "    </tr>\n",
              "    <tr>\n",
              "      <th>std</th>\n",
              "      <td>9.241394e+09</td>\n",
              "      <td>11.272302</td>\n",
              "      <td>7.659450</td>\n",
              "    </tr>\n",
              "    <tr>\n",
              "      <th>min</th>\n",
              "      <td>2.009032e+13</td>\n",
              "      <td>15.000000</td>\n",
              "      <td>0.000000</td>\n",
              "    </tr>\n",
              "    <tr>\n",
              "      <th>25%</th>\n",
              "      <td>2.012123e+13</td>\n",
              "      <td>28.000000</td>\n",
              "      <td>0.000000</td>\n",
              "    </tr>\n",
              "    <tr>\n",
              "      <th>50%</th>\n",
              "      <td>2.013091e+13</td>\n",
              "      <td>33.000000</td>\n",
              "      <td>0.000000</td>\n",
              "    </tr>\n",
              "    <tr>\n",
              "      <th>75%</th>\n",
              "      <td>2.014031e+13</td>\n",
              "      <td>42.000000</td>\n",
              "      <td>0.000000</td>\n",
              "    </tr>\n",
              "    <tr>\n",
              "      <th>max</th>\n",
              "      <td>2.014063e+13</td>\n",
              "      <td>80.000000</td>\n",
              "      <td>25.000000</td>\n",
              "    </tr>\n",
              "  </tbody>\n",
              "</table>\n",
              "</div>\n",
              "      <button class=\"colab-df-convert\" onclick=\"convertToInteractive('df-fe9871c2-271e-4cff-8761-6fa4a8b3d3cc')\"\n",
              "              title=\"Convert this dataframe to an interactive table.\"\n",
              "              style=\"display:none;\">\n",
              "        \n",
              "  <svg xmlns=\"http://www.w3.org/2000/svg\" height=\"24px\"viewBox=\"0 0 24 24\"\n",
              "       width=\"24px\">\n",
              "    <path d=\"M0 0h24v24H0V0z\" fill=\"none\"/>\n",
              "    <path d=\"M18.56 5.44l.94 2.06.94-2.06 2.06-.94-2.06-.94-.94-2.06-.94 2.06-2.06.94zm-11 1L8.5 8.5l.94-2.06 2.06-.94-2.06-.94L8.5 2.5l-.94 2.06-2.06.94zm10 10l.94 2.06.94-2.06 2.06-.94-2.06-.94-.94-2.06-.94 2.06-2.06.94z\"/><path d=\"M17.41 7.96l-1.37-1.37c-.4-.4-.92-.59-1.43-.59-.52 0-1.04.2-1.43.59L10.3 9.45l-7.72 7.72c-.78.78-.78 2.05 0 2.83L4 21.41c.39.39.9.59 1.41.59.51 0 1.02-.2 1.41-.59l7.78-7.78 2.81-2.81c.8-.78.8-2.07 0-2.86zM5.41 20L4 18.59l7.72-7.72 1.47 1.35L5.41 20z\"/>\n",
              "  </svg>\n",
              "      </button>\n",
              "      \n",
              "  <style>\n",
              "    .colab-df-container {\n",
              "      display:flex;\n",
              "      flex-wrap:wrap;\n",
              "      gap: 12px;\n",
              "    }\n",
              "\n",
              "    .colab-df-convert {\n",
              "      background-color: #E8F0FE;\n",
              "      border: none;\n",
              "      border-radius: 50%;\n",
              "      cursor: pointer;\n",
              "      display: none;\n",
              "      fill: #1967D2;\n",
              "      height: 32px;\n",
              "      padding: 0 0 0 0;\n",
              "      width: 32px;\n",
              "    }\n",
              "\n",
              "    .colab-df-convert:hover {\n",
              "      background-color: #E2EBFA;\n",
              "      box-shadow: 0px 1px 2px rgba(60, 64, 67, 0.3), 0px 1px 3px 1px rgba(60, 64, 67, 0.15);\n",
              "      fill: #174EA6;\n",
              "    }\n",
              "\n",
              "    [theme=dark] .colab-df-convert {\n",
              "      background-color: #3B4455;\n",
              "      fill: #D2E3FC;\n",
              "    }\n",
              "\n",
              "    [theme=dark] .colab-df-convert:hover {\n",
              "      background-color: #434B5C;\n",
              "      box-shadow: 0px 1px 3px 1px rgba(0, 0, 0, 0.15);\n",
              "      filter: drop-shadow(0px 1px 2px rgba(0, 0, 0, 0.3));\n",
              "      fill: #FFFFFF;\n",
              "    }\n",
              "  </style>\n",
              "\n",
              "      <script>\n",
              "        const buttonEl =\n",
              "          document.querySelector('#df-fe9871c2-271e-4cff-8761-6fa4a8b3d3cc button.colab-df-convert');\n",
              "        buttonEl.style.display =\n",
              "          google.colab.kernel.accessAllowed ? 'block' : 'none';\n",
              "\n",
              "        async function convertToInteractive(key) {\n",
              "          const element = document.querySelector('#df-fe9871c2-271e-4cff-8761-6fa4a8b3d3cc');\n",
              "          const dataTable =\n",
              "            await google.colab.kernel.invokeFunction('convertToInteractive',\n",
              "                                                     [key], {});\n",
              "          if (!dataTable) return;\n",
              "\n",
              "          const docLinkHtml = 'Like what you see? Visit the ' +\n",
              "            '<a target=\"_blank\" href=https://colab.research.google.com/notebooks/data_table.ipynb>data table notebook</a>'\n",
              "            + ' to learn more about interactive tables.';\n",
              "          element.innerHTML = '';\n",
              "          dataTable['output_type'] = 'display_data';\n",
              "          await google.colab.output.renderOutput(dataTable, element);\n",
              "          const docLink = document.createElement('div');\n",
              "          docLink.innerHTML = docLinkHtml;\n",
              "          element.appendChild(docLink);\n",
              "        }\n",
              "      </script>\n",
              "    </div>\n",
              "  </div>\n",
              "  "
            ]
          },
          "metadata": {},
          "execution_count": 26
        }
      ],
      "source": [
        "df.describe()"
      ]
    },
    {
      "cell_type": "markdown",
      "metadata": {
        "id": "qtLqUC1MeKP2"
      },
      "source": [
        "Then we fill the missing values with median of the column. Median is choosen instead of mean cause it is unaffected by the presence of outliers which influences our model's predictions"
      ]
    },
    {
      "cell_type": "code",
      "execution_count": 27,
      "metadata": {
        "id": "YR1LaTfNCITO"
      },
      "outputs": [],
      "source": [
        "new_df= df.fillna({'age': df['age'].median()})"
      ]
    },
    {
      "cell_type": "code",
      "execution_count": 28,
      "metadata": {
        "colab": {
          "base_uri": "https://localhost:8080/"
        },
        "id": "UQAT2RMTCITO",
        "outputId": "817e6494-7789-40e4-8462-9214fbddf81e"
      },
      "outputs": [
        {
          "output_type": "execute_result",
          "data": {
            "text/plain": [
              "count    210623.000000\n",
              "mean         34.964230\n",
              "std           8.760717\n",
              "min          15.000000\n",
              "25%          32.000000\n",
              "50%          33.000000\n",
              "75%          35.000000\n",
              "max          80.000000\n",
              "Name: age, dtype: float64"
            ]
          },
          "metadata": {},
          "execution_count": 28
        }
      ],
      "source": [
        "new_df.age.describe()"
      ]
    },
    {
      "cell_type": "code",
      "execution_count": 29,
      "metadata": {
        "colab": {
          "base_uri": "https://localhost:8080/"
        },
        "id": "kqh3UxZGCITO",
        "outputId": "c11d6049-deb6-4a9b-831f-94b9e6f79dbe"
      },
      "outputs": [
        {
          "output_type": "execute_result",
          "data": {
            "text/plain": [
              "array(['-unknown-', 'MALE', 'FEMALE', 'OTHER'], dtype=object)"
            ]
          },
          "metadata": {},
          "execution_count": 29
        }
      ],
      "source": [
        "new_df.gender.unique()"
      ]
    },
    {
      "cell_type": "markdown",
      "metadata": {
        "id": "7fZuzbeTfZRn"
      },
      "source": [
        "we do the same thing with 'gender' column but here mode is chosen"
      ]
    },
    {
      "cell_type": "code",
      "execution_count": 30,
      "metadata": {
        "colab": {
          "base_uri": "https://localhost:8080/",
          "height": 334
        },
        "id": "fxXCZCQyCITP",
        "outputId": "e8c32fa8-dd90-4f40-c15d-c35cc9172398"
      },
      "outputs": [
        {
          "output_type": "execute_result",
          "data": {
            "text/plain": [
              "(array([94932.,     0.,     0., 53548.,     0.,     0., 61864.,     0.,\n",
              "            0.,   279.]),\n",
              " array([0. , 0.3, 0.6, 0.9, 1.2, 1.5, 1.8, 2.1, 2.4, 2.7, 3. ]),\n",
              " <a list of 10 Patch objects>)"
            ]
          },
          "metadata": {},
          "execution_count": 30
        },
        {
          "output_type": "display_data",
          "data": {
            "text/plain": [
              "<Figure size 432x288 with 1 Axes>"
            ],
            "image/png": "[encoded data removed]"
          },
          "metadata": {
            "needs_background": "light"
          }
        }
      ],
      "source": [
        "plt.hist(new_df.gender)"
      ]
    },
    {
      "cell_type": "code",
      "execution_count": 31,
      "metadata": {
        "id": "pblfTWK2CITP"
      },
      "outputs": [],
      "source": [
        "new_df['gender'].replace(['-unknown-'],'FEMALE' , inplace=True)"
      ]
    },
    {
      "cell_type": "code",
      "execution_count": 32,
      "metadata": {
        "colab": {
          "base_uri": "https://localhost:8080/"
        },
        "id": "oAdlQf37CITQ",
        "outputId": "da4a3cdb-6714-42dd-f873-ec23e031273f"
      },
      "outputs": [
        {
          "output_type": "execute_result",
          "data": {
            "text/plain": [
              "count     210623\n",
              "unique         3\n",
              "top       FEMALE\n",
              "freq      156796\n",
              "Name: gender, dtype: object"
            ]
          },
          "metadata": {},
          "execution_count": 32
        }
      ],
      "source": [
        "new_df.gender.describe()"
      ]
    },
    {
      "cell_type": "code",
      "execution_count": 33,
      "metadata": {
        "colab": {
          "base_uri": "https://localhost:8080/"
        },
        "id": "cZrpRdrxCITQ",
        "outputId": "e87babb0-459e-4fb3-956c-cf74c8a35766"
      },
      "outputs": [
        {
          "output_type": "execute_result",
          "data": {
            "text/plain": [
              "array(['NDF', 'US', 'other', 'FR', 'CA', 'GB', 'ES', 'IT', 'PT', 'NL',\n",
              "       'DE', 'AU'], dtype=object)"
            ]
          },
          "metadata": {},
          "execution_count": 33
        }
      ],
      "source": [
        "new_df.country_destination.unique()"
      ]
    },
    {
      "cell_type": "markdown",
      "metadata": {
        "id": "OtmDYT6Nfql1"
      },
      "source": [
        "We cannot train the model which has does not have labels so we remove them from the training dataset"
      ]
    },
    {
      "cell_type": "code",
      "execution_count": 34,
      "metadata": {
        "id": "ak0NKbW8CITQ"
      },
      "outputs": [],
      "source": [
        "ndf_index=new_df[new_df['country_destination']=='NDF'].index\n",
        "new_df.drop(labels=ndf_index,inplace=True)"
      ]
    },
    {
      "cell_type": "code",
      "execution_count": 35,
      "metadata": {
        "colab": {
          "base_uri": "https://localhost:8080/"
        },
        "id": "Dvt3m56hCITR",
        "outputId": "afb87e2b-facd-4314-92b4-e4882484ae60"
      },
      "outputs": [
        {
          "output_type": "execute_result",
          "data": {
            "text/plain": [
              "count     87443\n",
              "unique       11\n",
              "top          US\n",
              "freq      61362\n",
              "Name: country_destination, dtype: object"
            ]
          },
          "metadata": {},
          "execution_count": 35
        }
      ],
      "source": [
        "new_df.country_destination.describe()"
      ]
    },
    {
      "cell_type": "code",
      "execution_count": 36,
      "metadata": {
        "id": "kUB4kZLRCITR"
      },
      "outputs": [],
      "source": [
        "ndf_index=new_df[new_df['country_destination']=='other'].index\n",
        "new_df.drop(labels=ndf_index,inplace=True)"
      ]
    },
    {
      "cell_type": "code",
      "execution_count": 37,
      "metadata": {
        "colab": {
          "base_uri": "https://localhost:8080/"
        },
        "id": "k8wpcLx2CITR",
        "outputId": "f3d66c39-2053-452e-ed4b-6ac28262381b"
      },
      "outputs": [
        {
          "output_type": "execute_result",
          "data": {
            "text/plain": [
              "count     77534\n",
              "unique       10\n",
              "top          US\n",
              "freq      61362\n",
              "Name: country_destination, dtype: object"
            ]
          },
          "metadata": {},
          "execution_count": 37
        }
      ],
      "source": [
        "new_df.country_destination.describe()"
      ]
    },
    {
      "cell_type": "code",
      "execution_count": 38,
      "metadata": {
        "colab": {
          "base_uri": "https://localhost:8080/",
          "height": 140
        },
        "id": "koelOeMUCITS",
        "outputId": "339a6c62-e334-47c3-a2ac-ffb40fa0209e",
        "scrolled": true
      },
      "outputs": [
        {
          "output_type": "stream",
          "name": "stdout",
          "text": [
            "[jovian] Detected Colab notebook...\u001b[0m\n",
            "[jovian] Please enter your API key ( from https://jovian.ai/ ):\u001b[0m\n",
            "API KEY: ··········\n",
            "API KEY: ··········\n",
            "[jovian] Uploading colab notebook to Jovian...\u001b[0m\n",
            "Committed successfully! https://jovian.ai/dibyababu105/new-user-bookings\n"
          ]
        },
        {
          "output_type": "execute_result",
          "data": {
            "text/plain": [
              "'https://jovian.ai/dibyababu105/new-user-bookings'"
            ],
            "application/vnd.google.colaboratory.intrinsic+json": {
              "type": "string"
            }
          },
          "metadata": {},
          "execution_count": 38
        }
      ],
      "source": [
        "jovian.commit(project=\"machine-learning-project\")"
      ]
    },
    {
      "cell_type": "code",
      "execution_count": 39,
      "metadata": {
        "colab": {
          "base_uri": "https://localhost:8080/"
        },
        "id": "qlm6gLkjCITS",
        "outputId": "a6e67a72-dedb-49cd-e693-36f1680b0248"
      },
      "outputs": [
        {
          "output_type": "execute_result",
          "data": {
            "text/plain": [
              "array(['US', 'FR', 'CA', 'GB', 'ES', 'IT', 'PT', 'NL', 'DE', 'AU'],\n",
              "      dtype=object)"
            ]
          },
          "metadata": {},
          "execution_count": 39
        }
      ],
      "source": [
        "new_df.country_destination.unique()"
      ]
    },
    {
      "cell_type": "markdown",
      "metadata": {
        "id": "GZdazKGVn25f"
      },
      "source": [
        "## **Data Visualisation**"
      ]
    },
    {
      "cell_type": "code",
      "execution_count": 40,
      "metadata": {
        "id": "L3u7avArCITS"
      },
      "outputs": [],
      "source": [
        "import matplotlib"
      ]
    },
    {
      "cell_type": "code",
      "execution_count": 41,
      "metadata": {
        "id": "_9B6aq9VCITT"
      },
      "outputs": [],
      "source": [
        "sns.set_style('darkgrid')\n",
        "matplotlib.rcParams['font.size']=14\n",
        "matplotlib.rcParams['figure.figsize']=(10,6)\n",
        "matplotlib.rcParams['figure.facecolor']='#00000000'"
      ]
    },
    {
      "cell_type": "code",
      "execution_count": 42,
      "metadata": {
        "colab": {
          "base_uri": "https://localhost:8080/",
          "height": 488
        },
        "id": "mYKD0TU7CITT",
        "outputId": "bcdcffbd-20b5-4adf-f8e8-34165649524d"
      },
      "outputs": [
        {
          "output_type": "stream",
          "name": "stderr",
          "text": [
            "/usr/local/lib/python3.7/dist-packages/seaborn/_decorators.py:43: FutureWarning: Pass the following variable as a keyword arg: x. From version 0.12, the only valid positional argument will be `data`, and passing other arguments without an explicit keyword will result in an error or misinterpretation.\n",
            "  FutureWarning\n"
          ]
        },
        {
          "output_type": "execute_result",
          "data": {
            "text/plain": [
              "Text(0.5, 1.0, 'no of bookings in respective countries')"
            ]
          },
          "metadata": {},
          "execution_count": 42
        },
        {
          "output_type": "display_data",
          "data": {
            "text/plain": [
              "<Figure size 720x432 with 1 Axes>"
            ],
            "image/png": "[encoded data removed]"
          },
          "metadata": {
            "needs_background": "light"
          }
        }
      ],
      "source": [
        "sns.countplot(new_df.country_destination, x='country_destination');\n",
        "plt.title('no of bookings in respective countries')"
      ]
    },
    {
      "cell_type": "markdown",
      "metadata": {
        "id": "SyIfWFDtn-qd"
      },
      "source": [
        "US is the most preferred destination"
      ]
    },
    {
      "cell_type": "code",
      "execution_count": 43,
      "metadata": {
        "colab": {
          "base_uri": "https://localhost:8080/",
          "height": 488
        },
        "id": "BCj0Z6FNCITU",
        "outputId": "14e589bd-a70b-4e83-b182-ab32ba5a1ad2"
      },
      "outputs": [
        {
          "output_type": "stream",
          "name": "stderr",
          "text": [
            "/usr/local/lib/python3.7/dist-packages/seaborn/_decorators.py:43: FutureWarning: Pass the following variable as a keyword arg: x. From version 0.12, the only valid positional argument will be `data`, and passing other arguments without an explicit keyword will result in an error or misinterpretation.\n",
            "  FutureWarning\n"
          ]
        },
        {
          "output_type": "execute_result",
          "data": {
            "text/plain": [
              "Text(0.5, 1.0, 'gender distribution')"
            ]
          },
          "metadata": {},
          "execution_count": 43
        },
        {
          "output_type": "display_data",
          "data": {
            "text/plain": [
              "<Figure size 720x432 with 1 Axes>"
            ],
            "image/png": "[encoded data removed]"
          },
          "metadata": {
            "needs_background": "light"
          }
        }
      ],
      "source": [
        "sns.countplot(new_df.gender, x='gender')\n",
        "plt.title('gender distribution')"
      ]
    },
    {
      "cell_type": "code",
      "execution_count": 44,
      "metadata": {
        "colab": {
          "base_uri": "https://localhost:8080/",
          "height": 488
        },
        "id": "43mQMjWvCITV",
        "outputId": "3db5110f-1428-4f43-e89b-93794f8dfc60"
      },
      "outputs": [
        {
          "output_type": "execute_result",
          "data": {
            "text/plain": [
              "                id date_account_created  timestamp_first_active  \\\n",
              "2       4ft3gnwmtx           2010-09-28          20090609231247   \n",
              "4       87mebub9p4           2010-09-14          20091208061105   \n",
              "5       osr2jwljor           2010-01-01          20100101215619   \n",
              "6       lsw9q7uk0j           2010-01-02          20100102012558   \n",
              "7       0d01nltbrs           2010-01-03          20100103191905   \n",
              "...            ...                  ...                     ...   \n",
              "213415  7plqriggxp           2014-06-30          20140630230136   \n",
              "213439  msucfwmlzc           2014-06-30          20140630234729   \n",
              "213441  omlc9iku7t           2014-06-30          20140630235151   \n",
              "213443  0k26r3mir0           2014-06-30          20140630235340   \n",
              "213445  qbxza0xojf           2014-06-30          20140630235547   \n",
              "\n",
              "       date_first_booking  gender   age signup_method  signup_flow language  \\\n",
              "2              2010-08-02  FEMALE  56.0         basic            3       en   \n",
              "4              2010-02-18  FEMALE  41.0         basic            0       en   \n",
              "5              2010-01-02  FEMALE  33.0         basic            0       en   \n",
              "6              2010-01-05  FEMALE  46.0         basic            0       en   \n",
              "7              2010-01-13  FEMALE  47.0         basic            0       en   \n",
              "...                   ...     ...   ...           ...          ...      ...   \n",
              "213415         2014-06-30  FEMALE  55.0         basic            0       en   \n",
              "213439         2015-03-16    MALE  43.0         basic            0       en   \n",
              "213441         2014-08-13  FEMALE  34.0         basic            0       en   \n",
              "213443         2014-07-13  FEMALE  36.0         basic            0       en   \n",
              "213445         2014-07-02  FEMALE  23.0         basic            0       en   \n",
              "\n",
              "       affiliate_channel affiliate_provider first_affiliate_tracked  \\\n",
              "2                 direct             direct               untracked   \n",
              "4                 direct             direct               untracked   \n",
              "5                  other              other                     omg   \n",
              "6                  other         craigslist               untracked   \n",
              "7                 direct             direct                     omg   \n",
              "...                  ...                ...                     ...   \n",
              "213415         sem-brand             google                     omg   \n",
              "213439            direct             direct               untracked   \n",
              "213441            direct             direct                  linked   \n",
              "213443         sem-brand             google                  linked   \n",
              "213445         sem-brand             google                     omg   \n",
              "\n",
              "       signup_app first_device_type first_browser country_destination  \n",
              "2             Web   Windows Desktop            IE                  US  \n",
              "4             Web       Mac Desktop        Chrome                  US  \n",
              "5             Web       Mac Desktop        Chrome                  US  \n",
              "6             Web       Mac Desktop        Safari                  US  \n",
              "7             Web       Mac Desktop        Safari                  US  \n",
              "...           ...               ...           ...                 ...  \n",
              "213415        Web    Android Tablet            IE                  FR  \n",
              "213439        Web   Windows Desktop       Firefox                  US  \n",
              "213441        Web       Mac Desktop        Chrome                  ES  \n",
              "213443        Web       Mac Desktop        Safari                  US  \n",
              "213445        Web   Windows Desktop            IE                  US  \n",
              "\n",
              "[77534 rows x 16 columns]"
            ],
            "text/html": [
              "\n",
              "  <div id=\"df-2afec598-6d75-4ac3-a231-f6d47cce0f6d\">\n",
              "    <div class=\"colab-df-container\">\n",
              "      <div>\n",
              "<style scoped>\n",
              "    .dataframe tbody tr th:only-of-type {\n",
              "        vertical-align: middle;\n",
              "    }\n",
              "\n",
              "    .dataframe tbody tr th {\n",
              "        vertical-align: top;\n",
              "    }\n",
              "\n",
              "    .dataframe thead th {\n",
              "        text-align: right;\n",
              "    }\n",
              "</style>\n",
              "<table border=\"1\" class=\"dataframe\">\n",
              "  <thead>\n",
              "    <tr style=\"text-align: right;\">\n",
              "      <th></th>\n",
              "      <th>id</th>\n",
              "      <th>date_account_created</th>\n",
              "      <th>timestamp_first_active</th>\n",
              "      <th>date_first_booking</th>\n",
              "      <th>gender</th>\n",
              "      <th>age</th>\n",
              "      <th>signup_method</th>\n",
              "      <th>signup_flow</th>\n",
              "      <th>language</th>\n",
              "      <th>affiliate_channel</th>\n",
              "      <th>affiliate_provider</th>\n",
              "      <th>first_affiliate_tracked</th>\n",
              "      <th>signup_app</th>\n",
              "      <th>first_device_type</th>\n",
              "      <th>first_browser</th>\n",
              "      <th>country_destination</th>\n",
              "    </tr>\n",
              "  </thead>\n",
              "  <tbody>\n",
              "    <tr>\n",
              "      <th>2</th>\n",
              "      <td>4ft3gnwmtx</td>\n",
              "      <td>2010-09-28</td>\n",
              "      <td>20090609231247</td>\n",
              "      <td>2010-08-02</td>\n",
              "      <td>FEMALE</td>\n",
              "      <td>56.0</td>\n",
              "      <td>basic</td>\n",
              "      <td>3</td>\n",
              "      <td>en</td>\n",
              "      <td>direct</td>\n",
              "      <td>direct</td>\n",
              "      <td>untracked</td>\n",
              "      <td>Web</td>\n",
              "      <td>Windows Desktop</td>\n",
              "      <td>IE</td>\n",
              "      <td>US</td>\n",
              "    </tr>\n",
              "    <tr>\n",
              "      <th>4</th>\n",
              "      <td>87mebub9p4</td>\n",
              "      <td>2010-09-14</td>\n",
              "      <td>20091208061105</td>\n",
              "      <td>2010-02-18</td>\n",
              "      <td>FEMALE</td>\n",
              "      <td>41.0</td>\n",
              "      <td>basic</td>\n",
              "      <td>0</td>\n",
              "      <td>en</td>\n",
              "      <td>direct</td>\n",
              "      <td>direct</td>\n",
              "      <td>untracked</td>\n",
              "      <td>Web</td>\n",
              "      <td>Mac Desktop</td>\n",
              "      <td>Chrome</td>\n",
              "      <td>US</td>\n",
              "    </tr>\n",
              "    <tr>\n",
              "      <th>5</th>\n",
              "      <td>osr2jwljor</td>\n",
              "      <td>2010-01-01</td>\n",
              "      <td>20100101215619</td>\n",
              "      <td>2010-01-02</td>\n",
              "      <td>FEMALE</td>\n",
              "      <td>33.0</td>\n",
              "      <td>basic</td>\n",
              "      <td>0</td>\n",
              "      <td>en</td>\n",
              "      <td>other</td>\n",
              "      <td>other</td>\n",
              "      <td>omg</td>\n",
              "      <td>Web</td>\n",
              "      <td>Mac Desktop</td>\n",
              "      <td>Chrome</td>\n",
              "      <td>US</td>\n",
              "    </tr>\n",
              "    <tr>\n",
              "      <th>6</th>\n",
              "      <td>lsw9q7uk0j</td>\n",
              "      <td>2010-01-02</td>\n",
              "      <td>20100102012558</td>\n",
              "      <td>2010-01-05</td>\n",
              "      <td>FEMALE</td>\n",
              "      <td>46.0</td>\n",
              "      <td>basic</td>\n",
              "      <td>0</td>\n",
              "      <td>en</td>\n",
              "      <td>other</td>\n",
              "      <td>craigslist</td>\n",
              "      <td>untracked</td>\n",
              "      <td>Web</td>\n",
              "      <td>Mac Desktop</td>\n",
              "      <td>Safari</td>\n",
              "      <td>US</td>\n",
              "    </tr>\n",
              "    <tr>\n",
              "      <th>7</th>\n",
              "      <td>0d01nltbrs</td>\n",
              "      <td>2010-01-03</td>\n",
              "      <td>20100103191905</td>\n",
              "      <td>2010-01-13</td>\n",
              "      <td>FEMALE</td>\n",
              "      <td>47.0</td>\n",
              "      <td>basic</td>\n",
              "      <td>0</td>\n",
              "      <td>en</td>\n",
              "      <td>direct</td>\n",
              "      <td>direct</td>\n",
              "      <td>omg</td>\n",
              "      <td>Web</td>\n",
              "      <td>Mac Desktop</td>\n",
              "      <td>Safari</td>\n",
              "      <td>US</td>\n",
              "    </tr>\n",
              "    <tr>\n",
              "      <th>...</th>\n",
              "      <td>...</td>\n",
              "      <td>...</td>\n",
              "      <td>...</td>\n",
              "      <td>...</td>\n",
              "      <td>...</td>\n",
              "      <td>...</td>\n",
              "      <td>...</td>\n",
              "      <td>...</td>\n",
              "      <td>...</td>\n",
              "      <td>...</td>\n",
              "      <td>...</td>\n",
              "      <td>...</td>\n",
              "      <td>...</td>\n",
              "      <td>...</td>\n",
              "      <td>...</td>\n",
              "      <td>...</td>\n",
              "    </tr>\n",
              "    <tr>\n",
              "      <th>213415</th>\n",
              "      <td>7plqriggxp</td>\n",
              "      <td>2014-06-30</td>\n",
              "      <td>20140630230136</td>\n",
              "      <td>2014-06-30</td>\n",
              "      <td>FEMALE</td>\n",
              "      <td>55.0</td>\n",
              "      <td>basic</td>\n",
              "      <td>0</td>\n",
              "      <td>en</td>\n",
              "      <td>sem-brand</td>\n",
              "      <td>google</td>\n",
              "      <td>omg</td>\n",
              "      <td>Web</td>\n",
              "      <td>Android Tablet</td>\n",
              "      <td>IE</td>\n",
              "      <td>FR</td>\n",
              "    </tr>\n",
              "    <tr>\n",
              "      <th>213439</th>\n",
              "      <td>msucfwmlzc</td>\n",
              "      <td>2014-06-30</td>\n",
              "      <td>20140630234729</td>\n",
              "      <td>2015-03-16</td>\n",
              "      <td>MALE</td>\n",
              "      <td>43.0</td>\n",
              "      <td>basic</td>\n",
              "      <td>0</td>\n",
              "      <td>en</td>\n",
              "      <td>direct</td>\n",
              "      <td>direct</td>\n",
              "      <td>untracked</td>\n",
              "      <td>Web</td>\n",
              "      <td>Windows Desktop</td>\n",
              "      <td>Firefox</td>\n",
              "      <td>US</td>\n",
              "    </tr>\n",
              "    <tr>\n",
              "      <th>213441</th>\n",
              "      <td>omlc9iku7t</td>\n",
              "      <td>2014-06-30</td>\n",
              "      <td>20140630235151</td>\n",
              "      <td>2014-08-13</td>\n",
              "      <td>FEMALE</td>\n",
              "      <td>34.0</td>\n",
              "      <td>basic</td>\n",
              "      <td>0</td>\n",
              "      <td>en</td>\n",
              "      <td>direct</td>\n",
              "      <td>direct</td>\n",
              "      <td>linked</td>\n",
              "      <td>Web</td>\n",
              "      <td>Mac Desktop</td>\n",
              "      <td>Chrome</td>\n",
              "      <td>ES</td>\n",
              "    </tr>\n",
              "    <tr>\n",
              "      <th>213443</th>\n",
              "      <td>0k26r3mir0</td>\n",
              "      <td>2014-06-30</td>\n",
              "      <td>20140630235340</td>\n",
              "      <td>2014-07-13</td>\n",
              "      <td>FEMALE</td>\n",
              "      <td>36.0</td>\n",
              "      <td>basic</td>\n",
              "      <td>0</td>\n",
              "      <td>en</td>\n",
              "      <td>sem-brand</td>\n",
              "      <td>google</td>\n",
              "      <td>linked</td>\n",
              "      <td>Web</td>\n",
              "      <td>Mac Desktop</td>\n",
              "      <td>Safari</td>\n",
              "      <td>US</td>\n",
              "    </tr>\n",
              "    <tr>\n",
              "      <th>213445</th>\n",
              "      <td>qbxza0xojf</td>\n",
              "      <td>2014-06-30</td>\n",
              "      <td>20140630235547</td>\n",
              "      <td>2014-07-02</td>\n",
              "      <td>FEMALE</td>\n",
              "      <td>23.0</td>\n",
              "      <td>basic</td>\n",
              "      <td>0</td>\n",
              "      <td>en</td>\n",
              "      <td>sem-brand</td>\n",
              "      <td>google</td>\n",
              "      <td>omg</td>\n",
              "      <td>Web</td>\n",
              "      <td>Windows Desktop</td>\n",
              "      <td>IE</td>\n",
              "      <td>US</td>\n",
              "    </tr>\n",
              "  </tbody>\n",
              "</table>\n",
              "<p>77534 rows × 16 columns</p>\n",
              "</div>\n",
              "      <button class=\"colab-df-convert\" onclick=\"convertToInteractive('df-2afec598-6d75-4ac3-a231-f6d47cce0f6d')\"\n",
              "              title=\"Convert this dataframe to an interactive table.\"\n",
              "              style=\"display:none;\">\n",
              "        \n",
              "  <svg xmlns=\"http://www.w3.org/2000/svg\" height=\"24px\"viewBox=\"0 0 24 24\"\n",
              "       width=\"24px\">\n",
              "    <path d=\"M0 0h24v24H0V0z\" fill=\"none\"/>\n",
              "    <path d=\"M18.56 5.44l.94 2.06.94-2.06 2.06-.94-2.06-.94-.94-2.06-.94 2.06-2.06.94zm-11 1L8.5 8.5l.94-2.06 2.06-.94-2.06-.94L8.5 2.5l-.94 2.06-2.06.94zm10 10l.94 2.06.94-2.06 2.06-.94-2.06-.94-.94-2.06-.94 2.06-2.06.94z\"/><path d=\"M17.41 7.96l-1.37-1.37c-.4-.4-.92-.59-1.43-.59-.52 0-1.04.2-1.43.59L10.3 9.45l-7.72 7.72c-.78.78-.78 2.05 0 2.83L4 21.41c.39.39.9.59 1.41.59.51 0 1.02-.2 1.41-.59l7.78-7.78 2.81-2.81c.8-.78.8-2.07 0-2.86zM5.41 20L4 18.59l7.72-7.72 1.47 1.35L5.41 20z\"/>\n",
              "  </svg>\n",
              "      </button>\n",
              "      \n",
              "  <style>\n",
              "    .colab-df-container {\n",
              "      display:flex;\n",
              "      flex-wrap:wrap;\n",
              "      gap: 12px;\n",
              "    }\n",
              "\n",
              "    .colab-df-convert {\n",
              "      background-color: #E8F0FE;\n",
              "      border: none;\n",
              "      border-radius: 50%;\n",
              "      cursor: pointer;\n",
              "      display: none;\n",
              "      fill: #1967D2;\n",
              "      height: 32px;\n",
              "      padding: 0 0 0 0;\n",
              "      width: 32px;\n",
              "    }\n",
              "\n",
              "    .colab-df-convert:hover {\n",
              "      background-color: #E2EBFA;\n",
              "      box-shadow: 0px 1px 2px rgba(60, 64, 67, 0.3), 0px 1px 3px 1px rgba(60, 64, 67, 0.15);\n",
              "      fill: #174EA6;\n",
              "    }\n",
              "\n",
              "    [theme=dark] .colab-df-convert {\n",
              "      background-color: #3B4455;\n",
              "      fill: #D2E3FC;\n",
              "    }\n",
              "\n",
              "    [theme=dark] .colab-df-convert:hover {\n",
              "      background-color: #434B5C;\n",
              "      box-shadow: 0px 1px 3px 1px rgba(0, 0, 0, 0.15);\n",
              "      filter: drop-shadow(0px 1px 2px rgba(0, 0, 0, 0.3));\n",
              "      fill: #FFFFFF;\n",
              "    }\n",
              "  </style>\n",
              "\n",
              "      <script>\n",
              "        const buttonEl =\n",
              "          document.querySelector('#df-2afec598-6d75-4ac3-a231-f6d47cce0f6d button.colab-df-convert');\n",
              "        buttonEl.style.display =\n",
              "          google.colab.kernel.accessAllowed ? 'block' : 'none';\n",
              "\n",
              "        async function convertToInteractive(key) {\n",
              "          const element = document.querySelector('#df-2afec598-6d75-4ac3-a231-f6d47cce0f6d');\n",
              "          const dataTable =\n",
              "            await google.colab.kernel.invokeFunction('convertToInteractive',\n",
              "                                                     [key], {});\n",
              "          if (!dataTable) return;\n",
              "\n",
              "          const docLinkHtml = 'Like what you see? Visit the ' +\n",
              "            '<a target=\"_blank\" href=https://colab.research.google.com/notebooks/data_table.ipynb>data table notebook</a>'\n",
              "            + ' to learn more about interactive tables.';\n",
              "          element.innerHTML = '';\n",
              "          dataTable['output_type'] = 'display_data';\n",
              "          await google.colab.output.renderOutput(dataTable, element);\n",
              "          const docLink = document.createElement('div');\n",
              "          docLink.innerHTML = docLinkHtml;\n",
              "          element.appendChild(docLink);\n",
              "        }\n",
              "      </script>\n",
              "    </div>\n",
              "  </div>\n",
              "  "
            ]
          },
          "metadata": {},
          "execution_count": 44
        }
      ],
      "source": [
        "new_df"
      ]
    },
    {
      "cell_type": "code",
      "execution_count": 45,
      "metadata": {
        "colab": {
          "base_uri": "https://localhost:8080/",
          "height": 468
        },
        "id": "zn3y9kQpCITW",
        "outputId": "4330ee20-1615-4968-e547-f84a743d6fb1"
      },
      "outputs": [
        {
          "output_type": "stream",
          "name": "stderr",
          "text": [
            "/usr/local/lib/python3.7/dist-packages/seaborn/_decorators.py:43: FutureWarning: Pass the following variable as a keyword arg: x. From version 0.12, the only valid positional argument will be `data`, and passing other arguments without an explicit keyword will result in an error or misinterpretation.\n",
            "  FutureWarning\n"
          ]
        },
        {
          "output_type": "execute_result",
          "data": {
            "text/plain": [
              "<matplotlib.axes._subplots.AxesSubplot at 0x7f7e1034a2d0>"
            ]
          },
          "metadata": {},
          "execution_count": 45
        },
        {
          "output_type": "display_data",
          "data": {
            "text/plain": [
              "<Figure size 720x432 with 1 Axes>"
            ],
            "image/png": "[encoded data removed]"
          },
          "metadata": {
            "needs_background": "light"
          }
        }
      ],
      "source": [
        "sns.countplot(new_df.language, x='language')"
      ]
    },
    {
      "cell_type": "markdown",
      "metadata": {
        "id": "Q7Lgt6pWoQzv"
      },
      "source": [
        "## English is the most spoken language among the users "
      ]
    },
    {
      "cell_type": "code",
      "execution_count": 46,
      "metadata": {
        "colab": {
          "base_uri": "https://localhost:8080/",
          "height": 488
        },
        "id": "zUFvhpw0CITW",
        "outputId": "aa50e21e-613d-464e-8e12-6a4cd46d6a93"
      },
      "outputs": [
        {
          "output_type": "stream",
          "name": "stderr",
          "text": [
            "/usr/local/lib/python3.7/dist-packages/seaborn/_decorators.py:43: FutureWarning: Pass the following variable as a keyword arg: x. From version 0.12, the only valid positional argument will be `data`, and passing other arguments without an explicit keyword will result in an error or misinterpretation.\n",
            "  FutureWarning\n"
          ]
        },
        {
          "output_type": "display_data",
          "data": {
            "text/plain": [
              "<Figure size 720x432 with 1 Axes>"
            ],
            "image/png": "[encoded data removed]"
          },
          "metadata": {
            "needs_background": "light"
          }
        }
      ],
      "source": [
        "ax=sns.countplot(new_df.first_device_type, x='first_device_type')\n",
        "ax.set_xticklabels(ax.get_xticklabels(), rotation=40, ha=\"right\")\n",
        "plt.tight_layout()\n",
        "plt.show()\n",
        "\n"
      ]
    },
    {
      "cell_type": "markdown",
      "metadata": {
        "id": "rY5ArMM9ocV8"
      },
      "source": [
        "Most users utilise Mac Desktop"
      ]
    },
    {
      "cell_type": "code",
      "execution_count": 47,
      "metadata": {
        "colab": {
          "base_uri": "https://localhost:8080/",
          "height": 87
        },
        "id": "cIyfuHm6CITX",
        "outputId": "6a3867e9-d907-4a32-e4a5-8a00a933f630"
      },
      "outputs": [
        {
          "output_type": "stream",
          "name": "stdout",
          "text": [
            "[jovian] Detected Colab notebook...\u001b[0m\n",
            "[jovian] Uploading colab notebook to Jovian...\u001b[0m\n",
            "Committed successfully! https://jovian.ai/dibyababu105/new-user-bookings\n"
          ]
        },
        {
          "output_type": "execute_result",
          "data": {
            "text/plain": [
              "'https://jovian.ai/dibyababu105/new-user-bookings'"
            ],
            "application/vnd.google.colaboratory.intrinsic+json": {
              "type": "string"
            }
          },
          "metadata": {},
          "execution_count": 47
        }
      ],
      "source": [
        "jovian.commit(project=\"machine-learning-project\")"
      ]
    },
    {
      "cell_type": "markdown",
      "metadata": {
        "id": "lQZGm5OCot0q"
      },
      "source": [
        "## Feature Engineering"
      ]
    },
    {
      "cell_type": "code",
      "execution_count": 48,
      "metadata": {
        "id": "1M10EP-qCITX"
      },
      "outputs": [],
      "source": [
        "import datetime"
      ]
    },
    {
      "cell_type": "code",
      "execution_count": 49,
      "metadata": {
        "id": "nN-d3OgiCITY"
      },
      "outputs": [],
      "source": [
        "new_df['date_account_created'] = pd.to_datetime(new_df['date_account_created'])\n",
        "new_df['timestamp_first_active'] = pd.to_datetime(new_df['timestamp_first_active'], format='%Y%m%d%H%M%S')"
      ]
    },
    {
      "cell_type": "code",
      "execution_count": 50,
      "metadata": {
        "id": "BR8FNR9pCITY"
      },
      "outputs": [],
      "source": [
        "new_df['year'] = new_df['date_account_created'].dt.year"
      ]
    },
    {
      "cell_type": "code",
      "execution_count": 51,
      "metadata": {
        "colab": {
          "base_uri": "https://localhost:8080/",
          "height": 433
        },
        "id": "B_QvTScNCITZ",
        "outputId": "09a61072-5768-4398-fecb-6f5f0acc52b1"
      },
      "outputs": [
        {
          "output_type": "execute_result",
          "data": {
            "text/plain": [
              "Text(0.5, 1.0, 'year wise distribution')"
            ]
          },
          "metadata": {},
          "execution_count": 51
        },
        {
          "output_type": "display_data",
          "data": {
            "text/plain": [
              "<Figure size 720x432 with 1 Axes>"
            ],
            "image/png": "[encoded data removed]"
          },
          "metadata": {
            "needs_background": "light"
          }
        }
      ],
      "source": [
        "sns.countplot(data=new_df,x='year', hue=new_df['gender']);\n",
        "plt.title('year wise distribution')"
      ]
    },
    {
      "cell_type": "markdown",
      "metadata": {
        "id": "EUeQPmO7o3kl"
      },
      "source": [
        "##2013 had the most tourists"
      ]
    },
    {
      "cell_type": "code",
      "execution_count": 52,
      "metadata": {
        "colab": {
          "base_uri": "https://localhost:8080/",
          "height": 488
        },
        "id": "CMNYoXMOCITZ",
        "outputId": "4d8d39e7-7297-426d-a9f7-49c969db7122",
        "scrolled": true
      },
      "outputs": [
        {
          "output_type": "execute_result",
          "data": {
            "text/plain": [
              "                id date_account_created timestamp_first_active  \\\n",
              "2       4ft3gnwmtx           2010-09-28    2009-06-09 23:12:47   \n",
              "4       87mebub9p4           2010-09-14    2009-12-08 06:11:05   \n",
              "5       osr2jwljor           2010-01-01    2010-01-01 21:56:19   \n",
              "6       lsw9q7uk0j           2010-01-02    2010-01-02 01:25:58   \n",
              "7       0d01nltbrs           2010-01-03    2010-01-03 19:19:05   \n",
              "...            ...                  ...                    ...   \n",
              "213415  7plqriggxp           2014-06-30    2014-06-30 23:01:36   \n",
              "213439  msucfwmlzc           2014-06-30    2014-06-30 23:47:29   \n",
              "213441  omlc9iku7t           2014-06-30    2014-06-30 23:51:51   \n",
              "213443  0k26r3mir0           2014-06-30    2014-06-30 23:53:40   \n",
              "213445  qbxza0xojf           2014-06-30    2014-06-30 23:55:47   \n",
              "\n",
              "       date_first_booking  gender   age signup_method  signup_flow language  \\\n",
              "2              2010-08-02  FEMALE  56.0         basic            3       en   \n",
              "4              2010-02-18  FEMALE  41.0         basic            0       en   \n",
              "5              2010-01-02  FEMALE  33.0         basic            0       en   \n",
              "6              2010-01-05  FEMALE  46.0         basic            0       en   \n",
              "7              2010-01-13  FEMALE  47.0         basic            0       en   \n",
              "...                   ...     ...   ...           ...          ...      ...   \n",
              "213415         2014-06-30  FEMALE  55.0         basic            0       en   \n",
              "213439         2015-03-16    MALE  43.0         basic            0       en   \n",
              "213441         2014-08-13  FEMALE  34.0         basic            0       en   \n",
              "213443         2014-07-13  FEMALE  36.0         basic            0       en   \n",
              "213445         2014-07-02  FEMALE  23.0         basic            0       en   \n",
              "\n",
              "       affiliate_channel affiliate_provider first_affiliate_tracked  \\\n",
              "2                 direct             direct               untracked   \n",
              "4                 direct             direct               untracked   \n",
              "5                  other              other                     omg   \n",
              "6                  other         craigslist               untracked   \n",
              "7                 direct             direct                     omg   \n",
              "...                  ...                ...                     ...   \n",
              "213415         sem-brand             google                     omg   \n",
              "213439            direct             direct               untracked   \n",
              "213441            direct             direct                  linked   \n",
              "213443         sem-brand             google                  linked   \n",
              "213445         sem-brand             google                     omg   \n",
              "\n",
              "       signup_app first_device_type first_browser country_destination  year  \n",
              "2             Web   Windows Desktop            IE                  US  2010  \n",
              "4             Web       Mac Desktop        Chrome                  US  2010  \n",
              "5             Web       Mac Desktop        Chrome                  US  2010  \n",
              "6             Web       Mac Desktop        Safari                  US  2010  \n",
              "7             Web       Mac Desktop        Safari                  US  2010  \n",
              "...           ...               ...           ...                 ...   ...  \n",
              "213415        Web    Android Tablet            IE                  FR  2014  \n",
              "213439        Web   Windows Desktop       Firefox                  US  2014  \n",
              "213441        Web       Mac Desktop        Chrome                  ES  2014  \n",
              "213443        Web       Mac Desktop        Safari                  US  2014  \n",
              "213445        Web   Windows Desktop            IE                  US  2014  \n",
              "\n",
              "[77534 rows x 17 columns]"
            ],
            "text/html": [
              "\n",
              "  <div id=\"df-85ba720b-eef9-4d29-bb6a-b2439ad57b03\">\n",
              "    <div class=\"colab-df-container\">\n",
              "      <div>\n",
              "<style scoped>\n",
              "    .dataframe tbody tr th:only-of-type {\n",
              "        vertical-align: middle;\n",
              "    }\n",
              "\n",
              "    .dataframe tbody tr th {\n",
              "        vertical-align: top;\n",
              "    }\n",
              "\n",
              "    .dataframe thead th {\n",
              "        text-align: right;\n",
              "    }\n",
              "</style>\n",
              "<table border=\"1\" class=\"dataframe\">\n",
              "  <thead>\n",
              "    <tr style=\"text-align: right;\">\n",
              "      <th></th>\n",
              "      <th>id</th>\n",
              "      <th>date_account_created</th>\n",
              "      <th>timestamp_first_active</th>\n",
              "      <th>date_first_booking</th>\n",
              "      <th>gender</th>\n",
              "      <th>age</th>\n",
              "      <th>signup_method</th>\n",
              "      <th>signup_flow</th>\n",
              "      <th>language</th>\n",
              "      <th>affiliate_channel</th>\n",
              "      <th>affiliate_provider</th>\n",
              "      <th>first_affiliate_tracked</th>\n",
              "      <th>signup_app</th>\n",
              "      <th>first_device_type</th>\n",
              "      <th>first_browser</th>\n",
              "      <th>country_destination</th>\n",
              "      <th>year</th>\n",
              "    </tr>\n",
              "  </thead>\n",
              "  <tbody>\n",
              "    <tr>\n",
              "      <th>2</th>\n",
              "      <td>4ft3gnwmtx</td>\n",
              "      <td>2010-09-28</td>\n",
              "      <td>2009-06-09 23:12:47</td>\n",
              "      <td>2010-08-02</td>\n",
              "      <td>FEMALE</td>\n",
              "      <td>56.0</td>\n",
              "      <td>basic</td>\n",
              "      <td>3</td>\n",
              "      <td>en</td>\n",
              "      <td>direct</td>\n",
              "      <td>direct</td>\n",
              "      <td>untracked</td>\n",
              "      <td>Web</td>\n",
              "      <td>Windows Desktop</td>\n",
              "      <td>IE</td>\n",
              "      <td>US</td>\n",
              "      <td>2010</td>\n",
              "    </tr>\n",
              "    <tr>\n",
              "      <th>4</th>\n",
              "      <td>87mebub9p4</td>\n",
              "      <td>2010-09-14</td>\n",
              "      <td>2009-12-08 06:11:05</td>\n",
              "      <td>2010-02-18</td>\n",
              "      <td>FEMALE</td>\n",
              "      <td>41.0</td>\n",
              "      <td>basic</td>\n",
              "      <td>0</td>\n",
              "      <td>en</td>\n",
              "      <td>direct</td>\n",
              "      <td>direct</td>\n",
              "      <td>untracked</td>\n",
              "      <td>Web</td>\n",
              "      <td>Mac Desktop</td>\n",
              "      <td>Chrome</td>\n",
              "      <td>US</td>\n",
              "      <td>2010</td>\n",
              "    </tr>\n",
              "    <tr>\n",
              "      <th>5</th>\n",
              "      <td>osr2jwljor</td>\n",
              "      <td>2010-01-01</td>\n",
              "      <td>2010-01-01 21:56:19</td>\n",
              "      <td>2010-01-02</td>\n",
              "      <td>FEMALE</td>\n",
              "      <td>33.0</td>\n",
              "      <td>basic</td>\n",
              "      <td>0</td>\n",
              "      <td>en</td>\n",
              "      <td>other</td>\n",
              "      <td>other</td>\n",
              "      <td>omg</td>\n",
              "      <td>Web</td>\n",
              "      <td>Mac Desktop</td>\n",
              "      <td>Chrome</td>\n",
              "      <td>US</td>\n",
              "      <td>2010</td>\n",
              "    </tr>\n",
              "    <tr>\n",
              "      <th>6</th>\n",
              "      <td>lsw9q7uk0j</td>\n",
              "      <td>2010-01-02</td>\n",
              "      <td>2010-01-02 01:25:58</td>\n",
              "      <td>2010-01-05</td>\n",
              "      <td>FEMALE</td>\n",
              "      <td>46.0</td>\n",
              "      <td>basic</td>\n",
              "      <td>0</td>\n",
              "      <td>en</td>\n",
              "      <td>other</td>\n",
              "      <td>craigslist</td>\n",
              "      <td>untracked</td>\n",
              "      <td>Web</td>\n",
              "      <td>Mac Desktop</td>\n",
              "      <td>Safari</td>\n",
              "      <td>US</td>\n",
              "      <td>2010</td>\n",
              "    </tr>\n",
              "    <tr>\n",
              "      <th>7</th>\n",
              "      <td>0d01nltbrs</td>\n",
              "      <td>2010-01-03</td>\n",
              "      <td>2010-01-03 19:19:05</td>\n",
              "      <td>2010-01-13</td>\n",
              "      <td>FEMALE</td>\n",
              "      <td>47.0</td>\n",
              "      <td>basic</td>\n",
              "      <td>0</td>\n",
              "      <td>en</td>\n",
              "      <td>direct</td>\n",
              "      <td>direct</td>\n",
              "      <td>omg</td>\n",
              "      <td>Web</td>\n",
              "      <td>Mac Desktop</td>\n",
              "      <td>Safari</td>\n",
              "      <td>US</td>\n",
              "      <td>2010</td>\n",
              "    </tr>\n",
              "    <tr>\n",
              "      <th>...</th>\n",
              "      <td>...</td>\n",
              "      <td>...</td>\n",
              "      <td>...</td>\n",
              "      <td>...</td>\n",
              "      <td>...</td>\n",
              "      <td>...</td>\n",
              "      <td>...</td>\n",
              "      <td>...</td>\n",
              "      <td>...</td>\n",
              "      <td>...</td>\n",
              "      <td>...</td>\n",
              "      <td>...</td>\n",
              "      <td>...</td>\n",
              "      <td>...</td>\n",
              "      <td>...</td>\n",
              "      <td>...</td>\n",
              "      <td>...</td>\n",
              "    </tr>\n",
              "    <tr>\n",
              "      <th>213415</th>\n",
              "      <td>7plqriggxp</td>\n",
              "      <td>2014-06-30</td>\n",
              "      <td>2014-06-30 23:01:36</td>\n",
              "      <td>2014-06-30</td>\n",
              "      <td>FEMALE</td>\n",
              "      <td>55.0</td>\n",
              "      <td>basic</td>\n",
              "      <td>0</td>\n",
              "      <td>en</td>\n",
              "      <td>sem-brand</td>\n",
              "      <td>google</td>\n",
              "      <td>omg</td>\n",
              "      <td>Web</td>\n",
              "      <td>Android Tablet</td>\n",
              "      <td>IE</td>\n",
              "      <td>FR</td>\n",
              "      <td>2014</td>\n",
              "    </tr>\n",
              "    <tr>\n",
              "      <th>213439</th>\n",
              "      <td>msucfwmlzc</td>\n",
              "      <td>2014-06-30</td>\n",
              "      <td>2014-06-30 23:47:29</td>\n",
              "      <td>2015-03-16</td>\n",
              "      <td>MALE</td>\n",
              "      <td>43.0</td>\n",
              "      <td>basic</td>\n",
              "      <td>0</td>\n",
              "      <td>en</td>\n",
              "      <td>direct</td>\n",
              "      <td>direct</td>\n",
              "      <td>untracked</td>\n",
              "      <td>Web</td>\n",
              "      <td>Windows Desktop</td>\n",
              "      <td>Firefox</td>\n",
              "      <td>US</td>\n",
              "      <td>2014</td>\n",
              "    </tr>\n",
              "    <tr>\n",
              "      <th>213441</th>\n",
              "      <td>omlc9iku7t</td>\n",
              "      <td>2014-06-30</td>\n",
              "      <td>2014-06-30 23:51:51</td>\n",
              "      <td>2014-08-13</td>\n",
              "      <td>FEMALE</td>\n",
              "      <td>34.0</td>\n",
              "      <td>basic</td>\n",
              "      <td>0</td>\n",
              "      <td>en</td>\n",
              "      <td>direct</td>\n",
              "      <td>direct</td>\n",
              "      <td>linked</td>\n",
              "      <td>Web</td>\n",
              "      <td>Mac Desktop</td>\n",
              "      <td>Chrome</td>\n",
              "      <td>ES</td>\n",
              "      <td>2014</td>\n",
              "    </tr>\n",
              "    <tr>\n",
              "      <th>213443</th>\n",
              "      <td>0k26r3mir0</td>\n",
              "      <td>2014-06-30</td>\n",
              "      <td>2014-06-30 23:53:40</td>\n",
              "      <td>2014-07-13</td>\n",
              "      <td>FEMALE</td>\n",
              "      <td>36.0</td>\n",
              "      <td>basic</td>\n",
              "      <td>0</td>\n",
              "      <td>en</td>\n",
              "      <td>sem-brand</td>\n",
              "      <td>google</td>\n",
              "      <td>linked</td>\n",
              "      <td>Web</td>\n",
              "      <td>Mac Desktop</td>\n",
              "      <td>Safari</td>\n",
              "      <td>US</td>\n",
              "      <td>2014</td>\n",
              "    </tr>\n",
              "    <tr>\n",
              "      <th>213445</th>\n",
              "      <td>qbxza0xojf</td>\n",
              "      <td>2014-06-30</td>\n",
              "      <td>2014-06-30 23:55:47</td>\n",
              "      <td>2014-07-02</td>\n",
              "      <td>FEMALE</td>\n",
              "      <td>23.0</td>\n",
              "      <td>basic</td>\n",
              "      <td>0</td>\n",
              "      <td>en</td>\n",
              "      <td>sem-brand</td>\n",
              "      <td>google</td>\n",
              "      <td>omg</td>\n",
              "      <td>Web</td>\n",
              "      <td>Windows Desktop</td>\n",
              "      <td>IE</td>\n",
              "      <td>US</td>\n",
              "      <td>2014</td>\n",
              "    </tr>\n",
              "  </tbody>\n",
              "</table>\n",
              "<p>77534 rows × 17 columns</p>\n",
              "</div>\n",
              "      <button class=\"colab-df-convert\" onclick=\"convertToInteractive('df-85ba720b-eef9-4d29-bb6a-b2439ad57b03')\"\n",
              "              title=\"Convert this dataframe to an interactive table.\"\n",
              "              style=\"display:none;\">\n",
              "        \n",
              "  <svg xmlns=\"http://www.w3.org/2000/svg\" height=\"24px\"viewBox=\"0 0 24 24\"\n",
              "       width=\"24px\">\n",
              "    <path d=\"M0 0h24v24H0V0z\" fill=\"none\"/>\n",
              "    <path d=\"M18.56 5.44l.94 2.06.94-2.06 2.06-.94-2.06-.94-.94-2.06-.94 2.06-2.06.94zm-11 1L8.5 8.5l.94-2.06 2.06-.94-2.06-.94L8.5 2.5l-.94 2.06-2.06.94zm10 10l.94 2.06.94-2.06 2.06-.94-2.06-.94-.94-2.06-.94 2.06-2.06.94z\"/><path d=\"M17.41 7.96l-1.37-1.37c-.4-.4-.92-.59-1.43-.59-.52 0-1.04.2-1.43.59L10.3 9.45l-7.72 7.72c-.78.78-.78 2.05 0 2.83L4 21.41c.39.39.9.59 1.41.59.51 0 1.02-.2 1.41-.59l7.78-7.78 2.81-2.81c.8-.78.8-2.07 0-2.86zM5.41 20L4 18.59l7.72-7.72 1.47 1.35L5.41 20z\"/>\n",
              "  </svg>\n",
              "      </button>\n",
              "      \n",
              "  <style>\n",
              "    .colab-df-container {\n",
              "      display:flex;\n",
              "      flex-wrap:wrap;\n",
              "      gap: 12px;\n",
              "    }\n",
              "\n",
              "    .colab-df-convert {\n",
              "      background-color: #E8F0FE;\n",
              "      border: none;\n",
              "      border-radius: 50%;\n",
              "      cursor: pointer;\n",
              "      display: none;\n",
              "      fill: #1967D2;\n",
              "      height: 32px;\n",
              "      padding: 0 0 0 0;\n",
              "      width: 32px;\n",
              "    }\n",
              "\n",
              "    .colab-df-convert:hover {\n",
              "      background-color: #E2EBFA;\n",
              "      box-shadow: 0px 1px 2px rgba(60, 64, 67, 0.3), 0px 1px 3px 1px rgba(60, 64, 67, 0.15);\n",
              "      fill: #174EA6;\n",
              "    }\n",
              "\n",
              "    [theme=dark] .colab-df-convert {\n",
              "      background-color: #3B4455;\n",
              "      fill: #D2E3FC;\n",
              "    }\n",
              "\n",
              "    [theme=dark] .colab-df-convert:hover {\n",
              "      background-color: #434B5C;\n",
              "      box-shadow: 0px 1px 3px 1px rgba(0, 0, 0, 0.15);\n",
              "      filter: drop-shadow(0px 1px 2px rgba(0, 0, 0, 0.3));\n",
              "      fill: #FFFFFF;\n",
              "    }\n",
              "  </style>\n",
              "\n",
              "      <script>\n",
              "        const buttonEl =\n",
              "          document.querySelector('#df-85ba720b-eef9-4d29-bb6a-b2439ad57b03 button.colab-df-convert');\n",
              "        buttonEl.style.display =\n",
              "          google.colab.kernel.accessAllowed ? 'block' : 'none';\n",
              "\n",
              "        async function convertToInteractive(key) {\n",
              "          const element = document.querySelector('#df-85ba720b-eef9-4d29-bb6a-b2439ad57b03');\n",
              "          const dataTable =\n",
              "            await google.colab.kernel.invokeFunction('convertToInteractive',\n",
              "                                                     [key], {});\n",
              "          if (!dataTable) return;\n",
              "\n",
              "          const docLinkHtml = 'Like what you see? Visit the ' +\n",
              "            '<a target=\"_blank\" href=https://colab.research.google.com/notebooks/data_table.ipynb>data table notebook</a>'\n",
              "            + ' to learn more about interactive tables.';\n",
              "          element.innerHTML = '';\n",
              "          dataTable['output_type'] = 'display_data';\n",
              "          await google.colab.output.renderOutput(dataTable, element);\n",
              "          const docLink = document.createElement('div');\n",
              "          docLink.innerHTML = docLinkHtml;\n",
              "          element.appendChild(docLink);\n",
              "        }\n",
              "      </script>\n",
              "    </div>\n",
              "  </div>\n",
              "  "
            ]
          },
          "metadata": {},
          "execution_count": 52
        }
      ],
      "source": [
        "new_df"
      ]
    },
    {
      "cell_type": "code",
      "execution_count": 53,
      "metadata": {
        "id": "0m8-4_snCITZ"
      },
      "outputs": [],
      "source": [
        "def split_date(df):\n",
        "    df['Date'] = pd.to_datetime(df['date_first_booking'])\n",
        "    df['Year'] = df.Date.dt.year\n",
        "    df['Month'] = df.Date.dt.month\n",
        "    df['Day'] = df.Date.dt.day\n",
        "    df['WeekOfYear'] = df.Date.dt.isocalendar().week"
      ]
    },
    {
      "cell_type": "markdown",
      "source": [
        "## Here we derive new columns because the year,month and week of the booking may be an important factor to decide the destintion"
      ],
      "metadata": {
        "id": "BGrmMP07YjrA"
      }
    },
    {
      "cell_type": "code",
      "execution_count": 54,
      "metadata": {
        "id": "27PhdozcCITa"
      },
      "outputs": [],
      "source": [
        "split_date(new_df)"
      ]
    },
    {
      "cell_type": "code",
      "execution_count": 55,
      "metadata": {
        "colab": {
          "base_uri": "https://localhost:8080/",
          "height": 661
        },
        "id": "MQKB3XD9CITa",
        "outputId": "5ba5806c-7ed7-4d84-a85f-fd0fc9d72c85"
      },
      "outputs": [
        {
          "output_type": "execute_result",
          "data": {
            "text/plain": [
              "                id date_account_created timestamp_first_active  \\\n",
              "2       4ft3gnwmtx           2010-09-28    2009-06-09 23:12:47   \n",
              "4       87mebub9p4           2010-09-14    2009-12-08 06:11:05   \n",
              "5       osr2jwljor           2010-01-01    2010-01-01 21:56:19   \n",
              "6       lsw9q7uk0j           2010-01-02    2010-01-02 01:25:58   \n",
              "7       0d01nltbrs           2010-01-03    2010-01-03 19:19:05   \n",
              "...            ...                  ...                    ...   \n",
              "213415  7plqriggxp           2014-06-30    2014-06-30 23:01:36   \n",
              "213439  msucfwmlzc           2014-06-30    2014-06-30 23:47:29   \n",
              "213441  omlc9iku7t           2014-06-30    2014-06-30 23:51:51   \n",
              "213443  0k26r3mir0           2014-06-30    2014-06-30 23:53:40   \n",
              "213445  qbxza0xojf           2014-06-30    2014-06-30 23:55:47   \n",
              "\n",
              "       date_first_booking  gender   age signup_method  signup_flow language  \\\n",
              "2              2010-08-02  FEMALE  56.0         basic            3       en   \n",
              "4              2010-02-18  FEMALE  41.0         basic            0       en   \n",
              "5              2010-01-02  FEMALE  33.0         basic            0       en   \n",
              "6              2010-01-05  FEMALE  46.0         basic            0       en   \n",
              "7              2010-01-13  FEMALE  47.0         basic            0       en   \n",
              "...                   ...     ...   ...           ...          ...      ...   \n",
              "213415         2014-06-30  FEMALE  55.0         basic            0       en   \n",
              "213439         2015-03-16    MALE  43.0         basic            0       en   \n",
              "213441         2014-08-13  FEMALE  34.0         basic            0       en   \n",
              "213443         2014-07-13  FEMALE  36.0         basic            0       en   \n",
              "213445         2014-07-02  FEMALE  23.0         basic            0       en   \n",
              "\n",
              "       affiliate_channel  ... signup_app first_device_type first_browser  \\\n",
              "2                 direct  ...        Web   Windows Desktop            IE   \n",
              "4                 direct  ...        Web       Mac Desktop        Chrome   \n",
              "5                  other  ...        Web       Mac Desktop        Chrome   \n",
              "6                  other  ...        Web       Mac Desktop        Safari   \n",
              "7                 direct  ...        Web       Mac Desktop        Safari   \n",
              "...                  ...  ...        ...               ...           ...   \n",
              "213415         sem-brand  ...        Web    Android Tablet            IE   \n",
              "213439            direct  ...        Web   Windows Desktop       Firefox   \n",
              "213441            direct  ...        Web       Mac Desktop        Chrome   \n",
              "213443         sem-brand  ...        Web       Mac Desktop        Safari   \n",
              "213445         sem-brand  ...        Web   Windows Desktop            IE   \n",
              "\n",
              "       country_destination  year       Date  Year Month  Day  WeekOfYear  \n",
              "2                       US  2010 2010-08-02  2010     8    2          31  \n",
              "4                       US  2010 2010-02-18  2010     2   18           7  \n",
              "5                       US  2010 2010-01-02  2010     1    2          53  \n",
              "6                       US  2010 2010-01-05  2010     1    5           1  \n",
              "7                       US  2010 2010-01-13  2010     1   13           2  \n",
              "...                    ...   ...        ...   ...   ...  ...         ...  \n",
              "213415                  FR  2014 2014-06-30  2014     6   30          27  \n",
              "213439                  US  2014 2015-03-16  2015     3   16          12  \n",
              "213441                  ES  2014 2014-08-13  2014     8   13          33  \n",
              "213443                  US  2014 2014-07-13  2014     7   13          28  \n",
              "213445                  US  2014 2014-07-02  2014     7    2          27  \n",
              "\n",
              "[77534 rows x 22 columns]"
            ],
            "text/html": [
              "\n",
              "  <div id=\"df-decacdeb-4051-41cd-9967-95ab3f9bd54d\">\n",
              "    <div class=\"colab-df-container\">\n",
              "      <div>\n",
              "<style scoped>\n",
              "    .dataframe tbody tr th:only-of-type {\n",
              "        vertical-align: middle;\n",
              "    }\n",
              "\n",
              "    .dataframe tbody tr th {\n",
              "        vertical-align: top;\n",
              "    }\n",
              "\n",
              "    .dataframe thead th {\n",
              "        text-align: right;\n",
              "    }\n",
              "</style>\n",
              "<table border=\"1\" class=\"dataframe\">\n",
              "  <thead>\n",
              "    <tr style=\"text-align: right;\">\n",
              "      <th></th>\n",
              "      <th>id</th>\n",
              "      <th>date_account_created</th>\n",
              "      <th>timestamp_first_active</th>\n",
              "      <th>date_first_booking</th>\n",
              "      <th>gender</th>\n",
              "      <th>age</th>\n",
              "      <th>signup_method</th>\n",
              "      <th>signup_flow</th>\n",
              "      <th>language</th>\n",
              "      <th>affiliate_channel</th>\n",
              "      <th>...</th>\n",
              "      <th>signup_app</th>\n",
              "      <th>first_device_type</th>\n",
              "      <th>first_browser</th>\n",
              "      <th>country_destination</th>\n",
              "      <th>year</th>\n",
              "      <th>Date</th>\n",
              "      <th>Year</th>\n",
              "      <th>Month</th>\n",
              "      <th>Day</th>\n",
              "      <th>WeekOfYear</th>\n",
              "    </tr>\n",
              "  </thead>\n",
              "  <tbody>\n",
              "    <tr>\n",
              "      <th>2</th>\n",
              "      <td>4ft3gnwmtx</td>\n",
              "      <td>2010-09-28</td>\n",
              "      <td>2009-06-09 23:12:47</td>\n",
              "      <td>2010-08-02</td>\n",
              "      <td>FEMALE</td>\n",
              "      <td>56.0</td>\n",
              "      <td>basic</td>\n",
              "      <td>3</td>\n",
              "      <td>en</td>\n",
              "      <td>direct</td>\n",
              "      <td>...</td>\n",
              "      <td>Web</td>\n",
              "      <td>Windows Desktop</td>\n",
              "      <td>IE</td>\n",
              "      <td>US</td>\n",
              "      <td>2010</td>\n",
              "      <td>2010-08-02</td>\n",
              "      <td>2010</td>\n",
              "      <td>8</td>\n",
              "      <td>2</td>\n",
              "      <td>31</td>\n",
              "    </tr>\n",
              "    <tr>\n",
              "      <th>4</th>\n",
              "      <td>87mebub9p4</td>\n",
              "      <td>2010-09-14</td>\n",
              "      <td>2009-12-08 06:11:05</td>\n",
              "      <td>2010-02-18</td>\n",
              "      <td>FEMALE</td>\n",
              "      <td>41.0</td>\n",
              "      <td>basic</td>\n",
              "      <td>0</td>\n",
              "      <td>en</td>\n",
              "      <td>direct</td>\n",
              "      <td>...</td>\n",
              "      <td>Web</td>\n",
              "      <td>Mac Desktop</td>\n",
              "      <td>Chrome</td>\n",
              "      <td>US</td>\n",
              "      <td>2010</td>\n",
              "      <td>2010-02-18</td>\n",
              "      <td>2010</td>\n",
              "      <td>2</td>\n",
              "      <td>18</td>\n",
              "      <td>7</td>\n",
              "    </tr>\n",
              "    <tr>\n",
              "      <th>5</th>\n",
              "      <td>osr2jwljor</td>\n",
              "      <td>2010-01-01</td>\n",
              "      <td>2010-01-01 21:56:19</td>\n",
              "      <td>2010-01-02</td>\n",
              "      <td>FEMALE</td>\n",
              "      <td>33.0</td>\n",
              "      <td>basic</td>\n",
              "      <td>0</td>\n",
              "      <td>en</td>\n",
              "      <td>other</td>\n",
              "      <td>...</td>\n",
              "      <td>Web</td>\n",
              "      <td>Mac Desktop</td>\n",
              "      <td>Chrome</td>\n",
              "      <td>US</td>\n",
              "      <td>2010</td>\n",
              "      <td>2010-01-02</td>\n",
              "      <td>2010</td>\n",
              "      <td>1</td>\n",
              "      <td>2</td>\n",
              "      <td>53</td>\n",
              "    </tr>\n",
              "    <tr>\n",
              "      <th>6</th>\n",
              "      <td>lsw9q7uk0j</td>\n",
              "      <td>2010-01-02</td>\n",
              "      <td>2010-01-02 01:25:58</td>\n",
              "      <td>2010-01-05</td>\n",
              "      <td>FEMALE</td>\n",
              "      <td>46.0</td>\n",
              "      <td>basic</td>\n",
              "      <td>0</td>\n",
              "      <td>en</td>\n",
              "      <td>other</td>\n",
              "      <td>...</td>\n",
              "      <td>Web</td>\n",
              "      <td>Mac Desktop</td>\n",
              "      <td>Safari</td>\n",
              "      <td>US</td>\n",
              "      <td>2010</td>\n",
              "      <td>2010-01-05</td>\n",
              "      <td>2010</td>\n",
              "      <td>1</td>\n",
              "      <td>5</td>\n",
              "      <td>1</td>\n",
              "    </tr>\n",
              "    <tr>\n",
              "      <th>7</th>\n",
              "      <td>0d01nltbrs</td>\n",
              "      <td>2010-01-03</td>\n",
              "      <td>2010-01-03 19:19:05</td>\n",
              "      <td>2010-01-13</td>\n",
              "      <td>FEMALE</td>\n",
              "      <td>47.0</td>\n",
              "      <td>basic</td>\n",
              "      <td>0</td>\n",
              "      <td>en</td>\n",
              "      <td>direct</td>\n",
              "      <td>...</td>\n",
              "      <td>Web</td>\n",
              "      <td>Mac Desktop</td>\n",
              "      <td>Safari</td>\n",
              "      <td>US</td>\n",
              "      <td>2010</td>\n",
              "      <td>2010-01-13</td>\n",
              "      <td>2010</td>\n",
              "      <td>1</td>\n",
              "      <td>13</td>\n",
              "      <td>2</td>\n",
              "    </tr>\n",
              "    <tr>\n",
              "      <th>...</th>\n",
              "      <td>...</td>\n",
              "      <td>...</td>\n",
              "      <td>...</td>\n",
              "      <td>...</td>\n",
              "      <td>...</td>\n",
              "      <td>...</td>\n",
              "      <td>...</td>\n",
              "      <td>...</td>\n",
              "      <td>...</td>\n",
              "      <td>...</td>\n",
              "      <td>...</td>\n",
              "      <td>...</td>\n",
              "      <td>...</td>\n",
              "      <td>...</td>\n",
              "      <td>...</td>\n",
              "      <td>...</td>\n",
              "      <td>...</td>\n",
              "      <td>...</td>\n",
              "      <td>...</td>\n",
              "      <td>...</td>\n",
              "      <td>...</td>\n",
              "    </tr>\n",
              "    <tr>\n",
              "      <th>213415</th>\n",
              "      <td>7plqriggxp</td>\n",
              "      <td>2014-06-30</td>\n",
              "      <td>2014-06-30 23:01:36</td>\n",
              "      <td>2014-06-30</td>\n",
              "      <td>FEMALE</td>\n",
              "      <td>55.0</td>\n",
              "      <td>basic</td>\n",
              "      <td>0</td>\n",
              "      <td>en</td>\n",
              "      <td>sem-brand</td>\n",
              "      <td>...</td>\n",
              "      <td>Web</td>\n",
              "      <td>Android Tablet</td>\n",
              "      <td>IE</td>\n",
              "      <td>FR</td>\n",
              "      <td>2014</td>\n",
              "      <td>2014-06-30</td>\n",
              "      <td>2014</td>\n",
              "      <td>6</td>\n",
              "      <td>30</td>\n",
              "      <td>27</td>\n",
              "    </tr>\n",
              "    <tr>\n",
              "      <th>213439</th>\n",
              "      <td>msucfwmlzc</td>\n",
              "      <td>2014-06-30</td>\n",
              "      <td>2014-06-30 23:47:29</td>\n",
              "      <td>2015-03-16</td>\n",
              "      <td>MALE</td>\n",
              "      <td>43.0</td>\n",
              "      <td>basic</td>\n",
              "      <td>0</td>\n",
              "      <td>en</td>\n",
              "      <td>direct</td>\n",
              "      <td>...</td>\n",
              "      <td>Web</td>\n",
              "      <td>Windows Desktop</td>\n",
              "      <td>Firefox</td>\n",
              "      <td>US</td>\n",
              "      <td>2014</td>\n",
              "      <td>2015-03-16</td>\n",
              "      <td>2015</td>\n",
              "      <td>3</td>\n",
              "      <td>16</td>\n",
              "      <td>12</td>\n",
              "    </tr>\n",
              "    <tr>\n",
              "      <th>213441</th>\n",
              "      <td>omlc9iku7t</td>\n",
              "      <td>2014-06-30</td>\n",
              "      <td>2014-06-30 23:51:51</td>\n",
              "      <td>2014-08-13</td>\n",
              "      <td>FEMALE</td>\n",
              "      <td>34.0</td>\n",
              "      <td>basic</td>\n",
              "      <td>0</td>\n",
              "      <td>en</td>\n",
              "      <td>direct</td>\n",
              "      <td>...</td>\n",
              "      <td>Web</td>\n",
              "      <td>Mac Desktop</td>\n",
              "      <td>Chrome</td>\n",
              "      <td>ES</td>\n",
              "      <td>2014</td>\n",
              "      <td>2014-08-13</td>\n",
              "      <td>2014</td>\n",
              "      <td>8</td>\n",
              "      <td>13</td>\n",
              "      <td>33</td>\n",
              "    </tr>\n",
              "    <tr>\n",
              "      <th>213443</th>\n",
              "      <td>0k26r3mir0</td>\n",
              "      <td>2014-06-30</td>\n",
              "      <td>2014-06-30 23:53:40</td>\n",
              "      <td>2014-07-13</td>\n",
              "      <td>FEMALE</td>\n",
              "      <td>36.0</td>\n",
              "      <td>basic</td>\n",
              "      <td>0</td>\n",
              "      <td>en</td>\n",
              "      <td>sem-brand</td>\n",
              "      <td>...</td>\n",
              "      <td>Web</td>\n",
              "      <td>Mac Desktop</td>\n",
              "      <td>Safari</td>\n",
              "      <td>US</td>\n",
              "      <td>2014</td>\n",
              "      <td>2014-07-13</td>\n",
              "      <td>2014</td>\n",
              "      <td>7</td>\n",
              "      <td>13</td>\n",
              "      <td>28</td>\n",
              "    </tr>\n",
              "    <tr>\n",
              "      <th>213445</th>\n",
              "      <td>qbxza0xojf</td>\n",
              "      <td>2014-06-30</td>\n",
              "      <td>2014-06-30 23:55:47</td>\n",
              "      <td>2014-07-02</td>\n",
              "      <td>FEMALE</td>\n",
              "      <td>23.0</td>\n",
              "      <td>basic</td>\n",
              "      <td>0</td>\n",
              "      <td>en</td>\n",
              "      <td>sem-brand</td>\n",
              "      <td>...</td>\n",
              "      <td>Web</td>\n",
              "      <td>Windows Desktop</td>\n",
              "      <td>IE</td>\n",
              "      <td>US</td>\n",
              "      <td>2014</td>\n",
              "      <td>2014-07-02</td>\n",
              "      <td>2014</td>\n",
              "      <td>7</td>\n",
              "      <td>2</td>\n",
              "      <td>27</td>\n",
              "    </tr>\n",
              "  </tbody>\n",
              "</table>\n",
              "<p>77534 rows × 22 columns</p>\n",
              "</div>\n",
              "      <button class=\"colab-df-convert\" onclick=\"convertToInteractive('df-decacdeb-4051-41cd-9967-95ab3f9bd54d')\"\n",
              "              title=\"Convert this dataframe to an interactive table.\"\n",
              "              style=\"display:none;\">\n",
              "        \n",
              "  <svg xmlns=\"http://www.w3.org/2000/svg\" height=\"24px\"viewBox=\"0 0 24 24\"\n",
              "       width=\"24px\">\n",
              "    <path d=\"M0 0h24v24H0V0z\" fill=\"none\"/>\n",
              "    <path d=\"M18.56 5.44l.94 2.06.94-2.06 2.06-.94-2.06-.94-.94-2.06-.94 2.06-2.06.94zm-11 1L8.5 8.5l.94-2.06 2.06-.94-2.06-.94L8.5 2.5l-.94 2.06-2.06.94zm10 10l.94 2.06.94-2.06 2.06-.94-2.06-.94-.94-2.06-.94 2.06-2.06.94z\"/><path d=\"M17.41 7.96l-1.37-1.37c-.4-.4-.92-.59-1.43-.59-.52 0-1.04.2-1.43.59L10.3 9.45l-7.72 7.72c-.78.78-.78 2.05 0 2.83L4 21.41c.39.39.9.59 1.41.59.51 0 1.02-.2 1.41-.59l7.78-7.78 2.81-2.81c.8-.78.8-2.07 0-2.86zM5.41 20L4 18.59l7.72-7.72 1.47 1.35L5.41 20z\"/>\n",
              "  </svg>\n",
              "      </button>\n",
              "      \n",
              "  <style>\n",
              "    .colab-df-container {\n",
              "      display:flex;\n",
              "      flex-wrap:wrap;\n",
              "      gap: 12px;\n",
              "    }\n",
              "\n",
              "    .colab-df-convert {\n",
              "      background-color: #E8F0FE;\n",
              "      border: none;\n",
              "      border-radius: 50%;\n",
              "      cursor: pointer;\n",
              "      display: none;\n",
              "      fill: #1967D2;\n",
              "      height: 32px;\n",
              "      padding: 0 0 0 0;\n",
              "      width: 32px;\n",
              "    }\n",
              "\n",
              "    .colab-df-convert:hover {\n",
              "      background-color: #E2EBFA;\n",
              "      box-shadow: 0px 1px 2px rgba(60, 64, 67, 0.3), 0px 1px 3px 1px rgba(60, 64, 67, 0.15);\n",
              "      fill: #174EA6;\n",
              "    }\n",
              "\n",
              "    [theme=dark] .colab-df-convert {\n",
              "      background-color: #3B4455;\n",
              "      fill: #D2E3FC;\n",
              "    }\n",
              "\n",
              "    [theme=dark] .colab-df-convert:hover {\n",
              "      background-color: #434B5C;\n",
              "      box-shadow: 0px 1px 3px 1px rgba(0, 0, 0, 0.15);\n",
              "      filter: drop-shadow(0px 1px 2px rgba(0, 0, 0, 0.3));\n",
              "      fill: #FFFFFF;\n",
              "    }\n",
              "  </style>\n",
              "\n",
              "      <script>\n",
              "        const buttonEl =\n",
              "          document.querySelector('#df-decacdeb-4051-41cd-9967-95ab3f9bd54d button.colab-df-convert');\n",
              "        buttonEl.style.display =\n",
              "          google.colab.kernel.accessAllowed ? 'block' : 'none';\n",
              "\n",
              "        async function convertToInteractive(key) {\n",
              "          const element = document.querySelector('#df-decacdeb-4051-41cd-9967-95ab3f9bd54d');\n",
              "          const dataTable =\n",
              "            await google.colab.kernel.invokeFunction('convertToInteractive',\n",
              "                                                     [key], {});\n",
              "          if (!dataTable) return;\n",
              "\n",
              "          const docLinkHtml = 'Like what you see? Visit the ' +\n",
              "            '<a target=\"_blank\" href=https://colab.research.google.com/notebooks/data_table.ipynb>data table notebook</a>'\n",
              "            + ' to learn more about interactive tables.';\n",
              "          element.innerHTML = '';\n",
              "          dataTable['output_type'] = 'display_data';\n",
              "          await google.colab.output.renderOutput(dataTable, element);\n",
              "          const docLink = document.createElement('div');\n",
              "          docLink.innerHTML = docLinkHtml;\n",
              "          element.appendChild(docLink);\n",
              "        }\n",
              "      </script>\n",
              "    </div>\n",
              "  </div>\n",
              "  "
            ]
          },
          "metadata": {},
          "execution_count": 55
        }
      ],
      "source": [
        "new_df"
      ]
    },
    {
      "cell_type": "code",
      "execution_count": 56,
      "metadata": {
        "id": "UBx7WCw5CITb"
      },
      "outputs": [],
      "source": [
        "new_df['timestamp_first_active'] = pd.to_datetime(new_df['timestamp_first_active'])\n",
        "    "
      ]
    },
    {
      "cell_type": "code",
      "execution_count": 57,
      "metadata": {
        "colab": {
          "base_uri": "https://localhost:8080/",
          "height": 661
        },
        "id": "jcZPlckMCITc",
        "outputId": "b14c2c60-9039-49ab-9535-1aaef98c029f"
      },
      "outputs": [
        {
          "output_type": "execute_result",
          "data": {
            "text/plain": [
              "                id date_account_created timestamp_first_active  \\\n",
              "2       4ft3gnwmtx           2010-09-28    2009-06-09 23:12:47   \n",
              "4       87mebub9p4           2010-09-14    2009-12-08 06:11:05   \n",
              "5       osr2jwljor           2010-01-01    2010-01-01 21:56:19   \n",
              "6       lsw9q7uk0j           2010-01-02    2010-01-02 01:25:58   \n",
              "7       0d01nltbrs           2010-01-03    2010-01-03 19:19:05   \n",
              "...            ...                  ...                    ...   \n",
              "213415  7plqriggxp           2014-06-30    2014-06-30 23:01:36   \n",
              "213439  msucfwmlzc           2014-06-30    2014-06-30 23:47:29   \n",
              "213441  omlc9iku7t           2014-06-30    2014-06-30 23:51:51   \n",
              "213443  0k26r3mir0           2014-06-30    2014-06-30 23:53:40   \n",
              "213445  qbxza0xojf           2014-06-30    2014-06-30 23:55:47   \n",
              "\n",
              "       date_first_booking  gender   age signup_method  signup_flow language  \\\n",
              "2              2010-08-02  FEMALE  56.0         basic            3       en   \n",
              "4              2010-02-18  FEMALE  41.0         basic            0       en   \n",
              "5              2010-01-02  FEMALE  33.0         basic            0       en   \n",
              "6              2010-01-05  FEMALE  46.0         basic            0       en   \n",
              "7              2010-01-13  FEMALE  47.0         basic            0       en   \n",
              "...                   ...     ...   ...           ...          ...      ...   \n",
              "213415         2014-06-30  FEMALE  55.0         basic            0       en   \n",
              "213439         2015-03-16    MALE  43.0         basic            0       en   \n",
              "213441         2014-08-13  FEMALE  34.0         basic            0       en   \n",
              "213443         2014-07-13  FEMALE  36.0         basic            0       en   \n",
              "213445         2014-07-02  FEMALE  23.0         basic            0       en   \n",
              "\n",
              "       affiliate_channel  ... signup_app first_device_type first_browser  \\\n",
              "2                 direct  ...        Web   Windows Desktop            IE   \n",
              "4                 direct  ...        Web       Mac Desktop        Chrome   \n",
              "5                  other  ...        Web       Mac Desktop        Chrome   \n",
              "6                  other  ...        Web       Mac Desktop        Safari   \n",
              "7                 direct  ...        Web       Mac Desktop        Safari   \n",
              "...                  ...  ...        ...               ...           ...   \n",
              "213415         sem-brand  ...        Web    Android Tablet            IE   \n",
              "213439            direct  ...        Web   Windows Desktop       Firefox   \n",
              "213441            direct  ...        Web       Mac Desktop        Chrome   \n",
              "213443         sem-brand  ...        Web       Mac Desktop        Safari   \n",
              "213445         sem-brand  ...        Web   Windows Desktop            IE   \n",
              "\n",
              "       country_destination  year       Date  Year Month  Day  WeekOfYear  \n",
              "2                       US  2010 2010-08-02  2010     8    2          31  \n",
              "4                       US  2010 2010-02-18  2010     2   18           7  \n",
              "5                       US  2010 2010-01-02  2010     1    2          53  \n",
              "6                       US  2010 2010-01-05  2010     1    5           1  \n",
              "7                       US  2010 2010-01-13  2010     1   13           2  \n",
              "...                    ...   ...        ...   ...   ...  ...         ...  \n",
              "213415                  FR  2014 2014-06-30  2014     6   30          27  \n",
              "213439                  US  2014 2015-03-16  2015     3   16          12  \n",
              "213441                  ES  2014 2014-08-13  2014     8   13          33  \n",
              "213443                  US  2014 2014-07-13  2014     7   13          28  \n",
              "213445                  US  2014 2014-07-02  2014     7    2          27  \n",
              "\n",
              "[77534 rows x 22 columns]"
            ],
            "text/html": [
              "\n",
              "  <div id=\"df-646cd5ba-3a7c-48eb-802d-343bd95ac519\">\n",
              "    <div class=\"colab-df-container\">\n",
              "      <div>\n",
              "<style scoped>\n",
              "    .dataframe tbody tr th:only-of-type {\n",
              "        vertical-align: middle;\n",
              "    }\n",
              "\n",
              "    .dataframe tbody tr th {\n",
              "        vertical-align: top;\n",
              "    }\n",
              "\n",
              "    .dataframe thead th {\n",
              "        text-align: right;\n",
              "    }\n",
              "</style>\n",
              "<table border=\"1\" class=\"dataframe\">\n",
              "  <thead>\n",
              "    <tr style=\"text-align: right;\">\n",
              "      <th></th>\n",
              "      <th>id</th>\n",
              "      <th>date_account_created</th>\n",
              "      <th>timestamp_first_active</th>\n",
              "      <th>date_first_booking</th>\n",
              "      <th>gender</th>\n",
              "      <th>age</th>\n",
              "      <th>signup_method</th>\n",
              "      <th>signup_flow</th>\n",
              "      <th>language</th>\n",
              "      <th>affiliate_channel</th>\n",
              "      <th>...</th>\n",
              "      <th>signup_app</th>\n",
              "      <th>first_device_type</th>\n",
              "      <th>first_browser</th>\n",
              "      <th>country_destination</th>\n",
              "      <th>year</th>\n",
              "      <th>Date</th>\n",
              "      <th>Year</th>\n",
              "      <th>Month</th>\n",
              "      <th>Day</th>\n",
              "      <th>WeekOfYear</th>\n",
              "    </tr>\n",
              "  </thead>\n",
              "  <tbody>\n",
              "    <tr>\n",
              "      <th>2</th>\n",
              "      <td>4ft3gnwmtx</td>\n",
              "      <td>2010-09-28</td>\n",
              "      <td>2009-06-09 23:12:47</td>\n",
              "      <td>2010-08-02</td>\n",
              "      <td>FEMALE</td>\n",
              "      <td>56.0</td>\n",
              "      <td>basic</td>\n",
              "      <td>3</td>\n",
              "      <td>en</td>\n",
              "      <td>direct</td>\n",
              "      <td>...</td>\n",
              "      <td>Web</td>\n",
              "      <td>Windows Desktop</td>\n",
              "      <td>IE</td>\n",
              "      <td>US</td>\n",
              "      <td>2010</td>\n",
              "      <td>2010-08-02</td>\n",
              "      <td>2010</td>\n",
              "      <td>8</td>\n",
              "      <td>2</td>\n",
              "      <td>31</td>\n",
              "    </tr>\n",
              "    <tr>\n",
              "      <th>4</th>\n",
              "      <td>87mebub9p4</td>\n",
              "      <td>2010-09-14</td>\n",
              "      <td>2009-12-08 06:11:05</td>\n",
              "      <td>2010-02-18</td>\n",
              "      <td>FEMALE</td>\n",
              "      <td>41.0</td>\n",
              "      <td>basic</td>\n",
              "      <td>0</td>\n",
              "      <td>en</td>\n",
              "      <td>direct</td>\n",
              "      <td>...</td>\n",
              "      <td>Web</td>\n",
              "      <td>Mac Desktop</td>\n",
              "      <td>Chrome</td>\n",
              "      <td>US</td>\n",
              "      <td>2010</td>\n",
              "      <td>2010-02-18</td>\n",
              "      <td>2010</td>\n",
              "      <td>2</td>\n",
              "      <td>18</td>\n",
              "      <td>7</td>\n",
              "    </tr>\n",
              "    <tr>\n",
              "      <th>5</th>\n",
              "      <td>osr2jwljor</td>\n",
              "      <td>2010-01-01</td>\n",
              "      <td>2010-01-01 21:56:19</td>\n",
              "      <td>2010-01-02</td>\n",
              "      <td>FEMALE</td>\n",
              "      <td>33.0</td>\n",
              "      <td>basic</td>\n",
              "      <td>0</td>\n",
              "      <td>en</td>\n",
              "      <td>other</td>\n",
              "      <td>...</td>\n",
              "      <td>Web</td>\n",
              "      <td>Mac Desktop</td>\n",
              "      <td>Chrome</td>\n",
              "      <td>US</td>\n",
              "      <td>2010</td>\n",
              "      <td>2010-01-02</td>\n",
              "      <td>2010</td>\n",
              "      <td>1</td>\n",
              "      <td>2</td>\n",
              "      <td>53</td>\n",
              "    </tr>\n",
              "    <tr>\n",
              "      <th>6</th>\n",
              "      <td>lsw9q7uk0j</td>\n",
              "      <td>2010-01-02</td>\n",
              "      <td>2010-01-02 01:25:58</td>\n",
              "      <td>2010-01-05</td>\n",
              "      <td>FEMALE</td>\n",
              "      <td>46.0</td>\n",
              "      <td>basic</td>\n",
              "      <td>0</td>\n",
              "      <td>en</td>\n",
              "      <td>other</td>\n",
              "      <td>...</td>\n",
              "      <td>Web</td>\n",
              "      <td>Mac Desktop</td>\n",
              "      <td>Safari</td>\n",
              "      <td>US</td>\n",
              "      <td>2010</td>\n",
              "      <td>2010-01-05</td>\n",
              "      <td>2010</td>\n",
              "      <td>1</td>\n",
              "      <td>5</td>\n",
              "      <td>1</td>\n",
              "    </tr>\n",
              "    <tr>\n",
              "      <th>7</th>\n",
              "      <td>0d01nltbrs</td>\n",
              "      <td>2010-01-03</td>\n",
              "      <td>2010-01-03 19:19:05</td>\n",
              "      <td>2010-01-13</td>\n",
              "      <td>FEMALE</td>\n",
              "      <td>47.0</td>\n",
              "      <td>basic</td>\n",
              "      <td>0</td>\n",
              "      <td>en</td>\n",
              "      <td>direct</td>\n",
              "      <td>...</td>\n",
              "      <td>Web</td>\n",
              "      <td>Mac Desktop</td>\n",
              "      <td>Safari</td>\n",
              "      <td>US</td>\n",
              "      <td>2010</td>\n",
              "      <td>2010-01-13</td>\n",
              "      <td>2010</td>\n",
              "      <td>1</td>\n",
              "      <td>13</td>\n",
              "      <td>2</td>\n",
              "    </tr>\n",
              "    <tr>\n",
              "      <th>...</th>\n",
              "      <td>...</td>\n",
              "      <td>...</td>\n",
              "      <td>...</td>\n",
              "      <td>...</td>\n",
              "      <td>...</td>\n",
              "      <td>...</td>\n",
              "      <td>...</td>\n",
              "      <td>...</td>\n",
              "      <td>...</td>\n",
              "      <td>...</td>\n",
              "      <td>...</td>\n",
              "      <td>...</td>\n",
              "      <td>...</td>\n",
              "      <td>...</td>\n",
              "      <td>...</td>\n",
              "      <td>...</td>\n",
              "      <td>...</td>\n",
              "      <td>...</td>\n",
              "      <td>...</td>\n",
              "      <td>...</td>\n",
              "      <td>...</td>\n",
              "    </tr>\n",
              "    <tr>\n",
              "      <th>213415</th>\n",
              "      <td>7plqriggxp</td>\n",
              "      <td>2014-06-30</td>\n",
              "      <td>2014-06-30 23:01:36</td>\n",
              "      <td>2014-06-30</td>\n",
              "      <td>FEMALE</td>\n",
              "      <td>55.0</td>\n",
              "      <td>basic</td>\n",
              "      <td>0</td>\n",
              "      <td>en</td>\n",
              "      <td>sem-brand</td>\n",
              "      <td>...</td>\n",
              "      <td>Web</td>\n",
              "      <td>Android Tablet</td>\n",
              "      <td>IE</td>\n",
              "      <td>FR</td>\n",
              "      <td>2014</td>\n",
              "      <td>2014-06-30</td>\n",
              "      <td>2014</td>\n",
              "      <td>6</td>\n",
              "      <td>30</td>\n",
              "      <td>27</td>\n",
              "    </tr>\n",
              "    <tr>\n",
              "      <th>213439</th>\n",
              "      <td>msucfwmlzc</td>\n",
              "      <td>2014-06-30</td>\n",
              "      <td>2014-06-30 23:47:29</td>\n",
              "      <td>2015-03-16</td>\n",
              "      <td>MALE</td>\n",
              "      <td>43.0</td>\n",
              "      <td>basic</td>\n",
              "      <td>0</td>\n",
              "      <td>en</td>\n",
              "      <td>direct</td>\n",
              "      <td>...</td>\n",
              "      <td>Web</td>\n",
              "      <td>Windows Desktop</td>\n",
              "      <td>Firefox</td>\n",
              "      <td>US</td>\n",
              "      <td>2014</td>\n",
              "      <td>2015-03-16</td>\n",
              "      <td>2015</td>\n",
              "      <td>3</td>\n",
              "      <td>16</td>\n",
              "      <td>12</td>\n",
              "    </tr>\n",
              "    <tr>\n",
              "      <th>213441</th>\n",
              "      <td>omlc9iku7t</td>\n",
              "      <td>2014-06-30</td>\n",
              "      <td>2014-06-30 23:51:51</td>\n",
              "      <td>2014-08-13</td>\n",
              "      <td>FEMALE</td>\n",
              "      <td>34.0</td>\n",
              "      <td>basic</td>\n",
              "      <td>0</td>\n",
              "      <td>en</td>\n",
              "      <td>direct</td>\n",
              "      <td>...</td>\n",
              "      <td>Web</td>\n",
              "      <td>Mac Desktop</td>\n",
              "      <td>Chrome</td>\n",
              "      <td>ES</td>\n",
              "      <td>2014</td>\n",
              "      <td>2014-08-13</td>\n",
              "      <td>2014</td>\n",
              "      <td>8</td>\n",
              "      <td>13</td>\n",
              "      <td>33</td>\n",
              "    </tr>\n",
              "    <tr>\n",
              "      <th>213443</th>\n",
              "      <td>0k26r3mir0</td>\n",
              "      <td>2014-06-30</td>\n",
              "      <td>2014-06-30 23:53:40</td>\n",
              "      <td>2014-07-13</td>\n",
              "      <td>FEMALE</td>\n",
              "      <td>36.0</td>\n",
              "      <td>basic</td>\n",
              "      <td>0</td>\n",
              "      <td>en</td>\n",
              "      <td>sem-brand</td>\n",
              "      <td>...</td>\n",
              "      <td>Web</td>\n",
              "      <td>Mac Desktop</td>\n",
              "      <td>Safari</td>\n",
              "      <td>US</td>\n",
              "      <td>2014</td>\n",
              "      <td>2014-07-13</td>\n",
              "      <td>2014</td>\n",
              "      <td>7</td>\n",
              "      <td>13</td>\n",
              "      <td>28</td>\n",
              "    </tr>\n",
              "    <tr>\n",
              "      <th>213445</th>\n",
              "      <td>qbxza0xojf</td>\n",
              "      <td>2014-06-30</td>\n",
              "      <td>2014-06-30 23:55:47</td>\n",
              "      <td>2014-07-02</td>\n",
              "      <td>FEMALE</td>\n",
              "      <td>23.0</td>\n",
              "      <td>basic</td>\n",
              "      <td>0</td>\n",
              "      <td>en</td>\n",
              "      <td>sem-brand</td>\n",
              "      <td>...</td>\n",
              "      <td>Web</td>\n",
              "      <td>Windows Desktop</td>\n",
              "      <td>IE</td>\n",
              "      <td>US</td>\n",
              "      <td>2014</td>\n",
              "      <td>2014-07-02</td>\n",
              "      <td>2014</td>\n",
              "      <td>7</td>\n",
              "      <td>2</td>\n",
              "      <td>27</td>\n",
              "    </tr>\n",
              "  </tbody>\n",
              "</table>\n",
              "<p>77534 rows × 22 columns</p>\n",
              "</div>\n",
              "      <button class=\"colab-df-convert\" onclick=\"convertToInteractive('df-646cd5ba-3a7c-48eb-802d-343bd95ac519')\"\n",
              "              title=\"Convert this dataframe to an interactive table.\"\n",
              "              style=\"display:none;\">\n",
              "        \n",
              "  <svg xmlns=\"http://www.w3.org/2000/svg\" height=\"24px\"viewBox=\"0 0 24 24\"\n",
              "       width=\"24px\">\n",
              "    <path d=\"M0 0h24v24H0V0z\" fill=\"none\"/>\n",
              "    <path d=\"M18.56 5.44l.94 2.06.94-2.06 2.06-.94-2.06-.94-.94-2.06-.94 2.06-2.06.94zm-11 1L8.5 8.5l.94-2.06 2.06-.94-2.06-.94L8.5 2.5l-.94 2.06-2.06.94zm10 10l.94 2.06.94-2.06 2.06-.94-2.06-.94-.94-2.06-.94 2.06-2.06.94z\"/><path d=\"M17.41 7.96l-1.37-1.37c-.4-.4-.92-.59-1.43-.59-.52 0-1.04.2-1.43.59L10.3 9.45l-7.72 7.72c-.78.78-.78 2.05 0 2.83L4 21.41c.39.39.9.59 1.41.59.51 0 1.02-.2 1.41-.59l7.78-7.78 2.81-2.81c.8-.78.8-2.07 0-2.86zM5.41 20L4 18.59l7.72-7.72 1.47 1.35L5.41 20z\"/>\n",
              "  </svg>\n",
              "      </button>\n",
              "      \n",
              "  <style>\n",
              "    .colab-df-container {\n",
              "      display:flex;\n",
              "      flex-wrap:wrap;\n",
              "      gap: 12px;\n",
              "    }\n",
              "\n",
              "    .colab-df-convert {\n",
              "      background-color: #E8F0FE;\n",
              "      border: none;\n",
              "      border-radius: 50%;\n",
              "      cursor: pointer;\n",
              "      display: none;\n",
              "      fill: #1967D2;\n",
              "      height: 32px;\n",
              "      padding: 0 0 0 0;\n",
              "      width: 32px;\n",
              "    }\n",
              "\n",
              "    .colab-df-convert:hover {\n",
              "      background-color: #E2EBFA;\n",
              "      box-shadow: 0px 1px 2px rgba(60, 64, 67, 0.3), 0px 1px 3px 1px rgba(60, 64, 67, 0.15);\n",
              "      fill: #174EA6;\n",
              "    }\n",
              "\n",
              "    [theme=dark] .colab-df-convert {\n",
              "      background-color: #3B4455;\n",
              "      fill: #D2E3FC;\n",
              "    }\n",
              "\n",
              "    [theme=dark] .colab-df-convert:hover {\n",
              "      background-color: #434B5C;\n",
              "      box-shadow: 0px 1px 3px 1px rgba(0, 0, 0, 0.15);\n",
              "      filter: drop-shadow(0px 1px 2px rgba(0, 0, 0, 0.3));\n",
              "      fill: #FFFFFF;\n",
              "    }\n",
              "  </style>\n",
              "\n",
              "      <script>\n",
              "        const buttonEl =\n",
              "          document.querySelector('#df-646cd5ba-3a7c-48eb-802d-343bd95ac519 button.colab-df-convert');\n",
              "        buttonEl.style.display =\n",
              "          google.colab.kernel.accessAllowed ? 'block' : 'none';\n",
              "\n",
              "        async function convertToInteractive(key) {\n",
              "          const element = document.querySelector('#df-646cd5ba-3a7c-48eb-802d-343bd95ac519');\n",
              "          const dataTable =\n",
              "            await google.colab.kernel.invokeFunction('convertToInteractive',\n",
              "                                                     [key], {});\n",
              "          if (!dataTable) return;\n",
              "\n",
              "          const docLinkHtml = 'Like what you see? Visit the ' +\n",
              "            '<a target=\"_blank\" href=https://colab.research.google.com/notebooks/data_table.ipynb>data table notebook</a>'\n",
              "            + ' to learn more about interactive tables.';\n",
              "          element.innerHTML = '';\n",
              "          dataTable['output_type'] = 'display_data';\n",
              "          await google.colab.output.renderOutput(dataTable, element);\n",
              "          const docLink = document.createElement('div');\n",
              "          docLink.innerHTML = docLinkHtml;\n",
              "          element.appendChild(docLink);\n",
              "        }\n",
              "      </script>\n",
              "    </div>\n",
              "  </div>\n",
              "  "
            ]
          },
          "metadata": {},
          "execution_count": 57
        }
      ],
      "source": [
        "new_df"
      ]
    },
    {
      "cell_type": "code",
      "execution_count": 58,
      "metadata": {
        "colab": {
          "base_uri": "https://localhost:8080/"
        },
        "id": "uuQ5HTG7CITc",
        "outputId": "d8982a25-fd29-4f29-f750-1a0c6c815c70"
      },
      "outputs": [
        {
          "output_type": "stream",
          "name": "stdout",
          "text": [
            "<class 'pandas.core.frame.DataFrame'>\n",
            "Int64Index: 77534 entries, 2 to 213445\n",
            "Data columns (total 22 columns):\n",
            " #   Column                   Non-Null Count  Dtype         \n",
            "---  ------                   --------------  -----         \n",
            " 0   id                       77534 non-null  object        \n",
            " 1   date_account_created     77534 non-null  datetime64[ns]\n",
            " 2   timestamp_first_active   77534 non-null  datetime64[ns]\n",
            " 3   date_first_booking       77534 non-null  object        \n",
            " 4   gender                   77534 non-null  object        \n",
            " 5   age                      77534 non-null  float64       \n",
            " 6   signup_method            77534 non-null  object        \n",
            " 7   signup_flow              77534 non-null  int64         \n",
            " 8   language                 77534 non-null  object        \n",
            " 9   affiliate_channel        77534 non-null  object        \n",
            " 10  affiliate_provider       77534 non-null  object        \n",
            " 11  first_affiliate_tracked  75918 non-null  object        \n",
            " 12  signup_app               77534 non-null  object        \n",
            " 13  first_device_type        77534 non-null  object        \n",
            " 14  first_browser            77534 non-null  object        \n",
            " 15  country_destination      77534 non-null  object        \n",
            " 16  year                     77534 non-null  int64         \n",
            " 17  Date                     77534 non-null  datetime64[ns]\n",
            " 18  Year                     77534 non-null  int64         \n",
            " 19  Month                    77534 non-null  int64         \n",
            " 20  Day                      77534 non-null  int64         \n",
            " 21  WeekOfYear               77534 non-null  UInt32        \n",
            "dtypes: UInt32(1), datetime64[ns](3), float64(1), int64(5), object(12)\n",
            "memory usage: 15.4+ MB\n"
          ]
        }
      ],
      "source": [
        "new_df.info()"
      ]
    },
    {
      "cell_type": "code",
      "execution_count": 59,
      "metadata": {
        "id": "a0DU7raACITc"
      },
      "outputs": [],
      "source": [
        "new_df['date_first_booking']= pd.to_datetime(new_df['date_first_booking'])"
      ]
    },
    {
      "cell_type": "code",
      "execution_count": 60,
      "metadata": {
        "id": "HYiPQmhUCITd"
      },
      "outputs": [],
      "source": [
        "new_df['elapsed_time'] = (new_df['date_first_booking'] - new_df['timestamp_first_active']).dt.total_seconds().abs()"
      ]
    },
    {
      "cell_type": "markdown",
      "metadata": {
        "id": "Yd6yC98upAwV"
      },
      "source": [
        "##Total time taken to decide the destination may be crucial"
      ]
    },
    {
      "cell_type": "code",
      "execution_count": 61,
      "metadata": {
        "colab": {
          "base_uri": "https://localhost:8080/"
        },
        "id": "KwdCzcHYCITd",
        "outputId": "2afa36b7-9b0d-467d-8804-05db51c39329"
      },
      "outputs": [
        {
          "output_type": "execute_result",
          "data": {
            "text/plain": [
              "count    7.753400e+04\n",
              "mean     3.804980e+06\n",
              "std      7.632904e+06\n",
              "min      1.000000e+00\n",
              "25%      3.728550e+04\n",
              "50%      1.878625e+05\n",
              "75%      2.413694e+06\n",
              "max      1.182188e+08\n",
              "Name: elapsed_time, dtype: float64"
            ]
          },
          "metadata": {},
          "execution_count": 61
        }
      ],
      "source": [
        "new_df['elapsed_time'].describe()"
      ]
    },
    {
      "cell_type": "code",
      "execution_count": 62,
      "metadata": {
        "colab": {
          "base_uri": "https://localhost:8080/",
          "height": 661
        },
        "id": "HBx2Js4ZCITd",
        "outputId": "4700b954-e905-4ee4-9340-b071f02bc498"
      },
      "outputs": [
        {
          "output_type": "execute_result",
          "data": {
            "text/plain": [
              "                id date_account_created timestamp_first_active  \\\n",
              "2       4ft3gnwmtx           2010-09-28    2009-06-09 23:12:47   \n",
              "4       87mebub9p4           2010-09-14    2009-12-08 06:11:05   \n",
              "5       osr2jwljor           2010-01-01    2010-01-01 21:56:19   \n",
              "6       lsw9q7uk0j           2010-01-02    2010-01-02 01:25:58   \n",
              "7       0d01nltbrs           2010-01-03    2010-01-03 19:19:05   \n",
              "...            ...                  ...                    ...   \n",
              "213415  7plqriggxp           2014-06-30    2014-06-30 23:01:36   \n",
              "213439  msucfwmlzc           2014-06-30    2014-06-30 23:47:29   \n",
              "213441  omlc9iku7t           2014-06-30    2014-06-30 23:51:51   \n",
              "213443  0k26r3mir0           2014-06-30    2014-06-30 23:53:40   \n",
              "213445  qbxza0xojf           2014-06-30    2014-06-30 23:55:47   \n",
              "\n",
              "       date_first_booking  gender   age signup_method  signup_flow language  \\\n",
              "2              2010-08-02  FEMALE  56.0         basic            3       en   \n",
              "4              2010-02-18  FEMALE  41.0         basic            0       en   \n",
              "5              2010-01-02  FEMALE  33.0         basic            0       en   \n",
              "6              2010-01-05  FEMALE  46.0         basic            0       en   \n",
              "7              2010-01-13  FEMALE  47.0         basic            0       en   \n",
              "...                   ...     ...   ...           ...          ...      ...   \n",
              "213415         2014-06-30  FEMALE  55.0         basic            0       en   \n",
              "213439         2015-03-16    MALE  43.0         basic            0       en   \n",
              "213441         2014-08-13  FEMALE  34.0         basic            0       en   \n",
              "213443         2014-07-13  FEMALE  36.0         basic            0       en   \n",
              "213445         2014-07-02  FEMALE  23.0         basic            0       en   \n",
              "\n",
              "       affiliate_channel  ... first_device_type first_browser  \\\n",
              "2                 direct  ...   Windows Desktop            IE   \n",
              "4                 direct  ...       Mac Desktop        Chrome   \n",
              "5                  other  ...       Mac Desktop        Chrome   \n",
              "6                  other  ...       Mac Desktop        Safari   \n",
              "7                 direct  ...       Mac Desktop        Safari   \n",
              "...                  ...  ...               ...           ...   \n",
              "213415         sem-brand  ...    Android Tablet            IE   \n",
              "213439            direct  ...   Windows Desktop       Firefox   \n",
              "213441            direct  ...       Mac Desktop        Chrome   \n",
              "213443         sem-brand  ...       Mac Desktop        Safari   \n",
              "213445         sem-brand  ...   Windows Desktop            IE   \n",
              "\n",
              "       country_destination  year       Date  Year  Month Day  WeekOfYear  \\\n",
              "2                       US  2010 2010-08-02  2010      8   2          31   \n",
              "4                       US  2010 2010-02-18  2010      2  18           7   \n",
              "5                       US  2010 2010-01-02  2010      1   2          53   \n",
              "6                       US  2010 2010-01-05  2010      1   5           1   \n",
              "7                       US  2010 2010-01-13  2010      1  13           2   \n",
              "...                    ...   ...        ...   ...    ...  ..         ...   \n",
              "213415                  FR  2014 2014-06-30  2014      6  30          27   \n",
              "213439                  US  2014 2015-03-16  2015      3  16          12   \n",
              "213441                  ES  2014 2014-08-13  2014      8  13          33   \n",
              "213443                  US  2014 2014-07-13  2014      7  13          28   \n",
              "213445                  US  2014 2014-07-02  2014      7   2          27   \n",
              "\n",
              "        elapsed_time  \n",
              "2         36118033.0  \n",
              "4          6198535.0  \n",
              "5             7421.0  \n",
              "6           254042.0  \n",
              "7           794455.0  \n",
              "...              ...  \n",
              "213415       82896.0  \n",
              "213439    22291951.0  \n",
              "213441     3715689.0  \n",
              "213443     1037180.0  \n",
              "213445       86653.0  \n",
              "\n",
              "[77534 rows x 23 columns]"
            ],
            "text/html": [
              "\n",
              "  <div id=\"df-8c5e1c26-af07-4d69-8f92-5f9321cf66f6\">\n",
              "    <div class=\"colab-df-container\">\n",
              "      <div>\n",
              "<style scoped>\n",
              "    .dataframe tbody tr th:only-of-type {\n",
              "        vertical-align: middle;\n",
              "    }\n",
              "\n",
              "    .dataframe tbody tr th {\n",
              "        vertical-align: top;\n",
              "    }\n",
              "\n",
              "    .dataframe thead th {\n",
              "        text-align: right;\n",
              "    }\n",
              "</style>\n",
              "<table border=\"1\" class=\"dataframe\">\n",
              "  <thead>\n",
              "    <tr style=\"text-align: right;\">\n",
              "      <th></th>\n",
              "      <th>id</th>\n",
              "      <th>date_account_created</th>\n",
              "      <th>timestamp_first_active</th>\n",
              "      <th>date_first_booking</th>\n",
              "      <th>gender</th>\n",
              "      <th>age</th>\n",
              "      <th>signup_method</th>\n",
              "      <th>signup_flow</th>\n",
              "      <th>language</th>\n",
              "      <th>affiliate_channel</th>\n",
              "      <th>...</th>\n",
              "      <th>first_device_type</th>\n",
              "      <th>first_browser</th>\n",
              "      <th>country_destination</th>\n",
              "      <th>year</th>\n",
              "      <th>Date</th>\n",
              "      <th>Year</th>\n",
              "      <th>Month</th>\n",
              "      <th>Day</th>\n",
              "      <th>WeekOfYear</th>\n",
              "      <th>elapsed_time</th>\n",
              "    </tr>\n",
              "  </thead>\n",
              "  <tbody>\n",
              "    <tr>\n",
              "      <th>2</th>\n",
              "      <td>4ft3gnwmtx</td>\n",
              "      <td>2010-09-28</td>\n",
              "      <td>2009-06-09 23:12:47</td>\n",
              "      <td>2010-08-02</td>\n",
              "      <td>FEMALE</td>\n",
              "      <td>56.0</td>\n",
              "      <td>basic</td>\n",
              "      <td>3</td>\n",
              "      <td>en</td>\n",
              "      <td>direct</td>\n",
              "      <td>...</td>\n",
              "      <td>Windows Desktop</td>\n",
              "      <td>IE</td>\n",
              "      <td>US</td>\n",
              "      <td>2010</td>\n",
              "      <td>2010-08-02</td>\n",
              "      <td>2010</td>\n",
              "      <td>8</td>\n",
              "      <td>2</td>\n",
              "      <td>31</td>\n",
              "      <td>36118033.0</td>\n",
              "    </tr>\n",
              "    <tr>\n",
              "      <th>4</th>\n",
              "      <td>87mebub9p4</td>\n",
              "      <td>2010-09-14</td>\n",
              "      <td>2009-12-08 06:11:05</td>\n",
              "      <td>2010-02-18</td>\n",
              "      <td>FEMALE</td>\n",
              "      <td>41.0</td>\n",
              "      <td>basic</td>\n",
              "      <td>0</td>\n",
              "      <td>en</td>\n",
              "      <td>direct</td>\n",
              "      <td>...</td>\n",
              "      <td>Mac Desktop</td>\n",
              "      <td>Chrome</td>\n",
              "      <td>US</td>\n",
              "      <td>2010</td>\n",
              "      <td>2010-02-18</td>\n",
              "      <td>2010</td>\n",
              "      <td>2</td>\n",
              "      <td>18</td>\n",
              "      <td>7</td>\n",
              "      <td>6198535.0</td>\n",
              "    </tr>\n",
              "    <tr>\n",
              "      <th>5</th>\n",
              "      <td>osr2jwljor</td>\n",
              "      <td>2010-01-01</td>\n",
              "      <td>2010-01-01 21:56:19</td>\n",
              "      <td>2010-01-02</td>\n",
              "      <td>FEMALE</td>\n",
              "      <td>33.0</td>\n",
              "      <td>basic</td>\n",
              "      <td>0</td>\n",
              "      <td>en</td>\n",
              "      <td>other</td>\n",
              "      <td>...</td>\n",
              "      <td>Mac Desktop</td>\n",
              "      <td>Chrome</td>\n",
              "      <td>US</td>\n",
              "      <td>2010</td>\n",
              "      <td>2010-01-02</td>\n",
              "      <td>2010</td>\n",
              "      <td>1</td>\n",
              "      <td>2</td>\n",
              "      <td>53</td>\n",
              "      <td>7421.0</td>\n",
              "    </tr>\n",
              "    <tr>\n",
              "      <th>6</th>\n",
              "      <td>lsw9q7uk0j</td>\n",
              "      <td>2010-01-02</td>\n",
              "      <td>2010-01-02 01:25:58</td>\n",
              "      <td>2010-01-05</td>\n",
              "      <td>FEMALE</td>\n",
              "      <td>46.0</td>\n",
              "      <td>basic</td>\n",
              "      <td>0</td>\n",
              "      <td>en</td>\n",
              "      <td>other</td>\n",
              "      <td>...</td>\n",
              "      <td>Mac Desktop</td>\n",
              "      <td>Safari</td>\n",
              "      <td>US</td>\n",
              "      <td>2010</td>\n",
              "      <td>2010-01-05</td>\n",
              "      <td>2010</td>\n",
              "      <td>1</td>\n",
              "      <td>5</td>\n",
              "      <td>1</td>\n",
              "      <td>254042.0</td>\n",
              "    </tr>\n",
              "    <tr>\n",
              "      <th>7</th>\n",
              "      <td>0d01nltbrs</td>\n",
              "      <td>2010-01-03</td>\n",
              "      <td>2010-01-03 19:19:05</td>\n",
              "      <td>2010-01-13</td>\n",
              "      <td>FEMALE</td>\n",
              "      <td>47.0</td>\n",
              "      <td>basic</td>\n",
              "      <td>0</td>\n",
              "      <td>en</td>\n",
              "      <td>direct</td>\n",
              "      <td>...</td>\n",
              "      <td>Mac Desktop</td>\n",
              "      <td>Safari</td>\n",
              "      <td>US</td>\n",
              "      <td>2010</td>\n",
              "      <td>2010-01-13</td>\n",
              "      <td>2010</td>\n",
              "      <td>1</td>\n",
              "      <td>13</td>\n",
              "      <td>2</td>\n",
              "      <td>794455.0</td>\n",
              "    </tr>\n",
              "    <tr>\n",
              "      <th>...</th>\n",
              "      <td>...</td>\n",
              "      <td>...</td>\n",
              "      <td>...</td>\n",
              "      <td>...</td>\n",
              "      <td>...</td>\n",
              "      <td>...</td>\n",
              "      <td>...</td>\n",
              "      <td>...</td>\n",
              "      <td>...</td>\n",
              "      <td>...</td>\n",
              "      <td>...</td>\n",
              "      <td>...</td>\n",
              "      <td>...</td>\n",
              "      <td>...</td>\n",
              "      <td>...</td>\n",
              "      <td>...</td>\n",
              "      <td>...</td>\n",
              "      <td>...</td>\n",
              "      <td>...</td>\n",
              "      <td>...</td>\n",
              "      <td>...</td>\n",
              "    </tr>\n",
              "    <tr>\n",
              "      <th>213415</th>\n",
              "      <td>7plqriggxp</td>\n",
              "      <td>2014-06-30</td>\n",
              "      <td>2014-06-30 23:01:36</td>\n",
              "      <td>2014-06-30</td>\n",
              "      <td>FEMALE</td>\n",
              "      <td>55.0</td>\n",
              "      <td>basic</td>\n",
              "      <td>0</td>\n",
              "      <td>en</td>\n",
              "      <td>sem-brand</td>\n",
              "      <td>...</td>\n",
              "      <td>Android Tablet</td>\n",
              "      <td>IE</td>\n",
              "      <td>FR</td>\n",
              "      <td>2014</td>\n",
              "      <td>2014-06-30</td>\n",
              "      <td>2014</td>\n",
              "      <td>6</td>\n",
              "      <td>30</td>\n",
              "      <td>27</td>\n",
              "      <td>82896.0</td>\n",
              "    </tr>\n",
              "    <tr>\n",
              "      <th>213439</th>\n",
              "      <td>msucfwmlzc</td>\n",
              "      <td>2014-06-30</td>\n",
              "      <td>2014-06-30 23:47:29</td>\n",
              "      <td>2015-03-16</td>\n",
              "      <td>MALE</td>\n",
              "      <td>43.0</td>\n",
              "      <td>basic</td>\n",
              "      <td>0</td>\n",
              "      <td>en</td>\n",
              "      <td>direct</td>\n",
              "      <td>...</td>\n",
              "      <td>Windows Desktop</td>\n",
              "      <td>Firefox</td>\n",
              "      <td>US</td>\n",
              "      <td>2014</td>\n",
              "      <td>2015-03-16</td>\n",
              "      <td>2015</td>\n",
              "      <td>3</td>\n",
              "      <td>16</td>\n",
              "      <td>12</td>\n",
              "      <td>22291951.0</td>\n",
              "    </tr>\n",
              "    <tr>\n",
              "      <th>213441</th>\n",
              "      <td>omlc9iku7t</td>\n",
              "      <td>2014-06-30</td>\n",
              "      <td>2014-06-30 23:51:51</td>\n",
              "      <td>2014-08-13</td>\n",
              "      <td>FEMALE</td>\n",
              "      <td>34.0</td>\n",
              "      <td>basic</td>\n",
              "      <td>0</td>\n",
              "      <td>en</td>\n",
              "      <td>direct</td>\n",
              "      <td>...</td>\n",
              "      <td>Mac Desktop</td>\n",
              "      <td>Chrome</td>\n",
              "      <td>ES</td>\n",
              "      <td>2014</td>\n",
              "      <td>2014-08-13</td>\n",
              "      <td>2014</td>\n",
              "      <td>8</td>\n",
              "      <td>13</td>\n",
              "      <td>33</td>\n",
              "      <td>3715689.0</td>\n",
              "    </tr>\n",
              "    <tr>\n",
              "      <th>213443</th>\n",
              "      <td>0k26r3mir0</td>\n",
              "      <td>2014-06-30</td>\n",
              "      <td>2014-06-30 23:53:40</td>\n",
              "      <td>2014-07-13</td>\n",
              "      <td>FEMALE</td>\n",
              "      <td>36.0</td>\n",
              "      <td>basic</td>\n",
              "      <td>0</td>\n",
              "      <td>en</td>\n",
              "      <td>sem-brand</td>\n",
              "      <td>...</td>\n",
              "      <td>Mac Desktop</td>\n",
              "      <td>Safari</td>\n",
              "      <td>US</td>\n",
              "      <td>2014</td>\n",
              "      <td>2014-07-13</td>\n",
              "      <td>2014</td>\n",
              "      <td>7</td>\n",
              "      <td>13</td>\n",
              "      <td>28</td>\n",
              "      <td>1037180.0</td>\n",
              "    </tr>\n",
              "    <tr>\n",
              "      <th>213445</th>\n",
              "      <td>qbxza0xojf</td>\n",
              "      <td>2014-06-30</td>\n",
              "      <td>2014-06-30 23:55:47</td>\n",
              "      <td>2014-07-02</td>\n",
              "      <td>FEMALE</td>\n",
              "      <td>23.0</td>\n",
              "      <td>basic</td>\n",
              "      <td>0</td>\n",
              "      <td>en</td>\n",
              "      <td>sem-brand</td>\n",
              "      <td>...</td>\n",
              "      <td>Windows Desktop</td>\n",
              "      <td>IE</td>\n",
              "      <td>US</td>\n",
              "      <td>2014</td>\n",
              "      <td>2014-07-02</td>\n",
              "      <td>2014</td>\n",
              "      <td>7</td>\n",
              "      <td>2</td>\n",
              "      <td>27</td>\n",
              "      <td>86653.0</td>\n",
              "    </tr>\n",
              "  </tbody>\n",
              "</table>\n",
              "<p>77534 rows × 23 columns</p>\n",
              "</div>\n",
              "      <button class=\"colab-df-convert\" onclick=\"convertToInteractive('df-8c5e1c26-af07-4d69-8f92-5f9321cf66f6')\"\n",
              "              title=\"Convert this dataframe to an interactive table.\"\n",
              "              style=\"display:none;\">\n",
              "        \n",
              "  <svg xmlns=\"http://www.w3.org/2000/svg\" height=\"24px\"viewBox=\"0 0 24 24\"\n",
              "       width=\"24px\">\n",
              "    <path d=\"M0 0h24v24H0V0z\" fill=\"none\"/>\n",
              "    <path d=\"M18.56 5.44l.94 2.06.94-2.06 2.06-.94-2.06-.94-.94-2.06-.94 2.06-2.06.94zm-11 1L8.5 8.5l.94-2.06 2.06-.94-2.06-.94L8.5 2.5l-.94 2.06-2.06.94zm10 10l.94 2.06.94-2.06 2.06-.94-2.06-.94-.94-2.06-.94 2.06-2.06.94z\"/><path d=\"M17.41 7.96l-1.37-1.37c-.4-.4-.92-.59-1.43-.59-.52 0-1.04.2-1.43.59L10.3 9.45l-7.72 7.72c-.78.78-.78 2.05 0 2.83L4 21.41c.39.39.9.59 1.41.59.51 0 1.02-.2 1.41-.59l7.78-7.78 2.81-2.81c.8-.78.8-2.07 0-2.86zM5.41 20L4 18.59l7.72-7.72 1.47 1.35L5.41 20z\"/>\n",
              "  </svg>\n",
              "      </button>\n",
              "      \n",
              "  <style>\n",
              "    .colab-df-container {\n",
              "      display:flex;\n",
              "      flex-wrap:wrap;\n",
              "      gap: 12px;\n",
              "    }\n",
              "\n",
              "    .colab-df-convert {\n",
              "      background-color: #E8F0FE;\n",
              "      border: none;\n",
              "      border-radius: 50%;\n",
              "      cursor: pointer;\n",
              "      display: none;\n",
              "      fill: #1967D2;\n",
              "      height: 32px;\n",
              "      padding: 0 0 0 0;\n",
              "      width: 32px;\n",
              "    }\n",
              "\n",
              "    .colab-df-convert:hover {\n",
              "      background-color: #E2EBFA;\n",
              "      box-shadow: 0px 1px 2px rgba(60, 64, 67, 0.3), 0px 1px 3px 1px rgba(60, 64, 67, 0.15);\n",
              "      fill: #174EA6;\n",
              "    }\n",
              "\n",
              "    [theme=dark] .colab-df-convert {\n",
              "      background-color: #3B4455;\n",
              "      fill: #D2E3FC;\n",
              "    }\n",
              "\n",
              "    [theme=dark] .colab-df-convert:hover {\n",
              "      background-color: #434B5C;\n",
              "      box-shadow: 0px 1px 3px 1px rgba(0, 0, 0, 0.15);\n",
              "      filter: drop-shadow(0px 1px 2px rgba(0, 0, 0, 0.3));\n",
              "      fill: #FFFFFF;\n",
              "    }\n",
              "  </style>\n",
              "\n",
              "      <script>\n",
              "        const buttonEl =\n",
              "          document.querySelector('#df-8c5e1c26-af07-4d69-8f92-5f9321cf66f6 button.colab-df-convert');\n",
              "        buttonEl.style.display =\n",
              "          google.colab.kernel.accessAllowed ? 'block' : 'none';\n",
              "\n",
              "        async function convertToInteractive(key) {\n",
              "          const element = document.querySelector('#df-8c5e1c26-af07-4d69-8f92-5f9321cf66f6');\n",
              "          const dataTable =\n",
              "            await google.colab.kernel.invokeFunction('convertToInteractive',\n",
              "                                                     [key], {});\n",
              "          if (!dataTable) return;\n",
              "\n",
              "          const docLinkHtml = 'Like what you see? Visit the ' +\n",
              "            '<a target=\"_blank\" href=https://colab.research.google.com/notebooks/data_table.ipynb>data table notebook</a>'\n",
              "            + ' to learn more about interactive tables.';\n",
              "          element.innerHTML = '';\n",
              "          dataTable['output_type'] = 'display_data';\n",
              "          await google.colab.output.renderOutput(dataTable, element);\n",
              "          const docLink = document.createElement('div');\n",
              "          docLink.innerHTML = docLinkHtml;\n",
              "          element.appendChild(docLink);\n",
              "        }\n",
              "      </script>\n",
              "    </div>\n",
              "  </div>\n",
              "  "
            ]
          },
          "metadata": {},
          "execution_count": 62
        }
      ],
      "source": [
        "new_df"
      ]
    },
    {
      "cell_type": "code",
      "execution_count": 63,
      "metadata": {
        "colab": {
          "base_uri": "https://localhost:8080/"
        },
        "id": "FIcEtPPNCITe",
        "outputId": "6e37d1f1-369b-4a24-af3c-9a0e8358b0df"
      },
      "outputs": [
        {
          "output_type": "execute_result",
          "data": {
            "text/plain": [
              "Index(['id', 'date_account_created', 'timestamp_first_active',\n",
              "       'date_first_booking', 'gender', 'age', 'signup_method', 'signup_flow',\n",
              "       'language', 'affiliate_channel', 'affiliate_provider',\n",
              "       'first_affiliate_tracked', 'signup_app', 'first_device_type',\n",
              "       'first_browser', 'country_destination', 'year', 'Date', 'Year', 'Month',\n",
              "       'Day', 'WeekOfYear', 'elapsed_time'],\n",
              "      dtype='object')"
            ]
          },
          "metadata": {},
          "execution_count": 63
        }
      ],
      "source": [
        "new_df.columns.unique()"
      ]
    },
    {
      "cell_type": "markdown",
      "metadata": {
        "id": "ESvIOuFMpLNy"
      },
      "source": [
        "## **Imputing, Scaling and Encoding**"
      ]
    },
    {
      "cell_type": "code",
      "execution_count": 64,
      "metadata": {
        "id": "7xO4YAWjCITe"
      },
      "outputs": [],
      "source": [
        "!pip install scikit-learn --upgrade --quiet"
      ]
    },
    {
      "cell_type": "code",
      "execution_count": 65,
      "metadata": {
        "id": "07Ob3NAlsxyQ"
      },
      "outputs": [],
      "source": [
        "year = pd.to_datetime(new_df.Date).dt.year\n",
        "\n",
        "train_df = new_df[year < 2014]\n",
        "val_df = new_df[year == 2014]\n"
      ]
    },
    {
      "cell_type": "code",
      "execution_count": 66,
      "metadata": {
        "colab": {
          "base_uri": "https://localhost:8080/",
          "height": 661
        },
        "id": "TRWXYL7wCITf",
        "outputId": "0900d308-fefc-409c-e113-be0ce16b8cb7"
      },
      "outputs": [
        {
          "output_type": "execute_result",
          "data": {
            "text/plain": [
              "                id date_account_created timestamp_first_active  \\\n",
              "2       4ft3gnwmtx           2010-09-28    2009-06-09 23:12:47   \n",
              "4       87mebub9p4           2010-09-14    2009-12-08 06:11:05   \n",
              "5       osr2jwljor           2010-01-01    2010-01-01 21:56:19   \n",
              "6       lsw9q7uk0j           2010-01-02    2010-01-02 01:25:58   \n",
              "7       0d01nltbrs           2010-01-03    2010-01-03 19:19:05   \n",
              "...            ...                  ...                    ...   \n",
              "136941  cawzzm8egg           2013-12-31    2013-12-31 19:16:13   \n",
              "136947  gqpt1nqr2h           2013-12-31    2013-12-31 19:39:05   \n",
              "136979  beiv10xjl8           2013-12-31    2013-12-31 21:19:58   \n",
              "136984  uc7e637o27           2013-12-31    2013-12-31 21:41:45   \n",
              "137013  z29kox2rb9           2013-12-31    2013-12-31 23:30:52   \n",
              "\n",
              "       date_first_booking  gender   age signup_method  signup_flow language  \\\n",
              "2              2010-08-02  FEMALE  56.0         basic            3       en   \n",
              "4              2010-02-18  FEMALE  41.0         basic            0       en   \n",
              "5              2010-01-02  FEMALE  33.0         basic            0       en   \n",
              "6              2010-01-05  FEMALE  46.0         basic            0       en   \n",
              "7              2010-01-13  FEMALE  47.0         basic            0       en   \n",
              "...                   ...     ...   ...           ...          ...      ...   \n",
              "136941         2013-12-31  FEMALE  37.0         basic           24       en   \n",
              "136947         2013-12-31  FEMALE  31.0         basic            0       en   \n",
              "136979         2013-12-31  FEMALE  33.0         basic           24       en   \n",
              "136984         2013-12-31  FEMALE  25.0         basic            0       en   \n",
              "137013         2013-12-31  FEMALE  33.0         basic            0       en   \n",
              "\n",
              "       affiliate_channel  ... first_device_type  first_browser  \\\n",
              "2                 direct  ...   Windows Desktop             IE   \n",
              "4                 direct  ...       Mac Desktop         Chrome   \n",
              "5                  other  ...       Mac Desktop         Chrome   \n",
              "6                  other  ...       Mac Desktop         Safari   \n",
              "7                 direct  ...       Mac Desktop         Safari   \n",
              "...                  ...  ...               ...            ...   \n",
              "136941            direct  ...       Mac Desktop         Chrome   \n",
              "136947            direct  ...       Mac Desktop         Safari   \n",
              "136979            direct  ...            iPhone  Mobile Safari   \n",
              "136984            direct  ...   Windows Desktop        Firefox   \n",
              "137013               seo  ...   Windows Desktop        Firefox   \n",
              "\n",
              "       country_destination  year       Date  Year  Month Day  WeekOfYear  \\\n",
              "2                       US  2010 2010-08-02  2010      8   2          31   \n",
              "4                       US  2010 2010-02-18  2010      2  18           7   \n",
              "5                       US  2010 2010-01-02  2010      1   2          53   \n",
              "6                       US  2010 2010-01-05  2010      1   5           1   \n",
              "7                       US  2010 2010-01-13  2010      1  13           2   \n",
              "...                    ...   ...        ...   ...    ...  ..         ...   \n",
              "136941                  US  2013 2013-12-31  2013     12  31           1   \n",
              "136947                  US  2013 2013-12-31  2013     12  31           1   \n",
              "136979                  US  2013 2013-12-31  2013     12  31           1   \n",
              "136984                  US  2013 2013-12-31  2013     12  31           1   \n",
              "137013                  US  2013 2013-12-31  2013     12  31           1   \n",
              "\n",
              "        elapsed_time  \n",
              "2         36118033.0  \n",
              "4          6198535.0  \n",
              "5             7421.0  \n",
              "6           254042.0  \n",
              "7           794455.0  \n",
              "...              ...  \n",
              "136941       69373.0  \n",
              "136947       70745.0  \n",
              "136979       76798.0  \n",
              "136984       78105.0  \n",
              "137013       84652.0  \n",
              "\n",
              "[48142 rows x 23 columns]"
            ],
            "text/html": [
              "\n",
              "  <div id=\"df-61c10ac7-aa71-41a8-ac92-5582b7b4908e\">\n",
              "    <div class=\"colab-df-container\">\n",
              "      <div>\n",
              "<style scoped>\n",
              "    .dataframe tbody tr th:only-of-type {\n",
              "        vertical-align: middle;\n",
              "    }\n",
              "\n",
              "    .dataframe tbody tr th {\n",
              "        vertical-align: top;\n",
              "    }\n",
              "\n",
              "    .dataframe thead th {\n",
              "        text-align: right;\n",
              "    }\n",
              "</style>\n",
              "<table border=\"1\" class=\"dataframe\">\n",
              "  <thead>\n",
              "    <tr style=\"text-align: right;\">\n",
              "      <th></th>\n",
              "      <th>id</th>\n",
              "      <th>date_account_created</th>\n",
              "      <th>timestamp_first_active</th>\n",
              "      <th>date_first_booking</th>\n",
              "      <th>gender</th>\n",
              "      <th>age</th>\n",
              "      <th>signup_method</th>\n",
              "      <th>signup_flow</th>\n",
              "      <th>language</th>\n",
              "      <th>affiliate_channel</th>\n",
              "      <th>...</th>\n",
              "      <th>first_device_type</th>\n",
              "      <th>first_browser</th>\n",
              "      <th>country_destination</th>\n",
              "      <th>year</th>\n",
              "      <th>Date</th>\n",
              "      <th>Year</th>\n",
              "      <th>Month</th>\n",
              "      <th>Day</th>\n",
              "      <th>WeekOfYear</th>\n",
              "      <th>elapsed_time</th>\n",
              "    </tr>\n",
              "  </thead>\n",
              "  <tbody>\n",
              "    <tr>\n",
              "      <th>2</th>\n",
              "      <td>4ft3gnwmtx</td>\n",
              "      <td>2010-09-28</td>\n",
              "      <td>2009-06-09 23:12:47</td>\n",
              "      <td>2010-08-02</td>\n",
              "      <td>FEMALE</td>\n",
              "      <td>56.0</td>\n",
              "      <td>basic</td>\n",
              "      <td>3</td>\n",
              "      <td>en</td>\n",
              "      <td>direct</td>\n",
              "      <td>...</td>\n",
              "      <td>Windows Desktop</td>\n",
              "      <td>IE</td>\n",
              "      <td>US</td>\n",
              "      <td>2010</td>\n",
              "      <td>2010-08-02</td>\n",
              "      <td>2010</td>\n",
              "      <td>8</td>\n",
              "      <td>2</td>\n",
              "      <td>31</td>\n",
              "      <td>36118033.0</td>\n",
              "    </tr>\n",
              "    <tr>\n",
              "      <th>4</th>\n",
              "      <td>87mebub9p4</td>\n",
              "      <td>2010-09-14</td>\n",
              "      <td>2009-12-08 06:11:05</td>\n",
              "      <td>2010-02-18</td>\n",
              "      <td>FEMALE</td>\n",
              "      <td>41.0</td>\n",
              "      <td>basic</td>\n",
              "      <td>0</td>\n",
              "      <td>en</td>\n",
              "      <td>direct</td>\n",
              "      <td>...</td>\n",
              "      <td>Mac Desktop</td>\n",
              "      <td>Chrome</td>\n",
              "      <td>US</td>\n",
              "      <td>2010</td>\n",
              "      <td>2010-02-18</td>\n",
              "      <td>2010</td>\n",
              "      <td>2</td>\n",
              "      <td>18</td>\n",
              "      <td>7</td>\n",
              "      <td>6198535.0</td>\n",
              "    </tr>\n",
              "    <tr>\n",
              "      <th>5</th>\n",
              "      <td>osr2jwljor</td>\n",
              "      <td>2010-01-01</td>\n",
              "      <td>2010-01-01 21:56:19</td>\n",
              "      <td>2010-01-02</td>\n",
              "      <td>FEMALE</td>\n",
              "      <td>33.0</td>\n",
              "      <td>basic</td>\n",
              "      <td>0</td>\n",
              "      <td>en</td>\n",
              "      <td>other</td>\n",
              "      <td>...</td>\n",
              "      <td>Mac Desktop</td>\n",
              "      <td>Chrome</td>\n",
              "      <td>US</td>\n",
              "      <td>2010</td>\n",
              "      <td>2010-01-02</td>\n",
              "      <td>2010</td>\n",
              "      <td>1</td>\n",
              "      <td>2</td>\n",
              "      <td>53</td>\n",
              "      <td>7421.0</td>\n",
              "    </tr>\n",
              "    <tr>\n",
              "      <th>6</th>\n",
              "      <td>lsw9q7uk0j</td>\n",
              "      <td>2010-01-02</td>\n",
              "      <td>2010-01-02 01:25:58</td>\n",
              "      <td>2010-01-05</td>\n",
              "      <td>FEMALE</td>\n",
              "      <td>46.0</td>\n",
              "      <td>basic</td>\n",
              "      <td>0</td>\n",
              "      <td>en</td>\n",
              "      <td>other</td>\n",
              "      <td>...</td>\n",
              "      <td>Mac Desktop</td>\n",
              "      <td>Safari</td>\n",
              "      <td>US</td>\n",
              "      <td>2010</td>\n",
              "      <td>2010-01-05</td>\n",
              "      <td>2010</td>\n",
              "      <td>1</td>\n",
              "      <td>5</td>\n",
              "      <td>1</td>\n",
              "      <td>254042.0</td>\n",
              "    </tr>\n",
              "    <tr>\n",
              "      <th>7</th>\n",
              "      <td>0d01nltbrs</td>\n",
              "      <td>2010-01-03</td>\n",
              "      <td>2010-01-03 19:19:05</td>\n",
              "      <td>2010-01-13</td>\n",
              "      <td>FEMALE</td>\n",
              "      <td>47.0</td>\n",
              "      <td>basic</td>\n",
              "      <td>0</td>\n",
              "      <td>en</td>\n",
              "      <td>direct</td>\n",
              "      <td>...</td>\n",
              "      <td>Mac Desktop</td>\n",
              "      <td>Safari</td>\n",
              "      <td>US</td>\n",
              "      <td>2010</td>\n",
              "      <td>2010-01-13</td>\n",
              "      <td>2010</td>\n",
              "      <td>1</td>\n",
              "      <td>13</td>\n",
              "      <td>2</td>\n",
              "      <td>794455.0</td>\n",
              "    </tr>\n",
              "    <tr>\n",
              "      <th>...</th>\n",
              "      <td>...</td>\n",
              "      <td>...</td>\n",
              "      <td>...</td>\n",
              "      <td>...</td>\n",
              "      <td>...</td>\n",
              "      <td>...</td>\n",
              "      <td>...</td>\n",
              "      <td>...</td>\n",
              "      <td>...</td>\n",
              "      <td>...</td>\n",
              "      <td>...</td>\n",
              "      <td>...</td>\n",
              "      <td>...</td>\n",
              "      <td>...</td>\n",
              "      <td>...</td>\n",
              "      <td>...</td>\n",
              "      <td>...</td>\n",
              "      <td>...</td>\n",
              "      <td>...</td>\n",
              "      <td>...</td>\n",
              "      <td>...</td>\n",
              "    </tr>\n",
              "    <tr>\n",
              "      <th>136941</th>\n",
              "      <td>cawzzm8egg</td>\n",
              "      <td>2013-12-31</td>\n",
              "      <td>2013-12-31 19:16:13</td>\n",
              "      <td>2013-12-31</td>\n",
              "      <td>FEMALE</td>\n",
              "      <td>37.0</td>\n",
              "      <td>basic</td>\n",
              "      <td>24</td>\n",
              "      <td>en</td>\n",
              "      <td>direct</td>\n",
              "      <td>...</td>\n",
              "      <td>Mac Desktop</td>\n",
              "      <td>Chrome</td>\n",
              "      <td>US</td>\n",
              "      <td>2013</td>\n",
              "      <td>2013-12-31</td>\n",
              "      <td>2013</td>\n",
              "      <td>12</td>\n",
              "      <td>31</td>\n",
              "      <td>1</td>\n",
              "      <td>69373.0</td>\n",
              "    </tr>\n",
              "    <tr>\n",
              "      <th>136947</th>\n",
              "      <td>gqpt1nqr2h</td>\n",
              "      <td>2013-12-31</td>\n",
              "      <td>2013-12-31 19:39:05</td>\n",
              "      <td>2013-12-31</td>\n",
              "      <td>FEMALE</td>\n",
              "      <td>31.0</td>\n",
              "      <td>basic</td>\n",
              "      <td>0</td>\n",
              "      <td>en</td>\n",
              "      <td>direct</td>\n",
              "      <td>...</td>\n",
              "      <td>Mac Desktop</td>\n",
              "      <td>Safari</td>\n",
              "      <td>US</td>\n",
              "      <td>2013</td>\n",
              "      <td>2013-12-31</td>\n",
              "      <td>2013</td>\n",
              "      <td>12</td>\n",
              "      <td>31</td>\n",
              "      <td>1</td>\n",
              "      <td>70745.0</td>\n",
              "    </tr>\n",
              "    <tr>\n",
              "      <th>136979</th>\n",
              "      <td>beiv10xjl8</td>\n",
              "      <td>2013-12-31</td>\n",
              "      <td>2013-12-31 21:19:58</td>\n",
              "      <td>2013-12-31</td>\n",
              "      <td>FEMALE</td>\n",
              "      <td>33.0</td>\n",
              "      <td>basic</td>\n",
              "      <td>24</td>\n",
              "      <td>en</td>\n",
              "      <td>direct</td>\n",
              "      <td>...</td>\n",
              "      <td>iPhone</td>\n",
              "      <td>Mobile Safari</td>\n",
              "      <td>US</td>\n",
              "      <td>2013</td>\n",
              "      <td>2013-12-31</td>\n",
              "      <td>2013</td>\n",
              "      <td>12</td>\n",
              "      <td>31</td>\n",
              "      <td>1</td>\n",
              "      <td>76798.0</td>\n",
              "    </tr>\n",
              "    <tr>\n",
              "      <th>136984</th>\n",
              "      <td>uc7e637o27</td>\n",
              "      <td>2013-12-31</td>\n",
              "      <td>2013-12-31 21:41:45</td>\n",
              "      <td>2013-12-31</td>\n",
              "      <td>FEMALE</td>\n",
              "      <td>25.0</td>\n",
              "      <td>basic</td>\n",
              "      <td>0</td>\n",
              "      <td>en</td>\n",
              "      <td>direct</td>\n",
              "      <td>...</td>\n",
              "      <td>Windows Desktop</td>\n",
              "      <td>Firefox</td>\n",
              "      <td>US</td>\n",
              "      <td>2013</td>\n",
              "      <td>2013-12-31</td>\n",
              "      <td>2013</td>\n",
              "      <td>12</td>\n",
              "      <td>31</td>\n",
              "      <td>1</td>\n",
              "      <td>78105.0</td>\n",
              "    </tr>\n",
              "    <tr>\n",
              "      <th>137013</th>\n",
              "      <td>z29kox2rb9</td>\n",
              "      <td>2013-12-31</td>\n",
              "      <td>2013-12-31 23:30:52</td>\n",
              "      <td>2013-12-31</td>\n",
              "      <td>FEMALE</td>\n",
              "      <td>33.0</td>\n",
              "      <td>basic</td>\n",
              "      <td>0</td>\n",
              "      <td>en</td>\n",
              "      <td>seo</td>\n",
              "      <td>...</td>\n",
              "      <td>Windows Desktop</td>\n",
              "      <td>Firefox</td>\n",
              "      <td>US</td>\n",
              "      <td>2013</td>\n",
              "      <td>2013-12-31</td>\n",
              "      <td>2013</td>\n",
              "      <td>12</td>\n",
              "      <td>31</td>\n",
              "      <td>1</td>\n",
              "      <td>84652.0</td>\n",
              "    </tr>\n",
              "  </tbody>\n",
              "</table>\n",
              "<p>48142 rows × 23 columns</p>\n",
              "</div>\n",
              "      <button class=\"colab-df-convert\" onclick=\"convertToInteractive('df-61c10ac7-aa71-41a8-ac92-5582b7b4908e')\"\n",
              "              title=\"Convert this dataframe to an interactive table.\"\n",
              "              style=\"display:none;\">\n",
              "        \n",
              "  <svg xmlns=\"http://www.w3.org/2000/svg\" height=\"24px\"viewBox=\"0 0 24 24\"\n",
              "       width=\"24px\">\n",
              "    <path d=\"M0 0h24v24H0V0z\" fill=\"none\"/>\n",
              "    <path d=\"M18.56 5.44l.94 2.06.94-2.06 2.06-.94-2.06-.94-.94-2.06-.94 2.06-2.06.94zm-11 1L8.5 8.5l.94-2.06 2.06-.94-2.06-.94L8.5 2.5l-.94 2.06-2.06.94zm10 10l.94 2.06.94-2.06 2.06-.94-2.06-.94-.94-2.06-.94 2.06-2.06.94z\"/><path d=\"M17.41 7.96l-1.37-1.37c-.4-.4-.92-.59-1.43-.59-.52 0-1.04.2-1.43.59L10.3 9.45l-7.72 7.72c-.78.78-.78 2.05 0 2.83L4 21.41c.39.39.9.59 1.41.59.51 0 1.02-.2 1.41-.59l7.78-7.78 2.81-2.81c.8-.78.8-2.07 0-2.86zM5.41 20L4 18.59l7.72-7.72 1.47 1.35L5.41 20z\"/>\n",
              "  </svg>\n",
              "      </button>\n",
              "      \n",
              "  <style>\n",
              "    .colab-df-container {\n",
              "      display:flex;\n",
              "      flex-wrap:wrap;\n",
              "      gap: 12px;\n",
              "    }\n",
              "\n",
              "    .colab-df-convert {\n",
              "      background-color: #E8F0FE;\n",
              "      border: none;\n",
              "      border-radius: 50%;\n",
              "      cursor: pointer;\n",
              "      display: none;\n",
              "      fill: #1967D2;\n",
              "      height: 32px;\n",
              "      padding: 0 0 0 0;\n",
              "      width: 32px;\n",
              "    }\n",
              "\n",
              "    .colab-df-convert:hover {\n",
              "      background-color: #E2EBFA;\n",
              "      box-shadow: 0px 1px 2px rgba(60, 64, 67, 0.3), 0px 1px 3px 1px rgba(60, 64, 67, 0.15);\n",
              "      fill: #174EA6;\n",
              "    }\n",
              "\n",
              "    [theme=dark] .colab-df-convert {\n",
              "      background-color: #3B4455;\n",
              "      fill: #D2E3FC;\n",
              "    }\n",
              "\n",
              "    [theme=dark] .colab-df-convert:hover {\n",
              "      background-color: #434B5C;\n",
              "      box-shadow: 0px 1px 3px 1px rgba(0, 0, 0, 0.15);\n",
              "      filter: drop-shadow(0px 1px 2px rgba(0, 0, 0, 0.3));\n",
              "      fill: #FFFFFF;\n",
              "    }\n",
              "  </style>\n",
              "\n",
              "      <script>\n",
              "        const buttonEl =\n",
              "          document.querySelector('#df-61c10ac7-aa71-41a8-ac92-5582b7b4908e button.colab-df-convert');\n",
              "        buttonEl.style.display =\n",
              "          google.colab.kernel.accessAllowed ? 'block' : 'none';\n",
              "\n",
              "        async function convertToInteractive(key) {\n",
              "          const element = document.querySelector('#df-61c10ac7-aa71-41a8-ac92-5582b7b4908e');\n",
              "          const dataTable =\n",
              "            await google.colab.kernel.invokeFunction('convertToInteractive',\n",
              "                                                     [key], {});\n",
              "          if (!dataTable) return;\n",
              "\n",
              "          const docLinkHtml = 'Like what you see? Visit the ' +\n",
              "            '<a target=\"_blank\" href=https://colab.research.google.com/notebooks/data_table.ipynb>data table notebook</a>'\n",
              "            + ' to learn more about interactive tables.';\n",
              "          element.innerHTML = '';\n",
              "          dataTable['output_type'] = 'display_data';\n",
              "          await google.colab.output.renderOutput(dataTable, element);\n",
              "          const docLink = document.createElement('div');\n",
              "          docLink.innerHTML = docLinkHtml;\n",
              "          element.appendChild(docLink);\n",
              "        }\n",
              "      </script>\n",
              "    </div>\n",
              "  </div>\n",
              "  "
            ]
          },
          "metadata": {},
          "execution_count": 66
        }
      ],
      "source": [
        "train_df"
      ]
    },
    {
      "cell_type": "code",
      "execution_count": 67,
      "metadata": {
        "colab": {
          "base_uri": "https://localhost:8080/",
          "height": 661
        },
        "id": "c0yPVweICITf",
        "outputId": "320546ff-9663-4a3f-a036-1b4df0ab89f6"
      },
      "outputs": [
        {
          "output_type": "execute_result",
          "data": {
            "text/plain": [
              "                id date_account_created timestamp_first_active  \\\n",
              "422     oamfblpxdy           2014-01-15    2010-04-17 17:26:59   \n",
              "2537    m1x72dgnnk           2013-08-22    2010-12-01 14:30:12   \n",
              "4180    p4oev43bwu           2014-02-11    2011-04-12 02:54:20   \n",
              "4434    r6mv11jano           2014-01-29    2011-04-24 11:19:01   \n",
              "4485    f3dnhnzzsq           2014-06-17    2011-04-26 23:20:29   \n",
              "...            ...                  ...                    ...   \n",
              "213409  git9gx54o9           2014-06-30    2014-06-30 22:48:02   \n",
              "213415  7plqriggxp           2014-06-30    2014-06-30 23:01:36   \n",
              "213441  omlc9iku7t           2014-06-30    2014-06-30 23:51:51   \n",
              "213443  0k26r3mir0           2014-06-30    2014-06-30 23:53:40   \n",
              "213445  qbxza0xojf           2014-06-30    2014-06-30 23:55:47   \n",
              "\n",
              "       date_first_booking  gender   age signup_method  signup_flow language  \\\n",
              "422            2014-01-15   OTHER  45.0         basic           24       en   \n",
              "2537           2014-07-30  FEMALE  38.0         basic            0       en   \n",
              "4180           2014-02-14  FEMALE  27.0         basic            0       en   \n",
              "4434           2014-03-17  FEMALE  26.0         basic            0       en   \n",
              "4485           2014-06-22  FEMALE  28.0         basic            0       en   \n",
              "...                   ...     ...   ...           ...          ...      ...   \n",
              "213409         2014-07-12  FEMALE  28.0      facebook            0       en   \n",
              "213415         2014-06-30  FEMALE  55.0         basic            0       en   \n",
              "213441         2014-08-13  FEMALE  34.0         basic            0       en   \n",
              "213443         2014-07-13  FEMALE  36.0         basic            0       en   \n",
              "213445         2014-07-02  FEMALE  23.0         basic            0       en   \n",
              "\n",
              "       affiliate_channel  ... first_device_type  first_browser  \\\n",
              "422               direct  ...            iPhone  Mobile Safari   \n",
              "2537              direct  ...       Mac Desktop         Safari   \n",
              "4180           sem-brand  ...            iPhone      -unknown-   \n",
              "4434              direct  ...       Mac Desktop         Chrome   \n",
              "4485              direct  ...            iPhone  Mobile Safari   \n",
              "...                  ...  ...               ...            ...   \n",
              "213409            direct  ...   Windows Desktop        Firefox   \n",
              "213415         sem-brand  ...    Android Tablet             IE   \n",
              "213441            direct  ...       Mac Desktop         Chrome   \n",
              "213443         sem-brand  ...       Mac Desktop         Safari   \n",
              "213445         sem-brand  ...   Windows Desktop             IE   \n",
              "\n",
              "       country_destination  year       Date  Year  Month Day  WeekOfYear  \\\n",
              "422                     US  2014 2014-01-15  2014      1  15           3   \n",
              "2537                    US  2013 2014-07-30  2014      7  30          31   \n",
              "4180                    US  2014 2014-02-14  2014      2  14           7   \n",
              "4434                    ES  2014 2014-03-17  2014      3  17          12   \n",
              "4485                    US  2014 2014-06-22  2014      6  22          25   \n",
              "...                    ...   ...        ...   ...    ...  ..         ...   \n",
              "213409                  US  2014 2014-07-12  2014      7  12          28   \n",
              "213415                  FR  2014 2014-06-30  2014      6  30          27   \n",
              "213441                  ES  2014 2014-08-13  2014      8  13          33   \n",
              "213443                  US  2014 2014-07-13  2014      7  13          28   \n",
              "213445                  US  2014 2014-07-02  2014      7   2          27   \n",
              "\n",
              "        elapsed_time  \n",
              "422      118218781.0  \n",
              "2537     115464588.0  \n",
              "4180      89759140.0  \n",
              "4434      91370459.0  \n",
              "4485      99535171.0  \n",
              "...              ...  \n",
              "213409      954718.0  \n",
              "213415       82896.0  \n",
              "213441     3715689.0  \n",
              "213443     1037180.0  \n",
              "213445       86653.0  \n",
              "\n",
              "[27845 rows x 23 columns]"
            ],
            "text/html": [
              "\n",
              "  <div id=\"df-bcb29401-9736-45ad-b9ac-99daf77d5040\">\n",
              "    <div class=\"colab-df-container\">\n",
              "      <div>\n",
              "<style scoped>\n",
              "    .dataframe tbody tr th:only-of-type {\n",
              "        vertical-align: middle;\n",
              "    }\n",
              "\n",
              "    .dataframe tbody tr th {\n",
              "        vertical-align: top;\n",
              "    }\n",
              "\n",
              "    .dataframe thead th {\n",
              "        text-align: right;\n",
              "    }\n",
              "</style>\n",
              "<table border=\"1\" class=\"dataframe\">\n",
              "  <thead>\n",
              "    <tr style=\"text-align: right;\">\n",
              "      <th></th>\n",
              "      <th>id</th>\n",
              "      <th>date_account_created</th>\n",
              "      <th>timestamp_first_active</th>\n",
              "      <th>date_first_booking</th>\n",
              "      <th>gender</th>\n",
              "      <th>age</th>\n",
              "      <th>signup_method</th>\n",
              "      <th>signup_flow</th>\n",
              "      <th>language</th>\n",
              "      <th>affiliate_channel</th>\n",
              "      <th>...</th>\n",
              "      <th>first_device_type</th>\n",
              "      <th>first_browser</th>\n",
              "      <th>country_destination</th>\n",
              "      <th>year</th>\n",
              "      <th>Date</th>\n",
              "      <th>Year</th>\n",
              "      <th>Month</th>\n",
              "      <th>Day</th>\n",
              "      <th>WeekOfYear</th>\n",
              "      <th>elapsed_time</th>\n",
              "    </tr>\n",
              "  </thead>\n",
              "  <tbody>\n",
              "    <tr>\n",
              "      <th>422</th>\n",
              "      <td>oamfblpxdy</td>\n",
              "      <td>2014-01-15</td>\n",
              "      <td>2010-04-17 17:26:59</td>\n",
              "      <td>2014-01-15</td>\n",
              "      <td>OTHER</td>\n",
              "      <td>45.0</td>\n",
              "      <td>basic</td>\n",
              "      <td>24</td>\n",
              "      <td>en</td>\n",
              "      <td>direct</td>\n",
              "      <td>...</td>\n",
              "      <td>iPhone</td>\n",
              "      <td>Mobile Safari</td>\n",
              "      <td>US</td>\n",
              "      <td>2014</td>\n",
              "      <td>2014-01-15</td>\n",
              "      <td>2014</td>\n",
              "      <td>1</td>\n",
              "      <td>15</td>\n",
              "      <td>3</td>\n",
              "      <td>118218781.0</td>\n",
              "    </tr>\n",
              "    <tr>\n",
              "      <th>2537</th>\n",
              "      <td>m1x72dgnnk</td>\n",
              "      <td>2013-08-22</td>\n",
              "      <td>2010-12-01 14:30:12</td>\n",
              "      <td>2014-07-30</td>\n",
              "      <td>FEMALE</td>\n",
              "      <td>38.0</td>\n",
              "      <td>basic</td>\n",
              "      <td>0</td>\n",
              "      <td>en</td>\n",
              "      <td>direct</td>\n",
              "      <td>...</td>\n",
              "      <td>Mac Desktop</td>\n",
              "      <td>Safari</td>\n",
              "      <td>US</td>\n",
              "      <td>2013</td>\n",
              "      <td>2014-07-30</td>\n",
              "      <td>2014</td>\n",
              "      <td>7</td>\n",
              "      <td>30</td>\n",
              "      <td>31</td>\n",
              "      <td>115464588.0</td>\n",
              "    </tr>\n",
              "    <tr>\n",
              "      <th>4180</th>\n",
              "      <td>p4oev43bwu</td>\n",
              "      <td>2014-02-11</td>\n",
              "      <td>2011-04-12 02:54:20</td>\n",
              "      <td>2014-02-14</td>\n",
              "      <td>FEMALE</td>\n",
              "      <td>27.0</td>\n",
              "      <td>basic</td>\n",
              "      <td>0</td>\n",
              "      <td>en</td>\n",
              "      <td>sem-brand</td>\n",
              "      <td>...</td>\n",
              "      <td>iPhone</td>\n",
              "      <td>-unknown-</td>\n",
              "      <td>US</td>\n",
              "      <td>2014</td>\n",
              "      <td>2014-02-14</td>\n",
              "      <td>2014</td>\n",
              "      <td>2</td>\n",
              "      <td>14</td>\n",
              "      <td>7</td>\n",
              "      <td>89759140.0</td>\n",
              "    </tr>\n",
              "    <tr>\n",
              "      <th>4434</th>\n",
              "      <td>r6mv11jano</td>\n",
              "      <td>2014-01-29</td>\n",
              "      <td>2011-04-24 11:19:01</td>\n",
              "      <td>2014-03-17</td>\n",
              "      <td>FEMALE</td>\n",
              "      <td>26.0</td>\n",
              "      <td>basic</td>\n",
              "      <td>0</td>\n",
              "      <td>en</td>\n",
              "      <td>direct</td>\n",
              "      <td>...</td>\n",
              "      <td>Mac Desktop</td>\n",
              "      <td>Chrome</td>\n",
              "      <td>ES</td>\n",
              "      <td>2014</td>\n",
              "      <td>2014-03-17</td>\n",
              "      <td>2014</td>\n",
              "      <td>3</td>\n",
              "      <td>17</td>\n",
              "      <td>12</td>\n",
              "      <td>91370459.0</td>\n",
              "    </tr>\n",
              "    <tr>\n",
              "      <th>4485</th>\n",
              "      <td>f3dnhnzzsq</td>\n",
              "      <td>2014-06-17</td>\n",
              "      <td>2011-04-26 23:20:29</td>\n",
              "      <td>2014-06-22</td>\n",
              "      <td>FEMALE</td>\n",
              "      <td>28.0</td>\n",
              "      <td>basic</td>\n",
              "      <td>0</td>\n",
              "      <td>en</td>\n",
              "      <td>direct</td>\n",
              "      <td>...</td>\n",
              "      <td>iPhone</td>\n",
              "      <td>Mobile Safari</td>\n",
              "      <td>US</td>\n",
              "      <td>2014</td>\n",
              "      <td>2014-06-22</td>\n",
              "      <td>2014</td>\n",
              "      <td>6</td>\n",
              "      <td>22</td>\n",
              "      <td>25</td>\n",
              "      <td>99535171.0</td>\n",
              "    </tr>\n",
              "    <tr>\n",
              "      <th>...</th>\n",
              "      <td>...</td>\n",
              "      <td>...</td>\n",
              "      <td>...</td>\n",
              "      <td>...</td>\n",
              "      <td>...</td>\n",
              "      <td>...</td>\n",
              "      <td>...</td>\n",
              "      <td>...</td>\n",
              "      <td>...</td>\n",
              "      <td>...</td>\n",
              "      <td>...</td>\n",
              "      <td>...</td>\n",
              "      <td>...</td>\n",
              "      <td>...</td>\n",
              "      <td>...</td>\n",
              "      <td>...</td>\n",
              "      <td>...</td>\n",
              "      <td>...</td>\n",
              "      <td>...</td>\n",
              "      <td>...</td>\n",
              "      <td>...</td>\n",
              "    </tr>\n",
              "    <tr>\n",
              "      <th>213409</th>\n",
              "      <td>git9gx54o9</td>\n",
              "      <td>2014-06-30</td>\n",
              "      <td>2014-06-30 22:48:02</td>\n",
              "      <td>2014-07-12</td>\n",
              "      <td>FEMALE</td>\n",
              "      <td>28.0</td>\n",
              "      <td>facebook</td>\n",
              "      <td>0</td>\n",
              "      <td>en</td>\n",
              "      <td>direct</td>\n",
              "      <td>...</td>\n",
              "      <td>Windows Desktop</td>\n",
              "      <td>Firefox</td>\n",
              "      <td>US</td>\n",
              "      <td>2014</td>\n",
              "      <td>2014-07-12</td>\n",
              "      <td>2014</td>\n",
              "      <td>7</td>\n",
              "      <td>12</td>\n",
              "      <td>28</td>\n",
              "      <td>954718.0</td>\n",
              "    </tr>\n",
              "    <tr>\n",
              "      <th>213415</th>\n",
              "      <td>7plqriggxp</td>\n",
              "      <td>2014-06-30</td>\n",
              "      <td>2014-06-30 23:01:36</td>\n",
              "      <td>2014-06-30</td>\n",
              "      <td>FEMALE</td>\n",
              "      <td>55.0</td>\n",
              "      <td>basic</td>\n",
              "      <td>0</td>\n",
              "      <td>en</td>\n",
              "      <td>sem-brand</td>\n",
              "      <td>...</td>\n",
              "      <td>Android Tablet</td>\n",
              "      <td>IE</td>\n",
              "      <td>FR</td>\n",
              "      <td>2014</td>\n",
              "      <td>2014-06-30</td>\n",
              "      <td>2014</td>\n",
              "      <td>6</td>\n",
              "      <td>30</td>\n",
              "      <td>27</td>\n",
              "      <td>82896.0</td>\n",
              "    </tr>\n",
              "    <tr>\n",
              "      <th>213441</th>\n",
              "      <td>omlc9iku7t</td>\n",
              "      <td>2014-06-30</td>\n",
              "      <td>2014-06-30 23:51:51</td>\n",
              "      <td>2014-08-13</td>\n",
              "      <td>FEMALE</td>\n",
              "      <td>34.0</td>\n",
              "      <td>basic</td>\n",
              "      <td>0</td>\n",
              "      <td>en</td>\n",
              "      <td>direct</td>\n",
              "      <td>...</td>\n",
              "      <td>Mac Desktop</td>\n",
              "      <td>Chrome</td>\n",
              "      <td>ES</td>\n",
              "      <td>2014</td>\n",
              "      <td>2014-08-13</td>\n",
              "      <td>2014</td>\n",
              "      <td>8</td>\n",
              "      <td>13</td>\n",
              "      <td>33</td>\n",
              "      <td>3715689.0</td>\n",
              "    </tr>\n",
              "    <tr>\n",
              "      <th>213443</th>\n",
              "      <td>0k26r3mir0</td>\n",
              "      <td>2014-06-30</td>\n",
              "      <td>2014-06-30 23:53:40</td>\n",
              "      <td>2014-07-13</td>\n",
              "      <td>FEMALE</td>\n",
              "      <td>36.0</td>\n",
              "      <td>basic</td>\n",
              "      <td>0</td>\n",
              "      <td>en</td>\n",
              "      <td>sem-brand</td>\n",
              "      <td>...</td>\n",
              "      <td>Mac Desktop</td>\n",
              "      <td>Safari</td>\n",
              "      <td>US</td>\n",
              "      <td>2014</td>\n",
              "      <td>2014-07-13</td>\n",
              "      <td>2014</td>\n",
              "      <td>7</td>\n",
              "      <td>13</td>\n",
              "      <td>28</td>\n",
              "      <td>1037180.0</td>\n",
              "    </tr>\n",
              "    <tr>\n",
              "      <th>213445</th>\n",
              "      <td>qbxza0xojf</td>\n",
              "      <td>2014-06-30</td>\n",
              "      <td>2014-06-30 23:55:47</td>\n",
              "      <td>2014-07-02</td>\n",
              "      <td>FEMALE</td>\n",
              "      <td>23.0</td>\n",
              "      <td>basic</td>\n",
              "      <td>0</td>\n",
              "      <td>en</td>\n",
              "      <td>sem-brand</td>\n",
              "      <td>...</td>\n",
              "      <td>Windows Desktop</td>\n",
              "      <td>IE</td>\n",
              "      <td>US</td>\n",
              "      <td>2014</td>\n",
              "      <td>2014-07-02</td>\n",
              "      <td>2014</td>\n",
              "      <td>7</td>\n",
              "      <td>2</td>\n",
              "      <td>27</td>\n",
              "      <td>86653.0</td>\n",
              "    </tr>\n",
              "  </tbody>\n",
              "</table>\n",
              "<p>27845 rows × 23 columns</p>\n",
              "</div>\n",
              "      <button class=\"colab-df-convert\" onclick=\"convertToInteractive('df-bcb29401-9736-45ad-b9ac-99daf77d5040')\"\n",
              "              title=\"Convert this dataframe to an interactive table.\"\n",
              "              style=\"display:none;\">\n",
              "        \n",
              "  <svg xmlns=\"http://www.w3.org/2000/svg\" height=\"24px\"viewBox=\"0 0 24 24\"\n",
              "       width=\"24px\">\n",
              "    <path d=\"M0 0h24v24H0V0z\" fill=\"none\"/>\n",
              "    <path d=\"M18.56 5.44l.94 2.06.94-2.06 2.06-.94-2.06-.94-.94-2.06-.94 2.06-2.06.94zm-11 1L8.5 8.5l.94-2.06 2.06-.94-2.06-.94L8.5 2.5l-.94 2.06-2.06.94zm10 10l.94 2.06.94-2.06 2.06-.94-2.06-.94-.94-2.06-.94 2.06-2.06.94z\"/><path d=\"M17.41 7.96l-1.37-1.37c-.4-.4-.92-.59-1.43-.59-.52 0-1.04.2-1.43.59L10.3 9.45l-7.72 7.72c-.78.78-.78 2.05 0 2.83L4 21.41c.39.39.9.59 1.41.59.51 0 1.02-.2 1.41-.59l7.78-7.78 2.81-2.81c.8-.78.8-2.07 0-2.86zM5.41 20L4 18.59l7.72-7.72 1.47 1.35L5.41 20z\"/>\n",
              "  </svg>\n",
              "      </button>\n",
              "      \n",
              "  <style>\n",
              "    .colab-df-container {\n",
              "      display:flex;\n",
              "      flex-wrap:wrap;\n",
              "      gap: 12px;\n",
              "    }\n",
              "\n",
              "    .colab-df-convert {\n",
              "      background-color: #E8F0FE;\n",
              "      border: none;\n",
              "      border-radius: 50%;\n",
              "      cursor: pointer;\n",
              "      display: none;\n",
              "      fill: #1967D2;\n",
              "      height: 32px;\n",
              "      padding: 0 0 0 0;\n",
              "      width: 32px;\n",
              "    }\n",
              "\n",
              "    .colab-df-convert:hover {\n",
              "      background-color: #E2EBFA;\n",
              "      box-shadow: 0px 1px 2px rgba(60, 64, 67, 0.3), 0px 1px 3px 1px rgba(60, 64, 67, 0.15);\n",
              "      fill: #174EA6;\n",
              "    }\n",
              "\n",
              "    [theme=dark] .colab-df-convert {\n",
              "      background-color: #3B4455;\n",
              "      fill: #D2E3FC;\n",
              "    }\n",
              "\n",
              "    [theme=dark] .colab-df-convert:hover {\n",
              "      background-color: #434B5C;\n",
              "      box-shadow: 0px 1px 3px 1px rgba(0, 0, 0, 0.15);\n",
              "      filter: drop-shadow(0px 1px 2px rgba(0, 0, 0, 0.3));\n",
              "      fill: #FFFFFF;\n",
              "    }\n",
              "  </style>\n",
              "\n",
              "      <script>\n",
              "        const buttonEl =\n",
              "          document.querySelector('#df-bcb29401-9736-45ad-b9ac-99daf77d5040 button.colab-df-convert');\n",
              "        buttonEl.style.display =\n",
              "          google.colab.kernel.accessAllowed ? 'block' : 'none';\n",
              "\n",
              "        async function convertToInteractive(key) {\n",
              "          const element = document.querySelector('#df-bcb29401-9736-45ad-b9ac-99daf77d5040');\n",
              "          const dataTable =\n",
              "            await google.colab.kernel.invokeFunction('convertToInteractive',\n",
              "                                                     [key], {});\n",
              "          if (!dataTable) return;\n",
              "\n",
              "          const docLinkHtml = 'Like what you see? Visit the ' +\n",
              "            '<a target=\"_blank\" href=https://colab.research.google.com/notebooks/data_table.ipynb>data table notebook</a>'\n",
              "            + ' to learn more about interactive tables.';\n",
              "          element.innerHTML = '';\n",
              "          dataTable['output_type'] = 'display_data';\n",
              "          await google.colab.output.renderOutput(dataTable, element);\n",
              "          const docLink = document.createElement('div');\n",
              "          docLink.innerHTML = docLinkHtml;\n",
              "          element.appendChild(docLink);\n",
              "        }\n",
              "      </script>\n",
              "    </div>\n",
              "  </div>\n",
              "  "
            ]
          },
          "metadata": {},
          "execution_count": 67
        }
      ],
      "source": [
        "val_df"
      ]
    },
    {
      "cell_type": "code",
      "execution_count": 68,
      "metadata": {
        "colab": {
          "base_uri": "https://localhost:8080/"
        },
        "id": "6Y1C16lUCITg",
        "outputId": "8d985bef-71e3-48cb-e2f7-72b2ec6ce87b"
      },
      "outputs": [
        {
          "output_type": "execute_result",
          "data": {
            "text/plain": [
              "Index(['id', 'date_account_created', 'timestamp_first_active',\n",
              "       'date_first_booking', 'gender', 'age', 'signup_method', 'signup_flow',\n",
              "       'language', 'affiliate_channel', 'affiliate_provider',\n",
              "       'first_affiliate_tracked', 'signup_app', 'first_device_type',\n",
              "       'first_browser', 'country_destination', 'year', 'Date', 'Year', 'Month',\n",
              "       'Day', 'WeekOfYear', 'elapsed_time'],\n",
              "      dtype='object')"
            ]
          },
          "metadata": {},
          "execution_count": 68
        }
      ],
      "source": [
        "train_df.columns.unique()"
      ]
    },
    {
      "cell_type": "code",
      "execution_count": 69,
      "metadata": {
        "id": "gKM0SJAmCITg"
      },
      "outputs": [],
      "source": [
        "train_targets=train_df['country_destination']\n",
        "val_targets=val_df['country_destination']\n",
        "train_df= train_df.drop(columns=['id', 'date_account_created','timestamp_first_active','date_first_booking','country_destination'])\n",
        "val_df= val_df.drop(columns=['id', 'date_account_created','timestamp_first_active','date_first_booking','country_destination'])\n",
        "\n",
        "\n"
      ]
    },
    {
      "cell_type": "code",
      "execution_count": 70,
      "metadata": {
        "id": "GkJqtXUnCITh"
      },
      "outputs": [],
      "source": [
        "numeric_cols=train_df.select_dtypes(include=np.number).columns.tolist()\n",
        "categorical_cols=train_df.select_dtypes('object').columns.tolist()"
      ]
    },
    {
      "cell_type": "code",
      "execution_count": 71,
      "metadata": {
        "colab": {
          "base_uri": "https://localhost:8080/"
        },
        "id": "Bw2S0qHDCITh",
        "outputId": "20e8ada6-a03f-46e3-fd00-2d2a78e26df8"
      },
      "outputs": [
        {
          "output_type": "execute_result",
          "data": {
            "text/plain": [
              "['age',\n",
              " 'signup_flow',\n",
              " 'year',\n",
              " 'Year',\n",
              " 'Month',\n",
              " 'Day',\n",
              " 'WeekOfYear',\n",
              " 'elapsed_time']"
            ]
          },
          "metadata": {},
          "execution_count": 71
        }
      ],
      "source": [
        "numeric_cols"
      ]
    },
    {
      "cell_type": "code",
      "execution_count": 72,
      "metadata": {
        "colab": {
          "base_uri": "https://localhost:8080/"
        },
        "id": "LUt5seqQCITh",
        "outputId": "ef4053fe-522e-4771-cb44-956a3c83ce2e"
      },
      "outputs": [
        {
          "output_type": "execute_result",
          "data": {
            "text/plain": [
              "['gender',\n",
              " 'signup_method',\n",
              " 'language',\n",
              " 'affiliate_channel',\n",
              " 'affiliate_provider',\n",
              " 'first_affiliate_tracked',\n",
              " 'signup_app',\n",
              " 'first_device_type',\n",
              " 'first_browser']"
            ]
          },
          "metadata": {},
          "execution_count": 72
        }
      ],
      "source": [
        "categorical_cols"
      ]
    },
    {
      "cell_type": "code",
      "execution_count": 73,
      "metadata": {
        "colab": {
          "base_uri": "https://localhost:8080/"
        },
        "id": "kh8NLJyfCITi",
        "outputId": "1de2db46-bacc-4c06-853b-93f02c5a308a"
      },
      "outputs": [
        {
          "output_type": "execute_result",
          "data": {
            "text/plain": [
              "age             0\n",
              "signup_flow     0\n",
              "year            0\n",
              "Year            0\n",
              "Month           0\n",
              "Day             0\n",
              "WeekOfYear      0\n",
              "elapsed_time    0\n",
              "dtype: int64"
            ]
          },
          "metadata": {},
          "execution_count": 73
        }
      ],
      "source": [
        "train_df[numeric_cols].isna().sum()"
      ]
    },
    {
      "cell_type": "code",
      "execution_count": 74,
      "metadata": {
        "colab": {
          "base_uri": "https://localhost:8080/",
          "height": 112
        },
        "id": "FSaGc6ZgCITi",
        "outputId": "5bc1c609-8e44-4c85-dbe7-70d2d15eb206"
      },
      "outputs": [
        {
          "output_type": "execute_result",
          "data": {
            "text/plain": [
              "      age  signup_flow    year    Year  Month   Day  WeekOfYear  elapsed_time\n",
              "min  15.0          0.0  2010.0  2010.0    1.0   1.0         1.0           1.0\n",
              "max  80.0         25.0  2013.0  2013.0   12.0  31.0        53.0    89007736.0"
            ],
            "text/html": [
              "\n",
              "  <div id=\"df-9328dda2-4706-4b0e-ad6f-f4f5eb8b53de\">\n",
              "    <div class=\"colab-df-container\">\n",
              "      <div>\n",
              "<style scoped>\n",
              "    .dataframe tbody tr th:only-of-type {\n",
              "        vertical-align: middle;\n",
              "    }\n",
              "\n",
              "    .dataframe tbody tr th {\n",
              "        vertical-align: top;\n",
              "    }\n",
              "\n",
              "    .dataframe thead th {\n",
              "        text-align: right;\n",
              "    }\n",
              "</style>\n",
              "<table border=\"1\" class=\"dataframe\">\n",
              "  <thead>\n",
              "    <tr style=\"text-align: right;\">\n",
              "      <th></th>\n",
              "      <th>age</th>\n",
              "      <th>signup_flow</th>\n",
              "      <th>year</th>\n",
              "      <th>Year</th>\n",
              "      <th>Month</th>\n",
              "      <th>Day</th>\n",
              "      <th>WeekOfYear</th>\n",
              "      <th>elapsed_time</th>\n",
              "    </tr>\n",
              "  </thead>\n",
              "  <tbody>\n",
              "    <tr>\n",
              "      <th>min</th>\n",
              "      <td>15.0</td>\n",
              "      <td>0.0</td>\n",
              "      <td>2010.0</td>\n",
              "      <td>2010.0</td>\n",
              "      <td>1.0</td>\n",
              "      <td>1.0</td>\n",
              "      <td>1.0</td>\n",
              "      <td>1.0</td>\n",
              "    </tr>\n",
              "    <tr>\n",
              "      <th>max</th>\n",
              "      <td>80.0</td>\n",
              "      <td>25.0</td>\n",
              "      <td>2013.0</td>\n",
              "      <td>2013.0</td>\n",
              "      <td>12.0</td>\n",
              "      <td>31.0</td>\n",
              "      <td>53.0</td>\n",
              "      <td>89007736.0</td>\n",
              "    </tr>\n",
              "  </tbody>\n",
              "</table>\n",
              "</div>\n",
              "      <button class=\"colab-df-convert\" onclick=\"convertToInteractive('df-9328dda2-4706-4b0e-ad6f-f4f5eb8b53de')\"\n",
              "              title=\"Convert this dataframe to an interactive table.\"\n",
              "              style=\"display:none;\">\n",
              "        \n",
              "  <svg xmlns=\"http://www.w3.org/2000/svg\" height=\"24px\"viewBox=\"0 0 24 24\"\n",
              "       width=\"24px\">\n",
              "    <path d=\"M0 0h24v24H0V0z\" fill=\"none\"/>\n",
              "    <path d=\"M18.56 5.44l.94 2.06.94-2.06 2.06-.94-2.06-.94-.94-2.06-.94 2.06-2.06.94zm-11 1L8.5 8.5l.94-2.06 2.06-.94-2.06-.94L8.5 2.5l-.94 2.06-2.06.94zm10 10l.94 2.06.94-2.06 2.06-.94-2.06-.94-.94-2.06-.94 2.06-2.06.94z\"/><path d=\"M17.41 7.96l-1.37-1.37c-.4-.4-.92-.59-1.43-.59-.52 0-1.04.2-1.43.59L10.3 9.45l-7.72 7.72c-.78.78-.78 2.05 0 2.83L4 21.41c.39.39.9.59 1.41.59.51 0 1.02-.2 1.41-.59l7.78-7.78 2.81-2.81c.8-.78.8-2.07 0-2.86zM5.41 20L4 18.59l7.72-7.72 1.47 1.35L5.41 20z\"/>\n",
              "  </svg>\n",
              "      </button>\n",
              "      \n",
              "  <style>\n",
              "    .colab-df-container {\n",
              "      display:flex;\n",
              "      flex-wrap:wrap;\n",
              "      gap: 12px;\n",
              "    }\n",
              "\n",
              "    .colab-df-convert {\n",
              "      background-color: #E8F0FE;\n",
              "      border: none;\n",
              "      border-radius: 50%;\n",
              "      cursor: pointer;\n",
              "      display: none;\n",
              "      fill: #1967D2;\n",
              "      height: 32px;\n",
              "      padding: 0 0 0 0;\n",
              "      width: 32px;\n",
              "    }\n",
              "\n",
              "    .colab-df-convert:hover {\n",
              "      background-color: #E2EBFA;\n",
              "      box-shadow: 0px 1px 2px rgba(60, 64, 67, 0.3), 0px 1px 3px 1px rgba(60, 64, 67, 0.15);\n",
              "      fill: #174EA6;\n",
              "    }\n",
              "\n",
              "    [theme=dark] .colab-df-convert {\n",
              "      background-color: #3B4455;\n",
              "      fill: #D2E3FC;\n",
              "    }\n",
              "\n",
              "    [theme=dark] .colab-df-convert:hover {\n",
              "      background-color: #434B5C;\n",
              "      box-shadow: 0px 1px 3px 1px rgba(0, 0, 0, 0.15);\n",
              "      filter: drop-shadow(0px 1px 2px rgba(0, 0, 0, 0.3));\n",
              "      fill: #FFFFFF;\n",
              "    }\n",
              "  </style>\n",
              "\n",
              "      <script>\n",
              "        const buttonEl =\n",
              "          document.querySelector('#df-9328dda2-4706-4b0e-ad6f-f4f5eb8b53de button.colab-df-convert');\n",
              "        buttonEl.style.display =\n",
              "          google.colab.kernel.accessAllowed ? 'block' : 'none';\n",
              "\n",
              "        async function convertToInteractive(key) {\n",
              "          const element = document.querySelector('#df-9328dda2-4706-4b0e-ad6f-f4f5eb8b53de');\n",
              "          const dataTable =\n",
              "            await google.colab.kernel.invokeFunction('convertToInteractive',\n",
              "                                                     [key], {});\n",
              "          if (!dataTable) return;\n",
              "\n",
              "          const docLinkHtml = 'Like what you see? Visit the ' +\n",
              "            '<a target=\"_blank\" href=https://colab.research.google.com/notebooks/data_table.ipynb>data table notebook</a>'\n",
              "            + ' to learn more about interactive tables.';\n",
              "          element.innerHTML = '';\n",
              "          dataTable['output_type'] = 'display_data';\n",
              "          await google.colab.output.renderOutput(dataTable, element);\n",
              "          const docLink = document.createElement('div');\n",
              "          docLink.innerHTML = docLinkHtml;\n",
              "          element.appendChild(docLink);\n",
              "        }\n",
              "      </script>\n",
              "    </div>\n",
              "  </div>\n",
              "  "
            ]
          },
          "metadata": {},
          "execution_count": 74
        }
      ],
      "source": [
        "train_df[numeric_cols].describe().loc[['min','max']]"
      ]
    },
    {
      "cell_type": "code",
      "execution_count": 75,
      "metadata": {
        "id": "p4UFb2tbCITi"
      },
      "outputs": [],
      "source": [
        "from sklearn.preprocessing import MinMaxScaler"
      ]
    },
    {
      "cell_type": "code",
      "execution_count": 76,
      "metadata": {
        "id": "AA4nLNR8CITj"
      },
      "outputs": [],
      "source": [
        "scaler=MinMaxScaler().fit(train_df[numeric_cols])"
      ]
    },
    {
      "cell_type": "code",
      "execution_count": 77,
      "metadata": {
        "id": "Olommkq9CITj"
      },
      "outputs": [],
      "source": [
        "train_df[numeric_cols]=scaler.transform(train_df[numeric_cols])\n",
        "val_df[numeric_cols]=scaler.transform(val_df[numeric_cols])"
      ]
    },
    {
      "cell_type": "code",
      "execution_count": 78,
      "metadata": {
        "colab": {
          "base_uri": "https://localhost:8080/",
          "height": 112
        },
        "id": "Pt3ONnaZCITj",
        "outputId": "151b42e1-75c7-4029-bcf0-293fbe59718c"
      },
      "outputs": [
        {
          "output_type": "execute_result",
          "data": {
            "text/plain": [
              "     age  signup_flow  year  Year  Month  Day  WeekOfYear  elapsed_time\n",
              "min  0.0          0.0   0.0   0.0    0.0  0.0         0.0           0.0\n",
              "max  1.0          1.0   1.0   1.0    1.0  1.0         1.0           1.0"
            ],
            "text/html": [
              "\n",
              "  <div id=\"df-c3a5a1e6-5a26-46c1-a7a0-40564aef0455\">\n",
              "    <div class=\"colab-df-container\">\n",
              "      <div>\n",
              "<style scoped>\n",
              "    .dataframe tbody tr th:only-of-type {\n",
              "        vertical-align: middle;\n",
              "    }\n",
              "\n",
              "    .dataframe tbody tr th {\n",
              "        vertical-align: top;\n",
              "    }\n",
              "\n",
              "    .dataframe thead th {\n",
              "        text-align: right;\n",
              "    }\n",
              "</style>\n",
              "<table border=\"1\" class=\"dataframe\">\n",
              "  <thead>\n",
              "    <tr style=\"text-align: right;\">\n",
              "      <th></th>\n",
              "      <th>age</th>\n",
              "      <th>signup_flow</th>\n",
              "      <th>year</th>\n",
              "      <th>Year</th>\n",
              "      <th>Month</th>\n",
              "      <th>Day</th>\n",
              "      <th>WeekOfYear</th>\n",
              "      <th>elapsed_time</th>\n",
              "    </tr>\n",
              "  </thead>\n",
              "  <tbody>\n",
              "    <tr>\n",
              "      <th>min</th>\n",
              "      <td>0.0</td>\n",
              "      <td>0.0</td>\n",
              "      <td>0.0</td>\n",
              "      <td>0.0</td>\n",
              "      <td>0.0</td>\n",
              "      <td>0.0</td>\n",
              "      <td>0.0</td>\n",
              "      <td>0.0</td>\n",
              "    </tr>\n",
              "    <tr>\n",
              "      <th>max</th>\n",
              "      <td>1.0</td>\n",
              "      <td>1.0</td>\n",
              "      <td>1.0</td>\n",
              "      <td>1.0</td>\n",
              "      <td>1.0</td>\n",
              "      <td>1.0</td>\n",
              "      <td>1.0</td>\n",
              "      <td>1.0</td>\n",
              "    </tr>\n",
              "  </tbody>\n",
              "</table>\n",
              "</div>\n",
              "      <button class=\"colab-df-convert\" onclick=\"convertToInteractive('df-c3a5a1e6-5a26-46c1-a7a0-40564aef0455')\"\n",
              "              title=\"Convert this dataframe to an interactive table.\"\n",
              "              style=\"display:none;\">\n",
              "        \n",
              "  <svg xmlns=\"http://www.w3.org/2000/svg\" height=\"24px\"viewBox=\"0 0 24 24\"\n",
              "       width=\"24px\">\n",
              "    <path d=\"M0 0h24v24H0V0z\" fill=\"none\"/>\n",
              "    <path d=\"M18.56 5.44l.94 2.06.94-2.06 2.06-.94-2.06-.94-.94-2.06-.94 2.06-2.06.94zm-11 1L8.5 8.5l.94-2.06 2.06-.94-2.06-.94L8.5 2.5l-.94 2.06-2.06.94zm10 10l.94 2.06.94-2.06 2.06-.94-2.06-.94-.94-2.06-.94 2.06-2.06.94z\"/><path d=\"M17.41 7.96l-1.37-1.37c-.4-.4-.92-.59-1.43-.59-.52 0-1.04.2-1.43.59L10.3 9.45l-7.72 7.72c-.78.78-.78 2.05 0 2.83L4 21.41c.39.39.9.59 1.41.59.51 0 1.02-.2 1.41-.59l7.78-7.78 2.81-2.81c.8-.78.8-2.07 0-2.86zM5.41 20L4 18.59l7.72-7.72 1.47 1.35L5.41 20z\"/>\n",
              "  </svg>\n",
              "      </button>\n",
              "      \n",
              "  <style>\n",
              "    .colab-df-container {\n",
              "      display:flex;\n",
              "      flex-wrap:wrap;\n",
              "      gap: 12px;\n",
              "    }\n",
              "\n",
              "    .colab-df-convert {\n",
              "      background-color: #E8F0FE;\n",
              "      border: none;\n",
              "      border-radius: 50%;\n",
              "      cursor: pointer;\n",
              "      display: none;\n",
              "      fill: #1967D2;\n",
              "      height: 32px;\n",
              "      padding: 0 0 0 0;\n",
              "      width: 32px;\n",
              "    }\n",
              "\n",
              "    .colab-df-convert:hover {\n",
              "      background-color: #E2EBFA;\n",
              "      box-shadow: 0px 1px 2px rgba(60, 64, 67, 0.3), 0px 1px 3px 1px rgba(60, 64, 67, 0.15);\n",
              "      fill: #174EA6;\n",
              "    }\n",
              "\n",
              "    [theme=dark] .colab-df-convert {\n",
              "      background-color: #3B4455;\n",
              "      fill: #D2E3FC;\n",
              "    }\n",
              "\n",
              "    [theme=dark] .colab-df-convert:hover {\n",
              "      background-color: #434B5C;\n",
              "      box-shadow: 0px 1px 3px 1px rgba(0, 0, 0, 0.15);\n",
              "      filter: drop-shadow(0px 1px 2px rgba(0, 0, 0, 0.3));\n",
              "      fill: #FFFFFF;\n",
              "    }\n",
              "  </style>\n",
              "\n",
              "      <script>\n",
              "        const buttonEl =\n",
              "          document.querySelector('#df-c3a5a1e6-5a26-46c1-a7a0-40564aef0455 button.colab-df-convert');\n",
              "        buttonEl.style.display =\n",
              "          google.colab.kernel.accessAllowed ? 'block' : 'none';\n",
              "\n",
              "        async function convertToInteractive(key) {\n",
              "          const element = document.querySelector('#df-c3a5a1e6-5a26-46c1-a7a0-40564aef0455');\n",
              "          const dataTable =\n",
              "            await google.colab.kernel.invokeFunction('convertToInteractive',\n",
              "                                                     [key], {});\n",
              "          if (!dataTable) return;\n",
              "\n",
              "          const docLinkHtml = 'Like what you see? Visit the ' +\n",
              "            '<a target=\"_blank\" href=https://colab.research.google.com/notebooks/data_table.ipynb>data table notebook</a>'\n",
              "            + ' to learn more about interactive tables.';\n",
              "          element.innerHTML = '';\n",
              "          dataTable['output_type'] = 'display_data';\n",
              "          await google.colab.output.renderOutput(dataTable, element);\n",
              "          const docLink = document.createElement('div');\n",
              "          docLink.innerHTML = docLinkHtml;\n",
              "          element.appendChild(docLink);\n",
              "        }\n",
              "      </script>\n",
              "    </div>\n",
              "  </div>\n",
              "  "
            ]
          },
          "metadata": {},
          "execution_count": 78
        }
      ],
      "source": [
        "train_df[numeric_cols].describe().loc[['min','max']]"
      ]
    },
    {
      "cell_type": "code",
      "execution_count": 79,
      "metadata": {
        "colab": {
          "base_uri": "https://localhost:8080/"
        },
        "id": "lYslpTIuCITk",
        "outputId": "54499ea4-59a3-4e71-942d-56fe73831482"
      },
      "outputs": [
        {
          "output_type": "execute_result",
          "data": {
            "text/plain": [
              "gender                      3\n",
              "signup_method               2\n",
              "language                   21\n",
              "affiliate_channel           8\n",
              "affiliate_provider         16\n",
              "first_affiliate_tracked     6\n",
              "signup_app                  4\n",
              "first_device_type           9\n",
              "first_browser              35\n",
              "dtype: int64"
            ]
          },
          "metadata": {},
          "execution_count": 79
        }
      ],
      "source": [
        "train_df[categorical_cols].nunique()"
      ]
    },
    {
      "cell_type": "code",
      "execution_count": 80,
      "metadata": {
        "colab": {
          "base_uri": "https://localhost:8080/"
        },
        "id": "xifQA-wfCITk",
        "outputId": "7ec204c9-b909-433b-f1d0-ff70e608d6e4"
      },
      "outputs": [
        {
          "output_type": "execute_result",
          "data": {
            "text/plain": [
              "[array(['FEMALE', 'MALE', 'OTHER'], dtype=object),\n",
              " array(['basic', 'facebook'], dtype=object),\n",
              " array(['ca', 'cs', 'da', 'de', 'el', 'en', 'es', 'fi', 'fr', 'it', 'ja',\n",
              "        'ko', 'nl', 'no', 'pl', 'pt', 'ru', 'sv', 'th', 'tr', 'zh'],\n",
              "       dtype=object),\n",
              " array(['api', 'content', 'direct', 'other', 'remarketing', 'sem-brand',\n",
              "        'sem-non-brand', 'seo'], dtype=object),\n",
              " array(['baidu', 'bing', 'craigslist', 'direct', 'email-marketing',\n",
              "        'facebook', 'facebook-open-graph', 'google', 'gsp', 'meetup',\n",
              "        'naver', 'other', 'padmapper', 'vast', 'yahoo', 'yandex'],\n",
              "       dtype=object),\n",
              " array(['linked', 'marketing', 'omg', 'product', 'tracked-other',\n",
              "        'untracked', nan], dtype=object),\n",
              " array(['Android', 'Moweb', 'Web', 'iOS'], dtype=object),\n",
              " array(['Android Phone', 'Android Tablet', 'Desktop (Other)',\n",
              "        'Mac Desktop', 'Other/Unknown', 'SmartPhone (Other)',\n",
              "        'Windows Desktop', 'iPad', 'iPhone'], dtype=object),\n",
              " array(['-unknown-', 'AOL Explorer', 'Android Browser', 'Apple Mail',\n",
              "        'BlackBerry Browser', 'Camino', 'Chrome', 'Chrome Mobile',\n",
              "        'Chromium', 'CometBird', 'CoolNovo', 'Firefox', 'IE', 'IE Mobile',\n",
              "        'IceWeasel', 'Iron', 'Maxthon', 'Mobile Firefox', 'Mobile Safari',\n",
              "        'Mozilla', 'NetNewsWire', 'Opera', 'Opera Mini', 'Pale Moon',\n",
              "        'RockMelt', 'Safari', 'SeaMonkey', 'Silk', 'SiteKiosk',\n",
              "        'SlimBrowser', 'Sogou Explorer', 'Stainless', 'TenFourFox',\n",
              "        'TheWorld Browser', 'wOSBrowser'], dtype=object)]"
            ]
          },
          "metadata": {},
          "execution_count": 80
        }
      ],
      "source": [
        "from sklearn.preprocessing import OneHotEncoder\n",
        "encoder=OneHotEncoder(sparse=False,handle_unknown='ignore')\n",
        "encoder.fit(train_df[categorical_cols])\n",
        "encoder.categories_"
      ]
    },
    {
      "cell_type": "code",
      "execution_count": 81,
      "metadata": {
        "colab": {
          "base_uri": "https://localhost:8080/"
        },
        "id": "FTzvb4x1CITk",
        "outputId": "2ccffa9e-af00-4e01-fdcd-d56b7182df36"
      },
      "outputs": [
        {
          "output_type": "stream",
          "name": "stdout",
          "text": [
            "['gender_FEMALE', 'gender_MALE', 'gender_OTHER', 'signup_method_basic', 'signup_method_facebook', 'language_ca', 'language_cs', 'language_da', 'language_de', 'language_el', 'language_en', 'language_es', 'language_fi', 'language_fr', 'language_it', 'language_ja', 'language_ko', 'language_nl', 'language_no', 'language_pl', 'language_pt', 'language_ru', 'language_sv', 'language_th', 'language_tr', 'language_zh', 'affiliate_channel_api', 'affiliate_channel_content', 'affiliate_channel_direct', 'affiliate_channel_other', 'affiliate_channel_remarketing', 'affiliate_channel_sem-brand', 'affiliate_channel_sem-non-brand', 'affiliate_channel_seo', 'affiliate_provider_baidu', 'affiliate_provider_bing', 'affiliate_provider_craigslist', 'affiliate_provider_direct', 'affiliate_provider_email-marketing', 'affiliate_provider_facebook', 'affiliate_provider_facebook-open-graph', 'affiliate_provider_google', 'affiliate_provider_gsp', 'affiliate_provider_meetup', 'affiliate_provider_naver', 'affiliate_provider_other', 'affiliate_provider_padmapper', 'affiliate_provider_vast', 'affiliate_provider_yahoo', 'affiliate_provider_yandex', 'first_affiliate_tracked_linked', 'first_affiliate_tracked_marketing', 'first_affiliate_tracked_omg', 'first_affiliate_tracked_product', 'first_affiliate_tracked_tracked-other', 'first_affiliate_tracked_untracked', 'first_affiliate_tracked_nan', 'signup_app_Android', 'signup_app_Moweb', 'signup_app_Web', 'signup_app_iOS', 'first_device_type_Android Phone', 'first_device_type_Android Tablet', 'first_device_type_Desktop (Other)', 'first_device_type_Mac Desktop', 'first_device_type_Other/Unknown', 'first_device_type_SmartPhone (Other)', 'first_device_type_Windows Desktop', 'first_device_type_iPad', 'first_device_type_iPhone', 'first_browser_-unknown-', 'first_browser_AOL Explorer', 'first_browser_Android Browser', 'first_browser_Apple Mail', 'first_browser_BlackBerry Browser', 'first_browser_Camino', 'first_browser_Chrome', 'first_browser_Chrome Mobile', 'first_browser_Chromium', 'first_browser_CometBird', 'first_browser_CoolNovo', 'first_browser_Firefox', 'first_browser_IE', 'first_browser_IE Mobile', 'first_browser_IceWeasel', 'first_browser_Iron', 'first_browser_Maxthon', 'first_browser_Mobile Firefox', 'first_browser_Mobile Safari', 'first_browser_Mozilla', 'first_browser_NetNewsWire', 'first_browser_Opera', 'first_browser_Opera Mini', 'first_browser_Pale Moon', 'first_browser_RockMelt', 'first_browser_Safari', 'first_browser_SeaMonkey', 'first_browser_Silk', 'first_browser_SiteKiosk', 'first_browser_SlimBrowser', 'first_browser_Sogou Explorer', 'first_browser_Stainless', 'first_browser_TenFourFox', 'first_browser_TheWorld Browser', 'first_browser_wOSBrowser']\n"
          ]
        },
        {
          "output_type": "stream",
          "name": "stderr",
          "text": [
            "/usr/local/lib/python3.7/dist-packages/sklearn/utils/deprecation.py:87: FutureWarning: Function get_feature_names is deprecated; get_feature_names is deprecated in 1.0 and will be removed in 1.2. Please use get_feature_names_out instead.\n",
            "  warnings.warn(msg, category=FutureWarning)\n"
          ]
        }
      ],
      "source": [
        "encoded_cols=list(encoder.get_feature_names(categorical_cols))\n",
        "print(encoded_cols)"
      ]
    },
    {
      "cell_type": "code",
      "execution_count": 82,
      "metadata": {
        "colab": {
          "base_uri": "https://localhost:8080/"
        },
        "id": "KWoLHnGWCITl",
        "outputId": "c46b28f5-bf7c-44c2-dc84-e98839ff50b4"
      },
      "outputs": [
        {
          "output_type": "stream",
          "name": "stderr",
          "text": [
            "/usr/local/lib/python3.7/dist-packages/pandas/core/frame.py:3678: PerformanceWarning: DataFrame is highly fragmented.  This is usually the result of calling `frame.insert` many times, which has poor performance.  Consider joining all columns at once using pd.concat(axis=1) instead.  To get a de-fragmented frame, use `newframe = frame.copy()`\n",
            "  self[col] = igetitem(value, i)\n",
            "/usr/local/lib/python3.7/dist-packages/pandas/core/frame.py:3678: PerformanceWarning: DataFrame is highly fragmented.  This is usually the result of calling `frame.insert` many times, which has poor performance.  Consider joining all columns at once using pd.concat(axis=1) instead.  To get a de-fragmented frame, use `newframe = frame.copy()`\n",
            "  self[col] = igetitem(value, i)\n"
          ]
        }
      ],
      "source": [
        "train_df[encoded_cols]=encoder.transform(train_df[categorical_cols])\n",
        "val_df[encoded_cols]=encoder.transform(val_df[categorical_cols])"
      ]
    },
    {
      "cell_type": "code",
      "execution_count": 83,
      "metadata": {
        "id": "A0J-6dGiCITl"
      },
      "outputs": [],
      "source": [
        "train_inputs=train_df[numeric_cols+encoded_cols]\n",
        "val_inputs=val_df[numeric_cols+encoded_cols]"
      ]
    },
    {
      "cell_type": "code",
      "execution_count": 84,
      "metadata": {
        "colab": {
          "base_uri": "https://localhost:8080/",
          "height": 505
        },
        "id": "sGcgTN5MCITl",
        "outputId": "dcf137bb-3778-4097-83a9-db5026ffdfc1"
      },
      "outputs": [
        {
          "output_type": "execute_result",
          "data": {
            "text/plain": [
              "             age  signup_flow  year  Year     Month       Day  WeekOfYear  \\\n",
              "2       0.630769         0.12   0.0   0.0  0.636364  0.033333    0.576923   \n",
              "4       0.400000         0.00   0.0   0.0  0.090909  0.566667    0.115385   \n",
              "5       0.276923         0.00   0.0   0.0  0.000000  0.033333    1.000000   \n",
              "6       0.476923         0.00   0.0   0.0  0.000000  0.133333    0.000000   \n",
              "7       0.492308         0.00   0.0   0.0  0.000000  0.400000    0.019231   \n",
              "...          ...          ...   ...   ...       ...       ...         ...   \n",
              "136941  0.338462         0.96   1.0   1.0  1.000000  1.000000    0.000000   \n",
              "136947  0.246154         0.00   1.0   1.0  1.000000  1.000000    0.000000   \n",
              "136979  0.276923         0.96   1.0   1.0  1.000000  1.000000    0.000000   \n",
              "136984  0.153846         0.00   1.0   1.0  1.000000  1.000000    0.000000   \n",
              "137013  0.276923         0.00   1.0   1.0  1.000000  1.000000    0.000000   \n",
              "\n",
              "        elapsed_time  gender_FEMALE  gender_MALE  ...  first_browser_Safari  \\\n",
              "2           0.405785            1.0          0.0  ...                   0.0   \n",
              "4           0.069640            1.0          0.0  ...                   0.0   \n",
              "5           0.000083            1.0          0.0  ...                   0.0   \n",
              "6           0.002854            1.0          0.0  ...                   1.0   \n",
              "7           0.008926            1.0          0.0  ...                   1.0   \n",
              "...              ...            ...          ...  ...                   ...   \n",
              "136941      0.000779            1.0          0.0  ...                   0.0   \n",
              "136947      0.000795            1.0          0.0  ...                   1.0   \n",
              "136979      0.000863            1.0          0.0  ...                   0.0   \n",
              "136984      0.000877            1.0          0.0  ...                   0.0   \n",
              "137013      0.000951            1.0          0.0  ...                   0.0   \n",
              "\n",
              "        first_browser_SeaMonkey  first_browser_Silk  first_browser_SiteKiosk  \\\n",
              "2                           0.0                 0.0                      0.0   \n",
              "4                           0.0                 0.0                      0.0   \n",
              "5                           0.0                 0.0                      0.0   \n",
              "6                           0.0                 0.0                      0.0   \n",
              "7                           0.0                 0.0                      0.0   \n",
              "...                         ...                 ...                      ...   \n",
              "136941                      0.0                 0.0                      0.0   \n",
              "136947                      0.0                 0.0                      0.0   \n",
              "136979                      0.0                 0.0                      0.0   \n",
              "136984                      0.0                 0.0                      0.0   \n",
              "137013                      0.0                 0.0                      0.0   \n",
              "\n",
              "        first_browser_SlimBrowser  first_browser_Sogou Explorer  \\\n",
              "2                             0.0                           0.0   \n",
              "4                             0.0                           0.0   \n",
              "5                             0.0                           0.0   \n",
              "6                             0.0                           0.0   \n",
              "7                             0.0                           0.0   \n",
              "...                           ...                           ...   \n",
              "136941                        0.0                           0.0   \n",
              "136947                        0.0                           0.0   \n",
              "136979                        0.0                           0.0   \n",
              "136984                        0.0                           0.0   \n",
              "137013                        0.0                           0.0   \n",
              "\n",
              "        first_browser_Stainless  first_browser_TenFourFox  \\\n",
              "2                           0.0                       0.0   \n",
              "4                           0.0                       0.0   \n",
              "5                           0.0                       0.0   \n",
              "6                           0.0                       0.0   \n",
              "7                           0.0                       0.0   \n",
              "...                         ...                       ...   \n",
              "136941                      0.0                       0.0   \n",
              "136947                      0.0                       0.0   \n",
              "136979                      0.0                       0.0   \n",
              "136984                      0.0                       0.0   \n",
              "137013                      0.0                       0.0   \n",
              "\n",
              "        first_browser_TheWorld Browser  first_browser_wOSBrowser  \n",
              "2                                  0.0                       0.0  \n",
              "4                                  0.0                       0.0  \n",
              "5                                  0.0                       0.0  \n",
              "6                                  0.0                       0.0  \n",
              "7                                  0.0                       0.0  \n",
              "...                                ...                       ...  \n",
              "136941                             0.0                       0.0  \n",
              "136947                             0.0                       0.0  \n",
              "136979                             0.0                       0.0  \n",
              "136984                             0.0                       0.0  \n",
              "137013                             0.0                       0.0  \n",
              "\n",
              "[48142 rows x 113 columns]"
            ],
            "text/html": [
              "\n",
              "  <div id=\"df-60d61e92-8a61-4c7a-abac-d0032f40dd45\">\n",
              "    <div class=\"colab-df-container\">\n",
              "      <div>\n",
              "<style scoped>\n",
              "    .dataframe tbody tr th:only-of-type {\n",
              "        vertical-align: middle;\n",
              "    }\n",
              "\n",
              "    .dataframe tbody tr th {\n",
              "        vertical-align: top;\n",
              "    }\n",
              "\n",
              "    .dataframe thead th {\n",
              "        text-align: right;\n",
              "    }\n",
              "</style>\n",
              "<table border=\"1\" class=\"dataframe\">\n",
              "  <thead>\n",
              "    <tr style=\"text-align: right;\">\n",
              "      <th></th>\n",
              "      <th>age</th>\n",
              "      <th>signup_flow</th>\n",
              "      <th>year</th>\n",
              "      <th>Year</th>\n",
              "      <th>Month</th>\n",
              "      <th>Day</th>\n",
              "      <th>WeekOfYear</th>\n",
              "      <th>elapsed_time</th>\n",
              "      <th>gender_FEMALE</th>\n",
              "      <th>gender_MALE</th>\n",
              "      <th>...</th>\n",
              "      <th>first_browser_Safari</th>\n",
              "      <th>first_browser_SeaMonkey</th>\n",
              "      <th>first_browser_Silk</th>\n",
              "      <th>first_browser_SiteKiosk</th>\n",
              "      <th>first_browser_SlimBrowser</th>\n",
              "      <th>first_browser_Sogou Explorer</th>\n",
              "      <th>first_browser_Stainless</th>\n",
              "      <th>first_browser_TenFourFox</th>\n",
              "      <th>first_browser_TheWorld Browser</th>\n",
              "      <th>first_browser_wOSBrowser</th>\n",
              "    </tr>\n",
              "  </thead>\n",
              "  <tbody>\n",
              "    <tr>\n",
              "      <th>2</th>\n",
              "      <td>0.630769</td>\n",
              "      <td>0.12</td>\n",
              "      <td>0.0</td>\n",
              "      <td>0.0</td>\n",
              "      <td>0.636364</td>\n",
              "      <td>0.033333</td>\n",
              "      <td>0.576923</td>\n",
              "      <td>0.405785</td>\n",
              "      <td>1.0</td>\n",
              "      <td>0.0</td>\n",
              "      <td>...</td>\n",
              "      <td>0.0</td>\n",
              "      <td>0.0</td>\n",
              "      <td>0.0</td>\n",
              "      <td>0.0</td>\n",
              "      <td>0.0</td>\n",
              "      <td>0.0</td>\n",
              "      <td>0.0</td>\n",
              "      <td>0.0</td>\n",
              "      <td>0.0</td>\n",
              "      <td>0.0</td>\n",
              "    </tr>\n",
              "    <tr>\n",
              "      <th>4</th>\n",
              "      <td>0.400000</td>\n",
              "      <td>0.00</td>\n",
              "      <td>0.0</td>\n",
              "      <td>0.0</td>\n",
              "      <td>0.090909</td>\n",
              "      <td>0.566667</td>\n",
              "      <td>0.115385</td>\n",
              "      <td>0.069640</td>\n",
              "      <td>1.0</td>\n",
              "      <td>0.0</td>\n",
              "      <td>...</td>\n",
              "      <td>0.0</td>\n",
              "      <td>0.0</td>\n",
              "      <td>0.0</td>\n",
              "      <td>0.0</td>\n",
              "      <td>0.0</td>\n",
              "      <td>0.0</td>\n",
              "      <td>0.0</td>\n",
              "      <td>0.0</td>\n",
              "      <td>0.0</td>\n",
              "      <td>0.0</td>\n",
              "    </tr>\n",
              "    <tr>\n",
              "      <th>5</th>\n",
              "      <td>0.276923</td>\n",
              "      <td>0.00</td>\n",
              "      <td>0.0</td>\n",
              "      <td>0.0</td>\n",
              "      <td>0.000000</td>\n",
              "      <td>0.033333</td>\n",
              "      <td>1.000000</td>\n",
              "      <td>0.000083</td>\n",
              "      <td>1.0</td>\n",
              "      <td>0.0</td>\n",
              "      <td>...</td>\n",
              "      <td>0.0</td>\n",
              "      <td>0.0</td>\n",
              "      <td>0.0</td>\n",
              "      <td>0.0</td>\n",
              "      <td>0.0</td>\n",
              "      <td>0.0</td>\n",
              "      <td>0.0</td>\n",
              "      <td>0.0</td>\n",
              "      <td>0.0</td>\n",
              "      <td>0.0</td>\n",
              "    </tr>\n",
              "    <tr>\n",
              "      <th>6</th>\n",
              "      <td>0.476923</td>\n",
              "      <td>0.00</td>\n",
              "      <td>0.0</td>\n",
              "      <td>0.0</td>\n",
              "      <td>0.000000</td>\n",
              "      <td>0.133333</td>\n",
              "      <td>0.000000</td>\n",
              "      <td>0.002854</td>\n",
              "      <td>1.0</td>\n",
              "      <td>0.0</td>\n",
              "      <td>...</td>\n",
              "      <td>1.0</td>\n",
              "      <td>0.0</td>\n",
              "      <td>0.0</td>\n",
              "      <td>0.0</td>\n",
              "      <td>0.0</td>\n",
              "      <td>0.0</td>\n",
              "      <td>0.0</td>\n",
              "      <td>0.0</td>\n",
              "      <td>0.0</td>\n",
              "      <td>0.0</td>\n",
              "    </tr>\n",
              "    <tr>\n",
              "      <th>7</th>\n",
              "      <td>0.492308</td>\n",
              "      <td>0.00</td>\n",
              "      <td>0.0</td>\n",
              "      <td>0.0</td>\n",
              "      <td>0.000000</td>\n",
              "      <td>0.400000</td>\n",
              "      <td>0.019231</td>\n",
              "      <td>0.008926</td>\n",
              "      <td>1.0</td>\n",
              "      <td>0.0</td>\n",
              "      <td>...</td>\n",
              "      <td>1.0</td>\n",
              "      <td>0.0</td>\n",
              "      <td>0.0</td>\n",
              "      <td>0.0</td>\n",
              "      <td>0.0</td>\n",
              "      <td>0.0</td>\n",
              "      <td>0.0</td>\n",
              "      <td>0.0</td>\n",
              "      <td>0.0</td>\n",
              "      <td>0.0</td>\n",
              "    </tr>\n",
              "    <tr>\n",
              "      <th>...</th>\n",
              "      <td>...</td>\n",
              "      <td>...</td>\n",
              "      <td>...</td>\n",
              "      <td>...</td>\n",
              "      <td>...</td>\n",
              "      <td>...</td>\n",
              "      <td>...</td>\n",
              "      <td>...</td>\n",
              "      <td>...</td>\n",
              "      <td>...</td>\n",
              "      <td>...</td>\n",
              "      <td>...</td>\n",
              "      <td>...</td>\n",
              "      <td>...</td>\n",
              "      <td>...</td>\n",
              "      <td>...</td>\n",
              "      <td>...</td>\n",
              "      <td>...</td>\n",
              "      <td>...</td>\n",
              "      <td>...</td>\n",
              "      <td>...</td>\n",
              "    </tr>\n",
              "    <tr>\n",
              "      <th>136941</th>\n",
              "      <td>0.338462</td>\n",
              "      <td>0.96</td>\n",
              "      <td>1.0</td>\n",
              "      <td>1.0</td>\n",
              "      <td>1.000000</td>\n",
              "      <td>1.000000</td>\n",
              "      <td>0.000000</td>\n",
              "      <td>0.000779</td>\n",
              "      <td>1.0</td>\n",
              "      <td>0.0</td>\n",
              "      <td>...</td>\n",
              "      <td>0.0</td>\n",
              "      <td>0.0</td>\n",
              "      <td>0.0</td>\n",
              "      <td>0.0</td>\n",
              "      <td>0.0</td>\n",
              "      <td>0.0</td>\n",
              "      <td>0.0</td>\n",
              "      <td>0.0</td>\n",
              "      <td>0.0</td>\n",
              "      <td>0.0</td>\n",
              "    </tr>\n",
              "    <tr>\n",
              "      <th>136947</th>\n",
              "      <td>0.246154</td>\n",
              "      <td>0.00</td>\n",
              "      <td>1.0</td>\n",
              "      <td>1.0</td>\n",
              "      <td>1.000000</td>\n",
              "      <td>1.000000</td>\n",
              "      <td>0.000000</td>\n",
              "      <td>0.000795</td>\n",
              "      <td>1.0</td>\n",
              "      <td>0.0</td>\n",
              "      <td>...</td>\n",
              "      <td>1.0</td>\n",
              "      <td>0.0</td>\n",
              "      <td>0.0</td>\n",
              "      <td>0.0</td>\n",
              "      <td>0.0</td>\n",
              "      <td>0.0</td>\n",
              "      <td>0.0</td>\n",
              "      <td>0.0</td>\n",
              "      <td>0.0</td>\n",
              "      <td>0.0</td>\n",
              "    </tr>\n",
              "    <tr>\n",
              "      <th>136979</th>\n",
              "      <td>0.276923</td>\n",
              "      <td>0.96</td>\n",
              "      <td>1.0</td>\n",
              "      <td>1.0</td>\n",
              "      <td>1.000000</td>\n",
              "      <td>1.000000</td>\n",
              "      <td>0.000000</td>\n",
              "      <td>0.000863</td>\n",
              "      <td>1.0</td>\n",
              "      <td>0.0</td>\n",
              "      <td>...</td>\n",
              "      <td>0.0</td>\n",
              "      <td>0.0</td>\n",
              "      <td>0.0</td>\n",
              "      <td>0.0</td>\n",
              "      <td>0.0</td>\n",
              "      <td>0.0</td>\n",
              "      <td>0.0</td>\n",
              "      <td>0.0</td>\n",
              "      <td>0.0</td>\n",
              "      <td>0.0</td>\n",
              "    </tr>\n",
              "    <tr>\n",
              "      <th>136984</th>\n",
              "      <td>0.153846</td>\n",
              "      <td>0.00</td>\n",
              "      <td>1.0</td>\n",
              "      <td>1.0</td>\n",
              "      <td>1.000000</td>\n",
              "      <td>1.000000</td>\n",
              "      <td>0.000000</td>\n",
              "      <td>0.000877</td>\n",
              "      <td>1.0</td>\n",
              "      <td>0.0</td>\n",
              "      <td>...</td>\n",
              "      <td>0.0</td>\n",
              "      <td>0.0</td>\n",
              "      <td>0.0</td>\n",
              "      <td>0.0</td>\n",
              "      <td>0.0</td>\n",
              "      <td>0.0</td>\n",
              "      <td>0.0</td>\n",
              "      <td>0.0</td>\n",
              "      <td>0.0</td>\n",
              "      <td>0.0</td>\n",
              "    </tr>\n",
              "    <tr>\n",
              "      <th>137013</th>\n",
              "      <td>0.276923</td>\n",
              "      <td>0.00</td>\n",
              "      <td>1.0</td>\n",
              "      <td>1.0</td>\n",
              "      <td>1.000000</td>\n",
              "      <td>1.000000</td>\n",
              "      <td>0.000000</td>\n",
              "      <td>0.000951</td>\n",
              "      <td>1.0</td>\n",
              "      <td>0.0</td>\n",
              "      <td>...</td>\n",
              "      <td>0.0</td>\n",
              "      <td>0.0</td>\n",
              "      <td>0.0</td>\n",
              "      <td>0.0</td>\n",
              "      <td>0.0</td>\n",
              "      <td>0.0</td>\n",
              "      <td>0.0</td>\n",
              "      <td>0.0</td>\n",
              "      <td>0.0</td>\n",
              "      <td>0.0</td>\n",
              "    </tr>\n",
              "  </tbody>\n",
              "</table>\n",
              "<p>48142 rows × 113 columns</p>\n",
              "</div>\n",
              "      <button class=\"colab-df-convert\" onclick=\"convertToInteractive('df-60d61e92-8a61-4c7a-abac-d0032f40dd45')\"\n",
              "              title=\"Convert this dataframe to an interactive table.\"\n",
              "              style=\"display:none;\">\n",
              "        \n",
              "  <svg xmlns=\"http://www.w3.org/2000/svg\" height=\"24px\"viewBox=\"0 0 24 24\"\n",
              "       width=\"24px\">\n",
              "    <path d=\"M0 0h24v24H0V0z\" fill=\"none\"/>\n",
              "    <path d=\"M18.56 5.44l.94 2.06.94-2.06 2.06-.94-2.06-.94-.94-2.06-.94 2.06-2.06.94zm-11 1L8.5 8.5l.94-2.06 2.06-.94-2.06-.94L8.5 2.5l-.94 2.06-2.06.94zm10 10l.94 2.06.94-2.06 2.06-.94-2.06-.94-.94-2.06-.94 2.06-2.06.94z\"/><path d=\"M17.41 7.96l-1.37-1.37c-.4-.4-.92-.59-1.43-.59-.52 0-1.04.2-1.43.59L10.3 9.45l-7.72 7.72c-.78.78-.78 2.05 0 2.83L4 21.41c.39.39.9.59 1.41.59.51 0 1.02-.2 1.41-.59l7.78-7.78 2.81-2.81c.8-.78.8-2.07 0-2.86zM5.41 20L4 18.59l7.72-7.72 1.47 1.35L5.41 20z\"/>\n",
              "  </svg>\n",
              "      </button>\n",
              "      \n",
              "  <style>\n",
              "    .colab-df-container {\n",
              "      display:flex;\n",
              "      flex-wrap:wrap;\n",
              "      gap: 12px;\n",
              "    }\n",
              "\n",
              "    .colab-df-convert {\n",
              "      background-color: #E8F0FE;\n",
              "      border: none;\n",
              "      border-radius: 50%;\n",
              "      cursor: pointer;\n",
              "      display: none;\n",
              "      fill: #1967D2;\n",
              "      height: 32px;\n",
              "      padding: 0 0 0 0;\n",
              "      width: 32px;\n",
              "    }\n",
              "\n",
              "    .colab-df-convert:hover {\n",
              "      background-color: #E2EBFA;\n",
              "      box-shadow: 0px 1px 2px rgba(60, 64, 67, 0.3), 0px 1px 3px 1px rgba(60, 64, 67, 0.15);\n",
              "      fill: #174EA6;\n",
              "    }\n",
              "\n",
              "    [theme=dark] .colab-df-convert {\n",
              "      background-color: #3B4455;\n",
              "      fill: #D2E3FC;\n",
              "    }\n",
              "\n",
              "    [theme=dark] .colab-df-convert:hover {\n",
              "      background-color: #434B5C;\n",
              "      box-shadow: 0px 1px 3px 1px rgba(0, 0, 0, 0.15);\n",
              "      filter: drop-shadow(0px 1px 2px rgba(0, 0, 0, 0.3));\n",
              "      fill: #FFFFFF;\n",
              "    }\n",
              "  </style>\n",
              "\n",
              "      <script>\n",
              "        const buttonEl =\n",
              "          document.querySelector('#df-60d61e92-8a61-4c7a-abac-d0032f40dd45 button.colab-df-convert');\n",
              "        buttonEl.style.display =\n",
              "          google.colab.kernel.accessAllowed ? 'block' : 'none';\n",
              "\n",
              "        async function convertToInteractive(key) {\n",
              "          const element = document.querySelector('#df-60d61e92-8a61-4c7a-abac-d0032f40dd45');\n",
              "          const dataTable =\n",
              "            await google.colab.kernel.invokeFunction('convertToInteractive',\n",
              "                                                     [key], {});\n",
              "          if (!dataTable) return;\n",
              "\n",
              "          const docLinkHtml = 'Like what you see? Visit the ' +\n",
              "            '<a target=\"_blank\" href=https://colab.research.google.com/notebooks/data_table.ipynb>data table notebook</a>'\n",
              "            + ' to learn more about interactive tables.';\n",
              "          element.innerHTML = '';\n",
              "          dataTable['output_type'] = 'display_data';\n",
              "          await google.colab.output.renderOutput(dataTable, element);\n",
              "          const docLink = document.createElement('div');\n",
              "          docLink.innerHTML = docLinkHtml;\n",
              "          element.appendChild(docLink);\n",
              "        }\n",
              "      </script>\n",
              "    </div>\n",
              "  </div>\n",
              "  "
            ]
          },
          "metadata": {},
          "execution_count": 84
        }
      ],
      "source": [
        "train_inputs"
      ]
    },
    {
      "cell_type": "markdown",
      "metadata": {
        "id": "aorJrRNxpcGP"
      },
      "source": [
        "## **Training the model**"
      ]
    },
    {
      "cell_type": "markdown",
      "metadata": {
        "id": "zxX82IKupkk1"
      },
      "source": [
        "##Here two models are used to train namely Random Forest Classifier and XgbClassifier\n"
      ]
    },
    {
      "cell_type": "code",
      "execution_count": 86,
      "metadata": {
        "id": "4WkhNLrhCITm"
      },
      "outputs": [],
      "source": [
        "from sklearn.ensemble import RandomForestClassifier"
      ]
    },
    {
      "cell_type": "code",
      "execution_count": 87,
      "metadata": {
        "id": "enXMFfvxCITm"
      },
      "outputs": [],
      "source": [
        "model = RandomForestClassifier(n_jobs=-1, random_state=42)"
      ]
    },
    {
      "cell_type": "code",
      "execution_count": 88,
      "metadata": {
        "colab": {
          "base_uri": "https://localhost:8080/"
        },
        "id": "cQq-GIw6E7sy",
        "outputId": "1540149a-e492-40b1-e209-8c7ec9cd733c"
      },
      "outputs": [
        {
          "output_type": "execute_result",
          "data": {
            "text/plain": [
              "RandomForestClassifier(n_jobs=-1, random_state=42)"
            ]
          },
          "metadata": {},
          "execution_count": 88
        }
      ],
      "source": [
        "model.fit(train_inputs, train_targets)"
      ]
    },
    {
      "cell_type": "code",
      "execution_count": 89,
      "metadata": {
        "colab": {
          "base_uri": "https://localhost:8080/"
        },
        "id": "RjwrX4IhFKEI",
        "outputId": "84aef922-5167-4d74-9123-da17567cb09d"
      },
      "outputs": [
        {
          "output_type": "execute_result",
          "data": {
            "text/plain": [
              "1.0"
            ]
          },
          "metadata": {},
          "execution_count": 89
        }
      ],
      "source": [
        "model.score(train_inputs, train_targets)"
      ]
    },
    {
      "cell_type": "code",
      "execution_count": 90,
      "metadata": {
        "colab": {
          "base_uri": "https://localhost:8080/"
        },
        "id": "bn3hOwLlFPHR",
        "outputId": "c5f09013-7e5f-4c73-d935-c6274df1562a"
      },
      "outputs": [
        {
          "output_type": "execute_result",
          "data": {
            "text/plain": [
              "0.7924582510325013"
            ]
          },
          "metadata": {},
          "execution_count": 90
        }
      ],
      "source": [
        "model.score(val_inputs, val_targets)"
      ]
    },
    {
      "cell_type": "code",
      "execution_count": 91,
      "metadata": {
        "colab": {
          "base_uri": "https://localhost:8080/"
        },
        "id": "8yM3NtMAFZ-3",
        "outputId": "dfd418c5-a173-4065-864f-6902fa6fc752"
      },
      "outputs": [
        {
          "output_type": "execute_result",
          "data": {
            "text/plain": [
              "array([[0.  , 0.01, 0.01, ..., 0.  , 0.  , 0.88],\n",
              "       [0.  , 0.01, 0.03, ..., 0.  , 0.  , 0.87],\n",
              "       [0.  , 0.02, 0.  , ..., 0.  , 0.01, 0.94],\n",
              "       ...,\n",
              "       [0.  , 0.  , 0.  , ..., 0.  , 0.  , 0.99],\n",
              "       [0.  , 0.  , 0.  , ..., 0.  , 0.  , 0.95],\n",
              "       [0.  , 0.02, 0.  , ..., 0.  , 0.  , 0.93]])"
            ]
          },
          "metadata": {},
          "execution_count": 91
        }
      ],
      "source": [
        "train_probs = model.predict_proba(train_inputs)\n",
        "train_probs"
      ]
    },
    {
      "cell_type": "code",
      "execution_count": 92,
      "metadata": {
        "colab": {
          "base_uri": "https://localhost:8080/"
        },
        "id": "IUCSvvlDFhXy",
        "outputId": "ef81d204-823c-41d6-b55c-21fbc7de860f"
      },
      "outputs": [
        {
          "output_type": "execute_result",
          "data": {
            "text/plain": [
              "array(['US', 'US', 'US', ..., 'US', 'US', 'US'], dtype=object)"
            ]
          },
          "metadata": {},
          "execution_count": 92
        }
      ],
      "source": [
        "train_preds = model.predict(train_inputs)\n",
        "train_preds\n"
      ]
    },
    {
      "cell_type": "code",
      "execution_count": 93,
      "metadata": {
        "id": "DEQP7zotF4P1"
      },
      "outputs": [],
      "source": [
        "importance_df = pd.DataFrame({\n",
        "    'feature': train_inputs.columns,\n",
        "    'importance': model.feature_importances_\n",
        "}).sort_values('importance', ascending=False)"
      ]
    },
    {
      "cell_type": "code",
      "execution_count": 94,
      "metadata": {
        "colab": {
          "base_uri": "https://localhost:8080/",
          "height": 416
        },
        "id": "x5bxWbjTGBtU",
        "outputId": "af3c5e1c-1020-40ae-e5d7-7ffc4f18629e"
      },
      "outputs": [
        {
          "output_type": "display_data",
          "data": {
            "text/plain": [
              "<Figure size 720x432 with 1 Axes>"
            ],
            "image/png": "[encoded data removed]"
          },
          "metadata": {
            "needs_background": "light"
          }
        }
      ],
      "source": [
        "plt.title('Feature Importance')\n",
        "sns.barplot(data=importance_df.head(10), x='importance', y='feature');"
      ]
    },
    {
      "cell_type": "markdown",
      "source": [
        "##It seems elapsed time was an played an important factor in deciding the destination."
      ],
      "metadata": {
        "id": "5eqTnbpFg6yk"
      }
    },
    {
      "cell_type": "code",
      "source": [
        "val_preds = model.predict(val_inputs)"
      ],
      "metadata": {
        "id": "6y5COrBDaKpc"
      },
      "execution_count": 97,
      "outputs": []
    },
    {
      "cell_type": "code",
      "source": [
        "from sklearn import metrics"
      ],
      "metadata": {
        "id": "ZaegSqmYZkYB"
      },
      "execution_count": 95,
      "outputs": []
    },
    {
      "cell_type": "code",
      "source": [
        "print(metrics.confusion_matrix(val_targets, val_preds))"
      ],
      "metadata": {
        "colab": {
          "base_uri": "https://localhost:8080/"
        },
        "id": "6Yyrpp1PZH8T",
        "outputId": "b5c879cb-54f8-4697-8431-bd5d2c9b7e9c"
      },
      "execution_count": 98,
      "outputs": [
        {
          "output_type": "stream",
          "name": "stdout",
          "text": [
            "[[    0     0     0     0     2     0     1     0     0   174]\n",
            " [    0     0     0     1     3     0     0     1     0   497]\n",
            " [    0     0     0     0     3     0     2     0     0   290]\n",
            " [    0     1     0     2     4     1     2     0     0   781]\n",
            " [    0     2     0     2    11     4     5     0     1  1560]\n",
            " [    0     0     1     0     8     2     1     0     0   771]\n",
            " [    1     0     0     1     6     2     1     1     1  1056]\n",
            " [    0     0     0     0     1     0     0     0     0   265]\n",
            " [    0     0     0     0     0     0     1     0     0    85]\n",
            " [    6    12     7    19   130    25    34     6     2 22050]]\n"
          ]
        }
      ]
    },
    {
      "cell_type": "code",
      "source": [
        "print(metrics.classification_report(val_targets, val_preds, digits= 3))"
      ],
      "metadata": {
        "colab": {
          "base_uri": "https://localhost:8080/"
        },
        "id": "Az1t24ryaRwM",
        "outputId": "bb7d7685-5224-4f82-ff93-f05552fafecd"
      },
      "execution_count": 143,
      "outputs": [
        {
          "output_type": "stream",
          "name": "stdout",
          "text": [
            "              precision    recall  f1-score   support\n",
            "\n",
            "          AU      0.000     0.000     0.000       177\n",
            "          CA      0.000     0.000     0.000       502\n",
            "          DE      0.000     0.000     0.000       295\n",
            "          ES      0.080     0.003     0.005       791\n",
            "          FR      0.065     0.007     0.013      1585\n",
            "          GB      0.059     0.003     0.005       783\n",
            "          IT      0.021     0.001     0.002      1069\n",
            "          NL      0.000     0.000     0.000       266\n",
            "          PT      0.000     0.000     0.000        86\n",
            "          US      0.801     0.989     0.885     22291\n",
            "\n",
            "    accuracy                          0.792     27845\n",
            "   macro avg      0.103     0.100     0.091     27845\n",
            "weighted avg      0.650     0.792     0.710     27845\n",
            "\n"
          ]
        }
      ]
    },
    {
      "cell_type": "code",
      "execution_count": 104,
      "metadata": {
        "id": "Msn6r0GGGGgK"
      },
      "outputs": [],
      "source": [
        "def test_params(**params):\n",
        "    model = RandomForestClassifier(random_state=42, n_jobs=-1, **params).fit(train_inputs, train_targets)\n",
        "    return model.score(train_inputs, train_targets), model.score(val_inputs, val_targets)"
      ]
    },
    {
      "cell_type": "code",
      "execution_count": 105,
      "metadata": {
        "colab": {
          "base_uri": "https://localhost:8080/",
          "height": 87
        },
        "id": "MkwkhZKxCITm",
        "outputId": "7b51e833-e3ea-4a88-eef6-73f6e21b26c4"
      },
      "outputs": [
        {
          "output_type": "stream",
          "name": "stdout",
          "text": [
            "[jovian] Detected Colab notebook...\u001b[0m\n",
            "[jovian] Uploading colab notebook to Jovian...\u001b[0m\n",
            "Committed successfully! https://jovian.ai/dibyababu105/new-user-bookings\n"
          ]
        },
        {
          "output_type": "execute_result",
          "data": {
            "text/plain": [
              "'https://jovian.ai/dibyababu105/new-user-bookings'"
            ],
            "application/vnd.google.colaboratory.intrinsic+json": {
              "type": "string"
            }
          },
          "metadata": {},
          "execution_count": 105
        }
      ],
      "source": [
        "jovian.commit(project=\"machine-learning-project\")"
      ]
    },
    {
      "cell_type": "markdown",
      "metadata": {
        "id": "yeu_v1FaqOPG"
      },
      "source": [
        "## **Hyperparameters tuning**"
      ]
    },
    {
      "cell_type": "code",
      "execution_count": 106,
      "metadata": {
        "colab": {
          "base_uri": "https://localhost:8080/"
        },
        "id": "5sd-uhLbGZdP",
        "outputId": "20345396-6c04-4da1-bc6d-ba76cbe2d626"
      },
      "outputs": [
        {
          "output_type": "execute_result",
          "data": {
            "text/plain": [
              "(1.0, 0.7924582510325013)"
            ]
          },
          "metadata": {},
          "execution_count": 106
        }
      ],
      "source": [
        "test_params( n_estimators=100)"
      ]
    },
    {
      "cell_type": "code",
      "execution_count": 107,
      "metadata": {
        "colab": {
          "base_uri": "https://localhost:8080/"
        },
        "id": "xIQMFIR_GpdB",
        "outputId": "4405c4cb-675f-41a7-a93c-63193a26f8be"
      },
      "outputs": [
        {
          "output_type": "execute_result",
          "data": {
            "text/plain": [
              "(1.0, 0.7932842521098941)"
            ]
          },
          "metadata": {},
          "execution_count": 107
        }
      ],
      "source": [
        "test_params( n_estimators=200)"
      ]
    },
    {
      "cell_type": "code",
      "execution_count": 108,
      "metadata": {
        "colab": {
          "base_uri": "https://localhost:8080/"
        },
        "id": "oFldpeHtHIxR",
        "outputId": "582cc406-986c-45cd-b0f5-9ced2acc57d7"
      },
      "outputs": [
        {
          "output_type": "execute_result",
          "data": {
            "text/plain": [
              "(0.7839516430559594, 0.8005386963548213)"
            ]
          },
          "metadata": {},
          "execution_count": 108
        }
      ],
      "source": [
        "test_params(max_depth=5)"
      ]
    },
    {
      "cell_type": "code",
      "execution_count": 109,
      "metadata": {
        "colab": {
          "base_uri": "https://localhost:8080/"
        },
        "id": "RIk2zPqjHRro",
        "outputId": "bc19023c-07d1-4969-836e-9853af8977c8"
      },
      "outputs": [
        {
          "output_type": "execute_result",
          "data": {
            "text/plain": [
              "(0.7839516430559594, 0.8005386963548213)"
            ]
          },
          "metadata": {},
          "execution_count": 109
        }
      ],
      "source": [
        "test_params(max_depth=10)"
      ]
    },
    {
      "cell_type": "code",
      "execution_count": 110,
      "metadata": {
        "colab": {
          "base_uri": "https://localhost:8080/"
        },
        "id": "ijVDgN17Hr0o",
        "outputId": "9742d7cc-289d-4528-828d-d91d9d866691"
      },
      "outputs": [
        {
          "output_type": "execute_result",
          "data": {
            "text/plain": [
              "(0.7839516430559594, 0.8005386963548213)"
            ]
          },
          "metadata": {},
          "execution_count": 110
        }
      ],
      "source": [
        "test_params(max_leaf_nodes=2**5)"
      ]
    },
    {
      "cell_type": "code",
      "execution_count": 111,
      "metadata": {
        "colab": {
          "base_uri": "https://localhost:8080/"
        },
        "id": "1rR8wJ-eue2d",
        "outputId": "adb47c2c-f417-4417-a17d-53445233b981"
      },
      "outputs": [
        {
          "output_type": "execute_result",
          "data": {
            "text/plain": [
              "(0.7840555024718541, 0.8005386963548213)"
            ]
          },
          "metadata": {},
          "execution_count": 111
        }
      ],
      "source": [
        "test_params(max_leaf_nodes=2**10)"
      ]
    },
    {
      "cell_type": "code",
      "execution_count": 112,
      "metadata": {
        "colab": {
          "base_uri": "https://localhost:8080/"
        },
        "id": "GqBr8pghH-94",
        "outputId": "eddf9fa5-db51-4af9-9adf-84661a2d994c"
      },
      "outputs": [
        {
          "output_type": "execute_result",
          "data": {
            "text/plain": [
              "(1.0, 0.7920632070389657)"
            ]
          },
          "metadata": {},
          "execution_count": 112
        }
      ],
      "source": [
        "test_params(max_leaf_nodes=2**15)"
      ]
    },
    {
      "cell_type": "code",
      "execution_count": 113,
      "metadata": {
        "colab": {
          "base_uri": "https://localhost:8080/"
        },
        "id": "ZiAR_RXHILkl",
        "outputId": "f4ff2b68-0f24-460b-810e-98808675a660"
      },
      "outputs": [
        {
          "output_type": "execute_result",
          "data": {
            "text/plain": [
              "(0.999979228116821, 0.7906985096067517)"
            ]
          },
          "metadata": {},
          "execution_count": 113
        }
      ],
      "source": [
        "test_params(max_features=6)"
      ]
    },
    {
      "cell_type": "code",
      "execution_count": 114,
      "metadata": {
        "colab": {
          "base_uri": "https://localhost:8080/"
        },
        "id": "FI7gmWPpIWhs",
        "outputId": "a121263e-c8c3-437f-de6b-187840e8a865"
      },
      "outputs": [
        {
          "output_type": "execute_result",
          "data": {
            "text/plain": [
              "(1.0, 0.7922786855808942)"
            ]
          },
          "metadata": {},
          "execution_count": 114
        }
      ],
      "source": [
        "test_params(max_features=9)"
      ]
    },
    {
      "cell_type": "code",
      "execution_count": 115,
      "metadata": {
        "colab": {
          "base_uri": "https://localhost:8080/"
        },
        "id": "7LLCGXbYI3Xo",
        "outputId": "71be04ee-01b8-4c18-de9b-5b52950a7227"
      },
      "outputs": [
        {
          "output_type": "execute_result",
          "data": {
            "text/plain": [
              "(0.7841178181213909, 0.8005386963548213)"
            ]
          },
          "metadata": {},
          "execution_count": 115
        }
      ],
      "source": [
        "test_params(min_samples_split=3, min_samples_leaf=2)"
      ]
    },
    {
      "cell_type": "code",
      "execution_count": 116,
      "metadata": {
        "colab": {
          "base_uri": "https://localhost:8080/"
        },
        "id": "MQr3OSAhI_zM",
        "outputId": "c64ff2cd-8a24-4ede-b952-7cd193f6bee6"
      },
      "outputs": [
        {
          "output_type": "execute_result",
          "data": {
            "text/plain": [
              "(0.7839516430559594, 0.8005386963548213)"
            ]
          },
          "metadata": {},
          "execution_count": 116
        }
      ],
      "source": [
        "test_params(min_samples_split=100, min_samples_leaf=40)"
      ]
    },
    {
      "cell_type": "code",
      "execution_count": 117,
      "metadata": {
        "colab": {
          "base_uri": "https://localhost:8080/",
          "height": 87
        },
        "id": "Qii-F4ttMcxD",
        "outputId": "8d61c707-16af-40d7-c648-3d414b88831c"
      },
      "outputs": [
        {
          "output_type": "stream",
          "name": "stdout",
          "text": [
            "[jovian] Detected Colab notebook...\u001b[0m\n",
            "[jovian] Uploading colab notebook to Jovian...\u001b[0m\n",
            "Committed successfully! https://jovian.ai/dibyababu105/new-user-bookings\n"
          ]
        },
        {
          "output_type": "execute_result",
          "data": {
            "text/plain": [
              "'https://jovian.ai/dibyababu105/new-user-bookings'"
            ],
            "application/vnd.google.colaboratory.intrinsic+json": {
              "type": "string"
            }
          },
          "metadata": {},
          "execution_count": 117
        }
      ],
      "source": [
        "jovian.commit(project=\"machine-learning-project\")"
      ]
    },
    {
      "cell_type": "code",
      "execution_count": 118,
      "metadata": {
        "id": "XkMy5P8gN-4D"
      },
      "outputs": [],
      "source": [
        "model1 = RandomForestClassifier(n_jobs=-1, random_state=42, n_estimators=100,max_depth=5,max_leaf_nodes=2**5,max_features=9)"
      ]
    },
    {
      "cell_type": "code",
      "execution_count": 119,
      "metadata": {
        "colab": {
          "base_uri": "https://localhost:8080/"
        },
        "id": "8-XW9HlGWnI-",
        "outputId": "890610e4-1d00-4cb1-de08-26e7a8a76908"
      },
      "outputs": [
        {
          "output_type": "execute_result",
          "data": {
            "text/plain": [
              "RandomForestClassifier(max_depth=5, max_features=9, max_leaf_nodes=32,\n",
              "                       n_jobs=-1, random_state=42)"
            ]
          },
          "metadata": {},
          "execution_count": 119
        }
      ],
      "source": [
        "model1.fit(train_inputs, train_targets)"
      ]
    },
    {
      "cell_type": "code",
      "execution_count": 120,
      "metadata": {
        "colab": {
          "base_uri": "https://localhost:8080/"
        },
        "id": "s3NIP4jjW-u9",
        "outputId": "76ac8341-fcbd-41b6-9784-986d17361a92"
      },
      "outputs": [
        {
          "output_type": "execute_result",
          "data": {
            "text/plain": [
              "0.8005386963548213"
            ]
          },
          "metadata": {},
          "execution_count": 120
        }
      ],
      "source": [
        "model1.score(val_inputs, val_targets)"
      ]
    },
    {
      "cell_type": "markdown",
      "metadata": {
        "id": "xhyxx4x5yHJa"
      },
      "source": [
        "Thus the best score from validation set after hyperparameter tuning is 80.05%"
      ]
    },
    {
      "cell_type": "code",
      "execution_count": 122,
      "metadata": {
        "colab": {
          "base_uri": "https://localhost:8080/",
          "height": 87
        },
        "id": "ikUeF-zZXMUU",
        "outputId": "023e9d44-1f29-412a-f21c-c554ce05db25"
      },
      "outputs": [
        {
          "output_type": "stream",
          "name": "stdout",
          "text": [
            "[jovian] Detected Colab notebook...\u001b[0m\n",
            "[jovian] Uploading colab notebook to Jovian...\u001b[0m\n",
            "Committed successfully! https://jovian.ai/dibyababu105/new-user-bookings\n"
          ]
        },
        {
          "output_type": "execute_result",
          "data": {
            "text/plain": [
              "'https://jovian.ai/dibyababu105/new-user-bookings'"
            ],
            "application/vnd.google.colaboratory.intrinsic+json": {
              "type": "string"
            }
          },
          "metadata": {},
          "execution_count": 122
        }
      ],
      "source": [
        "jovian.commit(project=\"machine-learning-project\")"
      ]
    },
    {
      "cell_type": "code",
      "execution_count": 123,
      "metadata": {
        "id": "LdU0NPFlXQQi"
      },
      "outputs": [],
      "source": [
        "from xgboost import XGBClassifier\n",
        "\n"
      ]
    },
    {
      "cell_type": "code",
      "execution_count": 124,
      "metadata": {
        "id": "ewMpauXC94Ii"
      },
      "outputs": [],
      "source": [
        "from xgboost.sklearn import XGBClassifier\n",
        "def test_hparams(**params):\n",
        "    Model = XGBClassifier(random_state=42, n_jobs=-1, **params).fit(train_inputs, train_targets)\n",
        "    return Model.score(train_inputs, train_targets), Model.score(val_inputs, val_targets)\n"
      ]
    },
    {
      "cell_type": "code",
      "execution_count": 125,
      "metadata": {
        "id": "pAcFj4SevBft"
      },
      "outputs": [],
      "source": [
        "Model = XGBClassifier(random_state=42, n_jobs=-1,).fit(train_inputs, train_targets)"
      ]
    },
    {
      "cell_type": "code",
      "execution_count": 126,
      "metadata": {
        "colab": {
          "base_uri": "https://localhost:8080/"
        },
        "id": "XX78YQR51rw8",
        "outputId": "58da1825-50a9-4aa5-e3b5-980c66ca1404"
      },
      "outputs": [
        {
          "output_type": "execute_result",
          "data": {
            "text/plain": [
              "0.7839724149391384"
            ]
          },
          "metadata": {},
          "execution_count": 126
        }
      ],
      "source": [
        "Model.score(train_inputs, train_targets)"
      ]
    },
    {
      "cell_type": "code",
      "execution_count": 127,
      "metadata": {
        "colab": {
          "base_uri": "https://localhost:8080/"
        },
        "id": "5aSC9ZQb1pXO",
        "outputId": "1b129fae-dbd7-40dd-ae33-ccd9abffd72d"
      },
      "outputs": [
        {
          "output_type": "execute_result",
          "data": {
            "text/plain": [
              "0.8004668701741785"
            ]
          },
          "metadata": {},
          "execution_count": 127
        }
      ],
      "source": [
        "Model.score(val_inputs, val_targets)"
      ]
    },
    {
      "cell_type": "code",
      "execution_count": 128,
      "metadata": {
        "colab": {
          "base_uri": "https://localhost:8080/"
        },
        "id": "15Qna0rn99MS",
        "outputId": "4c347d41-b483-44c9-a071-28f7fa9f7b24"
      },
      "outputs": [
        {
          "output_type": "execute_result",
          "data": {
            "text/plain": [
              "(0.7839516430559594, 0.8005386963548213)"
            ]
          },
          "metadata": {},
          "execution_count": 128
        }
      ],
      "source": [
        "test_hparams(n_estimators=10)"
      ]
    },
    {
      "cell_type": "code",
      "execution_count": 129,
      "metadata": {
        "colab": {
          "base_uri": "https://localhost:8080/"
        },
        "id": "gb_li_NgBuw_",
        "outputId": "daca0897-0ade-4d6b-807a-9c947ca8d9e3"
      },
      "outputs": [
        {
          "output_type": "execute_result",
          "data": {
            "text/plain": [
              "(0.7839516430559594, 0.8005386963548213)"
            ]
          },
          "metadata": {},
          "execution_count": 129
        }
      ],
      "source": [
        "test_hparams(n_estimators=30)"
      ]
    },
    {
      "cell_type": "code",
      "execution_count": 130,
      "metadata": {
        "colab": {
          "base_uri": "https://localhost:8080/"
        },
        "id": "7RcdKMzwB9QA",
        "outputId": "081ebc6f-ce04-4adf-8628-11d4bb289caa"
      },
      "outputs": [
        {
          "output_type": "execute_result",
          "data": {
            "text/plain": [
              "(0.7839724149391384, 0.8004668701741785)"
            ]
          },
          "metadata": {},
          "execution_count": 130
        }
      ],
      "source": [
        "test_hparams(n_estimators=100)"
      ]
    },
    {
      "cell_type": "code",
      "execution_count": 131,
      "metadata": {
        "colab": {
          "base_uri": "https://localhost:8080/"
        },
        "id": "RvvNt3rnCAO9",
        "outputId": "1e262788-45d9-4869-dfde-5e2c545504c2"
      },
      "outputs": [
        {
          "output_type": "execute_result",
          "data": {
            "text/plain": [
              "(0.7839516430559594, 0.8005386963548213)"
            ]
          },
          "metadata": {},
          "execution_count": 131
        }
      ],
      "source": [
        "test_hparams(max_depth=2)\n"
      ]
    },
    {
      "cell_type": "code",
      "execution_count": 132,
      "metadata": {
        "colab": {
          "base_uri": "https://localhost:8080/"
        },
        "id": "tgySFIeMA4GT",
        "outputId": "517626d5-4e09-4386-a942-00d68ee55266"
      },
      "outputs": [
        {
          "output_type": "execute_result",
          "data": {
            "text/plain": [
              "(0.7845747995513274, 0.8005746094451428)"
            ]
          },
          "metadata": {},
          "execution_count": 132
        }
      ],
      "source": [
        "test_hparams(max_depth=5)"
      ]
    },
    {
      "cell_type": "code",
      "execution_count": 133,
      "metadata": {
        "colab": {
          "base_uri": "https://localhost:8080/"
        },
        "id": "7cG9WCz_-A8U",
        "outputId": "4c2f7d41-7417-48e1-de85-86bcaa0b9c2b"
      },
      "outputs": [
        {
          "output_type": "execute_result",
          "data": {
            "text/plain": [
              "(0.7999459931037348, 0.7998563476387143)"
            ]
          },
          "metadata": {},
          "execution_count": 133
        }
      ],
      "source": [
        "test_hparams(max_depth=10)\n"
      ]
    },
    {
      "cell_type": "code",
      "execution_count": 134,
      "metadata": {
        "colab": {
          "base_uri": "https://localhost:8080/"
        },
        "id": "_YmNjCmW-Elf",
        "outputId": "db649a3d-8e7b-43ae-bf3c-324f47208cef"
      },
      "outputs": [
        {
          "output_type": "execute_result",
          "data": {
            "text/plain": [
              "(0.7839516430559594, 0.8005386963548213)"
            ]
          },
          "metadata": {},
          "execution_count": 134
        }
      ],
      "source": [
        "test_hparams(n_estimators=50, learning_rate=0.1)\n"
      ]
    },
    {
      "cell_type": "code",
      "execution_count": 135,
      "metadata": {
        "colab": {
          "base_uri": "https://localhost:8080/"
        },
        "id": "xRzGf_lSd0ox",
        "outputId": "969b3343-63d9-4761-fa5c-6bf5c55103d0"
      },
      "outputs": [
        {
          "output_type": "execute_result",
          "data": {
            "text/plain": [
              "(0.7839931868223173, 0.8005027832644999)"
            ]
          },
          "metadata": {},
          "execution_count": 135
        }
      ],
      "source": [
        "test_hparams(n_estimators=50, learning_rate=0.3)"
      ]
    },
    {
      "cell_type": "code",
      "execution_count": 136,
      "metadata": {
        "id": "sJ36fZzbNqvG",
        "colab": {
          "base_uri": "https://localhost:8080/"
        },
        "outputId": "746a8e24-19e9-42e3-f5be-fe47400fdfd2"
      },
      "outputs": [
        {
          "output_type": "execute_result",
          "data": {
            "text/plain": [
              "array(['US', 'US', 'US', ..., 'US', 'US', 'US'], dtype=object)"
            ]
          },
          "metadata": {},
          "execution_count": 136
        }
      ],
      "source": [
        "Model= XGBClassifier(random_state=42, n_jobs=-1,).fit(train_inputs, train_targets)\n",
        "Model.predict(train_inputs)"
      ]
    },
    {
      "cell_type": "code",
      "source": [
        "Val_preds = Model.predict(val_inputs) "
      ],
      "metadata": {
        "id": "eUbQxRhjjbw2"
      },
      "execution_count": 145,
      "outputs": []
    },
    {
      "cell_type": "code",
      "source": [
        "print(metrics.classification_report(val_targets, Val_preds, digits= 3))"
      ],
      "metadata": {
        "colab": {
          "base_uri": "https://localhost:8080/"
        },
        "id": "mFW79qBjjaKN",
        "outputId": "6f00c542-2a52-42b0-a776-312de898c06e"
      },
      "execution_count": 147,
      "outputs": [
        {
          "output_type": "stream",
          "name": "stderr",
          "text": [
            "/usr/local/lib/python3.7/dist-packages/sklearn/metrics/_classification.py:1318: UndefinedMetricWarning: Precision and F-score are ill-defined and being set to 0.0 in labels with no predicted samples. Use `zero_division` parameter to control this behavior.\n",
            "  _warn_prf(average, modifier, msg_start, len(result))\n",
            "/usr/local/lib/python3.7/dist-packages/sklearn/metrics/_classification.py:1318: UndefinedMetricWarning: Precision and F-score are ill-defined and being set to 0.0 in labels with no predicted samples. Use `zero_division` parameter to control this behavior.\n",
            "  _warn_prf(average, modifier, msg_start, len(result))\n"
          ]
        },
        {
          "output_type": "stream",
          "name": "stdout",
          "text": [
            "              precision    recall  f1-score   support\n",
            "\n",
            "          AU      0.000     0.000     0.000       177\n",
            "          CA      0.000     0.000     0.000       502\n",
            "          DE      0.000     0.000     0.000       295\n",
            "          ES      0.000     0.000     0.000       791\n",
            "          FR      0.000     0.000     0.000      1585\n",
            "          GB      0.000     0.000     0.000       783\n",
            "          IT      0.000     0.000     0.000      1069\n",
            "          NL      0.000     0.000     0.000       266\n",
            "          PT      0.000     0.000     0.000        86\n",
            "          US      0.801     1.000     0.889     22291\n",
            "\n",
            "    accuracy                          0.800     27845\n",
            "   macro avg      0.080     0.100     0.089     27845\n",
            "weighted avg      0.641     0.800     0.712     27845\n",
            "\n"
          ]
        },
        {
          "output_type": "stream",
          "name": "stderr",
          "text": [
            "/usr/local/lib/python3.7/dist-packages/sklearn/metrics/_classification.py:1318: UndefinedMetricWarning: Precision and F-score are ill-defined and being set to 0.0 in labels with no predicted samples. Use `zero_division` parameter to control this behavior.\n",
            "  _warn_prf(average, modifier, msg_start, len(result))\n"
          ]
        }
      ]
    },
    {
      "cell_type": "markdown",
      "source": [
        "## We can see the performace report of both the models is similar "
      ],
      "metadata": {
        "id": "Uw4hGni-qINN"
      }
    },
    {
      "cell_type": "markdown",
      "metadata": {
        "id": "iVWcShodZeLC"
      },
      "source": []
    },
    {
      "cell_type": "code",
      "execution_count": 137,
      "metadata": {
        "id": "kuKdcasbLJPW"
      },
      "outputs": [],
      "source": [
        "importance_df = pd.DataFrame({\n",
        "    'feature': train_inputs.columns,\n",
        "    'importance': Model.feature_importances_\n",
        "}).sort_values('importance', ascending=False)"
      ]
    },
    {
      "cell_type": "code",
      "execution_count": 138,
      "metadata": {
        "colab": {
          "base_uri": "https://localhost:8080/",
          "height": 416
        },
        "id": "IxWPxZ5mLmD6",
        "outputId": "36453dae-b046-435e-c226-6dbe478fc484"
      },
      "outputs": [
        {
          "output_type": "display_data",
          "data": {
            "text/plain": [
              "<Figure size 720x432 with 1 Axes>"
            ],
            "image/png": "[encoded data removed]"
          },
          "metadata": {
            "needs_background": "light"
          }
        }
      ],
      "source": [
        "import seaborn as sns\n",
        "plt.figure(figsize=(10,6))\n",
        "plt.title('Feature Importance')\n",
        "sns.barplot(data=importance_df.head(10), x='importance', y='feature');"
      ]
    },
    {
      "cell_type": "code",
      "execution_count": 149,
      "metadata": {
        "id": "rlqD-VDdLqGN",
        "colab": {
          "base_uri": "https://localhost:8080/",
          "height": 87
        },
        "outputId": "6f305bc6-f223-4c39-b08f-2388ca70e836"
      },
      "outputs": [
        {
          "output_type": "stream",
          "name": "stdout",
          "text": [
            "[jovian] Detected Colab notebook...\u001b[0m\n",
            "[jovian] Uploading colab notebook to Jovian...\u001b[0m\n",
            "Committed successfully! https://jovian.ai/dibyababu105/new-user-bookings\n"
          ]
        },
        {
          "output_type": "execute_result",
          "data": {
            "text/plain": [
              "'https://jovian.ai/dibyababu105/new-user-bookings'"
            ],
            "application/vnd.google.colaboratory.intrinsic+json": {
              "type": "string"
            }
          },
          "metadata": {},
          "execution_count": 149
        }
      ],
      "source": [
        "jovian.commit(project=\"machine-learning-project\")"
      ]
    },
    {
      "cell_type": "markdown",
      "metadata": {
        "id": "krGw-CU31PBW"
      },
      "source": [
        "### Before Hyperparameters tuning model shows accuracy of 79.0% on validation set and after hyperparamters tuning model shows accuracy of 80.05%."
      ]
    },
    {
      "cell_type": "markdown",
      "metadata": {
        "id": "sQFunqKW17Tp"
      },
      "source": [
        "### Conclusion \n",
        "\n",
        "Downloading the dataset and converting the CSV file into a Pandas DataFrame are the first steps.\n",
        "2. The dataset has been cleaned in accordance with our needs.\n",
        "3. The dataset has been divided into a training set and a validation set.\n",
        "4. To prepare our dataset for the training model, we performed Imputation, Scaling, and One Hot Encoder.\n",
        "5. We have created a decision tree model and a XgbClassifier model.\n",
        "6. We have adjusted the hyperparameters using the maximum leaf nodes and depth.\n",
        "**"
      ]
    },
    {
      "cell_type": "code",
      "source": [],
      "metadata": {
        "id": "aanAviVzqiMS"
      },
      "execution_count": null,
      "outputs": []
    }
  ],
  "metadata": {
    "colab": {
      "collapsed_sections": [],
      "name": "machine-learning-project.ipynb",
      "provenance": []
    },
    "kernelspec": {
      "display_name": "Python 3 (ipykernel)",
      "language": "python",
      "name": "python3"
    },
    "language_info": {
      "codemirror_mode": {
        "name": "ipython",
        "version": 3
      },
      "file_extension": ".py",
      "mimetype": "text/x-python",
      "name": "python",
      "nbconvert_exporter": "python",
      "pygments_lexer": "ipython3",
      "version": "3.9.6"
    }
  },
  "nbformat": 4,
  "nbformat_minor": 0
}